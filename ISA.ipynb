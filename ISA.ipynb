{
  "nbformat": 4,
  "nbformat_minor": 0,
  "metadata": {
    "colab": {
      "provenance": []
    },
    "kernelspec": {
      "name": "python3",
      "display_name": "Python 3"
    },
    "language_info": {
      "name": "python"
    }
  },
  "cells": [
    {
      "cell_type": "code",
      "execution_count": null,
      "metadata": {
        "colab": {
          "base_uri": "https://localhost:8080/"
        },
        "id": "OIZTHFdshGmT",
        "outputId": "873c29dc-2bc3-43b8-bffb-be89777c8059"
      },
      "outputs": [
        {
          "output_type": "stream",
          "name": "stdout",
          "text": [
            "Enter a number 23\n",
            "Prime Number\n"
          ]
        }
      ],
      "source": [
        "x=int(input(\"Enter a number \"))\n",
        "flag=1\n",
        "for i in range(2,x):\n",
        "  if x%i==0:\n",
        "    flag=0\n",
        "    break\n",
        "if flag==1:\n",
        "  print(\"Prime Number\")\n",
        "else:\n",
        "  print(\"Not a prime number\")\n",
        "  flag=1\n",
        "  if x%3==0:\n",
        "    print(\"Divisible by 3\")\n",
        "    flag=0\n",
        "  if x%7==0:\n",
        "    print(\"Divisible by 7\")\n",
        "    flag=0\n",
        "  if x%9==0:\n",
        "    print(\"Divisible by 9\")\n",
        "    flag=0\n",
        "  if x%11==0:\n",
        "    print(\"Divisible by 11\")\n",
        "    flag=0\n",
        "  if flag==1:\n",
        "    print(\"Not divisible by any of the number\")"
      ]
    },
    {
      "cell_type": "code",
      "source": [
        "arr=[]\n",
        "for i in range(0,10):\n",
        "  x=int(input(\"Enter the value:\"))\n",
        "  arr.append(x)\n",
        "print(arr)\n",
        "even=[]\n",
        "odd=[]\n",
        "for i in range(0,10):\n",
        "  if arr[i]%2==0:\n",
        "    even.append(arr[i])\n",
        "  else:\n",
        "    odd.append(arr[i])\n",
        "print(\"Even numbers: \",even)\n",
        "print(\"Odd numbers: \",odd)"
      ],
      "metadata": {
        "colab": {
          "base_uri": "https://localhost:8080/"
        },
        "id": "c-2zeSvkhaez",
        "outputId": "5fc4f530-8edd-463a-f616-61a574630ce8"
      },
      "execution_count": null,
      "outputs": [
        {
          "output_type": "stream",
          "name": "stdout",
          "text": [
            "Enter the value:5\n",
            "Enter the value:1\n",
            "Enter the value:7\n",
            "Enter the value:4\n",
            "Enter the value:2\n",
            "Enter the value:1\n",
            "Enter the value:6\n",
            "Enter the value:8\n",
            "Enter the value:1\n",
            "Enter the value:0\n",
            "[5, 1, 7, 4, 2, 1, 6, 8, 1, 0]\n",
            "Even numbers:  [4, 2, 6, 8, 0]\n",
            "Odd numbers:  [5, 1, 7, 1, 1]\n"
          ]
        }
      ]
    },
    {
      "cell_type": "code",
      "source": [
        "for i in range(0,4):\n",
        "  for j in range(0,i+1):\n",
        "    print(\"*\",end=\"\")\n",
        "  print()"
      ],
      "metadata": {
        "colab": {
          "base_uri": "https://localhost:8080/"
        },
        "id": "8kznDgcpiike",
        "outputId": "ae71d0ed-cebe-4221-a005-e1bbfe9231be"
      },
      "execution_count": null,
      "outputs": [
        {
          "output_type": "stream",
          "name": "stdout",
          "text": [
            "*\n",
            "**\n",
            "***\n",
            "****\n"
          ]
        }
      ]
    },
    {
      "cell_type": "code",
      "source": [
        "x=input(\"Enter a word all in small letters \")\n",
        "a=0\n",
        "b=-1\n",
        "flag=1\n",
        "y=x[a]\n",
        "z=x[b]\n",
        "for i in range(0,len(x)):\n",
        "  y=x[a]\n",
        "  z=x[b]\n",
        "  if y!=z:\n",
        "    print(\"Not a palindrome\")\n",
        "    flag=0\n",
        "    break\n",
        "  a+=1\n",
        "  b-=1\n",
        "if flag==1:\n",
        "  print(\"Palindrome\")"
      ],
      "metadata": {
        "colab": {
          "base_uri": "https://localhost:8080/"
        },
        "id": "skK9WNk2jTEE",
        "outputId": "eea48f7f-58f1-424b-fefb-9b8762276ec3"
      },
      "execution_count": null,
      "outputs": [
        {
          "output_type": "stream",
          "name": "stdout",
          "text": [
            "Enter a word all in small letters gadag\n",
            "Palindrome\n"
          ]
        }
      ]
    }
  ]
}