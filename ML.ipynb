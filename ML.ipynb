{
  "cells": [
    {
      "cell_type": "code",
      "execution_count": null,
      "metadata": {
        "colab": {
          "base_uri": "https://localhost:8080/"
        },
        "id": "IdtF-nCoU4MK",
        "outputId": "280b2ca9-4af8-4a21-f036-e7252c017054"
      },
      "outputs": [
        {
          "name": "stdout",
          "output_type": "stream",
          "text": [
            "Python Language\n",
            "Machine Learning\n"
          ]
        }
      ],
      "source": [
        "print(\"Python Language\\nMachine Learning\")"
      ]
    },
    {
      "cell_type": "code",
      "execution_count": null,
      "metadata": {
        "colab": {
          "base_uri": "https://localhost:8080/"
        },
        "id": "aLfFsmfiVCVh",
        "outputId": "ebef45ec-bc09-4b43-c945-94c1d41c5bad"
      },
      "outputs": [
        {
          "name": "stdout",
          "output_type": "stream",
          "text": [
            "sum =  11\n"
          ]
        }
      ],
      "source": [
        "a=5\n",
        "b=6\n",
        "sum=a+b\n",
        "print(\"sum = \",sum)"
      ]
    },
    {
      "cell_type": "code",
      "execution_count": null,
      "metadata": {
        "colab": {
          "base_uri": "https://localhost:8080/"
        },
        "id": "PGaxVuQWVJGE",
        "outputId": "2c248efa-acf4-47dd-afdb-b8a036f57623"
      },
      "outputs": [
        {
          "name": "stdout",
          "output_type": "stream",
          "text": [
            "Difference =  -2\n"
          ]
        }
      ],
      "source": [
        "a=11\n",
        "b=4\n",
        "c=9\n",
        "diff=a-b-c\n",
        "print(\"Difference = \",diff)"
      ]
    },
    {
      "cell_type": "code",
      "execution_count": null,
      "metadata": {
        "colab": {
          "base_uri": "https://localhost:8080/"
        },
        "id": "_AqYSwe4Vbuk",
        "outputId": "e7f9a575-b2ad-45c4-c33f-17e12f20d8d4"
      },
      "outputs": [
        {
          "name": "stdout",
          "output_type": "stream",
          "text": [
            "Product =  330\n"
          ]
        }
      ],
      "source": [
        "a=3\n",
        "b=10\n",
        "c=11\n",
        "product = a*b*c\n",
        "print(\"Product = \",product)"
      ]
    },
    {
      "cell_type": "code",
      "execution_count": null,
      "metadata": {
        "colab": {
          "base_uri": "https://localhost:8080/"
        },
        "id": "RV8y-FELVm38",
        "outputId": "4b868ed8-619b-4d3e-e300-5c59dd50442c"
      },
      "outputs": [
        {
          "name": "stdout",
          "output_type": "stream",
          "text": [
            "Quotient =  2\n",
            "Remainder =  1\n"
          ]
        }
      ],
      "source": [
        "a=5\n",
        "b=2\n",
        "q=int(a/b)\n",
        "r=a%b\n",
        "print(\"Quotient = \",q)\n",
        "print(\"Remainder = \",r)"
      ]
    },
    {
      "cell_type": "code",
      "execution_count": null,
      "metadata": {
        "colab": {
          "base_uri": "https://localhost:8080/"
        },
        "id": "jt_dJptzVu2D",
        "outputId": "c3824052-6a87-4ff7-b1e8-f4692b5a842b"
      },
      "outputs": [
        {
          "name": "stdout",
          "output_type": "stream",
          "text": [
            "25\n"
          ]
        }
      ],
      "source": [
        "a=5\n",
        "sq=5**2\n",
        "print(sq)"
      ]
    },
    {
      "cell_type": "markdown",
      "metadata": {
        "id": "dw2s0bYjWtoO"
      },
      "source": [
        "* a * * b indicates a power b *"
      ]
    },
    {
      "cell_type": "code",
      "execution_count": null,
      "metadata": {
        "colab": {
          "base_uri": "https://localhost:8080/"
        },
        "id": "3UoJr3_MW2eg",
        "outputId": "b8c6ef95-598c-43be-8a8f-f9e64cd0cab4"
      },
      "outputs": [
        {
          "name": "stdout",
          "output_type": "stream",
          "text": [
            "Square root of  225 is  15\n"
          ]
        }
      ],
      "source": [
        "import math\n",
        "a=225\n",
        "root=int(math.sqrt(a))\n",
        "print(\"Square root of \",a,\"is \", root)"
      ]
    },
    {
      "cell_type": "markdown",
      "metadata": {
        "id": "bxaaglyDXcLQ"
      },
      "source": [
        "For finding a square root of a number import math library function and use the keyowrd sqrt"
      ]
    },
    {
      "cell_type": "code",
      "execution_count": null,
      "metadata": {
        "colab": {
          "base_uri": "https://localhost:8080/"
        },
        "id": "dzvcxAZuXor-",
        "outputId": "c5456860-9a5e-4b78-ac1e-117fe3e2b3a7"
      },
      "outputs": [
        {
          "name": "stdout",
          "output_type": "stream",
          "text": [
            "('Hubli', 'Belgaum', 'Vijaypur', 'Hubli')\n"
          ]
        }
      ],
      "source": [
        "tuple1=(\"Hubli\",\"Belgaum\",\"Vijaypur\",\"Hubli\")\n",
        "print(tuple1)"
      ]
    },
    {
      "cell_type": "code",
      "execution_count": null,
      "metadata": {
        "colab": {
          "base_uri": "https://localhost:8080/"
        },
        "id": "Re9ZYF-ElH9Q",
        "outputId": "c1c854fb-6a3e-4aad-a30a-4a9e0d191cd6"
      },
      "outputs": [
        {
          "name": "stdout",
          "output_type": "stream",
          "text": [
            "Vijaypur\n"
          ]
        }
      ],
      "source": [
        "print(tuple1[-2])"
      ]
    },
    {
      "cell_type": "code",
      "execution_count": null,
      "metadata": {
        "colab": {
          "base_uri": "https://localhost:8080/"
        },
        "id": "AJNAaLIemfIO",
        "outputId": "6a165588-585a-4bd9-f0c8-1c262e38dc55"
      },
      "outputs": [
        {
          "name": "stdout",
          "output_type": "stream",
          "text": [
            "2\n"
          ]
        }
      ],
      "source": [
        "y=tuple1.count(\"Hubli\")\n",
        "print(y)"
      ]
    },
    {
      "cell_type": "code",
      "execution_count": null,
      "metadata": {
        "colab": {
          "base_uri": "https://localhost:8080/"
        },
        "id": "3s5xTIIwmpBi",
        "outputId": "d208d932-eb6c-494b-e5fb-a6447ecd95c8"
      },
      "outputs": [
        {
          "name": "stdout",
          "output_type": "stream",
          "text": [
            "1\n"
          ]
        }
      ],
      "source": [
        "y=tuple1.index(\"Belgaum\")\n",
        "print(y)"
      ]
    },
    {
      "cell_type": "code",
      "execution_count": null,
      "metadata": {
        "colab": {
          "base_uri": "https://localhost:8080/"
        },
        "id": "vppe49Z6mv1T",
        "outputId": "36afa886-44e2-4174-e70f-e6b60b933623"
      },
      "outputs": [
        {
          "name": "stdout",
          "output_type": "stream",
          "text": [
            "('Hubli', 'Belgaum', 'Vijaypur', 'Hubli', 'Hubli', 'Belgaum', 'Vijaypur', 'Hubli')\n"
          ]
        }
      ],
      "source": [
        "tuple6=tuple1*2\n",
        "print(tuple6)"
      ]
    },
    {
      "cell_type": "code",
      "execution_count": null,
      "metadata": {
        "colab": {
          "base_uri": "https://localhost:8080/"
        },
        "id": "bxc0aF36m_ZY",
        "outputId": "4b7a6b5e-ce2b-47a7-aa9a-049a38f0279f"
      },
      "outputs": [
        {
          "name": "stdout",
          "output_type": "stream",
          "text": [
            "['Hubli', 'Belgaum', 'Vijaypur', 'Hubli', 'Hubli', 'Belgaum', 'Vijaypur', 'Hubli']\n"
          ]
        }
      ],
      "source": [
        "y=list(tuple6)\n",
        "print(y)"
      ]
    },
    {
      "cell_type": "code",
      "execution_count": null,
      "metadata": {
        "colab": {
          "base_uri": "https://localhost:8080/"
        },
        "id": "w0M1dyhSncm_",
        "outputId": "067dc7f5-6cc2-4f0f-e5dd-c0ea87334996"
      },
      "outputs": [
        {
          "name": "stdout",
          "output_type": "stream",
          "text": [
            "('Hubli', 'Belgaum', 'Gulbarga', 'Hubli', 'Hubli', 'Belgaum', 'Vijaypur', 'Hubli', 'Bagalkot')\n"
          ]
        }
      ],
      "source": [
        "y[2]=\"Gulbarga\"\n",
        "y.append(\"Bagalkot\")\n",
        "tuple6=tuple(y)\n",
        "print(tuple6)"
      ]
    },
    {
      "cell_type": "code",
      "execution_count": null,
      "metadata": {
        "colab": {
          "base_uri": "https://localhost:8080/"
        },
        "id": "NF1XVrHjnnH5",
        "outputId": "cab4f04b-5e56-48cd-854c-a6b9adf21dc1"
      },
      "outputs": [
        {
          "name": "stdout",
          "output_type": "stream",
          "text": [
            "{'Blue', 'Black', 'Red', 'White'}\n"
          ]
        }
      ],
      "source": [
        "set1={\"Red\",\"Blue\",\"White\",\"Black\"}\n",
        "print(set1)"
      ]
    },
    {
      "cell_type": "code",
      "execution_count": null,
      "metadata": {
        "colab": {
          "base_uri": "https://localhost:8080/"
        },
        "id": "hBARr8topN1Z",
        "outputId": "0839d1fe-dcda-46f5-9203-f5fdf7279a90"
      },
      "outputs": [
        {
          "name": "stdout",
          "output_type": "stream",
          "text": [
            "{'Blue', 'Red', 'White', 'Black', 'Orange'}\n"
          ]
        }
      ],
      "source": [
        "set1.add(\"Orange\")\n",
        "print(set1)"
      ]
    },
    {
      "cell_type": "code",
      "execution_count": null,
      "metadata": {
        "colab": {
          "base_uri": "https://localhost:8080/"
        },
        "id": "Qa7XZo2GpRE_",
        "outputId": "c9f1e4e9-1f9b-45ea-8f8e-0bc7c94629c8"
      },
      "outputs": [
        {
          "name": "stdout",
          "output_type": "stream",
          "text": [
            "{'Bat', 'Ball', 'Wicket'}\n"
          ]
        }
      ],
      "source": [
        "set2={\"Ball\",\"Bat\",\"Wicket\"}\n",
        "print(set2)"
      ]
    },
    {
      "cell_type": "code",
      "execution_count": null,
      "metadata": {
        "colab": {
          "base_uri": "https://localhost:8080/"
        },
        "id": "Mf8ru3MBpiCY",
        "outputId": "bc47e407-3b29-475a-afcb-adf02c6525b0"
      },
      "outputs": [
        {
          "name": "stdout",
          "output_type": "stream",
          "text": [
            "{'Wicket', 'Bat', 'Blue', 'Red', 'Ball', 'White', 'Black', 'Orange'}\n"
          ]
        }
      ],
      "source": [
        "set1.update(set2)\n",
        "print(set1)"
      ]
    },
    {
      "cell_type": "code",
      "execution_count": null,
      "metadata": {
        "colab": {
          "base_uri": "https://localhost:8080/"
        },
        "id": "f-HBNbatplal",
        "outputId": "9d14a194-c3f4-48df-cea0-37514fa4f8a2"
      },
      "outputs": [
        {
          "name": "stdout",
          "output_type": "stream",
          "text": [
            "{'Name': 'Pranamya', 'Year': '2023', 'Div': 'B'}\n"
          ]
        }
      ],
      "source": [
        "dict1={\"Name\":\"Pranamya\",\"Year\":\"2023\",\"Div\":\"B\"}\n",
        "print(dict1)"
      ]
    },
    {
      "cell_type": "code",
      "execution_count": null,
      "metadata": {
        "colab": {
          "base_uri": "https://localhost:8080/"
        },
        "id": "FKBMt-rcqqH8",
        "outputId": "7ba829d9-3c47-4d57-9c9f-06b420238754"
      },
      "outputs": [
        {
          "name": "stdout",
          "output_type": "stream",
          "text": [
            "Enter the value for a 19\n",
            "Enter the value for b 19\n",
            "19\n",
            "19\n"
          ]
        }
      ],
      "source": [
        "a=input(\"Enter the value for a \")\n",
        "b=input(\"Enter the value for b \")\n",
        "print(a)\n",
        "print(b)"
      ]
    },
    {
      "cell_type": "code",
      "execution_count": null,
      "metadata": {
        "colab": {
          "base_uri": "https://localhost:8080/"
        },
        "id": "zK-3ve6fq_qe",
        "outputId": "9dc4c758-680a-4b1e-d7ac-0799eef53465"
      },
      "outputs": [
        {
          "name": "stdout",
          "output_type": "stream",
          "text": [
            "19 = 19\n"
          ]
        }
      ],
      "source": [
        "if a<b:\n",
        "  print(a,\"<\",b)\n",
        "elif a==b:\n",
        "  print(a,\"=\",b)\n",
        "else:\n",
        "  print(a,\">\",b)"
      ]
    },
    {
      "cell_type": "code",
      "execution_count": null,
      "metadata": {
        "colab": {
          "base_uri": "https://localhost:8080/"
        },
        "id": "6Q72dvU4r4b0",
        "outputId": "30c71a4a-cc4d-40bc-b031-2b74b18d472d"
      },
      "outputs": [
        {
          "name": "stdout",
          "output_type": "stream",
          "text": [
            "Enter the value for a 19\n",
            "Enter the value for b 24\n",
            "Enter the value for c 15\n",
            "b is the greatest\n"
          ]
        }
      ],
      "source": [
        "a=input(\"Enter the value for a \")\n",
        "b=input(\"Enter the value for b \")\n",
        "c=input(\"Enter the value for c \")\n",
        "if a>b:\n",
        "  if a>c:\n",
        "    print(\"a is the greatest\")\n",
        "  else:\n",
        "    print(\"c is the greatest\")\n",
        "else:\n",
        "  if b>c:\n",
        "    print(\"b is the greatest\")\n",
        "  else:\n",
        "    print(\"c is the greatest\")"
      ]
    },
    {
      "cell_type": "code",
      "execution_count": null,
      "metadata": {
        "colab": {
          "base_uri": "https://localhost:8080/"
        },
        "id": "CJvGIacWuZmP",
        "outputId": "f5137660-17b6-4786-bf0d-6c2682f71a49"
      },
      "outputs": [
        {
          "name": "stdout",
          "output_type": "stream",
          "text": [
            "Enter the value for a 48\n",
            "Enter the value for b 13\n",
            "61\n",
            "35\n",
            "624\n",
            "3\n",
            "9\n",
            "3.6923076923076925\n"
          ]
        }
      ],
      "source": [
        "a=int(input(\"Enter the value for a \"))\n",
        "b=int(input(\"Enter the value for b \"))\n",
        "sum=a+b\n",
        "print(sum)\n",
        "diff=a-b\n",
        "print(diff)\n",
        "pro=a*b\n",
        "print(pro)\n",
        "quo=a//b\n",
        "print(quo)\n",
        "rem=a%b\n",
        "print(rem)\n",
        "quo1=a/b\n",
        "print(quo1)"
      ]
    },
    {
      "cell_type": "code",
      "execution_count": null,
      "metadata": {
        "colab": {
          "base_uri": "https://localhost:8080/"
        },
        "id": "Erm3OjEbvjf4",
        "outputId": "77892afc-4346-413b-debd-44b50a2a446f"
      },
      "outputs": [
        {
          "name": "stdout",
          "output_type": "stream",
          "text": [
            "Enter the colour to be searched : Red\n",
            "Ball3 is of colour  Red\n"
          ]
        }
      ],
      "source": [
        "ball1_c=\"Blue\"\n",
        "ball2_c=\"Black\"\n",
        "ball3_c=\"Red\"\n",
        "colour=input(\"Enter the colour to be searched : \")\n",
        "if ball1_c==colour:\n",
        "  print(\"Ball1 is of colour \",colour)\n",
        "elif ball2_c==colour:\n",
        "  print(\"Ball2 is of colour \",colour)\n",
        "else:\n",
        "  print(\"Ball3 is of colour \",colour)"
      ]
    },
    {
      "cell_type": "markdown",
      "metadata": {
        "id": "YbxG0rPA7hx5"
      },
      "source": [
        "*Assignment Operator*"
      ]
    },
    {
      "cell_type": "code",
      "execution_count": null,
      "metadata": {
        "colab": {
          "base_uri": "https://localhost:8080/"
        },
        "id": "5YbzickO5TlP",
        "outputId": "f4e5ca2e-79d6-4d8c-a23a-0637de470d9b"
      },
      "outputs": [
        {
          "name": "stdout",
          "output_type": "stream",
          "text": [
            "8\n",
            "11\n",
            "1\n",
            "7\n",
            "49\n",
            "5\n",
            "5\n"
          ]
        }
      ],
      "source": [
        "a=8\n",
        "print(a)\n",
        "a+=3\n",
        "print(a)\n",
        "a-=10\n",
        "print(a)\n",
        "a*=7\n",
        "print(a)\n",
        "a**=2\n",
        "print(a)\n",
        "a//=9\n",
        "print(a)\n",
        "a%=9\n",
        "print(a)"
      ]
    },
    {
      "cell_type": "code",
      "execution_count": null,
      "metadata": {
        "colab": {
          "base_uri": "https://localhost:8080/"
        },
        "id": "Bbag-IHo75D8",
        "outputId": "2c710b56-fac6-42cf-9585-14a92efa186a"
      },
      "outputs": [
        {
          "name": "stdout",
          "output_type": "stream",
          "text": [
            "18\n",
            "9\n",
            "1\n",
            "5\n"
          ]
        }
      ],
      "source": [
        "a=9\n",
        "a<<=1\n",
        "print(a)\n",
        "a>>=1\n",
        "print(a)\n",
        "a&=1\n",
        "print(a)\n",
        "a|=4\n",
        "print(a)"
      ]
    },
    {
      "cell_type": "code",
      "execution_count": null,
      "metadata": {
        "colab": {
          "base_uri": "https://localhost:8080/"
        },
        "id": "Khr27Nyh8SWs",
        "outputId": "3207fa1e-e313-417e-8c2c-a48eb7f22746"
      },
      "outputs": [
        {
          "name": "stdout",
          "output_type": "stream",
          "text": [
            "True\n",
            "False\n",
            "False\n",
            "True\n",
            "False\n"
          ]
        }
      ],
      "source": [
        "x=[\"Hubli\",\"Belgaum\"]\n",
        "y=[\"Hubli\",\"Belgaum\"]\n",
        "z=x\n",
        "print(z is x)\n",
        "print(y is x)\n",
        "print(y is z)\n",
        "print(\"Hubli\" in y)\n",
        "print(\"belgaum\" in z)"
      ]
    },
    {
      "cell_type": "code",
      "execution_count": null,
      "metadata": {
        "colab": {
          "base_uri": "https://localhost:8080/"
        },
        "id": "VgBsbEdJ_DZy",
        "outputId": "88bb8dfd-48ad-4e06-8b04-a7251f5ece17"
      },
      "outputs": [
        {
          "name": "stdout",
          "output_type": "stream",
          "text": [
            "Enter the number: 19\n",
            "19\n",
            "18\n",
            "17\n",
            "16\n",
            "15\n",
            "14\n",
            "13\n",
            "12\n",
            "11\n",
            "10\n",
            "9\n",
            "8\n",
            "7\n",
            "6\n",
            "5\n",
            "4\n",
            "3\n",
            "2\n",
            "1\n"
          ]
        }
      ],
      "source": [
        "x=int(input(\"Enter the number: \"))\n",
        "while x>0:\n",
        "  print(x)\n",
        "  x-=1"
      ]
    },
    {
      "cell_type": "code",
      "execution_count": null,
      "metadata": {
        "colab": {
          "base_uri": "https://localhost:8080/"
        },
        "id": "LbX7k_8rAKaj",
        "outputId": "811e4150-27c4-4293-ab31-bc761f67039d"
      },
      "outputs": [
        {
          "name": "stdout",
          "output_type": "stream",
          "text": [
            "0\n",
            "1\n",
            "2\n",
            "3\n",
            "4\n",
            "5\n",
            "6\n",
            "7\n",
            "8\n",
            "9\n"
          ]
        }
      ],
      "source": [
        "for x in range(10):\n",
        "  print(x)"
      ]
    },
    {
      "cell_type": "code",
      "execution_count": null,
      "metadata": {
        "colab": {
          "base_uri": "https://localhost:8080/"
        },
        "id": "xpaa2dX1BHWa",
        "outputId": "5452e452-a039-4866-e046-b89f3ce29c0a"
      },
      "outputs": [
        {
          "name": "stdout",
          "output_type": "stream",
          "text": [
            "5\n",
            "6\n",
            "7\n",
            "8\n",
            "9\n"
          ]
        }
      ],
      "source": [
        "for x in range(5,10):\n",
        "  print(x)"
      ]
    },
    {
      "cell_type": "code",
      "execution_count": null,
      "metadata": {
        "colab": {
          "base_uri": "https://localhost:8080/"
        },
        "id": "Ikm6-iFpBQAU",
        "outputId": "f49a299d-805b-4847-ad1d-c137f9ddb490"
      },
      "outputs": [
        {
          "name": "stdout",
          "output_type": "stream",
          "text": [
            "1\n",
            "3\n",
            "5\n",
            "7\n",
            "9\n",
            "11\n",
            "13\n",
            "15\n",
            "17\n",
            "19\n"
          ]
        }
      ],
      "source": [
        "for x in range(1,20,2):\n",
        "  print(x)"
      ]
    },
    {
      "cell_type": "code",
      "execution_count": null,
      "metadata": {
        "colab": {
          "base_uri": "https://localhost:8080/"
        },
        "id": "9SHdxJRBBVsZ",
        "outputId": "ddc8a8f1-b249-4371-f5f9-9419686a6db6"
      },
      "outputs": [
        {
          "name": "stdout",
          "output_type": "stream",
          "text": [
            "19\n",
            "43 Not found\n",
            "52\n",
            "43 Not found\n",
            "43\n",
            "43 Found\n",
            "47\n",
            "43 Not found\n",
            "54\n",
            "43 Not found\n",
            "60\n",
            "43 Not found\n",
            "74\n",
            "43 Not found\n",
            "85\n",
            "43 Not found\n"
          ]
        }
      ],
      "source": [
        "a=[19,52,43,47,54,60,74,85]\n",
        "for x in a:\n",
        "  print(x)\n",
        "  if(x==43):\n",
        "    print(\"43 Found\")\n",
        "  else: print(\"43 Not found\")"
      ]
    },
    {
      "cell_type": "code",
      "execution_count": null,
      "metadata": {
        "colab": {
          "base_uri": "https://localhost:8080/"
        },
        "id": "Ndkv-SPiBq5J",
        "outputId": "d2b876b3-f313-4dcb-bf4f-167181f4c97b"
      },
      "outputs": [
        {
          "output_type": "stream",
          "name": "stdout",
          "text": [
            "Enter the number: 4\n",
            "Enter the number: 5\n",
            "factorial of  4  is  24\n",
            "factorial of  5  is  120\n"
          ]
        }
      ],
      "source": [
        "def fact(n):\n",
        "  f=1\n",
        "  for x in range(1,n+1):\n",
        "      f*=x\n",
        "  return f\n",
        "a=int(input(\"Enter the number: \"))\n",
        "b=int(input(\"Enter the number: \"))\n",
        "print(\"factorial of \",a,\" is \",fact(a))\n",
        "print(\"factorial of \",b,\" is \",fact(b))"
      ]
    },
    {
      "cell_type": "code",
      "execution_count": null,
      "metadata": {
        "colab": {
          "base_uri": "https://localhost:8080/"
        },
        "id": "vJrRcmILFSSe",
        "outputId": "b8666e82-2550-45f3-a300-bf50fc95a70b"
      },
      "outputs": [
        {
          "name": "stdout",
          "output_type": "stream",
          "text": [
            "11\n",
            "11 * 1 = 11\n",
            "11 * 2 = 22\n",
            "11 * 3 = 33\n",
            "11 * 4 = 44\n",
            "11 * 5 = 55\n",
            "11 * 6 = 66\n",
            "11 * 7 = 77\n",
            "11 * 8 = 88\n",
            "11 * 9 = 99\n",
            "11 * 10 = 110\n"
          ]
        }
      ],
      "source": [
        "def table(x):\n",
        "  for y in range(1,11):\n",
        "    print(x,\"*\",y,\"=\",x*y)\n",
        "a=int(input())\n",
        "table(a)"
      ]
    },
    {
      "cell_type": "code",
      "execution_count": null,
      "metadata": {
        "colab": {
          "base_uri": "https://localhost:8080/"
        },
        "id": "EleOfS1LI-yL",
        "outputId": "da6ba6b9-7834-4b8f-fede-b0a7defb5d19"
      },
      "outputs": [
        {
          "name": "stdout",
          "output_type": "stream",
          "text": [
            "20\n",
            "*  *  *  *  *  *  *  *  *  *  *  *  *  *  *  *  *  *  *  *  \n",
            "*  *  *  *  *  *  *  *  *  *  *  *  *  *  *  *  *  *  *  \n",
            "*  *  *  *  *  *  *  *  *  *  *  *  *  *  *  *  *  *  \n",
            "*  *  *  *  *  *  *  *  *  *  *  *  *  *  *  *  *  \n",
            "*  *  *  *  *  *  *  *  *  *  *  *  *  *  *  *  \n",
            "*  *  *  *  *  *  *  *  *  *  *  *  *  *  *  \n",
            "*  *  *  *  *  *  *  *  *  *  *  *  *  *  \n",
            "*  *  *  *  *  *  *  *  *  *  *  *  *  \n",
            "*  *  *  *  *  *  *  *  *  *  *  *  \n",
            "*  *  *  *  *  *  *  *  *  *  *  \n",
            "*  *  *  *  *  *  *  *  *  *  \n",
            "*  *  *  *  *  *  *  *  *  \n",
            "*  *  *  *  *  *  *  *  \n",
            "*  *  *  *  *  *  *  \n",
            "*  *  *  *  *  *  \n",
            "*  *  *  *  *  \n",
            "*  *  *  *  \n",
            "*  *  *  \n",
            "*  *  \n",
            "*  \n",
            "\n"
          ]
        }
      ],
      "source": [
        "x=int(input())\n",
        "for i in range(0,x+1):\n",
        "  for j in range(0,x-i):\n",
        "    print(\"* \",end=\" \")\n",
        "  print()"
      ]
    },
    {
      "cell_type": "code",
      "execution_count": null,
      "metadata": {
        "colab": {
          "base_uri": "https://localhost:8080/"
        },
        "id": "AxjEwm1BGPHm",
        "outputId": "7e7e36dd-984b-4274-d2ce-bb70604b157b"
      },
      "outputs": [
        {
          "name": "stdout",
          "output_type": "stream",
          "text": [
            "20\n",
            "                                      * \n",
            "                                    * * * \n",
            "                                  * * * * * \n",
            "                                * * * * * * * \n",
            "                              * * * * * * * * * \n",
            "                            * * * * * * * * * * * \n",
            "                          * * * * * * * * * * * * * \n",
            "                        * * * * * * * * * * * * * * * \n",
            "                      * * * * * * * * * * * * * * * * * \n",
            "                    * * * * * * * * * * * * * * * * * * * \n",
            "                  * * * * * * * * * * * * * * * * * * * * * \n",
            "                * * * * * * * * * * * * * * * * * * * * * * * \n",
            "              * * * * * * * * * * * * * * * * * * * * * * * * * \n",
            "            * * * * * * * * * * * * * * * * * * * * * * * * * * * \n",
            "          * * * * * * * * * * * * * * * * * * * * * * * * * * * * * \n",
            "        * * * * * * * * * * * * * * * * * * * * * * * * * * * * * * * \n",
            "      * * * * * * * * * * * * * * * * * * * * * * * * * * * * * * * * * \n",
            "    * * * * * * * * * * * * * * * * * * * * * * * * * * * * * * * * * * * \n",
            "  * * * * * * * * * * * * * * * * * * * * * * * * * * * * * * * * * * * * * \n",
            "* * * * * * * * * * * * * * * * * * * * * * * * * * * * * * * * * * * * * * * \n"
          ]
        }
      ],
      "source": [
        "n=int(input())\n",
        "for i in range(0,n):\n",
        "  for j in range(0,n-1-i):\n",
        "    print(end=\"  \")\n",
        "  for j in range(0,2*i+1):\n",
        "    print(\"*\",end=\" \")\n",
        "  print()"
      ]
    },
    {
      "cell_type": "code",
      "execution_count": null,
      "metadata": {
        "colab": {
          "base_uri": "https://localhost:8080/"
        },
        "id": "Rxyo1c4VI8Tb",
        "outputId": "de60073b-330e-4d7a-df20-bf8f1ef5bc14"
      },
      "outputs": [
        {
          "name": "stdout",
          "output_type": "stream",
          "text": [
            "20\n",
            "1260\n"
          ]
        }
      ],
      "source": [
        "def product(*arg):\n",
        "  p=1\n",
        "  for i in arg:\n",
        "    p*=i\n",
        "  return p\n",
        "print(product(1,5,4))\n",
        "print(product(1,2,3,5,6,7))"
      ]
    },
    {
      "cell_type": "code",
      "execution_count": null,
      "metadata": {
        "colab": {
          "base_uri": "https://localhost:8080/"
        },
        "id": "5rpeuH9uwhCN",
        "outputId": "75171fbe-0ca8-4611-d78b-26f4ab21d05e"
      },
      "outputs": [
        {
          "name": "stdout",
          "output_type": "stream",
          "text": [
            "678\n"
          ]
        }
      ],
      "source": [
        "import random\n",
        "x=random.randint(1,999)\n",
        "print(x)"
      ]
    },
    {
      "cell_type": "code",
      "execution_count": null,
      "metadata": {
        "colab": {
          "base_uri": "https://localhost:8080/"
        },
        "id": "NN37O48t0k0f",
        "outputId": "d660e7b2-dac6-45c8-f5a5-8a49b69094e3"
      },
      "outputs": [
        {
          "name": "stdout",
          "output_type": "stream",
          "text": [
            "0.1846444964897639\n"
          ]
        }
      ],
      "source": [
        "x=random.random()\n",
        "print(x)"
      ]
    },
    {
      "cell_type": "code",
      "execution_count": null,
      "metadata": {
        "id": "tD-tvoel0qS0"
      },
      "outputs": [],
      "source": []
    },
    {
      "cell_type": "markdown",
      "metadata": {
        "id": "GE2KmwLc1YMZ"
      },
      "source": [
        "*Lottery Ticket*"
      ]
    },
    {
      "cell_type": "code",
      "execution_count": null,
      "metadata": {
        "colab": {
          "base_uri": "https://localhost:8080/"
        },
        "id": "7rRzE4ny1hmL",
        "outputId": "e1fe12b3-779a-49c7-c862-3d4b92daf2fc"
      },
      "outputs": [
        {
          "name": "stdout",
          "output_type": "stream",
          "text": [
            "Enter the number between 1 to 99: 98\n",
            "Computer value 70\n",
            "User value 98\n",
            "You Won\n"
          ]
        }
      ],
      "source": [
        "import random\n",
        "comp=random.randint(1,99)\n",
        "userinput=int(input(\"Enter the number between 1 to 99: \"))\n",
        "print(\"Computer value\",comp)\n",
        "print(\"User value\",userinput)\n",
        "if comp>userinput:\n",
        "  print(\"Computer Won\")\n",
        "elif comp==userinput:\n",
        "  print(\"Tie\")\n",
        "else:\n",
        "  print(\"You Won\")"
      ]
    },
    {
      "cell_type": "markdown",
      "metadata": {
        "id": "u6np-FnB3S6o"
      },
      "source": [
        "Rock paper scissor"
      ]
    },
    {
      "cell_type": "code",
      "execution_count": null,
      "metadata": {
        "colab": {
          "base_uri": "https://localhost:8080/"
        },
        "id": "kEE1-KXO3VWD",
        "outputId": "8cc99c9a-9dee-481b-da14-c9b3236d53b7"
      },
      "outputs": [
        {
          "name": "stdout",
          "output_type": "stream",
          "text": [
            "Enter rock or paper or scissor: rock\n",
            "Computer value: scissor\n",
            "User value: rock\n",
            "You won\n"
          ]
        }
      ],
      "source": [
        "import random\n",
        "game=[\"rock\",\"paper\",\"scissor\"]\n",
        "comp=random.choice(game)\n",
        "user=input(\"Enter rock or paper or scissor: \")\n",
        "print(\"Computer value:\",comp)\n",
        "print(\"User value:\",user)\n",
        "if comp==\"rock\" and user==\"paper\":\n",
        "  print(\"You won\")\n",
        "elif comp==\"paper\" and user==\"scissor\":\n",
        "  print(\"You won\")\n",
        "elif comp==\"scissor\" and user==\"rock\":\n",
        "  print(\"You won\")\n",
        "elif comp==\"paper\" and user==\"rock\":\n",
        "  print(\"Computer won\")\n",
        "elif comp==\"scissor\" and user==\"paper\":\n",
        "  print(\"Computer won\")\n",
        "elif comp==\"rock\" and user==\"scissor\":\n",
        "  print(\"Computer won\")\n",
        "else: print(\"Tie\")\n"
      ]
    },
    {
      "cell_type": "code",
      "execution_count": null,
      "metadata": {
        "id": "APvVkVRe3fPh"
      },
      "outputs": [],
      "source": [
        "import numpy as np"
      ]
    },
    {
      "cell_type": "code",
      "execution_count": null,
      "metadata": {
        "colab": {
          "base_uri": "https://localhost:8080/"
        },
        "id": "RBBHOBtLMvi8",
        "outputId": "55f69aa3-d62f-4591-d5eb-b7250be9473f"
      },
      "outputs": [
        {
          "name": "stdout",
          "output_type": "stream",
          "text": [
            "<class 'numpy.ndarray'>\n",
            "[12  1  4 86 54]\n",
            "[0. 0. 0. 0. 0.]\n",
            "[1. 1. 1. 1.]\n",
            "[ 1  4 12 54 86]\n"
          ]
        }
      ],
      "source": [
        "a=np.array([12,1,4,86,54])\n",
        "print(type(a))\n",
        "print(a)\n",
        "\n",
        "b=np.zeros(5)\n",
        "print(b)\n",
        "\n",
        "c=np.ones(4)\n",
        "print(c)\n",
        "\n",
        "d=np.sort(a)\n",
        "print(d)"
      ]
    },
    {
      "cell_type": "markdown",
      "metadata": {
        "id": "0ygvMRrYM5gH"
      },
      "source": [
        "*here nd stands for n dimensional array*"
      ]
    },
    {
      "cell_type": "markdown",
      "metadata": {
        "id": "kFeI8kyYOK2W"
      },
      "source": [
        "*Matplotlib: used for plotting graphs*"
      ]
    },
    {
      "cell_type": "code",
      "execution_count": null,
      "metadata": {
        "colab": {
          "base_uri": "https://localhost:8080/"
        },
        "id": "JghqX5tcOjOU",
        "outputId": "a5782814-0f02-4b4c-b58d-9c2730a68e50"
      },
      "outputs": [
        {
          "name": "stdout",
          "output_type": "stream",
          "text": [
            "3.7.1\n"
          ]
        }
      ],
      "source": [
        "import matplotlib as mat\n",
        "print(mat.__version__)"
      ]
    },
    {
      "cell_type": "code",
      "execution_count": null,
      "metadata": {
        "colab": {
          "base_uri": "https://localhost:8080/",
          "height": 430
        },
        "id": "WVdfygfBOquV",
        "outputId": "56796d4b-da77-4715-dab2-b722cbe89e28"
      },
      "outputs": [
        {
          "data": {
            "image/png": "[encoded data removed]",
            "text/plain": [
              "<Figure size 640x480 with 1 Axes>"
            ]
          },
          "metadata": {},
          "output_type": "display_data"
        }
      ],
      "source": [
        "import matplotlib.pyplot as plt\n",
        "import numpy as np\n",
        "\n",
        "x = np.linspace(0,9)\n",
        "m = -2\n",
        "c = 20\n",
        "y = m*x + c\n",
        "plt.plot(x,y)\n",
        "plt.show()"
      ]
    },
    {
      "cell_type": "code",
      "execution_count": null,
      "metadata": {
        "colab": {
          "base_uri": "https://localhost:8080/",
          "height": 430
        },
        "id": "4HQ8xBRLQMt6",
        "outputId": "89bb05f3-67da-41cf-b20f-9b23c39d6cac"
      },
      "outputs": [
        {
          "output_type": "display_data",
          "data": {
            "text/plain": [
              "<Figure size 640x480 with 1 Axes>"
            ],
            "image/png": "[encoded data removed]"
          },
          "metadata": {}
        }
      ],
      "source": [
        "import matplotlib.pyplot as plt\n",
        "import numpy as np\n",
        "\n",
        "x = np.linspace(0,10)\n",
        "y = 1 + np.sin(2*x)\n",
        "\n",
        "fig, a=plt.subplots()\n",
        "a.plot(x,y)\n",
        "\n",
        "a.set(xlim=(0,10), xticks=np.arange(1,10),\n",
        "      ylim=(0,10), yticks=np.arange(1,10))\n",
        "\n",
        "plt.show()"
      ]
    },
    {
      "cell_type": "code",
      "execution_count": null,
      "metadata": {
        "colab": {
          "base_uri": "https://localhost:8080/"
        },
        "id": "J-y_KKw5RnzK",
        "outputId": "03b447c0-dd39-432e-f390-375cada09115"
      },
      "outputs": [
        {
          "name": "stdout",
          "output_type": "stream",
          "text": [
            "3\n",
            "1 2 3 4 5 6 7 8 9 1 2 3 "
          ]
        }
      ],
      "source": [
        "#3d array\n",
        "import numpy as np\n",
        "d = np.array([[[1,2,3],[4,5,6]],[[7,8,9],[1,2,3]]])\n",
        "print(d.ndim)\n",
        "for i in range(0,2):\n",
        "  for j in range(0,2):\n",
        "    for k in range(0,3):\n",
        "      print(d[i,j,k],end=\" \")"
      ]
    },
    {
      "cell_type": "markdown",
      "metadata": {
        "id": "tWug_BvqMOxL"
      },
      "source": [
        "*The astype() function creates a copy of the array, and allows you to specify the data type as a parameter.*"
      ]
    },
    {
      "cell_type": "code",
      "execution_count": null,
      "metadata": {
        "colab": {
          "base_uri": "https://localhost:8080/"
        },
        "id": "rSV-AiAPMSAW",
        "outputId": "b6d2baf4-c669-4d0e-d77f-303f4aa9b240"
      },
      "outputs": [
        {
          "name": "stdout",
          "output_type": "stream",
          "text": [
            "[1.1 +1.j 2.1 +5.j 3.1+11.j]\n",
            "[1 2 3]\n",
            "[1.1 2.1 3.1]\n"
          ]
        },
        {
          "name": "stderr",
          "output_type": "stream",
          "text": [
            "<ipython-input-34-4721c43c4b43>:5: ComplexWarning: Casting complex values to real discards the imaginary part\n",
            "  newarr = arr.astype('i')\n",
            "<ipython-input-34-4721c43c4b43>:6: ComplexWarning: Casting complex values to real discards the imaginary part\n",
            "  newarr1 = arr.astype('f')\n"
          ]
        }
      ],
      "source": [
        "import numpy as np\n",
        "\n",
        "arr = np.array([1.1+1j, 2.1+5j, 3.1+11j])\n",
        "print(arr)\n",
        "newarr = arr.astype('i')\n",
        "newarr1 = arr.astype('f')\n",
        "print(newarr)\n",
        "print(newarr1)"
      ]
    },
    {
      "cell_type": "code",
      "execution_count": null,
      "metadata": {
        "colab": {
          "base_uri": "https://localhost:8080/"
        },
        "id": "8B7xdDR4Mdhj",
        "outputId": "7c6a3872-0e3c-413c-e9ba-0b7229242072"
      },
      "outputs": [
        {
          "name": "stdout",
          "output_type": "stream",
          "text": [
            "1\n",
            "2\n",
            "3\n",
            "4\n",
            "5\n",
            "6\n"
          ]
        }
      ],
      "source": [
        "import numpy as np\n",
        "arr = np.array([[1,2,3],[4,5,6]])\n",
        "for x in arr:\n",
        "  for y in x:\n",
        "    print(y)"
      ]
    },
    {
      "cell_type": "code",
      "execution_count": null,
      "metadata": {
        "colab": {
          "base_uri": "https://localhost:8080/"
        },
        "id": "LZjlS4kTO6vO",
        "outputId": "3b77b835-84f4-4ed4-a403-ab56ca00398c"
      },
      "outputs": [
        {
          "name": "stdout",
          "output_type": "stream",
          "text": [
            "1 2 3 4 5 6 7 8 9 10 11 12 "
          ]
        }
      ],
      "source": [
        "import numpy as np\n",
        "arr = np.array([[[1,2,3],[4,5,6]],[[7,8,9],[10,11,12]]])\n",
        "for x in arr:\n",
        "  for y in x:\n",
        "    for z in y:\n",
        "      print(z,end=\" \")"
      ]
    },
    {
      "cell_type": "code",
      "execution_count": null,
      "metadata": {
        "colab": {
          "base_uri": "https://localhost:8080/"
        },
        "id": "RCezZmtcPbfb",
        "outputId": "04a93e48-0767-4d81-b79e-f00163edf09a"
      },
      "outputs": [
        {
          "name": "stdout",
          "output_type": "stream",
          "text": [
            "[2 4 6]\n"
          ]
        }
      ],
      "source": [
        "import numpy as np\n",
        "arr=np.array([1,2,3,4,5,6])\n",
        "filterarr=[]\n",
        "for x in arr:\n",
        "  if x%2==0:\n",
        "    filterarr.append(True)\n",
        "  else:\n",
        "    filterarr.append(False)\n",
        "newarr=arr[filterarr]\n",
        "print(newarr)"
      ]
    },
    {
      "cell_type": "code",
      "execution_count": null,
      "metadata": {
        "colab": {
          "base_uri": "https://localhost:8080/",
          "height": 430
        },
        "id": "qRuwcxeJRopo",
        "outputId": "05a89126-11f3-4a23-b5e9-6c6574dfb89a"
      },
      "outputs": [
        {
          "data": {
            "image/png": "[encoded data removed]",
            "text/plain": [
              "<Figure size 640x480 with 1 Axes>"
            ]
          },
          "metadata": {},
          "output_type": "display_data"
        }
      ],
      "source": [
        "import matplotlib.pyplot as plt\n",
        "import numpy as np\n",
        "xpoint = np.array([0,6])\n",
        "ypoint = np.array([0,100])\n",
        "plt.plot(xpoint,ypoint)\n",
        "plt.show()"
      ]
    },
    {
      "cell_type": "code",
      "execution_count": null,
      "metadata": {
        "colab": {
          "base_uri": "https://localhost:8080/",
          "height": 430
        },
        "id": "u5NftXcwS20e",
        "outputId": "f94cff26-f17e-4751-8948-56dc8ef5b9eb"
      },
      "outputs": [
        {
          "data": {
            "image/png": "[encoded data removed]",
            "text/plain": [
              "<Figure size 640x480 with 1 Axes>"
            ]
          },
          "metadata": {},
          "output_type": "display_data"
        }
      ],
      "source": [
        "import matplotlib.pyplot as plt\n",
        "import numpy as np\n",
        "xpoint = np.array([0,1,2,3,4,5])\n",
        "ypoint = np.array([0,10,20,40,80,100])\n",
        "plt.plot(xpoint,ypoint)\n",
        "plt.show()"
      ]
    },
    {
      "cell_type": "code",
      "execution_count": null,
      "metadata": {
        "colab": {
          "base_uri": "https://localhost:8080/",
          "height": 430
        },
        "id": "1vQImiziW4YT",
        "outputId": "f8322b39-08af-4484-f6cf-83cd8c9dcfee"
      },
      "outputs": [
        {
          "data": {
            "image/png": "[encoded data removed]",
            "text/plain": [
              "<Figure size 640x480 with 1 Axes>"
            ]
          },
          "metadata": {},
          "output_type": "display_data"
        }
      ],
      "source": [
        "import matplotlib.pyplot as plt\n",
        "import numpy as np\n",
        "xpoint = np.array([0,1,2,3,4,5])\n",
        "ypoint = np.array([0,10,20,40,80,100])\n",
        "plt.plot(xpoint,ypoint,\"x\")\n",
        "plt.show()"
      ]
    },
    {
      "cell_type": "code",
      "execution_count": null,
      "metadata": {
        "colab": {
          "base_uri": "https://localhost:8080/",
          "height": 430
        },
        "id": "TVKwKvTOXCLG",
        "outputId": "8141ca81-5c0d-4dfb-d88b-386e57a923fd"
      },
      "outputs": [
        {
          "data": {
            "image/png": "[encoded data removed]",
            "text/plain": [
              "<Figure size 640x480 with 1 Axes>"
            ]
          },
          "metadata": {},
          "output_type": "display_data"
        }
      ],
      "source": [
        "import matplotlib.pyplot as plt\n",
        "import numpy as np\n",
        "xpoint = np.array([0,1,2,3,4,5])\n",
        "ypoint = np.array([0,10,20,40,80,100])\n",
        "plt.plot(xpoint,ypoint,marker='o',linestyle=\"dashed\")\n",
        "plt.show()"
      ]
    },
    {
      "cell_type": "code",
      "execution_count": null,
      "metadata": {
        "colab": {
          "base_uri": "https://localhost:8080/",
          "height": 449
        },
        "id": "23Mx1jefXGHD",
        "outputId": "ada53cd9-4017-423d-dab4-0bd022c92db6"
      },
      "outputs": [
        {
          "data": {
            "image/png": "[encoded data removed]",
            "text/plain": [
              "<Figure size 640x480 with 1 Axes>"
            ]
          },
          "metadata": {},
          "output_type": "display_data"
        }
      ],
      "source": [
        "import matplotlib.pyplot as plt\n",
        "import numpy as np\n",
        "xpoint = np.array([0,1,2,3,4,5])\n",
        "ypoint1 = np.array([0,10,20,40,80,100])\n",
        "ypoint2 = np.array([90,87,98,21,88,34])\n",
        "plt.plot(xpoint,ypoint1,marker='o',linestyle=\"dashed\")\n",
        "plt.plot(xpoint,ypoint2,marker='o',linestyle=\"dashed\")\n",
        "plt.xlabel(\"X axis\")\n",
        "plt.ylabel(\"Y axis\")\n",
        "plt.show()"
      ]
    },
    {
      "cell_type": "code",
      "execution_count": null,
      "metadata": {
        "colab": {
          "base_uri": "https://localhost:8080/",
          "height": 449
        },
        "id": "IUyMNyjwX5mO",
        "outputId": "3c9ce8fa-c0a3-4f32-9324-1bad263b6484"
      },
      "outputs": [
        {
          "data": {
            "image/png": "[encoded data removed]",
            "text/plain": [
              "<Figure size 640x480 with 1 Axes>"
            ]
          },
          "metadata": {},
          "output_type": "display_data"
        }
      ],
      "source": [
        "import matplotlib.pyplot as plt\n",
        "import numpy as np\n",
        "xpoint = np.array([0,1,2,3,4,5])\n",
        "ypoint1 = np.array([0,10,20,40,80,100])\n",
        "ypoint2 = np.array([90,87,98,21,88,34])\n",
        "plt.plot(xpoint,ypoint1,marker='o',linestyle=\"dashed\")\n",
        "plt.plot(xpoint,ypoint2,marker='o',linestyle=\"dashed\")\n",
        "plt.xlabel(\"X axis\")\n",
        "plt.ylabel(\"Y axis\")\n",
        "plt.grid()\n",
        "plt.show()"
      ]
    },
    {
      "cell_type": "code",
      "execution_count": null,
      "metadata": {
        "colab": {
          "base_uri": "https://localhost:8080/",
          "height": 230
        },
        "id": "PlZfA8IUYbOJ",
        "outputId": "caed290c-aff5-43d7-905c-d7179e7e5c8a"
      },
      "outputs": [
        {
          "data": {
            "image/png": "[encoded data removed]",
            "text/plain": [
              "<Figure size 640x480 with 2 Axes>"
            ]
          },
          "metadata": {},
          "output_type": "display_data"
        }
      ],
      "source": [
        "import matplotlib.pyplot as plt\n",
        "import numpy as np\n",
        "xpoint = np.array([0,1,2,3,4,5])\n",
        "ypoint1 = np.array([0,10,20,40,80,100])\n",
        "ypoint2 = np.array([90,87,98,21,88,34])\n",
        "plt.subplot(2,5,1)\n",
        "plt.plot(xpoint,ypoint1,marker='o',linestyle=\"dashed\")\n",
        "plt.subplot(2,5,2)\n",
        "plt.plot(xpoint,ypoint2,marker='o',linestyle=\"dashed\")\n",
        "plt.show()"
      ]
    },
    {
      "cell_type": "code",
      "execution_count": null,
      "metadata": {
        "colab": {
          "base_uri": "https://localhost:8080/",
          "height": 430
        },
        "id": "UXM6cX1AZHKM",
        "outputId": "0e788681-265f-47be-8c97-664b4a811aed"
      },
      "outputs": [
        {
          "data": {
            "image/png": "[encoded data removed]",
            "text/plain": [
              "<Figure size 640x480 with 1 Axes>"
            ]
          },
          "metadata": {},
          "output_type": "display_data"
        }
      ],
      "source": [
        "import matplotlib.pyplot as plt\n",
        "import numpy as np\n",
        "xpoint = np.array([0,1,2,3,4,5])\n",
        "ypoint1 = np.array([0,10,20,40,80,100])\n",
        "ypoint2 = np.array([90,87,98,21,88,34])\n",
        "plt.scatter(xpoint,ypoint1)\n",
        "plt.scatter(xpoint,ypoint2)\n",
        "plt.show()"
      ]
    },
    {
      "cell_type": "code",
      "execution_count": null,
      "metadata": {
        "colab": {
          "base_uri": "https://localhost:8080/",
          "height": 449
        },
        "id": "Kx3Z5tq_Zys7",
        "outputId": "2d76d735-6f87-4842-b8e2-8558d782cece"
      },
      "outputs": [
        {
          "data": {
            "image/png": "[encoded data removed]",
            "text/plain": [
              "<Figure size 640x480 with 1 Axes>"
            ]
          },
          "metadata": {},
          "output_type": "display_data"
        }
      ],
      "source": [
        "import matplotlib.pyplot as plt\n",
        "import numpy as np\n",
        "x=([\"Karnataka\",\"Andhra Pradesh\",\"Maharashtra\",\"Tamil Nadu\",\"Telengana\"])\n",
        "y=([100,90,87,25,76])\n",
        "plt.xlabel(\"State\")\n",
        "plt.bar(x,y)\n",
        "plt.show()"
      ]
    },
    {
      "cell_type": "code",
      "execution_count": null,
      "metadata": {
        "colab": {
          "base_uri": "https://localhost:8080/",
          "height": 406
        },
        "id": "VAUIRAr1dCOn",
        "outputId": "5c1a9892-7e8c-44df-f629-15a47abe1938"
      },
      "outputs": [
        {
          "data": {
            "image/png": "[encoded data removed]",
            "text/plain": [
              "<Figure size 640x480 with 1 Axes>"
            ]
          },
          "metadata": {},
          "output_type": "display_data"
        }
      ],
      "source": [
        "import matplotlib.pyplot as plt\n",
        "import numpy as np\n",
        "x=([\"Karnataka\",\"Andhra Pradesh\",\"Maharashtra\",\"Tamil Nadu\",\"Telengana\"])\n",
        "y=([100,90,87,25,76])\n",
        "plt.pie(y,labels=x)\n",
        "plt.legend()\n",
        "plt.show()"
      ]
    },
    {
      "cell_type": "code",
      "execution_count": null,
      "metadata": {
        "colab": {
          "base_uri": "https://localhost:8080/",
          "height": 430
        },
        "id": "TNUl-b5AdKOP",
        "outputId": "7b0aca88-9baf-4f29-88bd-678cabd1fb0f"
      },
      "outputs": [
        {
          "data": {
            "image/png": "[encoded data removed]",
            "text/plain": [
              "<Figure size 640x480 with 1 Axes>"
            ]
          },
          "metadata": {},
          "output_type": "display_data"
        }
      ],
      "source": [
        "import matplotlib.pyplot as plt\n",
        "import numpy as np\n",
        "x=np.random.normal(5,1,10000)\n",
        "plt.hist(x,1000)\n",
        "plt.show()"
      ]
    },
    {
      "cell_type": "markdown",
      "metadata": {
        "id": "LgHaCdVw8jaL"
      },
      "source": [
        "np.random.normal(peak_value,variance,no_of_values)"
      ]
    },
    {
      "cell_type": "code",
      "execution_count": null,
      "metadata": {
        "colab": {
          "base_uri": "https://localhost:8080/"
        },
        "id": "_GlSa3Dm8WmH",
        "outputId": "4326c83c-b8b1-4c81-acf4-078531ada9f2"
      },
      "outputs": [
        {
          "name": "stdout",
          "output_type": "stream",
          "text": [
            "1.5.3\n"
          ]
        }
      ],
      "source": [
        "import pandas as pd\n",
        "print(pd.__version__)"
      ]
    },
    {
      "cell_type": "code",
      "execution_count": null,
      "metadata": {
        "colab": {
          "base_uri": "https://localhost:8080/"
        },
        "id": "2PTdFn3WSVKi",
        "outputId": "b9092f35-ce2a-4a31-c484-4901bfd78ce5"
      },
      "outputs": [
        {
          "name": "stdout",
          "output_type": "stream",
          "text": [
            "      longitude  latitude  housing_median_age  total_rooms  total_bedrooms  \\\n",
            "0       -122.05     37.37                27.0       3885.0           661.0   \n",
            "1       -118.30     34.26                43.0       1510.0           310.0   \n",
            "2       -117.81     33.78                27.0       3589.0           507.0   \n",
            "3       -118.36     33.82                28.0         67.0            15.0   \n",
            "4       -119.67     36.33                19.0       1241.0           244.0   \n",
            "...         ...       ...                 ...          ...             ...   \n",
            "2995    -119.86     34.42                23.0       1450.0           642.0   \n",
            "2996    -118.14     34.06                27.0       5257.0          1082.0   \n",
            "2997    -119.70     36.30                10.0        956.0           201.0   \n",
            "2998    -117.12     34.10                40.0         96.0            14.0   \n",
            "2999    -119.63     34.42                42.0       1765.0           263.0   \n",
            "\n",
            "      population  households  median_income  median_house_value  \n",
            "0         1537.0       606.0         6.6085            344700.0  \n",
            "1          809.0       277.0         3.5990            176500.0  \n",
            "2         1484.0       495.0         5.7934            270500.0  \n",
            "3           49.0        11.0         6.1359            330000.0  \n",
            "4          850.0       237.0         2.9375             81700.0  \n",
            "...          ...         ...            ...                 ...  \n",
            "2995      1258.0       607.0         1.1790            225000.0  \n",
            "2996      3496.0      1036.0         3.3906            237200.0  \n",
            "2997       693.0       220.0         2.2895             62000.0  \n",
            "2998        46.0        14.0         3.2708            162500.0  \n",
            "2999       753.0       260.0         8.5608            500001.0  \n",
            "\n",
            "[3000 rows x 9 columns]\n"
          ]
        }
      ],
      "source": [
        "import pandas as pd\n",
        "data = pd.read_csv('/content/sample_data/california_housing_test.csv')\n",
        "print(data)"
      ]
    },
    {
      "cell_type": "code",
      "execution_count": null,
      "metadata": {
        "colab": {
          "base_uri": "https://localhost:8080/"
        },
        "id": "hR1nD5l5TMPk",
        "outputId": "1f669afe-dd57-4541-bb79-142064f7900b"
      },
      "outputs": [
        {
          "output_type": "stream",
          "name": "stdout",
          "text": [
            "      longitude  latitude  housing_median_age  total_rooms  total_bedrooms  population  households  median_income  median_house_value\n",
            "0       -122.05     37.37                27.0       3885.0           661.0      1537.0       606.0         6.6085            344700.0\n",
            "1       -118.30     34.26                43.0       1510.0           310.0       809.0       277.0         3.5990            176500.0\n",
            "2       -117.81     33.78                27.0       3589.0           507.0      1484.0       495.0         5.7934            270500.0\n",
            "3       -118.36     33.82                28.0         67.0            15.0        49.0        11.0         6.1359            330000.0\n",
            "4       -119.67     36.33                19.0       1241.0           244.0       850.0       237.0         2.9375             81700.0\n",
            "5       -119.56     36.51                37.0       1018.0           213.0       663.0       204.0         1.6635             67000.0\n",
            "6       -121.43     38.63                43.0       1009.0           225.0       604.0       218.0         1.6641             67000.0\n",
            "7       -120.65     35.48                19.0       2310.0           471.0      1341.0       441.0         3.2250            166900.0\n",
            "8       -122.84     38.40                15.0       3080.0           617.0      1446.0       599.0         3.6696            194400.0\n",
            "9       -118.02     34.08                31.0       2402.0           632.0      2830.0       603.0         2.3333            164200.0\n",
            "10      -118.24     33.98                45.0        972.0           249.0      1288.0       261.0         2.2054            125000.0\n",
            "11      -119.12     35.85                37.0        736.0           166.0       564.0       138.0         2.4167             58300.0\n",
            "12      -121.93     37.25                36.0       1089.0           182.0       535.0       170.0         4.6900            252600.0\n",
            "13      -117.03     32.97                16.0       3936.0           694.0      1935.0       659.0         4.5625            231200.0\n",
            "14      -117.97     33.73                27.0       2097.0           325.0      1217.0       331.0         5.7121            222500.0\n",
            "15      -117.99     33.81                42.0        161.0            40.0       157.0        50.0         2.2000            153100.0\n",
            "16      -120.81     37.53                15.0        570.0           123.0       189.0       107.0         1.8750            181300.0\n",
            "17      -121.20     38.69                26.0       3077.0           607.0      1603.0       595.0         2.7174            137500.0\n",
            "18      -118.88     34.21                26.0       1590.0           196.0       654.0       199.0         6.5851            300000.0\n",
            "19      -122.59     38.01                35.0       8814.0          1307.0      3450.0      1258.0         6.1724            414300.0\n",
            "20      -122.15     37.75                40.0       1445.0           256.0       849.0       255.0         3.8913            126300.0\n",
            "21      -121.37     38.68                36.0       1775.0           296.0       937.0       305.0         3.1786             83400.0\n",
            "22      -118.16     34.07                47.0       2994.0           543.0      1651.0       561.0         3.8644            241500.0\n",
            "23      -122.20     37.79                45.0       2021.0           528.0      1410.0       480.0         2.7788            115400.0\n",
            "24      -117.28     33.28                13.0       6131.0          1040.0      4049.0       940.0         3.8156            150700.0\n",
            "25      -118.03     34.16                36.0       1401.0           218.0       667.0       225.0         7.1615            484700.0\n",
            "26      -122.42     37.76                52.0       3587.0          1030.0      2259.0       979.0         2.5403            250000.0\n",
            "27      -118.39     33.99                32.0       2612.0           418.0      1030.0       402.0         6.6030            369200.0\n",
            "28      -118.45     34.07                19.0       4845.0          1609.0      3751.0      1539.0         1.5830            350000.0\n",
            "29      -118.48     34.01                30.0       3078.0           954.0      1561.0       901.0         3.4852            425000.0\n",
            "30      -119.35     36.33                14.0       1195.0           220.0       568.0       229.0         3.1486            105600.0\n",
            "31      -118.30     33.91                34.0       1617.0           493.0      1530.0       500.0         2.6182            172600.0\n",
            "32      -121.13     39.31                17.0       3442.0           705.0      1693.0       619.0         2.8102            128900.0\n",
            "33      -118.08     34.55                 5.0      16181.0          2971.0      8152.0      2651.0         4.5237            141800.0\n",
            "34      -118.32     33.94                38.0       1067.0           170.0       499.0       169.0         4.6389            183800.0\n",
            "35      -118.11     34.00                33.0       2886.0           726.0      2650.0       728.0         2.6250            178700.0\n",
            "36      -122.53     37.97                52.0       1560.0           451.0       700.0       419.0         2.5125            270800.0\n",
            "37      -118.02     33.92                34.0       1478.0           251.0       956.0       277.0         5.5238            185300.0\n",
            "38      -118.05     33.93                31.0        894.0           203.0       883.0       190.0         3.6771            141500.0\n",
            "39      -119.01     34.23                11.0       5785.0          1035.0      2760.0       985.0         4.6930            232200.0\n",
            "40      -119.32     36.20                15.0       1562.0           275.0       961.0       287.0         3.4231             83300.0\n",
            "41      -116.92     32.77                16.0       2770.0           406.0      1269.0       429.0         6.6783            275000.0\n",
            "42      -118.06     34.15                37.0       1980.0           226.0       697.0       226.0        15.0001            500001.0\n",
            "43      -117.27     34.09                36.0        848.0           186.0       737.0       169.0         0.9838             79300.0\n",
            "44      -118.23     34.13                48.0       1308.0           286.0       835.0       294.0         4.2891            214800.0\n",
            "45      -117.24     33.17                 4.0       9998.0          1874.0      3925.0      1672.0         4.2826            237500.0\n",
            "46      -121.91     37.44                24.0       1212.0           251.0       799.0       242.0         5.0808            212500.0\n",
            "47      -118.29     33.94                47.0       1782.0           338.0      1003.0       329.0         2.5398            105700.0\n",
            "48      -121.35     38.00                 6.0       1649.0           369.0       732.0       350.0         3.4231            123800.0\n",
            "49      -117.99     33.78                19.0       7399.0          1698.0      3554.0      1593.0         3.1049            173900.0\n",
            "50      -120.99     37.70                14.0       9849.0          1887.0      4356.0      1780.0         3.5877            160900.0\n",
            "51      -119.42     35.97                21.0        554.0           121.0       426.0       122.0         2.3516             47500.0\n",
            "52      -122.21     37.80                39.0       2003.0           500.0      1109.0       464.0         3.0682            156500.0\n",
            "53      -118.17     33.80                26.0       1589.0           380.0       883.0       366.0         3.5313            187500.0\n",
            "54      -117.90     34.09                39.0       1726.0           333.0       892.0       335.0         4.3409            191800.0\n",
            "55      -117.99     33.93                36.0       1287.0           233.0       779.0       229.0         4.8523            175800.0\n",
            "56      -121.42     38.72                10.0       3054.0           528.0      1932.0       510.0         3.0903             91900.0\n",
            "57      -118.77     34.26                26.0       3038.0           468.0      1825.0       468.0         5.6385            196900.0\n",
            "58      -121.93     37.33                44.0       1449.0           291.0       676.0       282.0         3.5750            292200.0\n",
            "59      -121.82     37.25                16.0       2650.0           600.0      1969.0       586.0         3.9461            194300.0\n",
            "60      -122.29     37.56                36.0        805.0           140.0       445.0       139.0         5.8221            289400.0\n",
            "61      -121.78     37.23                18.0       1747.0           317.0      1055.0       285.0         5.8980            229100.0\n",
            "62      -118.41     34.00                35.0       1062.0           305.0      1026.0       307.0         2.7153            265500.0\n",
            "63      -121.67     40.87                31.0       1581.0           299.0       776.0       287.0         2.9063             77800.0\n",
            "64      -118.00     33.92                26.0       2830.0           399.0      1204.0       404.0         6.1273            289600.0\n",
            "65      -117.22     32.73                38.0       3966.0           768.0      1640.0       729.0         3.8409            291400.0\n",
            "66      -121.08     37.69                19.0       6473.0          1212.0      3559.0      1123.0         3.2246            129300.0\n",
            "67      -117.53     33.92                12.0       2290.0           319.0       728.0       228.0         6.1561            233500.0\n",
            "68      -117.46     34.08                18.0       3830.0           750.0      2767.0       702.0         3.6602            120700.0\n",
            "69      -117.97     33.86                35.0       1691.0           367.0      1265.0       378.0         3.5855            174300.0\n",
            "70      -121.92     37.33                52.0       2125.0           382.0       930.0       387.0         5.2831            299500.0\n",
            "71      -118.20     34.04                44.0       1582.0           544.0      1998.0       515.0         1.6888            125000.0\n",
            "72      -118.06     33.80                22.0       1892.0           442.0      1015.0       404.0         4.1379            212500.0\n",
            "73      -122.05     37.36                34.0       2400.0           419.0      1017.0       384.0         4.1369            316900.0\n",
            "74      -123.79     39.50                24.0       1421.0           291.0       588.0       274.0         2.3250            157300.0\n",
            "75      -120.79     37.49                44.0       1186.0           225.0       687.0       234.0         3.4167            160700.0\n",
            "76      -121.89     37.35                47.0       2879.0           631.0      2229.0       606.0         3.2599            183100.0\n",
            "77      -118.43     34.20                29.0       3051.0           694.0      1942.0       679.0         3.1118            238100.0\n",
            "78      -118.75     34.17                18.0       6217.0           858.0      2703.0       834.0         6.8075            325900.0\n",
            "79      -122.47     37.99                22.0       7274.0          1002.0      2468.0       957.0         7.4940            439200.0\n",
            "80      -120.69     37.40                46.0        860.0           130.0       496.0       147.0         3.5167            137500.0\n",
            "81      -118.28     34.05                44.0        968.0           384.0      1805.0       375.0         1.4801            212500.0\n",
            "82      -118.44     34.25                35.0       1583.0           324.0      1481.0       351.0         3.7000            176000.0\n",
            "83      -122.05     38.26                21.0       7195.0          1416.0      3927.0      1377.0         3.0912            126300.0\n",
            "84      -121.99     37.35                18.0       1712.0           509.0       972.0       467.0         4.3971            238900.0\n",
            "85      -121.02     37.68                28.0       2875.0           560.0      1608.0       558.0         3.5489            106400.0\n",
            "86      -119.85     36.74                35.0       1191.0           190.0       537.0       182.0         3.5375             96700.0\n",
            "87      -118.02     34.08                28.0       2769.0           631.0      2452.0       581.0         2.6071            175900.0\n",
            "88      -123.52     41.01                17.0       1564.0           345.0       517.0       222.0         2.1542             83800.0\n",
            "89      -122.40     37.62                44.0       1619.0           362.0      1064.0       335.0         4.0238            224200.0\n",
            "90      -118.13     34.15                24.0       1125.0           341.0       579.0       321.0         2.8125            141700.0\n",
            "91      -122.00     37.98                32.0       1013.0           169.0       436.0       173.0         5.1118            226900.0\n",
            "92      -118.45     34.25                36.0       1453.0           270.0       808.0       275.0         4.3839            204600.0\n",
            "93      -117.50     33.87                 4.0       6755.0          1017.0      2866.0       850.0         5.0493            239800.0\n",
            "94      -122.22     37.84                50.0       2935.0           473.0      1031.0       479.0         7.5000            295200.0\n",
            "95      -119.82     36.64                30.0       1694.0           312.0      1008.0       321.0         2.2466             96000.0\n",
            "96      -120.21     36.77                20.0       1745.0           348.0      1093.0       302.0         2.3194             90600.0\n",
            "97      -120.97     38.42                16.0       1748.0           322.0      4930.0       287.0         4.3029            121900.0\n",
            "98      -121.19     38.87                20.0       3118.0           500.0      1405.0       519.0         6.0000            209400.0\n",
            "99      -118.20     33.77                52.0       1375.0           457.0      1089.0       317.0         2.2344            200000.0\n",
            "100     -118.30     34.02                49.0       2120.0           483.0      1522.0       416.0         1.8500            116800.0\n",
            "101     -122.23     37.79                43.0       5963.0          1344.0      4367.0      1231.0         2.1917            112800.0\n",
            "102     -121.31     38.62                31.0       3114.0           430.0      1121.0       456.0         6.2440            240000.0\n",
            "103     -117.25     32.80                35.0       2281.0           506.0      1005.0       496.0         4.2296            275000.0\n",
            "104     -118.26     33.99                36.0       2016.0           505.0      1807.0       464.0         1.6901            103500.0\n",
            "105     -119.39     36.54                34.0       1590.0           422.0      1272.0       407.0         1.8068             59000.0\n",
            "106     -121.51     38.52                30.0       3236.0           588.0      1167.0       569.0         4.0972            181400.0\n",
            "107     -119.18     34.27                 6.0       2307.0           386.0       910.0       364.0         5.2150            279500.0\n",
            "108     -118.18     33.77                30.0       1418.0           439.0       720.0       417.0         2.6371            159400.0\n",
            "109     -122.43     37.74                52.0       1514.0           314.0       724.0       301.0         5.3292            300900.0\n",
            "110     -117.93     33.91                24.0       1698.0           297.0       676.0       273.0         5.2017            364600.0\n",
            "111     -124.16     40.77                35.0       2141.0           438.0      1053.0       434.0         2.8529             85600.0\n",
            "112     -117.95     33.63                27.0       2489.0           481.0      1082.0       443.0         5.8777            358800.0\n",
            "113     -118.05     34.10                36.0       1606.0           318.0       889.0       294.0         4.7931            272600.0\n",
            "114     -116.97     32.81                19.0       1573.0           471.0       844.0       414.0         2.1422            125000.0\n",
            "115     -118.85     34.17                42.0        564.0            96.0       220.0        81.0         4.5625            318800.0\n",
            "116     -117.73     33.63                15.0       2874.0           592.0      1382.0       586.0         5.5137            161800.0\n",
            "117     -122.07     37.34                30.0       1851.0           238.0       631.0       236.0        10.1007            500001.0\n",
            "118     -117.18     33.02                15.0       3540.0           453.0      1364.0       425.0        13.6623            500001.0\n",
            "119     -118.41     34.00                38.0        324.0            70.0       268.0        73.0         2.5500            271400.0\n",
            "120     -121.96     37.30                20.0       4228.0          1006.0      2334.0      1007.0         4.3081            227300.0\n",
            "121     -121.74     38.55                34.0       2299.0           579.0      1300.0       536.0         1.6435            148500.0\n",
            "122     -118.21     33.92                28.0       2949.0          1003.0      4551.0       930.0         1.9026            131900.0\n",
            "123     -121.90     36.61                29.0       3412.0           827.0      1574.0       759.0         2.9309            217100.0\n",
            "124     -117.81     33.84                17.0       4343.0           515.0      1605.0       484.0        10.5981            460100.0\n",
            "125     -118.19     33.93                42.0       1829.0           391.0      1614.0       377.0         3.1912            146400.0\n",
            "126     -120.93     37.73                14.0       2799.0           618.0      2294.0       596.0         2.6343             81500.0\n",
            "127     -122.02     37.96                25.0       2615.0           368.0       935.0       366.0         6.6727            305100.0\n",
            "128     -122.47     37.79                52.0       2844.0           623.0      1380.0       596.0         4.7500            500001.0\n",
            "129     -117.19     34.03                25.0       2513.0           340.0       900.0       320.0         6.4962            182400.0\n",
            "130     -117.24     32.80                28.0       1072.0           331.0       692.0       321.0         2.1357            187500.0\n",
            "131     -118.13     34.10                19.0       2742.0           756.0      1396.0       703.0         2.5663            197500.0\n",
            "132     -122.42     37.73                50.0       3426.0           769.0      2261.0       671.0         2.8880            246400.0\n",
            "133     -118.14     34.71                32.0       1164.0           248.0       588.0       270.0         1.1917             86900.0\n",
            "134     -119.76     36.75                39.0       2233.0           563.0      2031.0       491.0         1.8641             50800.0\n",
            "135     -122.34     37.56                39.0       3562.0           391.0      1139.0       391.0        12.6417            500001.0\n",
            "136     -122.45     40.46                16.0       2734.0           501.0      1413.0       484.0         2.8085            105700.0\n",
            "137     -118.29     33.91                31.0       2025.0           618.0      2231.0       593.0         2.4741            151200.0\n",
            "138     -118.32     33.91                34.0       3041.0           677.0      1920.0       640.0         4.5304            181300.0\n",
            "139     -122.04     37.36                26.0       3298.0           460.0      1241.0       472.0         6.8753            403000.0\n",
            "140     -117.39     34.10                12.0       7184.0          1516.0      4862.0      1235.0         2.4492            103800.0\n",
            "141     -122.25     37.80                36.0       1678.0           606.0      1645.0       543.0         2.2303            116700.0\n",
            "142     -117.98     34.10                22.0       5661.0          1209.0      5389.0      1178.0         3.7727            159700.0\n",
            "143     -120.06     36.95                24.0        646.0           134.0       454.0       149.0         2.1250             61900.0\n",
            "144     -121.47     39.49                17.0       1554.0           242.0       553.0       230.0         3.2174             91800.0\n",
            "145     -122.20     37.79                35.0       1802.0           459.0      1009.0       390.0         2.3036            126000.0\n",
            "146     -117.23     32.75                23.0       2415.0           653.0      1275.0       596.0         3.1389            101800.0\n",
            "147     -119.75     36.74                39.0       1740.0           351.0      1098.0       347.0         1.8958             51300.0\n",
            "148     -117.92     34.03                35.0       1341.0           233.0       898.0       216.0         4.1118            157300.0\n",
            "149     -121.64     39.28                25.0       2857.0           662.0      2076.0       685.0         1.8095             64100.0\n",
            "150     -117.14     32.72                45.0       1140.0           310.0       840.0       339.0         1.6156            156300.0\n",
            "151     -122.29     37.54                41.0       1743.0           349.0       811.0       349.0         4.9464            282400.0\n",
            "152     -117.91     33.94                15.0       5799.0           842.0      2314.0       787.0         6.3433            350500.0\n",
            "153     -118.38     34.27                 8.0       3248.0           847.0      2608.0       731.0         2.8214            158300.0\n",
            "154     -122.03     37.60                24.0       2077.0           383.0      1488.0       389.0         4.5721            214700.0\n",
            "155     -117.13     33.15                16.0       3907.0           671.0      1759.0       663.0         3.1776            172600.0\n",
            "156     -118.28     34.00                42.0        855.0           284.0       890.0       247.0         1.2778            112500.0\n",
            "157     -122.45     37.72                52.0       1729.0           319.0       890.0       300.0         4.3036            261800.0\n",
            "158     -119.77     36.77                38.0       3065.0           658.0      1441.0       625.0         2.0564             64700.0\n",
            "159     -117.70     33.64                15.0       5743.0           773.0      2380.0       773.0         8.1926            326600.0\n",
            "160     -117.07     32.79                36.0       3583.0           642.0      1711.0       602.0         3.9745            170800.0\n",
            "161     -117.85     33.62                13.0       5192.0           658.0      1865.0       662.0        15.0001            500001.0\n",
            "162     -117.76     33.71                15.0       1010.0           350.0       470.0       342.0         3.2229            108300.0\n",
            "163     -117.19     34.94                31.0       2034.0           444.0      1097.0       367.0         2.1522             60800.0\n",
            "164     -120.97     37.69                15.0       4065.0           841.0      1986.0       680.0         3.0720            114300.0\n",
            "165     -117.19     33.64                12.0       1481.0           265.0       757.0       243.0         3.2350            210700.0\n",
            "166     -118.38     33.91                36.0       2904.0           515.0      1463.0       534.0         5.8374            289600.0\n",
            "167     -121.56     38.26                43.0       1906.0           327.0       996.0       314.0         2.9744            136800.0\n",
            "168     -118.96     35.87                17.0       1668.0           307.0       888.0       277.0         3.7794             96200.0\n",
            "169     -116.96     32.80                24.0       2493.0           693.0      1420.0       643.0         1.8357            104200.0\n",
            "170     -118.27     33.94                30.0       1764.0           397.0      1406.0       362.0         1.4490             93100.0\n",
            "171     -119.18     34.19                36.0       4519.0          1081.0      4818.0      1061.0         2.8561            179100.0\n",
            "172     -118.23     33.90                28.0       1108.0           284.0      1498.0       289.0         2.4706             88800.0\n",
            "173     -120.49     37.26                28.0       2159.0           416.0      1283.0       378.0         1.8939             83000.0\n",
            "174     -121.43     38.64                34.0       2010.0           411.0      1501.0       422.0         2.0417             65900.0\n",
            "175     -118.14     34.17                42.0       2757.0           713.0      2112.0       653.0         2.7148            166800.0\n",
            "176     -119.09     35.41                12.0       3449.0           522.0      1754.0       551.0         5.6235            130600.0\n",
            "177     -118.02     33.71                24.0       2598.0           443.0      1184.0       435.0         5.8623            287800.0\n",
            "178     -121.53     39.06                20.0        561.0           109.0       308.0       114.0         3.3021             70800.0\n",
            "179     -119.29     34.28                38.0       2387.0           748.0      1537.0       741.0         2.3147            192500.0\n",
            "180     -121.84     37.34                33.0       1019.0           191.0       938.0       215.0         4.0929            165000.0\n",
            "181     -117.99     33.88                42.0       1461.0           302.0       986.0       314.0         3.9559            161100.0\n",
            "182     -122.24     37.55                 3.0       6164.0          1175.0      2198.0       975.0         6.7413            435900.0\n",
            "183     -121.80     37.31                21.0       2630.0           446.0      1789.0       389.0         5.0543            232000.0\n",
            "184     -117.43     34.08                13.0       4563.0          1187.0      2475.0      1019.0         2.1189            121700.0\n",
            "185     -118.28     34.02                29.0        515.0           229.0      2690.0       217.0         0.4999            500001.0\n",
            "186     -117.30     33.06                31.0       2128.0           520.0      1049.0       485.0         4.0270            290000.0\n",
            "187     -118.20     34.04                18.0        796.0           227.0       547.0       218.0         1.0333            135400.0\n",
            "188     -117.63     34.11                30.0       2674.0           428.0      1404.0       456.0         4.2969            165600.0\n",
            "189     -121.94     37.33                37.0        818.0           269.0       576.0       261.0         2.1902            250000.0\n",
            "190     -118.07     33.93                 5.0        906.0           187.0      1453.0       158.0         4.1250            171900.0\n",
            "191     -117.19     32.83                30.0       3225.0           555.0      1601.0       532.0         4.3317            173300.0\n",
            "192     -118.21     33.89                42.0       1739.0           370.0      1104.0       297.0         2.2125            120700.0\n",
            "193     -118.41     34.19                39.0       1169.0           242.0       612.0       247.0         4.1429            200000.0\n",
            "194     -117.00     32.80                29.0       2045.0           398.0       912.0       368.0         3.0189            144100.0\n",
            "195     -116.92     32.86                11.0       2204.0           518.0      1472.0       497.0         2.3693            127000.0\n",
            "196     -121.04     38.95                22.0       1931.0           445.0      1009.0       407.0         2.7500            153200.0\n",
            "197     -122.12     37.45                38.0       1276.0           314.0       955.0       287.0         2.0096            155700.0\n",
            "198     -119.48     36.54                28.0       2112.0           363.0      1011.0       335.0         4.2222            108900.0\n",
            "199     -121.02     37.68                25.0       3262.0           588.0      1834.0       578.0         3.9960            114500.0\n",
            "200     -123.28     40.77                25.0        767.0           206.0       301.0       121.0         1.6250             79200.0\n",
            "201     -122.89     39.11                10.0       1588.0           333.0       585.0       254.0         2.2551             71100.0\n",
            "202     -122.04     37.97                21.0       6445.0          1839.0      3621.0      1735.0         2.5841            112500.0\n",
            "203     -118.08     33.81                21.0       1189.0           281.0       577.0       264.0         3.3155            237500.0\n",
            "204     -118.31     34.09                36.0        787.0           420.0      1506.0       360.0         1.2412            216700.0\n",
            "205     -122.16     37.75                35.0        667.0           140.0       406.0       133.0         3.8047             94300.0\n",
            "206     -121.61     38.38                37.0       1365.0           276.0       952.0       268.0         4.0370            156900.0\n",
            "207     -122.10     37.68                31.0       1892.0           428.0      1162.0       389.0         3.1250            167100.0\n",
            "208     -122.28     37.87                49.0       2026.0           548.0       963.0       521.0         1.9805            173700.0\n",
            "209     -116.91     34.24                23.0       6379.0          1636.0      1350.0       568.0         1.6336            124500.0\n",
            "210     -121.83     37.28                33.0       1115.0           250.0      1168.0       261.0         3.9009            178600.0\n",
            "211     -118.30     33.81                17.0       5544.0          1068.0      3008.0      1038.0         5.3220            282700.0\n",
            "212     -117.96     33.70                23.0       4417.0           740.0      1865.0       693.0         5.3428            279300.0\n",
            "213     -122.14     40.07                31.0       2053.0           465.0      1193.0       447.0         1.4923             44400.0\n",
            "214     -121.44     38.73                25.0       1287.0           224.0       727.0       236.0         4.7396            135500.0\n",
            "215     -122.26     37.55                17.0       4576.0           814.0      1941.0       807.0         5.9572            443800.0\n",
            "216     -121.64     37.14                14.0       5487.0          1024.0      2823.0       979.0         4.1750            229800.0\n",
            "217     -117.18     34.48                 8.0       3561.0           691.0      2156.0       659.0         2.7778             86900.0\n",
            "218     -122.28     38.34                44.0       1066.0           190.0       416.0       174.0         3.6389            304000.0\n",
            "219     -117.90     33.60                25.0       2465.0           585.0       906.0       472.0         3.6538            500001.0\n",
            "220     -122.18     37.78                33.0        142.0            31.0       575.0        47.0         3.8750            225000.0\n",
            "221     -121.49     38.51                30.0       3166.0           607.0      1857.0       579.0         3.1768             79500.0\n",
            "222     -118.19     33.91                43.0       1531.0           357.0      1509.0       376.0         2.6354            128100.0\n",
            "223     -118.27     34.10                50.0       2113.0           398.0       793.0       418.0         4.7132            304600.0\n",
            "224     -121.44     38.61                34.0        172.0            38.0       149.0        55.0         2.6442             55000.0\n",
            "225     -121.91     37.43                33.0       2791.0           496.0      1714.0       485.0         4.8304            224900.0\n",
            "226     -117.86     33.72                31.0       1194.0           297.0      1602.0       306.0         2.3333            157700.0\n",
            "227     -118.35     33.92                29.0        736.0           232.0       584.0       231.0         3.6167            200000.0\n",
            "228     -117.26     33.84                12.0       1159.0           209.0       523.0       159.0         2.7232            123200.0\n",
            "229     -122.43     37.73                52.0       3602.0           738.0      2270.0       647.0         3.8934            251800.0\n",
            "230     -121.80     37.99                16.0       3077.0           465.0      1575.0       446.0         5.5000            179500.0\n",
            "231     -122.58     38.46                15.0       2936.0           517.0      1182.0       501.0         3.3981            246900.0\n",
            "232     -122.47     37.78                52.0       2042.0           378.0      1153.0       408.0         4.1856            404700.0\n",
            "233     -118.08     34.00                32.0       1165.0           358.0       997.0       361.0         0.9817            166300.0\n",
            "234     -122.00     37.35                20.0       4304.0           851.0      2059.0       835.0         5.1674            333000.0\n",
            "235     -119.02     35.41                21.0       2534.0           554.0      1297.0       517.0         2.0575             67000.0\n",
            "236     -118.13     34.18                52.0       1464.0           211.0       603.0       226.0         5.8309            309100.0\n",
            "237     -121.94     37.27                23.0       1932.0           552.0       997.0       482.0         3.6620            211900.0\n",
            "238     -120.51     35.91                39.0        768.0           162.0       264.0       118.0         5.3245            250000.0\n",
            "239     -121.65     38.03                28.0       3144.0           694.0      1095.0       482.0         3.4402            192400.0\n",
            "240     -121.62     39.79                11.0       3835.0           727.0      1456.0       658.0         2.5374             97200.0\n",
            "241     -117.08     32.82                16.0       1787.0           236.0       770.0       228.0         7.1298            278600.0\n",
            "242     -123.21     39.14                15.0       2235.0           545.0      1376.0       516.0         1.9032            100000.0\n",
            "243     -119.61     36.33                32.0       1492.0           284.0       926.0       264.0         3.0139             61500.0\n",
            "244     -114.98     33.07                18.0       1183.0           363.0       374.0       127.0         3.1607             57500.0\n",
            "245     -118.38     34.04                36.0       3005.0           771.0      2054.0       758.0         2.0437            309100.0\n",
            "246     -117.99     33.70                13.0       4013.0           903.0      1999.0       859.0         4.6250            248800.0\n",
            "247     -116.26     33.72                10.0       9404.0          1827.0      3208.0      1283.0         3.1086            105800.0\n",
            "248     -118.40     34.00                10.0       1526.0           339.0       705.0       268.0         5.8083            321800.0\n",
            "249     -120.64     35.46                 6.0       5876.0          1406.0      2877.0      1304.0         2.5437            146400.0\n",
            "250     -122.03     37.39                22.0       3280.0           933.0      1842.0       795.0         4.4107            232700.0\n",
            "251     -118.29     33.88                36.0       1751.0           438.0      1175.0       419.0         3.0739            218600.0\n",
            "252     -117.02     32.69                 7.0       6055.0          1004.0      3031.0       952.0         4.4360            135000.0\n",
            "253     -119.32     36.30                15.0       2864.0           571.0      1480.0       475.0         2.9698             93400.0\n",
            "254     -122.31     38.01                18.0       4123.0           874.0      1895.0       772.0         3.2759            195000.0\n",
            "255     -118.86     34.19                27.0       1931.0           261.0       736.0       244.0         6.7805            392900.0\n",
            "256     -117.14     33.81                13.0       4496.0           756.0      2044.0       695.0         3.2778            148800.0\n",
            "257     -118.64     34.22                25.0       2762.0           410.0      1166.0       439.0         6.8643            333700.0\n",
            "258     -116.63     33.89                22.0       1540.0           364.0       610.0       268.0         1.5227             71000.0\n",
            "259     -118.28     34.11                45.0       1607.0           331.0       633.0       332.0         3.1445            438300.0\n",
            "260     -119.03     35.38                52.0       1695.0           290.0       540.0       260.0         2.7312            147100.0\n",
            "261     -118.26     33.88                36.0       1212.0           222.0       775.0       224.0         5.5591            136500.0\n",
            "262     -117.89     33.85                18.0       2036.0           414.0      1292.0       380.0         3.8750            273000.0\n",
            "263     -122.09     37.38                36.0       2587.0           416.0      1055.0       410.0         6.1995            407200.0\n",
            "264     -122.94     39.10                18.0        681.0           120.0       272.0       105.0         2.8906            140600.0\n",
            "265     -117.10     32.68                42.0       2013.0           568.0      1920.0       557.0         2.0724            107600.0\n",
            "266     -118.98     35.41                36.0       1482.0           266.0       640.0       274.0         3.8750             94500.0\n",
            "267     -120.23     37.96                52.0       1230.0           262.0       609.0       243.0         2.0057             68200.0\n",
            "268     -118.20     33.94                43.0       1934.0           511.0      1895.0       493.0         2.5029            159700.0\n",
            "269     -121.30     37.95                 9.0        674.0           242.0       575.0       193.0         2.2024             45000.0\n",
            "270     -121.74     38.55                33.0       6861.0          1820.0      3717.0      1767.0         1.7311            182600.0\n",
            "271     -121.96     37.33                35.0       2294.0           411.0      1054.0       449.0         4.0667            276900.0\n",
            "272     -120.60     37.36                27.0       2521.0           484.0      1307.0       456.0         3.0911             86900.0\n",
            "273     -122.47     37.70                44.0       2034.0           423.0      1491.0       373.0         4.5341            236500.0\n",
            "274     -117.05     32.58                23.0       1918.0           339.0      1392.0       340.0         4.0870            134800.0\n",
            "275     -117.90     33.87                34.0       1411.0           292.0      1040.0       299.0         3.4338            195200.0\n",
            "276     -117.23     32.87                15.0       2290.0           662.0      1034.0       594.0         3.0104            204200.0\n",
            "277     -122.08     37.88                24.0       2059.0           462.0       410.0       294.0         2.3971             99400.0\n",
            "278     -118.21     33.80                45.0       1160.0           274.0      1095.0       269.0         2.7308            139000.0\n",
            "279     -122.08     37.64                30.0       5267.0          1253.0      4065.0      1113.0         3.3479            182100.0\n",
            "280     -118.38     34.14                40.0       1965.0           354.0       666.0       357.0         6.0876            483800.0\n",
            "281     -118.20     33.80                45.0       2456.0           495.0      1300.0       450.0         3.9792            210200.0\n",
            "282     -117.62     33.43                27.0       3858.0          1062.0      2321.0       873.0         3.3155            231000.0\n",
            "283     -122.11     37.40                31.0       2836.0           490.0      1138.0       481.0         4.9519            500001.0\n",
            "284     -122.84     38.98                21.0        939.0           176.0       556.0       178.0         1.7196             75000.0\n",
            "285     -121.26     38.27                20.0       1314.0           229.0       712.0       219.0         4.4125            144600.0\n",
            "286     -116.89     33.73                15.0       2094.0           316.0       937.0       277.0         5.3623            201300.0\n",
            "287     -122.67     38.44                32.0       3771.0           741.0      1786.0       721.0         3.2415            172200.0\n",
            "288     -117.94     33.87                46.0       2066.0           450.0      1275.0       448.0         3.9375            187000.0\n",
            "289     -118.14     34.69                34.0       1439.0           327.0       708.0       298.0         3.2699            100000.0\n",
            "290     -122.40     37.59                22.0       2754.0           477.0      1163.0       479.0         6.2306            500001.0\n",
            "291     -118.08     33.84                28.0       4216.0           948.0      2997.0       896.0         3.7961            162700.0\n",
            "292     -116.36     33.78                 6.0      24121.0          4522.0      4176.0      2221.0         3.3799            239300.0\n",
            "293     -117.94     33.85                26.0       1888.0           429.0      1550.0       458.0         3.3393            168600.0\n",
            "294     -117.47     33.94                34.0        559.0           139.0       532.0       137.0         3.0687             88500.0\n",
            "295     -117.64     33.65                 4.0       6842.0          1512.0      3256.0      1439.0         5.4132            216600.0\n",
            "296     -118.50     34.24                34.0       2634.0           412.0      1114.0       423.0         5.9401            315300.0\n",
            "297     -118.19     33.78                24.0        225.0            72.0       439.0        71.0         2.8533            137500.0\n",
            "298     -117.66     34.12                16.0       3853.0           541.0      1726.0       497.0         6.1195            251100.0\n",
            "299     -122.30     37.97                34.0       2854.0           528.0      1211.0       452.0         3.5353            164700.0\n",
            "300     -122.14     37.68                31.0       3184.0           716.0      1561.0       628.0         2.7955            183100.0\n",
            "301     -118.26     33.94                41.0       1510.0           410.0      1408.0       389.0         1.6500             94200.0\n",
            "302     -118.23     33.93                39.0       2065.0           532.0      2015.0       535.0         0.8478            104900.0\n",
            "303     -120.96     38.66                11.0       2339.0           436.0      1062.0       380.0         3.9036            180800.0\n",
            "304     -117.84     35.35                28.0       1913.0           486.0       858.0       371.0         1.9962             50800.0\n",
            "305     -119.16     34.20                35.0       2183.0           636.0      3504.0       623.0         1.9704            160300.0\n",
            "306     -122.65     38.23                52.0       1735.0           347.0       712.0       343.0         3.1711            200800.0\n",
            "307     -121.88     37.37                14.0       6016.0          1404.0      3258.0      1316.0         3.5745            333700.0\n",
            "308     -118.40     34.04                43.0       3863.0           537.0      1398.0       511.0         8.5938            500001.0\n",
            "309     -118.27     34.11                36.0       1832.0           539.0       934.0       486.0         3.0521            276600.0\n",
            "310     -118.44     34.30                38.0       1595.0           314.0      1181.0       327.0         3.4000            155500.0\n",
            "311     -121.77     37.68                41.0       1501.0           299.0       629.0       288.0         4.6806            209400.0\n",
            "312     -119.99     38.88                17.0       2807.0           529.0       675.0       251.0         2.7457            107800.0\n",
            "313     -118.36     33.96                26.0       3543.0          1055.0      2742.0       951.0         2.5504            151300.0\n",
            "314     -118.32     33.97                52.0       1778.0           320.0       795.0       279.0         3.5114            138800.0\n",
            "315     -118.27     34.27                27.0       5205.0           859.0      2363.0       888.0         6.1946            276100.0\n",
            "316     -116.81     33.90                17.0       2009.0           469.0       820.0       381.0         1.3286             81800.0\n",
            "317     -118.39     33.96                45.0       1436.0           374.0       662.0       292.0         3.6250            329400.0\n",
            "318     -118.07     33.91                29.0       2387.0           570.0      1978.0       548.0         3.1957            159200.0\n",
            "319     -118.35     34.22                30.0       1260.0           222.0       638.0       229.0         4.1302            258300.0\n",
            "320     -118.43     34.02                41.0       2403.0           516.0      1001.0       514.0         4.3906            500001.0\n",
            "321     -121.73     37.68                17.0      20354.0          3493.0      8768.0      3293.0         5.4496            238900.0\n",
            "322     -117.31     32.98                17.0       2789.0           648.0       849.0       345.0         4.1012            244700.0\n",
            "323     -122.29     37.56                12.0       6474.0          1467.0      2516.0      1390.0         5.0353            305800.0\n",
            "324     -119.69     34.38                39.0       1383.0           459.0       677.0       362.0         2.2500            281300.0\n",
            "325     -122.07     38.00                37.0        978.0           202.0       462.0       184.0         3.6250            156300.0\n",
            "326     -118.05     34.16                41.0       3320.0           713.0      1236.0       659.0         3.5694            278600.0\n",
            "327     -122.07     37.66                28.0       2280.0           610.0      1255.0       587.0         2.6719            161200.0\n",
            "328     -121.80     37.27                10.0       3301.0           593.0      2190.0       575.0         6.2230            260700.0\n",
            "329     -122.69     38.34                23.0       2846.0           516.0      1526.0       492.0         3.7330            163500.0\n",
            "330     -117.08     32.70                35.0       1477.0           264.0       852.0       279.0         3.1786            100600.0\n",
            "331     -119.76     36.73                46.0       1347.0           282.0       854.0       267.0         1.8723             52600.0\n",
            "332     -118.37     34.05                52.0       1563.0           306.0       776.0       308.0         3.6250            440900.0\n",
            "333     -122.70     38.35                14.0       1555.0           369.0       493.0       335.0         1.6033             67500.0\n",
            "334     -118.13     34.01                45.0       1179.0           268.0       736.0       252.0         2.7083            161800.0\n",
            "335     -119.35     36.21                26.0       2481.0           586.0      1445.0       498.0         1.6378             60300.0\n",
            "336     -117.67     34.03                20.0       8561.0          1411.0      4861.0      1450.0         4.7056            165500.0\n",
            "337     -117.97     34.15                33.0       2474.0           472.0      1268.0       437.0         6.4576            500001.0\n",
            "338     -118.08     34.08                38.0       1889.0           407.0      1330.0       396.0         3.9219            205200.0\n",
            "339     -121.23     38.78                13.0       3813.0           871.0      1513.0       783.0         2.0807            142600.0\n",
            "340     -118.20     34.02                49.0       1098.0           317.0      1411.0       301.0         2.7500            146000.0\n",
            "341     -118.17     34.02                41.0        676.0           216.0       851.0       199.0         2.3077            140600.0\n",
            "342     -117.80     34.06                34.0       1081.0           205.0      1325.0       252.0         3.6298            108500.0\n",
            "343     -118.30     33.97                46.0       1425.0           317.0      1140.0       304.0         3.3750             98500.0\n",
            "344     -122.47     37.69                30.0        837.0           213.0       606.0       199.0         4.8750            258800.0\n",
            "345     -118.20     33.96                44.0       2144.0           477.0      1760.0       452.0         2.3221            161600.0\n",
            "346     -117.13     32.91                16.0       2715.0           581.0      1619.0       584.0         4.0000            154700.0\n",
            "347     -119.77     36.81                25.0       1565.0           271.0       661.0       275.0         3.4279             84700.0\n",
            "348     -118.47     34.25                21.0       2692.0           477.0      1330.0       456.0         4.5417            238900.0\n",
            "349     -122.25     37.80                42.0       4120.0          1065.0      1715.0      1015.0         2.9345            225000.0\n",
            "350     -118.50     34.17                37.0        880.0           154.0       369.0       155.0         4.1429            303600.0\n",
            "351     -122.24     37.49                38.0       4105.0           950.0      2561.0       909.0         3.8684            265600.0\n",
            "352     -117.15     32.93                16.0       2718.0           438.0      1515.0       431.0         5.1433            185300.0\n",
            "353     -120.85     37.77                35.0        404.0            96.0       261.0       100.0         2.4583             75000.0\n",
            "354     -122.25     37.83                35.0       1613.0           428.0       675.0       422.0         3.4722            243100.0\n",
            "355     -118.33     33.77                33.0       4244.0           595.0      1534.0       557.0         9.8214            500001.0\n",
            "356     -124.15     40.78                41.0       2127.0           358.0       911.0       349.0         3.1711            104200.0\n",
            "357     -117.94     33.79                24.0       4179.0           784.0      1902.0       733.0         4.7986            236500.0\n",
            "358     -121.59     39.15                 5.0       1922.0           489.0       938.0       439.0         2.0474             61300.0\n",
            "359     -122.69     38.44                31.0       1808.0           315.0       691.0       280.0         3.8583            193200.0\n",
            "360     -122.51     38.76                 9.0       2589.0           482.0      1050.0       374.0         4.0435            132600.0\n",
            "361     -117.89     33.61                45.0       1883.0           419.0       653.0       328.0         4.2222            500001.0\n",
            "362     -117.19     32.77                 9.0        634.0           152.0       248.0       133.0         3.8571            143800.0\n",
            "363     -117.15     32.75                40.0       2261.0           579.0       903.0       525.0         2.4650            198700.0\n",
            "364     -122.21     37.48                20.0        505.0           216.0       326.0       216.0         2.9286            237500.0\n",
            "365     -118.25     33.79                38.0       1730.0           460.0      1724.0       424.0         2.7308            150400.0\n",
            "366     -120.49     40.31                16.0       1821.0           360.0       969.0       359.0         3.4643             85100.0\n",
            "367     -118.30     33.74                20.0       2625.0           673.0      1184.0       606.0         3.9167            285200.0\n",
            "368     -117.14     32.70                47.0        552.0           161.0       593.0       174.0         0.9589             90000.0\n",
            "369     -121.30     37.97                52.0       2259.0           417.0       766.0       385.0         2.2981            105400.0\n",
            "370     -119.78     36.75                31.0       1404.0           379.0      1515.0       387.0         1.2813             56400.0\n",
            "371     -118.38     34.18                32.0       3553.0          1060.0      3129.0      1010.0         2.5603            174200.0\n",
            "372     -118.13     34.10                24.0       4670.0          1185.0      2478.0      1107.0         3.1975            252400.0\n",
            "373     -118.30     33.73                42.0       1731.0           435.0       866.0       403.0         2.7451            255400.0\n",
            "374     -118.44     33.99                44.0        305.0            72.0       156.0        70.0         5.9641            275000.0\n",
            "375     -117.48     34.08                17.0       1834.0           390.0      1253.0       357.0         3.1028            106400.0\n",
            "376     -122.35     37.97                31.0       2892.0           685.0      2104.0       641.0         3.2188            113800.0\n",
            "377     -119.71     34.41                31.0       1034.0           319.0       997.0       308.0         2.6538            231800.0\n",
            "378     -116.92     32.81                23.0       2668.0           528.0      1510.0       524.0         3.3669            158900.0\n",
            "379     -122.11     37.66                35.0       2843.0           652.0      1726.0       643.0         3.0900            174100.0\n",
            "380     -117.41     33.94                29.0       3181.0           714.0      1603.0       706.0         3.2500            112500.0\n",
            "381     -122.45     37.74                38.0       5688.0           930.0      2263.0       908.0         6.2030            346800.0\n",
            "382     -118.36     33.80                38.0       2553.0           400.0      1042.0       393.0         6.9742            500001.0\n",
            "383     -121.66     36.68                10.0        913.0           265.0       508.0       251.0         0.9914            147500.0\n",
            "384     -122.42     37.76                52.0       2038.0           629.0      2007.0       596.0         2.5701            266700.0\n",
            "385     -118.29     34.05                30.0       1417.0           589.0      1615.0       540.0         1.3867            193800.0\n",
            "386     -119.82     34.43                15.0       1482.0           345.0       669.0       379.0         3.0773            112500.0\n",
            "387     -119.34     36.22                38.0       2708.0           460.0      1260.0       455.0         3.0905             78200.0\n",
            "388     -121.50     38.61                 5.0       1395.0           373.0       638.0       322.0         2.6745            225000.0\n",
            "389     -121.88     37.46                 5.0       1819.0           245.0       802.0       228.0        10.9722            500001.0\n",
            "390     -118.27     33.94                34.0        721.0           165.0       661.0       171.0         2.0789             92400.0\n",
            "391     -122.17     37.73                46.0       2163.0           470.0       925.0       435.0         3.2500            177500.0\n",
            "392     -122.22     37.85                28.0       5287.0          1048.0      2031.0       956.0         5.4570            337300.0\n",
            "393     -117.20     32.83                36.0       1089.0           240.0       623.0       226.0         2.5909            176000.0\n",
            "394     -120.69     35.49                16.0       2666.0           450.0      1203.0       429.0         4.1375            222400.0\n",
            "395     -122.70     38.97                17.0       2554.0           540.0       723.0       319.0         3.2375            114200.0\n",
            "396     -118.37     34.15                29.0       2630.0           617.0      1071.0       573.0         3.3669            376100.0\n",
            "397     -118.35     34.00                40.0       2894.0           395.0      1063.0       409.0         6.9390            372000.0\n",
            "398     -118.39     37.36                38.0       1813.0           410.0       902.0       396.0         2.3261             98400.0\n",
            "399     -118.11     34.20                36.0       4915.0           725.0      1897.0       700.0         6.8270            359400.0\n",
            "400     -121.72     36.81                18.0       1984.0           379.0      1078.0       359.0         3.2969            229900.0\n",
            "401     -118.52     34.16                39.0       2693.0           478.0      1219.0       435.0         5.1700            335400.0\n",
            "402     -118.12     33.90                35.0       3478.0           730.0      1885.0       673.0         2.9375            206500.0\n",
            "403     -119.69     36.79                 5.0       2613.0           476.0      1490.0       481.0         4.0993             83000.0\n",
            "404     -118.03     33.78                26.0       2001.0           302.0       836.0       298.0         5.1061            257500.0\n",
            "405     -120.67     35.62                 6.0      12779.0          2441.0      6085.0      2157.0         3.8661            168100.0\n",
            "406     -118.43     34.03                36.0       1552.0           388.0       867.0       352.0         3.6467            346700.0\n",
            "407     -121.62     39.13                41.0       1147.0           243.0       583.0       239.0         2.2431             63400.0\n",
            "408     -118.97     37.64                13.0       1907.0           544.0       575.0       234.0         3.0685            162500.0\n",
            "409     -117.25     32.74                36.0       3548.0           956.0      1648.0       866.0         2.6962            288200.0\n",
            "410     -122.28     37.80                52.0        215.0            87.0       904.0        88.0         0.8668            137500.0\n",
            "411     -118.19     34.14                38.0       1826.0           300.0       793.0       297.0         5.2962            291500.0\n",
            "412     -117.90     33.85                32.0       1605.0           314.0       986.0       306.0         3.3375            186200.0\n",
            "413     -119.02     37.64                14.0       5919.0          1278.0       265.0       112.0         3.2431            221400.0\n",
            "414     -118.37     34.20                34.0       2199.0           609.0      2488.0       597.0         2.9861            171800.0\n",
            "415     -122.41     37.75                52.0       1057.0           276.0       837.0       292.0         2.4531            229000.0\n",
            "416     -117.94     33.92                28.0        639.0           179.0      1062.0       169.0         3.0588            145200.0\n",
            "417     -118.22     34.12                28.0       3306.0          1025.0      2670.0       942.0         3.0919            185400.0\n",
            "418     -117.24     34.04                 4.0       4289.0           682.0      1981.0       705.0         5.3366            165100.0\n",
            "419     -122.08     37.66                33.0       1547.0           372.0      1063.0       356.0         2.5625            154300.0\n",
            "420     -122.28     37.85                48.0       2063.0           484.0      1054.0       466.0         2.2625            132900.0\n",
            "421     -118.21     33.90                35.0       2420.0           579.0      2010.0       540.0         2.0817            104600.0\n",
            "422     -118.01     33.92                35.0       1606.0           289.0       829.0       273.0         5.2730            187600.0\n",
            "423     -118.29     34.18                10.0       4292.0          1075.0      2719.0       987.0         3.6974            286600.0\n",
            "424     -118.21     33.96                48.0        284.0           104.0       422.0       119.0         1.2826            145500.0\n",
            "425     -117.23     32.81                28.0       1508.0           263.0       996.0       267.0         3.8026            270000.0\n",
            "426     -117.03     33.13                15.0       7000.0          1185.0      3555.0      1118.0         4.7022            172800.0\n",
            "427     -121.85     37.22                21.0       6203.0           798.0      2494.0       800.0         7.7201            362700.0\n",
            "428     -122.40     37.72                47.0       1465.0           306.0      1119.0       315.0         4.2672            219400.0\n",
            "429     -120.47     34.98                 6.0       5762.0          1115.0      2551.0       919.0         3.0723            137300.0\n",
            "430     -121.14     37.48                 6.0       1772.0           332.0      1011.0       331.0         3.7045            128100.0\n",
            "431     -119.34     36.62                26.0       1922.0           339.0      1148.0       332.0         2.6058             92200.0\n",
            "432     -117.66     34.08                36.0       1485.0           236.0       623.0       261.0         3.3036            141000.0\n",
            "433     -116.84     33.08                15.0       2755.0           519.0      1474.0       460.0         4.0408            225900.0\n",
            "434     -118.29     34.05                11.0        677.0           370.0      1143.0       341.0         2.3864            350000.0\n",
            "435     -119.98     38.94                23.0       1564.0           298.0       339.0       147.0         4.0417             99300.0\n",
            "436     -118.10     33.91                35.0       1653.0           325.0      1072.0       301.0         3.2708            159700.0\n",
            "437     -120.07     36.96                42.0        963.0           216.0       471.0       211.0         2.2898             66100.0\n",
            "438     -119.11     35.39                22.0        984.0           176.0       451.0       170.0         3.2500             88900.0\n",
            "439     -117.72     34.10                46.0       2477.0           458.0      1034.0       455.0         5.5000            289700.0\n",
            "440     -117.90     33.65                30.0       2196.0           486.0      1131.0       460.0         4.4135            272300.0\n",
            "441     -121.98     37.29                31.0       2750.0           664.0      1459.0       660.0         3.2287            264900.0\n",
            "442     -122.03     36.96                32.0       2182.0           406.0      1122.0       370.0         3.5200            284200.0\n",
            "443     -117.42     34.08                21.0       4460.0           930.0      2657.0       839.0         2.7569            127500.0\n",
            "444     -117.66     34.11                19.0       3445.0           661.0      1635.0       580.0         5.0681            230500.0\n",
            "445     -119.29     34.24                27.0       4742.0           775.0      1682.0       696.0         6.1940            500001.0\n",
            "446     -117.02     32.71                20.0       4050.0           745.0      2870.0       761.0         3.7366            121800.0\n",
            "447     -122.85     38.62                16.0       4418.0           704.0      1908.0       697.0         4.5913            244600.0\n",
            "448     -118.33     33.91                35.0       1092.0           302.0       962.0       297.0         3.5903            183300.0\n",
            "449     -118.40     34.02                40.0        593.0           137.0       371.0       132.0         4.6932            332800.0\n",
            "450     -118.38     33.84                26.0       2869.0           567.0      1157.0       538.0         6.0382            355300.0\n",
            "451     -118.05     34.11                42.0       3677.0           627.0      1779.0       622.0         5.1509            426500.0\n",
            "452     -117.43     33.93                36.0       2386.0           396.0      1176.0       374.0         4.5122            113300.0\n",
            "453     -118.10     34.16                44.0       2795.0           496.0      1235.0       469.0         4.2386            283700.0\n",
            "454     -122.53     37.86                38.0       1183.0           196.0       628.0       205.0         3.7500            478600.0\n",
            "455     -118.30     33.97                42.0        944.0           200.0       567.0       190.0         2.6311            124100.0\n",
            "456     -118.20     33.89                37.0       2394.0           568.0      2499.0       551.0         2.5321            105100.0\n",
            "457     -118.02     34.15                44.0       2419.0           437.0      1045.0       432.0         3.8750            280800.0\n",
            "458     -121.53     39.52                30.0       1030.0           161.0       448.0       159.0         2.4821             73800.0\n",
            "459     -117.92     33.90                13.0       1814.0           320.0      1010.0       313.0         6.3489            337900.0\n",
            "460     -118.37     34.21                33.0       2034.0           470.0      1990.0       423.0         3.7455            159600.0\n",
            "461     -118.04     33.85                18.0       3628.0           546.0      1922.0       544.0         7.5057            328500.0\n",
            "462     -118.46     33.98                19.0       2520.0           726.0       964.0       663.0         3.8068            500001.0\n",
            "463     -118.05     33.90                36.0       1047.0           227.0       975.0       239.0         3.1897            155000.0\n",
            "464     -122.95     40.71                26.0       2231.0           421.0       987.0       364.0         2.4792             88800.0\n",
            "465     -122.00     37.30                28.0       5096.0          1011.0      2588.0       954.0         5.3570            355200.0\n",
            "466     -121.86     37.40                21.0       1386.0           260.0       946.0       257.0         6.5226            258500.0\n",
            "467     -119.25     36.56                35.0       1675.0           373.0      1131.0       316.0         1.6722             59100.0\n",
            "468     -118.21     34.56                12.0       2472.0           408.0      1048.0       380.0         4.7097            262100.0\n",
            "469     -118.26     34.02                39.0        698.0           232.0      1046.0       228.0         2.2356            119500.0\n",
            "470     -117.28     34.15                32.0       2170.0           430.0       815.0       401.0         3.1765            135000.0\n",
            "471     -122.44     37.66                21.0       5108.0          1510.0      3288.0      1405.0         3.1927            252600.0\n",
            "472     -118.99     35.39                36.0       1438.0           348.0      1054.0       341.0         1.8319             55400.0\n",
            "473     -117.14     34.06                15.0       3057.0           510.0      1154.0       460.0         3.9741            141100.0\n",
            "474     -122.15     37.41                15.0       2577.0           360.0       979.0       364.0        10.4760            500001.0\n",
            "475     -121.20     38.67                26.0       1546.0           287.0       773.0       299.0         2.9803            115400.0\n",
            "476     -122.15     37.47                37.0       1844.0           382.0      1634.0       417.0         2.7993            145500.0\n",
            "477     -118.34     33.95                25.0       3762.0          1281.0      4015.0      1178.0         2.1587            143800.0\n",
            "478     -118.25     34.08                44.0       1425.0           438.0      1121.0       374.0         2.1108            200000.0\n",
            "479     -119.58     36.10                21.0       1382.0           327.0      1469.0       355.0         1.3967             46500.0\n",
            "480     -121.31     38.71                18.0       3998.0           744.0      2071.0       660.0         4.3836            102000.0\n",
            "481     -118.42     34.12                27.0       2089.0           303.0       654.0       270.0        12.3767            500001.0\n",
            "482     -117.18     34.06                52.0        954.0           233.0       533.0       239.0         1.3021            100000.0\n",
            "483     -115.90     32.69                18.0        414.0            86.0        98.0        54.0         1.5417             57500.0\n",
            "484     -118.36     33.98                46.0       1425.0           283.0       782.0       273.0         5.0570            246300.0\n",
            "485     -122.50     37.60                35.0       2197.0           369.0       971.0       326.0         4.2500            241700.0\n",
            "486     -121.50     36.81                20.0       1345.0           230.0       731.0       217.0         4.2333            363300.0\n",
            "487     -118.19     33.82                11.0        872.0           203.0       422.0       221.0         4.6364            156300.0\n",
            "488     -117.30     34.15                40.0        961.0           199.0       509.0       182.0         2.0600             85500.0\n",
            "489     -118.42     34.23                34.0       1531.0           278.0      1064.0       274.0         5.6687            207300.0\n",
            "490     -118.12     33.90                38.0       1222.0           282.0       756.0       256.0         4.1250            173900.0\n",
            "491     -119.80     36.79                45.0       1337.0           187.0       471.0       187.0         5.1870            153800.0\n",
            "492     -119.74     34.35                34.0       1664.0           292.0       705.0       257.0         5.0000            329400.0\n",
            "493     -121.97     37.97                26.0       1977.0           264.0       817.0       273.0         5.7512            240200.0\n",
            "494     -117.07     34.05                14.0       5764.0          1006.0      1876.0       841.0         1.9694            173200.0\n",
            "495     -122.29     37.82                 2.0        158.0            43.0        94.0        57.0         2.5625             60000.0\n",
            "496     -116.31     33.65                 8.0       3079.0           558.0      1572.0       474.0         4.5938            102600.0\n",
            "497     -118.27     34.01                43.0       1235.0           385.0      1745.0       372.0         2.0817            113300.0\n",
            "498     -122.44     37.76                52.0       1968.0           472.0       784.0       430.0         3.3702            370000.0\n",
            "499     -118.27     34.15                14.0       1744.0           536.0      1494.0       531.0         3.2171            230800.0\n",
            "500     -118.41     34.03                36.0       3053.0           635.0      1234.0       577.0         5.1637            500001.0\n",
            "501     -121.45     38.61                32.0       2436.0           612.0      1509.0       618.0         1.0424             81400.0\n",
            "502     -117.25     32.83                17.0       2075.0           262.0       704.0       241.0        10.9529            500001.0\n",
            "503     -119.80     36.82                24.0       5377.0          1005.0      2010.0       982.0         3.4542            121200.0\n",
            "504     -121.31     38.01                22.0       2101.0           514.0      1304.0       511.0         2.8348            101600.0\n",
            "505     -118.18     34.05                41.0        762.0           147.0       817.0       176.0         3.7500            123100.0\n",
            "506     -122.13     37.37                30.0       2139.0           260.0       742.0       242.0        11.8060            500001.0\n",
            "507     -119.75     36.78                28.0       3257.0           752.0      1981.0       712.0         2.2930             71700.0\n",
            "508     -117.09     32.74                42.0       1986.0           472.0      1472.0       475.0         2.1757            110100.0\n",
            "509     -122.02     37.33                25.0       3823.0           584.0      1689.0       571.0         7.3693            373600.0\n",
            "510     -117.20     32.84                34.0       3353.0           544.0      1583.0       571.0         4.5500            187700.0\n",
            "511     -118.14     34.01                46.0       1746.0           447.0      1296.0       392.0         2.3929            156800.0\n",
            "512     -122.43     37.78                29.0       1310.0           364.0      1009.0       379.0         1.3844            177500.0\n",
            "513     -118.10     34.01                29.0       2077.0           564.0      2087.0       543.0         2.6600            189200.0\n",
            "514     -118.35     34.10                20.0       2745.0           782.0      1161.0       739.0         3.9044            436400.0\n",
            "515     -118.00     33.81                33.0       2970.0           547.0      1869.0       539.0         4.3636            201800.0\n",
            "516     -121.46     38.56                52.0       1750.0           372.0       764.0       369.0         2.9191            111800.0\n",
            "517     -118.27     33.87                21.0       6108.0          1130.0      3244.0      1113.0         4.2768            181400.0\n",
            "518     -118.26     33.95                44.0       1771.0           378.0      1296.0       399.0         1.6389             96700.0\n",
            "519     -119.01     35.38                52.0        114.0            26.0       158.0        26.0         1.0750             67500.0\n",
            "520     -117.08     32.80                32.0       1587.0           268.0       635.0       249.0         3.3750            178100.0\n",
            "521     -122.20     40.26                15.0       2102.0           358.0       957.0       371.0         3.1908            137900.0\n",
            "522     -119.98     38.94                25.0       1339.0           328.0       503.0       219.0         1.9018            109700.0\n",
            "523     -122.53     37.95                22.0       7446.0          1979.0      2980.0      1888.0         3.5838            271300.0\n",
            "524     -118.30     34.05                51.0       1005.0           314.0      1227.0       306.0         2.4297            162500.0\n",
            "525     -121.86     39.75                18.0       1651.0           309.0       856.0       293.0         3.5046            118300.0\n",
            "526     -122.06     37.33                23.0       4507.0           751.0      2167.0       722.0         7.0102            500001.0\n",
            "527     -122.45     38.01                36.0       4501.0           832.0      2196.0       800.0         4.3182            252700.0\n",
            "528     -117.01     32.77                24.0       2311.0           536.0      1005.0       525.0         2.9000            185200.0\n",
            "529     -120.87     37.76                16.0       1174.0           249.0       601.0       242.0         1.7143            113300.0\n",
            "530     -121.79     38.54                 7.0       1777.0           513.0      4479.0       504.0         1.4653            310000.0\n",
            "531     -117.81     33.82                22.0       2898.0           335.0      1057.0       324.0        10.8111            500001.0\n",
            "532     -117.59     33.66                 3.0       1206.0           256.0       563.0       287.0         5.1589            167800.0\n",
            "533     -117.36     34.09                32.0       3616.0           631.0      2131.0       593.0         3.2879             95500.0\n",
            "534     -121.52     39.50                33.0       1462.0           241.0       569.0       231.0         3.2833             82600.0\n",
            "535     -122.27     37.84                52.0       1503.0           298.0       690.0       275.0         2.6033            162900.0\n",
            "536     -122.21     40.20                19.0       3404.0           731.0      1421.0       683.0         2.6149             84400.0\n",
            "537     -117.24     33.18                19.0       3337.0           565.0      1646.0       554.0         5.0195            200200.0\n",
            "538     -122.55     37.98                31.0       3807.0           828.0      1581.0       795.0         3.2930            337500.0\n",
            "539     -118.45     34.00                46.0       1777.0           362.0       896.0       334.0         4.4500            348300.0\n",
            "540     -117.88     33.85                34.0       1127.0           185.0       588.0       181.0         4.3750            224700.0\n",
            "541     -117.18     32.76                52.0       2023.0           301.0       649.0       285.0         4.7396            441700.0\n",
            "542     -118.30     33.88                29.0        850.0           229.0       563.0       204.0         3.7375            247700.0\n",
            "543     -122.04     38.28                12.0       3861.0           795.0      2129.0       806.0         3.6760            135000.0\n",
            "544     -122.43     40.47                16.0       3552.0           704.0      1801.0       658.0         2.1496             97700.0\n",
            "545     -118.38     33.86                24.0       3124.0           560.0      1312.0       542.0         6.3021            333800.0\n",
            "546     -119.57     36.09                 6.0       2015.0           413.0       992.0       319.0         2.3889             53200.0\n",
            "547     -117.87     34.12                34.0       1004.0           220.0       772.0       217.0         3.8571            174500.0\n",
            "548     -116.88     32.81                35.0       2926.0           562.0      1590.0       506.0         4.2014            143200.0\n",
            "549     -118.58     34.21                13.0       6227.0          1317.0      3739.0      1226.0         4.0313            299300.0\n",
            "550     -122.04     37.88                32.0       3250.0           550.0      1230.0       557.0         4.6424            312700.0\n",
            "551     -122.44     37.72                52.0       1775.0           347.0      1102.0       367.0         4.3125            267200.0\n",
            "552     -121.81     37.37                26.0       2987.0           539.0      1931.0       518.0         5.1099            213100.0\n",
            "553     -122.50     37.77                52.0       2433.0           454.0      1070.0       420.0         4.1250            359500.0\n",
            "554     -121.94     37.94                26.0       1299.0           174.0       533.0       180.0         6.2296            291700.0\n",
            "555     -118.45     34.12                20.0      10722.0          1617.0      3731.0      1511.0         9.7449            500001.0\n",
            "556     -121.70     39.07                26.0       2668.0           510.0      1437.0       505.0         3.3125            100000.0\n",
            "557     -118.10     34.65                33.0        873.0           177.0       425.0       142.0         2.6700            187500.0\n",
            "558     -119.02     36.06                41.0       2279.0           538.0      1908.0       511.0         1.3952             43100.0\n",
            "559     -118.06     34.08                42.0       1988.0           402.0      1239.0       402.0         3.2569            201500.0\n",
            "560     -117.66     33.61                17.0       3464.0           519.0      1713.0       530.0         6.0471            248400.0\n",
            "561     -117.40     33.94                30.0       1198.0           251.0      1019.0       214.0         3.0509             82700.0\n",
            "562     -118.19     33.83                30.0       2246.0           552.0      1032.0       548.0         3.5871            347100.0\n",
            "563     -121.55     39.51                50.0       1050.0           288.0       485.0       260.0         1.1607             51700.0\n",
            "564     -121.98     37.14                37.0         74.0            19.0        63.0        17.0         9.5908            350000.0\n",
            "565     -117.06     32.61                24.0       4369.0          1353.0      3123.0      1247.0         2.0571            152300.0\n",
            "566     -118.32     34.04                39.0       2965.0           812.0      2638.0       794.0         2.5320            172700.0\n",
            "567     -117.13     32.76                41.0       1545.0           420.0       747.0       415.0         2.3750            154400.0\n",
            "568     -122.50     37.76                46.0       2226.0           480.0      1272.0       468.0         4.2644            284100.0\n",
            "569     -120.87     37.62                30.0        455.0            70.0       220.0        69.0         4.8958            142500.0\n",
            "570     -118.24     34.22                41.0       2476.0           506.0      1271.0       485.0         3.4531            263900.0\n",
            "571     -117.69     33.48                25.0       3240.0           481.0      1462.0       497.0         6.1815            288500.0\n",
            "572     -122.20     39.75                18.0       2603.0           576.0      1616.0       588.0         2.0192             63700.0\n",
            "573     -117.08     32.64                43.0       1005.0           230.0       548.0       252.0         1.8672            145800.0\n",
            "574     -117.91     33.82                32.0       1408.0           307.0      1331.0       284.0         3.7014            179600.0\n",
            "575     -122.00     38.73                31.0        371.0            74.0       208.0        84.0         3.8750            137500.0\n",
            "576     -118.29     33.84                33.0        896.0           208.0       843.0       200.0         3.5000            183000.0\n",
            "577     -118.13     33.86                45.0       1320.0           256.0       645.0       256.0         4.4000            209500.0\n",
            "578     -118.35     33.89                29.0       2940.0           708.0      2175.0       684.0         3.6486            229000.0\n",
            "579     -122.13     40.01                21.0        916.0           194.0       451.0       178.0         2.1250             63300.0\n",
            "580     -122.07     37.96                37.0       1217.0           199.0       552.0       194.0         5.0445            196200.0\n",
            "581     -117.26     32.85                30.0       3652.0           499.0       978.0       462.0         8.2374            500001.0\n",
            "582     -117.87     33.74                16.0       1243.0           365.0      1925.0       376.0         2.7632            158900.0\n",
            "583     -121.88     37.44                23.0       1310.0           267.0       910.0       261.0         5.3994            237900.0\n",
            "584     -121.67     36.58                11.0       5892.0           837.0      2327.0       812.0         6.1551            291800.0\n",
            "585     -116.89     33.79                12.0        701.0           130.0       434.0       110.0         2.0577             56700.0\n",
            "586     -122.66     38.47                20.0       2806.0           477.0      1369.0       460.0         4.7500            190500.0\n",
            "587     -121.45     38.54                38.0       1865.0           384.0      1052.0       354.0         1.7891             60500.0\n",
            "588     -121.00     37.66                43.0       2369.0           413.0       944.0       422.0         3.2632            138100.0\n",
            "589     -117.27     32.84                34.0       1655.0           450.0       870.0       411.0         3.2109            376000.0\n",
            "590     -117.87     34.11                23.0       4066.0           819.0      2105.0       737.0         4.6556            199600.0\n",
            "591     -121.44     37.75                16.0       2229.0           458.0      1199.0       445.0         3.4821            170600.0\n",
            "592     -118.13     33.76                44.0       2532.0           621.0       961.0       550.0         3.9352            406900.0\n",
            "593     -118.31     34.26                41.0       1297.0           327.0       733.0       315.0         3.0583            160300.0\n",
            "594     -122.00     38.37                18.0       1048.0           185.0       469.0       162.0         3.6250            125000.0\n",
            "595     -122.27     41.23                40.0       1958.0           386.0       725.0       331.0         2.1898             65500.0\n",
            "596     -120.89     37.52                42.0       1200.0           221.0       647.0       192.0         2.5402            157500.0\n",
            "597     -118.75     34.29                17.0       5512.0           765.0      2734.0       814.0         6.6073            258100.0\n",
            "598     -118.18     34.02                36.0       1138.0           296.0      1484.0       320.0         2.2813            150700.0\n",
            "599     -121.37     38.41                14.0       3727.0           685.0      1741.0       646.0         3.5625            125700.0\n",
            "600     -120.31     37.29                36.0        969.0           206.0       732.0       175.0         1.5938             57600.0\n",
            "601     -117.88     33.73                32.0       1947.0           355.0      1786.0       332.0         4.5726            177500.0\n",
            "602     -117.33     33.98                52.0       1417.0           353.0       881.0       300.0         1.9531            162500.0\n",
            "603     -118.49     34.03                30.0       4061.0           927.0      1487.0       865.0         4.1827            435100.0\n",
            "604     -121.93     38.01                 9.0       2294.0           389.0      1142.0       365.0         5.3363            160800.0\n",
            "605     -122.45     37.70                46.0       2193.0           499.0      1814.0       489.0         4.0125            230100.0\n",
            "606     -117.08     32.75                20.0       1886.0           586.0      1134.0       525.0         1.5029            100000.0\n",
            "607     -116.19     33.69                11.0       5692.0          1346.0      5682.0      1273.0         2.5383             74000.0\n",
            "608     -119.73     36.62                35.0       2080.0           365.0      1026.0       333.0         3.5781             92800.0\n",
            "609     -117.12     32.59                28.0       2793.0           706.0      1825.0       676.0         2.6724            144500.0\n",
            "610     -117.63     34.09                 8.0       3557.0           890.0      2251.0       765.0         2.6818            114100.0\n",
            "611     -118.26     34.07                40.0        680.0           273.0       995.0       249.0         2.2607            165600.0\n",
            "612     -118.26     33.97                46.0       1521.0           352.0      1100.0       334.0         1.5500            100600.0\n",
            "613     -119.84     36.75                34.0       1186.0           300.0       774.0       271.0         1.5750             57100.0\n",
            "614     -121.28     38.67                29.0       1087.0           174.0       430.0       174.0         4.3625            158800.0\n",
            "615     -117.35     34.11                34.0       2104.0           388.0      1578.0       365.0         3.0833             88400.0\n",
            "616     -121.32     36.42                20.0       1054.0           269.0      1219.0       273.0         3.0437             76600.0\n",
            "617     -118.35     34.02                34.0       3978.0          1073.0      2725.0      1035.0         1.7622            167900.0\n",
            "618     -119.81     37.67                24.0        172.0            42.0        79.0        30.0         3.8333             93800.0\n",
            "619     -118.15     34.05                33.0       3287.0           649.0      1783.0       653.0         3.8472            293300.0\n",
            "620     -121.22     37.81                17.0       2879.0           542.0      1802.0       530.0         3.6378            126100.0\n",
            "621     -119.72     34.43                30.0       2491.0           656.0      1091.0       576.0         2.5139            279500.0\n",
            "622     -117.85     33.84                17.0       2830.0           502.0      1370.0       459.0         5.1785            247300.0\n",
            "623     -117.20     32.79                31.0       3417.0           533.0      1245.0       532.0         4.7788            276000.0\n",
            "624     -118.63     34.18                33.0       5252.0           760.0      2041.0       730.0         6.7977            389700.0\n",
            "625     -117.49     33.64                 3.0       8874.0          1302.0      3191.0      1027.0         6.8588            302000.0\n",
            "626     -118.37     33.84                35.0       1792.0           322.0       978.0       326.0         4.9583            342800.0\n",
            "627     -122.02     38.26                20.0       3899.0           763.0      2198.0       779.0         3.2061            120400.0\n",
            "628     -121.33     38.66                17.0       2767.0           584.0      1275.0       568.0         2.5909            125400.0\n",
            "629     -118.74     36.23                22.0       1033.0           232.0       442.0       136.0         2.6447            137500.0\n",
            "630     -117.89     34.49                12.0       3449.0           598.0      1502.0       540.0         3.7043            150800.0\n",
            "631     -117.41     33.96                24.0       4481.0           901.0      2398.0       823.0         3.8640            123400.0\n",
            "632     -118.75     34.42                28.0       1000.0           206.0       545.0       154.0         2.4167            191700.0\n",
            "633     -122.48     37.74                52.0       2285.0           435.0      1211.0       442.0         4.0208            323100.0\n",
            "634     -118.14     34.04                43.0       1949.0           464.0      1216.0       457.0         3.3214            209300.0\n",
            "635     -122.56     37.90                36.0       1760.0           283.0       562.0       246.0         6.7546            402400.0\n",
            "636     -122.09     37.39                43.0       2065.0           535.0      1029.0       500.0         3.7318            327700.0\n",
            "637     -121.80     36.94                29.0       2377.0           476.0      1669.0       499.0         2.8214            190100.0\n",
            "638     -117.83     33.83                13.0       3759.0           489.0      1496.0       499.0         8.3818            377600.0\n",
            "639     -121.68     36.90                13.0        833.0           130.0       405.0       127.0         5.2729            322900.0\n",
            "640     -122.30     37.88                52.0        409.0            97.0       208.0        98.0         1.6971            138800.0\n",
            "641     -121.04     37.67                16.0         19.0            19.0       166.0         9.0         0.5360            162500.0\n",
            "642     -118.32     34.09                28.0       2173.0           819.0      2548.0       763.0         1.8790            218800.0\n",
            "643     -118.12     33.81                36.0       1774.0           299.0       784.0       298.0         5.0447            249200.0\n",
            "644     -121.81     39.70                21.0       5051.0          1054.0      2948.0       980.0         1.5863             81300.0\n",
            "645     -121.84     36.52                18.0       3165.0           533.0      1312.0       434.0         6.5234            357400.0\n",
            "646     -121.79     37.33                18.0       3611.0           614.0      2381.0       642.0         5.6345            231000.0\n",
            "647     -118.16     34.18                48.0        568.0           145.0       559.0       135.0         2.4135            135700.0\n",
            "648     -119.40     36.59                37.0       1486.0           296.0       977.0       290.0         3.5074             93800.0\n",
            "649     -122.27     37.80                39.0       1715.0           623.0      1327.0       467.0         1.8477            179200.0\n",
            "650     -117.73     33.57                 5.0      11976.0          2495.0      4327.0      2009.0         4.8488            194400.0\n",
            "651     -121.28     37.92                30.0       1061.0           230.0       851.0       195.0         2.4412             61600.0\n",
            "652     -119.81     36.77                43.0       2341.0           395.0       890.0       375.0         3.4265             85000.0\n",
            "653     -122.26     37.85                50.0       1120.0           283.0       697.0       264.0         2.1250            140000.0\n",
            "654     -117.95     33.93                37.0       2633.0           630.0      1904.0       630.0         2.6123            161300.0\n",
            "655     -120.12     38.12                37.0       3355.0           666.0       338.0       136.0         2.0625             88900.0\n",
            "656     -121.88     37.35                52.0       1704.0           418.0      1336.0       411.0         2.8167            183500.0\n",
            "657     -118.11     33.87                15.0       3254.0           598.0      1772.0       618.0         5.0417            240800.0\n",
            "658     -122.08     37.69                42.0       1414.0           274.0       629.0       244.0         3.3478            184900.0\n",
            "659     -121.68     39.15                14.0       2774.0           451.0      1292.0       428.0         4.3833            115200.0\n",
            "660     -122.16     37.71                36.0        666.0           132.0       366.0       134.0         3.4643            175000.0\n",
            "661     -118.07     34.09                35.0       1224.0           267.0       887.0       276.0         4.0987            202400.0\n",
            "662     -117.69     33.65                16.0       5805.0           852.0      2356.0       795.0         6.1062            274600.0\n",
            "663     -118.35     34.03                49.0       2334.0           530.0      1334.0       447.0         1.8900            124000.0\n",
            "664     -122.79     39.02                23.0        642.0           203.0       265.0        84.0         1.8833             96900.0\n",
            "665     -118.14     33.89                33.0       2867.0           786.0      1774.0       705.0         2.9292            183400.0\n",
            "666     -121.89     37.42                26.0         40.0             8.0        52.0         7.0         7.7197            225000.0\n",
            "667     -122.41     37.76                52.0        492.0           139.0       316.0       168.0         3.0865            225000.0\n",
            "668     -118.60     34.16                37.0       3441.0           584.0      1283.0       544.0         4.1656            313100.0\n",
            "669     -118.41     34.02                24.0       2610.0           756.0      1322.0       692.0         3.5022            281300.0\n",
            "670     -117.53     33.97                29.0       1430.0           273.0       872.0       283.0         4.0833            141000.0\n",
            "671     -117.13     32.70                35.0        365.0            98.0       463.0       112.0         2.5588             78800.0\n",
            "672     -117.14     32.90                16.0       3217.0           716.0      2054.0       687.0         4.2234            162100.0\n",
            "673     -118.16     34.11                31.0       5715.0          1154.0      2639.0      1079.0         4.1661            364400.0\n",
            "674     -117.18     32.70                42.0       1691.0           286.0       761.0       281.0         5.1386            404500.0\n",
            "675     -117.97     33.72                24.0       2991.0           500.0      1437.0       453.0         5.4286            273400.0\n",
            "676     -118.25     34.09                52.0        104.0            20.0        32.0        17.0         3.7500            241700.0\n",
            "677     -118.14     34.11                52.0       3367.0           545.0      1427.0       535.0         5.2292            444500.0\n",
            "678     -120.01     34.54                30.0       2992.0           609.0      1288.0       465.0         3.9375            292900.0\n",
            "679     -117.41     34.10                 5.0       4937.0          1139.0      2204.0       812.0         2.5272             92000.0\n",
            "680     -118.22     34.52                 7.0       4524.0           735.0      2298.0       717.0         6.5538            311600.0\n",
            "681     -117.91     33.87                29.0       1121.0           291.0       762.0       276.0         2.5000            143800.0\n",
            "682     -117.09     32.76                29.0       1650.0           496.0       882.0       445.0         2.2287            140000.0\n",
            "683     -122.27     37.82                52.0       1630.0           456.0      1162.0       400.0         1.2475            104200.0\n",
            "684     -118.20     34.06                46.0        321.0           101.0       401.0        86.0         2.1029            109400.0\n",
            "685     -118.36     33.90                40.0       1271.0           276.0       725.0       234.0         5.0452            231900.0\n",
            "686     -122.00     37.86                18.0       8953.0          1074.0      3011.0       993.0        10.7372            500001.0\n",
            "687     -121.36     39.52                15.0       2490.0           527.0      1229.0       497.0         2.3917             85700.0\n",
            "688     -122.00     38.28                 3.0       7030.0          1191.0      3238.0      1055.0         4.9620            161700.0\n",
            "689     -117.70     33.68                29.0       5650.0          1084.0      3985.0      1056.0         2.8192            162500.0\n",
            "690     -118.28     34.03                26.0       2107.0           809.0      2821.0       572.0         0.8440            350000.0\n",
            "691     -118.25     34.15                13.0       1107.0           479.0       616.0       443.0         0.8185            187500.0\n",
            "692     -122.54     37.93                43.0       2998.0           470.0       970.0       430.0         5.5385            431800.0\n",
            "693     -118.25     34.02                50.0        180.0            89.0       356.0        76.0         2.1944            158300.0\n",
            "694     -122.06     36.98                15.0       3385.0           669.0      1571.0       615.0         4.2254            320900.0\n",
            "695     -122.45     37.77                52.0       2339.0           548.0      1090.0       507.0         3.3679            350000.0\n",
            "696     -118.04     33.85                23.0       3132.0           469.0      1646.0       478.0         5.7770            315900.0\n",
            "697     -118.12     34.15                19.0        557.0           216.0       673.0       212.0         2.1763            168800.0\n",
            "698     -118.31     33.94                43.0       2104.0           393.0      1132.0       394.0         3.0682            142000.0\n",
            "699     -118.44     34.16                33.0       1616.0           322.0       580.0       311.0         4.0391            337500.0\n",
            "700     -118.46     34.17                24.0       2814.0           675.0      1463.0       620.0         4.1875            309300.0\n",
            "701     -117.93     34.06                35.0       1022.0           183.0       628.0       187.0         3.9375            187500.0\n",
            "702     -121.81     36.57                13.0       3030.0           413.0      1027.0       363.0         6.9615            500001.0\n",
            "703     -118.42     34.00                33.0       1139.0           299.0       734.0       257.0         3.2708            325000.0\n",
            "704     -118.33     34.01                44.0       1762.0           463.0       786.0       445.0         1.9231            188500.0\n",
            "705     -118.24     33.93                19.0        325.0            74.0       354.0        87.0         2.7500             90600.0\n",
            "706     -116.94     32.81                22.0       4266.0          1010.0      2766.0       985.0         2.8175            135200.0\n",
            "707     -122.60     38.24                16.0       2621.0           416.0      1247.0       386.0         4.8603            198400.0\n",
            "708     -118.21     33.97                52.0       4220.0           908.0      3731.0       892.0         3.1901            167600.0\n",
            "709     -118.73     34.27                25.0       3409.0           493.0      1699.0       484.0         5.6530            225800.0\n",
            "710     -122.12     37.37                37.0       1446.0           181.0       549.0       190.0        10.7355            500001.0\n",
            "711     -122.42     40.44                16.0        994.0           185.0       495.0       181.0         2.1875             76400.0\n",
            "712     -122.13     37.72                26.0       2862.0           394.0      1030.0       397.0         7.9120            367300.0\n",
            "713     -121.17     37.88                22.0       1283.0           256.0      3082.0       239.0         3.5365            111800.0\n",
            "714     -122.43     37.72                48.0       1289.0           280.0       782.0       235.0         3.6719            259800.0\n",
            "715     -118.22     33.91                27.0        500.0           159.0       732.0       162.0         2.7426            103100.0\n",
            "716     -121.17     37.97                28.0       1374.0           248.0       769.0       229.0         3.6389            130400.0\n",
            "717     -122.27     37.86                52.0       2307.0           583.0      1127.0       548.0         1.8447            198200.0\n",
            "718     -119.19     36.14                41.0        759.0           140.0       408.0       129.0         3.9000             85900.0\n",
            "719     -122.41     37.60                31.0       4424.0           834.0      1915.0       817.0         4.1364            412000.0\n",
            "720     -116.83     32.81                18.0       2367.0           402.0      1021.0       395.0         4.8125            210500.0\n",
            "721     -119.34     36.33                17.0       2250.0           430.0      1218.0       468.0         4.1812             93700.0\n",
            "722     -123.22     39.16                29.0       6121.0          1222.0      3595.0      1189.0         2.6310            109600.0\n",
            "723     -121.92     37.72                22.0       4638.0           716.0      2302.0       687.0         5.3470            219500.0\n",
            "724     -116.57     33.76                25.0       2616.0           547.0       581.0       343.0         3.1364            301600.0\n",
            "725     -118.17     34.18                44.0       1401.0           246.0       607.0       271.0         2.8472            218800.0\n",
            "726     -117.20     32.80                36.0       4018.0          1067.0      1620.0       842.0         2.3599            168400.0\n",
            "727     -117.58     34.09                27.0        754.0           200.0       746.0       185.0         1.9531            100800.0\n",
            "728     -118.24     33.96                34.0       1724.0           432.0      1876.0       416.0         2.1078            100600.0\n",
            "729     -122.24     40.18                39.0       2191.0           493.0      1307.0       499.0         1.6483             60800.0\n",
            "730     -119.69     36.82                15.0       3303.0           512.0      1687.0       505.0         4.8100             93600.0\n",
            "731     -121.69     36.62                19.0       1907.0           323.0       681.0       270.0         6.0332            244900.0\n",
            "732     -119.28     36.35                 7.0       3598.0           701.0      2080.0       678.0         3.1111             72400.0\n",
            "733     -117.99     33.81                46.0         38.0             8.0        66.0        14.0         4.1667            162500.0\n",
            "734     -117.65     35.00                36.0       1184.0           316.0       672.0       241.0         1.9107             39800.0\n",
            "735     -118.15     34.02                43.0       2172.0           605.0      2386.0       597.0         2.8239            150600.0\n",
            "736     -122.43     37.73                52.0       1583.0           347.0       935.0       341.0         4.6786            263200.0\n",
            "737     -117.04     32.73                36.0       2084.0           400.0      1097.0       398.0         3.2717            130700.0\n",
            "738     -118.08     34.14                45.0       2923.0           604.0      1903.0       560.0         3.1729            218700.0\n",
            "739     -121.07     39.20                45.0        204.0            62.0       133.0        51.0         1.0000             90600.0\n",
            "740     -117.12     32.66                52.0         16.0             4.0         8.0         3.0         1.1250             60000.0\n",
            "741     -118.13     34.13                39.0       2099.0           397.0      1500.0       380.0         4.8304            493200.0\n",
            "742     -122.22     37.88                20.0         95.0            13.0        31.0        15.0         2.4444            475000.0\n",
            "743     -122.52     37.93                34.0       2782.0           502.0      1219.0       507.0         5.0779            333900.0\n",
            "744     -122.09     37.63                36.0       1570.0           274.0       992.0       249.0         5.3644            168800.0\n",
            "745     -117.97     33.82                26.0       4013.0           985.0      2442.0       922.0         3.7655            197700.0\n",
            "746     -118.28     34.05                41.0       1075.0           597.0      2260.0       614.0         1.3000            162500.0\n",
            "747     -118.39     33.79                30.0       4402.0           563.0      1582.0       551.0        10.8980            500001.0\n",
            "748     -122.40     37.58                26.0       3281.0           531.0      1145.0       480.0         6.3580            500001.0\n",
            "749     -118.26     34.06                42.0       2541.0          1282.0      3974.0      1189.0         1.5854             87500.0\n",
            "750     -122.16     37.48                36.0       2238.0           479.0      1949.0       457.0         2.3769            157300.0\n",
            "751     -117.43     34.11                17.0       4109.0           884.0      2544.0       780.0         2.7757            109800.0\n",
            "752     -118.28     33.93                42.0       1898.0           460.0      1503.0       429.0         2.5179             97400.0\n",
            "753     -118.37     33.95                 5.0       6955.0          2062.0      3591.0      1566.0         3.1110            247600.0\n",
            "754     -121.49     38.56                52.0       1777.0           368.0       624.0       350.0         3.6729            137800.0\n",
            "755     -121.80     38.55                11.0       5121.0           899.0      2258.0       901.0         4.7168            223200.0\n",
            "756     -122.19     39.92                20.0       2563.0           658.0      1363.0       611.0         1.0230             54200.0\n",
            "757     -118.01     33.84                29.0       3740.0           691.0      1724.0       638.0         3.9628            215600.0\n",
            "758     -118.31     33.96                48.0       2015.0           356.0      1020.0       338.0         4.0625            138700.0\n",
            "759     -121.06     39.22                52.0       1749.0           422.0       837.0       391.0         2.3250            109700.0\n",
            "760     -121.35     38.61                27.0       3900.0           776.0      1549.0       761.0         2.7788            115700.0\n",
            "761     -118.31     33.99                48.0       2235.0           433.0      1363.0       433.0         1.6559            101400.0\n",
            "762     -121.93     37.27                28.0       3428.0           753.0      1753.0       729.0         4.1033            281000.0\n",
            "763     -117.31     33.17                 7.0       2349.0           312.0       809.0       282.0         5.5520            283900.0\n",
            "764     -120.89     37.48                27.0       1118.0           195.0       647.0       209.0         2.9135            159400.0\n",
            "765     -119.47     35.14                19.0       4190.0           690.0      1973.0       702.0         3.9929             88300.0\n",
            "766     -118.41     34.18                35.0       1975.0           384.0       882.0       406.0         4.3750            291700.0\n",
            "767     -119.81     36.70                52.0        314.0            57.0       178.0        66.0         1.2404             52500.0\n",
            "768     -117.08     33.16                11.0       6341.0          1030.0      2697.0       977.0         4.8554            206700.0\n",
            "769     -119.27     35.87                12.0        972.0           269.0      1134.0       286.0         1.6300             49500.0\n",
            "770     -122.31     40.75                18.0       1411.0           330.0       494.0       227.0         1.4911             75800.0\n",
            "771     -117.20     33.29                12.0       6358.0          1182.0      2778.0      1020.0         4.0357            295900.0\n",
            "772     -118.43     34.26                43.0        729.0           172.0       935.0       174.0         2.9519            140900.0\n",
            "773     -121.52     39.51                30.0       3085.0           610.0      1688.0       575.0         2.3340             72200.0\n",
            "774     -118.77     34.27                 7.0       3074.0           794.0      1816.0       654.0         2.7137            196400.0\n",
            "775     -124.10     40.95                17.0       1485.0           345.0       823.0       316.0         1.8993             78400.0\n",
            "776     -117.15     32.80                27.0       1937.0           537.0      1211.0       482.0         2.7500             87500.0\n",
            "777     -118.37     34.16                11.0       2901.0           871.0      1659.0       789.0         3.1106            209400.0\n",
            "778     -122.50     37.74                44.0       2792.0           615.0      1640.0       579.0         4.0625            272800.0\n",
            "779     -120.92     39.56                48.0       1276.0           292.0       358.0       145.0         1.8750             66600.0\n",
            "780     -122.47     38.51                25.0        928.0           195.0       413.0       184.0         3.4904            196900.0\n",
            "781     -117.89     33.61                41.0       1790.0           361.0       540.0       284.0         6.0247            500001.0\n",
            "782     -121.35     38.40                11.0       2322.0           459.0      1373.0       424.0         3.1750             94400.0\n",
            "783     -117.92     34.12                32.0       2552.0           576.0      2161.0       548.0         2.9459            144400.0\n",
            "784     -118.31     33.80                30.0       3096.0           757.0      2048.0       704.0         3.1250            233300.0\n",
            "785     -120.35     37.04                37.0       1495.0           292.0       858.0       275.0         2.9306             46300.0\n",
            "786     -122.00     37.31                28.0       3811.0           585.0      1795.0       581.0         7.8383            372700.0\n",
            "787     -118.01     33.95                37.0       1165.0           210.0       627.0       221.0         4.6923            181000.0\n",
            "788     -118.07     34.09                40.0       1745.0           370.0      1293.0       357.0         2.5474            198100.0\n",
            "789     -117.50     33.92                28.0       2101.0           337.0      1061.0       348.0         4.5500            146800.0\n",
            "790     -123.74     40.66                25.0       2395.0           431.0       983.0       375.0         3.0469            136000.0\n",
            "791     -122.03     37.91                29.0       5438.0           871.0      2310.0       890.0         5.0362            275300.0\n",
            "792     -118.91     34.22                15.0       5644.0           757.0      2659.0       783.0         6.7559            312000.0\n",
            "793     -117.96     34.14                 9.0        907.0           207.0       619.0       194.0         3.9464            179600.0\n",
            "794     -121.80     38.01                46.0       2273.0           495.0      1088.0       447.0         2.2532            109400.0\n",
            "795     -122.29     37.53                35.0       2043.0           511.0      1089.0       504.0         3.0278            310600.0\n",
            "796     -122.14     37.67                34.0       3036.0           533.0      1366.0       500.0         4.2386            192300.0\n",
            "797     -117.85     33.79                52.0       2102.0           403.0       898.0       365.0         3.6827            236800.0\n",
            "798     -122.10     37.65                31.0       1797.0           327.0       796.0       319.0         4.4427            204500.0\n",
            "799     -122.12     37.91                34.0       5683.0           755.0      1962.0       723.0         8.3678            455300.0\n",
            "800     -119.29     36.32                27.0       1513.0           374.0       839.0       350.0         1.2012             64600.0\n",
            "801     -117.40     34.01                25.0       1858.0           366.0      1311.0       331.0         2.7083             87800.0\n",
            "802     -117.06     32.77                32.0       3888.0           827.0      3868.0       841.0         3.0755            166800.0\n",
            "803     -118.30     34.25                44.0       1442.0           285.0       859.0       292.0         4.5833            197300.0\n",
            "804     -122.23     40.15                14.0       2297.0           573.0      1637.0       551.0         1.7870             51600.0\n",
            "805     -117.91     33.82                32.0       2696.0           640.0      2330.0       626.0         2.9479            184600.0\n",
            "806     -122.53     37.97                44.0       3595.0           953.0      1831.0       910.0         2.6036            287500.0\n",
            "807     -121.79     37.00                28.0       2715.0           451.0      1154.0       386.0         4.8021            290400.0\n",
            "808     -118.46     33.99                44.0       1122.0           287.0       531.0       256.0         4.0598            335900.0\n",
            "809     -118.03     33.97                32.0       2468.0           552.0      1190.0       479.0         3.8275            238500.0\n",
            "810     -122.32     38.00                32.0       2275.0           397.0      1233.0       418.0         4.0437            162800.0\n",
            "811     -118.28     34.17                22.0       2664.0           651.0      1553.0       629.0         3.6354            256300.0\n",
            "812     -119.14     36.06                32.0       1838.0           441.0      1628.0       425.0         1.6452             41500.0\n",
            "813     -117.13     34.07                34.0       2405.0           541.0      1342.0       514.0         2.8031             86900.0\n",
            "814     -120.67     35.30                32.0       4202.0           986.0      2309.0       956.0         2.2165            231700.0\n",
            "815     -118.06     34.12                34.0       2941.0           558.0      1660.0       576.0         4.5667            271500.0\n",
            "816     -122.39     40.57                38.0        855.0           172.0       468.0       150.0         1.4091             84400.0\n",
            "817     -118.39     33.88                33.0       2543.0           439.0      1098.0       416.0         5.9683            495500.0\n",
            "818     -118.16     34.02                47.0       1055.0           298.0      1303.0       302.0         2.6964            138800.0\n",
            "819     -122.58     37.98                52.0       1180.0           216.0       467.0       197.0         4.9615            292200.0\n",
            "820     -118.02     33.92                35.0       2075.0           424.0      1312.0       396.0         3.7969            164800.0\n",
            "821     -119.70     34.40                25.0       1858.0           493.0       865.0       460.0         3.0938            312500.0\n",
            "822     -122.68     38.43                29.0        488.0            63.0       161.0        62.0         6.0774            334400.0\n",
            "823     -121.35     38.59                29.0       1285.0           193.0       460.0       206.0         5.3243            265700.0\n",
            "824     -121.98     37.27                25.0       3075.0           564.0      1633.0       543.0         5.2528            269400.0\n",
            "825     -118.08     34.58                 5.0       1113.0           186.0       631.0       168.0         4.1719            146600.0\n",
            "826     -118.25     34.06                20.0         41.0            17.0        87.0        25.0         1.5491            225000.0\n",
            "827     -122.25     37.82                26.0       3959.0          1196.0      1749.0      1217.0         3.0233            255000.0\n",
            "828     -119.05     34.35                39.0        950.0           300.0      1366.0       312.0         2.2443            146600.0\n",
            "829     -117.54     33.76                 5.0       5846.0          1035.0      3258.0      1001.0         4.7965            160800.0\n",
            "830     -118.21     33.88                31.0       1332.0           417.0      1405.0       363.0         2.0125            143000.0\n",
            "831     -117.20     32.79                29.0       1213.0           228.0       654.0       246.0         4.5987            255600.0\n",
            "832     -120.96     37.59                11.0       4236.0           879.0      2410.0       850.0         2.3849            122000.0\n",
            "833     -118.24     34.01                48.0        396.0            99.0       485.0       110.0         2.3750            107500.0\n",
            "834     -118.27     34.00                43.0       1638.0           434.0      1213.0       390.0         1.3403            110800.0\n",
            "835     -122.25     37.89                41.0       1125.0           195.0       356.0       181.0         6.1593            344000.0\n",
            "836     -117.30     34.09                40.0       1051.0           244.0       745.0       243.0         2.1842             75200.0\n",
            "837     -120.91     37.74                19.0       1690.0           327.0       855.0       296.0         3.2500            176700.0\n",
            "838     -122.16     38.90                33.0       1221.0           236.0       488.0       199.0         3.7574             92700.0\n",
            "839     -118.31     33.89                35.0       2144.0           423.0      1192.0       417.0         4.1458            231500.0\n",
            "840     -118.18     34.02                43.0        887.0           219.0       965.0       217.0         2.6250            133900.0\n",
            "841     -117.97     33.75                32.0       1564.0           270.0       973.0       290.0         3.7500            190400.0\n",
            "842     -117.95     35.08                 1.0         83.0            15.0        32.0        15.0         4.8750            141700.0\n",
            "843     -118.03     33.91                35.0       2323.0           406.0      1741.0       398.0         4.2437            164100.0\n",
            "844     -118.38     33.97                43.0       2715.0           458.0      1151.0       434.0         7.4897            362600.0\n",
            "845     -119.82     36.72                25.0       2581.0           528.0      1642.0       509.0         1.6435             52600.0\n",
            "846     -122.06     37.68                30.0       5367.0          1207.0      2667.0      1047.0         3.1796            170300.0\n",
            "847     -122.41     40.55                19.0       3753.0           761.0      1952.0       738.0         3.0954             86500.0\n",
            "848     -117.88     33.72                36.0       1910.0           352.0      1593.0       329.0         3.8900            170000.0\n",
            "849     -120.80     38.31                37.0       1341.0           256.0       533.0       242.0         3.2135            123600.0\n",
            "850     -118.10     34.17                48.0       1111.0           229.0       421.0       202.0         3.2813            268100.0\n",
            "851     -118.09     34.12                38.0       1713.0           285.0       779.0       286.0         5.6152            359900.0\n",
            "852     -118.31     34.06                47.0       3038.0          1533.0      4225.0      1472.0         1.6725            187500.0\n",
            "853     -118.02     33.80                16.0       2956.0           393.0      1379.0       429.0         8.4952            359600.0\n",
            "854     -121.94     37.28                18.0       4356.0          1334.0      1968.0      1245.0         3.6294            240000.0\n",
            "855     -117.95     34.08                37.0       1137.0           203.0       672.0       226.0         3.2969            189000.0\n",
            "856     -118.15     33.94                36.0       1948.0           341.0       992.0       363.0         4.2594            242400.0\n",
            "857     -121.81     37.99                22.0       2331.0           359.0      1086.0       340.0         5.1435            150800.0\n",
            "858     -121.81     38.58                17.0       1964.0           314.0       808.0       286.0         5.9629            286000.0\n",
            "859     -121.28     38.77                 6.0       3819.0           550.0      1738.0       587.0         5.8718            201400.0\n",
            "860     -118.43     34.01                43.0       1487.0           242.0       675.0       247.0         5.3403            489800.0\n",
            "861     -121.38     38.59                36.0       1239.0           237.0       764.0       222.0         3.0156            103000.0\n",
            "862     -117.68     35.65                15.0       2701.0           576.0      1245.0       513.0         3.3269             81900.0\n",
            "863     -117.69     33.58                 8.0       2887.0           351.0      1176.0       351.0        10.3953            500001.0\n",
            "864     -118.24     34.00                23.0        588.0           157.0       716.0       173.0         1.2056             87500.0\n",
            "865     -117.70     33.60                25.0       1321.0           295.0       396.0       278.0         3.1131             77100.0\n",
            "866     -118.38     33.86                12.0       4235.0           735.0      1798.0       683.0         6.4242            365500.0\n",
            "867     -117.05     32.61                31.0       4033.0           715.0      2585.0       715.0         3.5096            139900.0\n",
            "868     -121.38     38.64                19.0       4563.0          1069.0      2256.0       926.0         2.1472            143400.0\n",
            "869     -117.10     32.74                20.0       3854.0          1046.0      3555.0       966.0         1.6747            100000.0\n",
            "870     -122.47     37.76                48.0       2064.0           484.0      1055.0       467.0         2.8711            329600.0\n",
            "871     -117.84     33.76                16.0        238.0            51.0        93.0        50.0         5.3750            215700.0\n",
            "872     -122.26     37.88                52.0       2604.0           837.0      1798.0       769.0         1.7250            287500.0\n",
            "873     -118.40     33.87                45.0       2181.0           505.0       965.0       471.0         5.3816            500001.0\n",
            "874     -122.37     38.33                29.0       1868.0           291.0       764.0       284.0         4.8250            195100.0\n",
            "875     -117.98     34.01                27.0       2643.0           418.0      1344.0       381.0         5.7057            262100.0\n",
            "876     -122.70     38.45                26.0       2011.0           557.0       855.0       530.0         1.1250            233300.0\n",
            "877     -118.41     33.97                44.0       2789.0           503.0      3732.0       474.0         4.6176            352300.0\n",
            "878     -121.92     37.30                36.0       2088.0           358.0       772.0       347.0         4.2762            310100.0\n",
            "879     -122.11     37.37                49.0       1068.0           190.0       410.0       171.0         7.2045            500001.0\n",
            "880     -121.87     37.39                 9.0       2522.0           547.0      1591.0       481.0         4.9091            259700.0\n",
            "881     -120.18     39.14                25.0       2171.0           386.0       248.0       116.0         3.0375            171900.0\n",
            "882     -117.06     32.76                36.0       2785.0           577.0      1275.0       527.0         2.3015            156800.0\n",
            "883     -117.24     33.93                12.0       7105.0          1447.0      4520.0      1333.0         3.2705            113200.0\n",
            "884     -118.25     33.98                47.0        617.0           162.0       754.0       144.0         2.2969            116700.0\n",
            "885     -117.80     33.68                14.0       2635.0           516.0      1150.0       499.0         4.4391            306700.0\n",
            "886     -119.78     36.37                41.0        831.0           149.0       443.0       146.0         3.1406            100000.0\n",
            "887     -117.04     32.70                 7.0       9311.0          1703.0      7302.0      1694.0         4.4190            156900.0\n",
            "888     -118.29     34.00                 6.0       1487.0           468.0      1509.0       403.0         1.4639            112500.0\n",
            "889     -118.36     34.06                52.0       2130.0           455.0       921.0       395.0         2.9605            500001.0\n",
            "890     -122.42     37.62                39.0       1355.0           214.0       682.0       246.0         6.3443            324700.0\n",
            "891     -118.42     34.25                37.0       1545.0           341.0      1909.0       352.0         3.6791            148100.0\n",
            "892     -121.10     38.95                17.0       1475.0           403.0       943.0       363.0         2.1287             55300.0\n",
            "893     -117.74     34.05                27.0        852.0           237.0      1024.0       221.0         2.1141            110900.0\n",
            "894     -122.39     37.74                52.0        126.0            24.0        37.0        27.0        10.2264            225000.0\n",
            "895     -118.37     34.08                52.0       2946.0           695.0      1258.0       650.0         3.9783            374100.0\n",
            "896     -122.08     37.87                24.0       6130.0          1359.0      1750.0      1286.0         2.9167            102700.0\n",
            "897     -118.44     34.20                28.0       1732.0           435.0      1198.0       417.0         2.9219            241300.0\n",
            "898     -121.37     38.56                19.0       6308.0          1167.0      3012.0      1112.0         2.9464            113500.0\n",
            "899     -122.10     37.93                20.0      10212.0          1424.0      4083.0      1374.0         8.0390            382200.0\n",
            "900     -117.22     32.95                 4.0      18123.0          3173.0      7301.0      2964.0         6.3570            322500.0\n",
            "901     -122.13     37.46                31.0       2247.0           573.0      1711.0       511.0         3.2642            185600.0\n",
            "902     -122.30     38.29                20.0       1789.0           434.0      1113.0       398.0         2.4728            139700.0\n",
            "903     -123.41     40.61                17.0        769.0           205.0       301.0       126.0         1.7875             55000.0\n",
            "904     -120.77     37.01                28.0       1689.0           378.0      1057.0       267.0         3.1250            156300.0\n",
            "905     -118.80     34.41                45.0       1610.0           406.0      1148.0       347.0         2.7000            120400.0\n",
            "906     -119.27     34.27                52.0       1577.0           343.0       836.0       335.0         3.5893            206600.0\n",
            "907     -122.47     37.74                52.0       3797.0           668.0      1633.0       658.0         5.6787            363600.0\n",
            "908     -118.26     34.13                25.0       3208.0          1111.0      2843.0      1005.0         2.6673            218100.0\n",
            "909     -119.77     36.76                40.0       2009.0           519.0      2219.0       505.0         1.2101             49100.0\n",
            "910     -124.16     41.92                19.0       1668.0           324.0       841.0       283.0         2.1336             75000.0\n",
            "911     -119.03     36.13                24.0       2259.0           408.0      1169.0       395.0         1.7106             95500.0\n",
            "912     -122.18     37.79                41.0       1411.0           233.0       626.0       214.0         7.0875            240700.0\n",
            "913     -123.85     39.39                23.0       4671.0           912.0      2095.0       857.0         3.1840            140500.0\n",
            "914     -122.70     38.33                16.0       1244.0           242.0       696.0       236.0         3.6369            158700.0\n",
            "915     -118.10     33.85                36.0        956.0           159.0       416.0       157.0         4.6429            223700.0\n",
            "916     -117.99     34.08                35.0       1032.0           207.0       954.0       191.0         2.8906            134800.0\n",
            "917     -121.93     37.73                 8.0        831.0           231.0       404.0       224.0         3.3750            350000.0\n",
            "918     -118.44     34.23                43.0       2257.0           429.0      1418.0       442.0         4.5278            181800.0\n",
            "919     -118.32     34.26                24.0       5106.0          1010.0      2310.0       957.0         4.4375            191500.0\n",
            "920     -118.15     34.11                39.0       2618.0           582.0      1314.0       532.0         3.5875            309300.0\n",
            "921     -117.74     34.04                27.0       2215.0           440.0      1987.0       449.0         3.0429            129600.0\n",
            "922     -121.35     38.28                17.0       2756.0           557.0      1986.0       530.0         3.2234             82000.0\n",
            "923     -122.75     39.01                17.0       4162.0           967.0       889.0       414.0         3.4187            200500.0\n",
            "924     -120.66     35.46                17.0       3748.0           609.0      1860.0       612.0         4.5179            225600.0\n",
            "925     -122.62     38.92                13.0        520.0           115.0       249.0       109.0         1.8417             84700.0\n",
            "926     -117.22     34.26                16.0       8020.0          1432.0      1749.0       540.0         4.9716            162500.0\n",
            "927     -117.92     33.75                 8.0       2325.0           598.0      1511.0       565.0         3.3629            137500.0\n",
            "928     -122.28     37.81                36.0       2914.0           562.0      1236.0       509.0         2.4464            102100.0\n",
            "929     -118.12     33.81                37.0       1798.0           331.0       860.0       340.0         4.2143            228500.0\n",
            "930     -119.19     36.06                29.0       1815.0           376.0      1421.0       339.0         1.9091             71300.0\n",
            "931     -117.97     34.07                22.0       1438.0           364.0      1325.0       335.0         2.7802            162500.0\n",
            "932     -118.09     34.03                27.0       3797.0           597.0      2043.0       614.0         5.5000            276800.0\n",
            "933     -121.93     37.28                10.0       3163.0           832.0      1537.0       797.0         4.1674            214000.0\n",
            "934     -122.65     38.96                27.0       2143.0           580.0       898.0       367.0         1.6769             63200.0\n",
            "935     -122.49     37.75                48.0       2387.0           424.0      1041.0       408.0         3.7562            321200.0\n",
            "936     -122.31     37.56                45.0       1792.0           301.0       829.0       318.0         4.9013            330100.0\n",
            "937     -121.27     38.14                33.0       3557.0           894.0      2659.0       894.0         2.2883             86900.0\n",
            "938     -118.39     34.23                18.0       3405.0           831.0      3001.0       795.0         3.0083            181900.0\n",
            "939     -118.39     34.07                33.0       5301.0          1281.0      2243.0      1159.0         4.2386            500001.0\n",
            "940     -117.15     32.92                16.0       2366.0           392.0      1482.0       407.0         4.9024            182900.0\n",
            "941     -122.09     37.38                34.0       1959.0           342.0       849.0       357.0         6.2884            414700.0\n",
            "942     -117.06     32.61                23.0       1630.0           362.0      1267.0       418.0         2.5625            131100.0\n",
            "943     -122.33     37.91                36.0       1954.0           513.0      1437.0       440.0         1.1250             93800.0\n",
            "944     -116.92     32.76                 7.0       1659.0           237.0       862.0       242.0         5.2741            249400.0\n",
            "945     -116.00     34.12                32.0       3163.0           712.0      1358.0       544.0         2.1250             57700.0\n",
            "946     -117.69     33.60                19.0       3562.0           439.0      1584.0       470.0         6.4211            288100.0\n",
            "947     -117.23     33.91                 9.0      11654.0          2100.0      7596.0      2127.0         4.0473            127200.0\n",
            "948     -117.18     34.04                41.0       1766.0           288.0       753.0       278.0         4.9125            140700.0\n",
            "949     -121.33     38.28                14.0        980.0           171.0       659.0       183.0         4.4306            170100.0\n",
            "950     -121.88     37.32                38.0       1787.0           508.0      2113.0       530.0         2.6386            177600.0\n",
            "951     -122.52     37.97                33.0        563.0           194.0       265.0       169.0         2.7500            231300.0\n",
            "952     -117.77     34.06                27.0       2178.0           629.0      2379.0       591.0         1.9766            108000.0\n",
            "953     -121.01     37.72                23.0       1373.0           264.0       677.0       245.0         2.5486            161100.0\n",
            "954     -117.33     33.87                14.0       2300.0           335.0      1001.0       311.0         5.1045            161300.0\n",
            "955     -118.24     33.97                37.0       1212.0           314.0      1403.0       279.0         2.5536            117200.0\n",
            "956     -117.80     33.89                25.0       3121.0           381.0      1278.0       389.0         7.0217            357900.0\n",
            "957     -119.62     36.56                30.0       1722.0           372.0      1467.0       403.0         1.8878             51600.0\n",
            "958     -122.16     37.69                36.0       1118.0           219.0       625.0       228.0         3.7813            192200.0\n",
            "959     -117.97     33.80                35.0       2985.0           474.0      1614.0       453.0         5.4631            225600.0\n",
            "960     -120.87     37.76                16.0       2022.0           413.0      1126.0       408.0         2.5655            116400.0\n",
            "961     -120.46     37.31                26.0       3170.0           572.0      1524.0       565.0         3.4800             95300.0\n",
            "962     -118.23     34.14                39.0        277.0            89.0       182.0        91.0         2.3958            175000.0\n",
            "963     -121.07     38.66                22.0       1831.0           274.0       813.0       269.0         4.6394            173400.0\n",
            "964     -120.09     36.95                16.0       3222.0           511.0      1425.0       503.0         4.1544            119400.0\n",
            "965     -118.21     33.96                38.0       2090.0           519.0      1871.0       504.0         2.4688            169000.0\n",
            "966     -122.63     38.23                37.0       1966.0           348.0       875.0       381.0         4.0703            223800.0\n",
            "967     -119.40     36.25                25.0       1696.0           279.0       909.0       291.0         2.3000            132800.0\n",
            "968     -117.38     33.21                31.0       1502.0           367.0      1514.0       342.0         2.6442            103300.0\n",
            "969     -117.25     32.80                37.0       1096.0           260.0       490.0       267.0         3.2663            270600.0\n",
            "970     -122.23     40.57                18.0       1633.0           243.0       750.0       252.0         5.1585            150800.0\n",
            "971     -121.23     38.79                45.0        907.0           176.0       463.0       190.0         2.2292             92000.0\n",
            "972     -121.55     40.48                14.0       2413.0           524.0       805.0       329.0         2.7857             77400.0\n",
            "973     -117.89     33.92                34.0       1473.0           312.0      1025.0       315.0         3.8333            170400.0\n",
            "974     -117.23     32.72                43.0        952.0           209.0       392.0       210.0         2.1635            244200.0\n",
            "975     -117.92     33.79                35.0       1785.0           288.0      1033.0       297.0         4.5739            190500.0\n",
            "976     -117.58     34.11                14.0      11635.0          2055.0      6443.0      2009.0         4.7547            157600.0\n",
            "977     -120.85     38.69                18.0       5928.0          1097.0      2697.0      1096.0         3.4872            141400.0\n",
            "978     -121.53     38.48                 5.0      27870.0          5027.0     11935.0      4855.0         4.8811            212200.0\n",
            "979     -117.21     32.82                31.0       2035.0           383.0       866.0       360.0         3.8529            212000.0\n",
            "980     -117.35     34.13                26.0       3920.0           570.0      1862.0       552.0         3.7286            132000.0\n",
            "981     -118.17     33.79                30.0       1349.0           519.0      2646.0       552.0         1.9318            115900.0\n",
            "982     -118.30     34.26                37.0       2824.0           633.0      1619.0       573.0         3.5568            184500.0\n",
            "983     -118.02     33.83                16.0       1139.0           328.0       665.0       290.0         3.2933            260000.0\n",
            "984     -116.99     33.01                11.0       1412.0           185.0       529.0       166.0         7.7517            500001.0\n",
            "985     -122.56     38.01                21.0       2144.0           400.0       840.0       398.0         4.6000            239500.0\n",
            "986     -118.15     34.10                39.0       3856.0           867.0      1847.0       830.0         3.4559            364900.0\n",
            "987     -117.93     33.73                27.0       3662.0           834.0      3009.0       743.0         3.9816            179500.0\n",
            "988     -121.09     38.03                21.0       2064.0           342.0      1021.0       359.0         4.5170            152200.0\n",
            "989     -116.66     33.09                24.0       1378.0           272.0       532.0       188.0         1.5909            221900.0\n",
            "990     -118.26     33.83                24.0       3059.0           729.0      2064.0       629.0         3.5518            184600.0\n",
            "991     -117.94     33.93                14.0        999.0           232.0      1037.0       244.0         2.7125            166100.0\n",
            "992     -116.93     32.83                19.0       3038.0           529.0      1463.0       509.0         3.9440            172500.0\n",
            "993     -122.29     37.85                52.0        477.0           119.0       218.0       106.0         2.5682            120000.0\n",
            "994     -122.48     37.67                14.0       3395.0          1059.0      2258.0       945.0         2.9640            319700.0\n",
            "995     -119.33     36.31                15.0       1472.0           228.0       892.0       257.0         5.3909            113000.0\n",
            "996     -118.41     34.21                35.0       1789.0           292.0       897.0       267.0         5.5920            239900.0\n",
            "997     -119.50     34.35                39.0        308.0            38.0        59.0        21.0        11.7794            500001.0\n",
            "998     -118.33     34.11                48.0       1601.0           464.0       784.0       461.0         3.0642            342900.0\n",
            "999     -118.30     34.10                29.0       3403.0          1367.0      3432.0      1174.0         1.7083            166700.0\n",
            "1000    -119.75     34.40                31.0       1997.0           299.0       826.0       301.0         6.8927            500001.0\n",
            "1001    -120.94     39.32                14.0       3120.0           595.0      1569.0       556.0         3.5385            157400.0\n",
            "1002    -117.68     35.61                 9.0       4241.0           832.0      1929.0       742.0         3.5988             84500.0\n",
            "1003    -122.27     38.12                45.0       4423.0          1001.0      2109.0       874.0         2.6937            111800.0\n",
            "1004    -118.21     34.11                32.0       2759.0           499.0      1661.0       533.0         4.3812            228200.0\n",
            "1005    -117.23     33.10                 4.0       1862.0           291.0       685.0       248.0         7.7450            237400.0\n",
            "1006    -119.46     35.14                30.0       2943.0           697.0      1565.0       584.0         2.5313             45800.0\n",
            "1007    -119.78     36.76                50.0       1343.0           322.0      1063.0       342.0         1.7500             49800.0\n",
            "1008    -117.81     33.66                20.0       2851.0           490.0      1192.0       463.0         5.8752            274200.0\n",
            "1009    -119.29     34.31                25.0       1092.0           190.0       702.0       215.0         3.9063            192700.0\n",
            "1010    -122.41     37.61                46.0       2975.0           643.0      1479.0       577.0         3.8214            273600.0\n",
            "1011    -120.32     37.29                38.0        576.0           130.0       478.0       112.0         2.3382             59600.0\n",
            "1012    -118.37     34.16                40.0       1973.0           382.0       774.0       352.0         4.4122            282300.0\n",
            "1013    -122.05     37.05                41.0       2422.0           502.0       915.0       366.0         4.1679            201300.0\n",
            "1014    -118.46     34.03                52.0        523.0           124.0       317.0       130.0         2.2794            337500.0\n",
            "1015    -117.12     32.76                43.0       2336.0           644.0      1203.0       614.0         2.3594            127800.0\n",
            "1016    -122.04     37.57                12.0       5719.0          1064.0      3436.0      1057.0         5.2879            231200.0\n",
            "1017    -121.97     37.36                34.0        884.0           153.0       534.0       154.0         6.0116            271200.0\n",
            "1018    -121.28     38.53                18.0        224.0            38.0        95.0        41.0         3.1042            165000.0\n",
            "1019    -119.09     35.30                 3.0       2821.0           519.0      1353.0       495.0         3.6852            109800.0\n",
            "1020    -121.75     36.91                42.0       1368.0           468.0      2312.0       484.0         2.5599            151400.0\n",
            "1021    -121.86     38.00                 4.0       4075.0           927.0      2239.0       849.0         3.5857            165200.0\n",
            "1022    -118.53     34.45                26.0        828.0           149.0       508.0       158.0         5.2374            185500.0\n",
            "1023    -117.94     33.81                24.0       4602.0          1131.0      3003.0      1014.0         3.6771            172200.0\n",
            "1024    -119.84     34.45                26.0       4424.0           616.0      1839.0       601.0         6.3654            331200.0\n",
            "1025    -118.24     33.91                37.0       1607.0           377.0      1526.0       375.0         1.7158             94300.0\n",
            "1026    -117.06     33.14                27.0       3819.0           674.0      2447.0       717.0         3.8185            137200.0\n",
            "1027    -120.98     37.67                33.0       1433.0           298.0       824.0       302.0         2.7621            109100.0\n",
            "1028    -117.74     34.09                30.0       3199.0           591.0      2192.0       563.0         3.4871            136400.0\n",
            "1029    -118.18     34.01                39.0        322.0            82.0       319.0        90.0         2.6364            148800.0\n",
            "1030    -118.24     33.89                32.0       1132.0           266.0      1211.0       279.0         2.1838             98300.0\n",
            "1031    -123.08     40.40                10.0        365.0           102.0       140.0        49.0         1.7969             37500.0\n",
            "1032    -117.32     34.07                52.0       1226.0           269.0       693.0       272.0         1.9963             76900.0\n",
            "1033    -118.24     33.85                25.0       9594.0          1489.0      5237.0      1496.0         5.9684            193300.0\n",
            "1034    -122.23     37.78                52.0        472.0           146.0       415.0       126.0         2.6429             71300.0\n",
            "1035    -121.18     38.78                13.0       3480.0           528.0      1432.0       532.0         6.1642            277800.0\n",
            "1036    -118.10     33.91                29.0        505.0           113.0       411.0       113.0         2.6397            164400.0\n",
            "1037    -121.97     38.04                38.0       2505.0           554.0      1595.0       498.0         2.5833             83500.0\n",
            "1038    -118.47     34.00                41.0       2331.0           636.0      1839.0       537.0         2.2880            263500.0\n",
            "1039    -119.31     36.39                32.0       2293.0           466.0      1538.0       468.0         1.9342             68600.0\n",
            "1040    -122.17     37.71                38.0        890.0           200.0       481.0       198.0         3.2440            179800.0\n",
            "1041    -122.49     37.68                35.0       2405.0           461.0      1583.0       471.0         5.0659            238000.0\n",
            "1042    -121.30     37.98                39.0       3375.0           659.0      1388.0       631.0         2.6364             93800.0\n",
            "1043    -121.37     38.57                22.0       4899.0           847.0      1701.0       826.0         5.2449            387000.0\n",
            "1044    -122.08     37.61                 6.0       2605.0           474.0      1568.0       433.0         5.0406            261400.0\n",
            "1045    -117.11     32.57                32.0       2723.0           586.0      1702.0       562.0         3.3371            140500.0\n",
            "1046    -122.09     37.40                22.0       1489.0           436.0       662.0       470.0         3.5179            197200.0\n",
            "1047    -122.01     36.98                27.0       2820.0           730.0      1511.0       745.0         2.5890            242400.0\n",
            "1048    -118.25     34.00                36.0       1033.0           267.0      1112.0       229.0         1.7237            105800.0\n",
            "1049    -117.83     33.66                16.0       1574.0           385.0       515.0       363.0         5.3423            291700.0\n",
            "1050    -121.96     37.74                 2.0        200.0            20.0        25.0         9.0        15.0001            350000.0\n",
            "1051    -119.81     36.73                51.0        956.0           196.0       662.0       180.0         2.1010             56700.0\n",
            "1052    -118.62     34.06                25.0       3546.0           584.0      1530.0       601.0         7.4001            500001.0\n",
            "1053    -122.35     37.96                35.0       1326.0           346.0      1023.0       295.0         2.0724             97700.0\n",
            "1054    -119.06     36.10                21.0       1344.0           249.0       868.0       221.0         2.5893             63600.0\n",
            "1055    -122.47     37.75                52.0       1598.0           285.0       689.0       265.0         4.6071            337400.0\n",
            "1056    -122.54     37.90                41.0       3170.0           622.0      1091.0       528.0         3.7813            389200.0\n",
            "1057    -119.73     36.76                30.0       1548.0           282.0       886.0       311.0         3.1000             71300.0\n",
            "1058    -122.03     36.96                40.0        584.0           126.0       316.0       139.0         3.5938            243500.0\n",
            "1059    -119.75     36.78                33.0       1145.0           197.0       508.0       198.0         2.3333             81300.0\n",
            "1060    -117.30     33.06                24.0       2171.0           511.0       870.0       442.0         3.1940            276300.0\n",
            "1061    -121.99     36.96                16.0        875.0           201.0       300.0       157.0         2.6250            377300.0\n",
            "1062    -120.73     39.63                17.0       1791.0           356.0       432.0       190.0         3.8826             92400.0\n",
            "1063    -118.48     34.03                19.0        902.0           284.0       414.0       272.0         1.3333            310000.0\n",
            "1064    -118.22     33.95                36.0       1679.0           483.0      2249.0       487.0         2.8167            160400.0\n",
            "1065    -118.24     33.97                43.0       1357.0           349.0      1657.0       331.0         2.0819            111800.0\n",
            "1066    -117.82     35.03                30.0       2555.0           510.0      1347.0       467.0         3.3693             71800.0\n",
            "1067    -117.02     32.70                18.0       1643.0           283.0      1134.0       269.0         5.1769            133000.0\n",
            "1068    -122.35     37.94                47.0       1275.0           275.0       844.0       273.0         2.8967             95600.0\n",
            "1069    -119.80     36.78                50.0       1818.0           374.0       737.0       338.0         2.2614             73000.0\n",
            "1070    -122.19     37.48                38.0       1300.0           269.0       608.0       292.0         4.5568            286900.0\n",
            "1071    -122.38     37.59                31.0       3052.0           844.0      1581.0       788.0         3.0744            457700.0\n",
            "1072    -122.15     37.75                44.0       1938.0           399.0       946.0       331.0         3.2250            135800.0\n",
            "1073    -119.35     36.19                 6.0        958.0           226.0       734.0       230.0         1.0349             67800.0\n",
            "1074    -120.45     34.95                 7.0       1479.0           532.0      1057.0       459.0         2.2538            162500.0\n",
            "1075    -122.28     38.29                19.0        531.0           112.0       139.0        80.0         1.9875            325000.0\n",
            "1076    -122.26     37.84                49.0        713.0           202.0       462.0       189.0         1.0250            118800.0\n",
            "1077    -122.30     37.81                52.0        572.0           109.0       274.0        82.0         1.8516             85000.0\n",
            "1078    -118.22     33.90                22.0        312.0           107.0       583.0       119.0         1.9423             98400.0\n",
            "1079    -117.67     33.64                11.0       2722.0           554.0      1565.0       508.0         5.1645            164100.0\n",
            "1080    -122.02     37.01                20.0       1005.0           138.0       345.0       129.0        10.0968            500001.0\n",
            "1081    -117.38     33.19                17.0        353.0           112.0       359.0       118.0         1.5625            162500.0\n",
            "1082    -118.01     34.08                30.0       2281.0           522.0      1969.0       500.0         3.6531            166300.0\n",
            "1083    -118.60     34.13                20.0      14291.0          1934.0      5452.0      1875.0         9.1232            472000.0\n",
            "1084    -118.52     34.20                19.0       4315.0          1304.0      2490.0      1222.0         2.6437            195000.0\n",
            "1085    -118.42     34.27                35.0       2700.0           702.0      3444.0       679.0         1.4867            124000.0\n",
            "1086    -122.08     37.71                35.0       2211.0           350.0      1004.0       365.0         5.4639            238600.0\n",
            "1087    -117.65     33.57                 5.0       1998.0           500.0      1185.0       446.0         4.3542            195600.0\n",
            "1088    -120.54     37.68                18.0        335.0            76.0       189.0        67.0         1.2273             87500.0\n",
            "1089    -118.31     34.05                40.0       1667.0           365.0      1161.0       384.0         3.1406            417600.0\n",
            "1090    -122.42     37.60                34.0       3562.0           565.0      1542.0       563.0         5.8783            405100.0\n",
            "1091    -118.18     33.98                38.0       1477.0           374.0      1514.0       408.0         2.5703            178600.0\n",
            "1092    -121.25     36.32                12.0       4776.0          1082.0      4601.0      1066.0         2.9184            100500.0\n",
            "1093    -118.17     34.69                12.0       4881.0           803.0      2188.0       724.0         4.1667            171900.0\n",
            "1094    -120.33     39.30                16.0        868.0           178.0        44.0        21.0         3.0000            175000.0\n",
            "1095    -118.38     34.06                29.0       3946.0          1008.0      1676.0       876.0         2.7824            450000.0\n",
            "1096    -119.78     36.73                52.0       1377.0           319.0      1280.0       259.0         1.2344             43300.0\n",
            "1097    -118.33     33.97                44.0       2526.0           579.0      1423.0       573.0         2.5363            158800.0\n",
            "1098    -118.37     34.06                36.0       1661.0           395.0       690.0       365.0         3.3438            500001.0\n",
            "1099    -119.00     35.39                51.0       1373.0           284.0       648.0       300.0         2.8295             72100.0\n",
            "1100    -117.95     33.87                35.0       1854.0           383.0      1115.0       381.0         4.4784            185200.0\n",
            "1101    -118.38     34.58                18.0       1859.0           375.0       913.0       372.0         4.3456            148900.0\n",
            "1102    -118.29     34.08                25.0       2459.0           823.0      2635.0       763.0         2.4000            173900.0\n",
            "1103    -120.97     37.68                16.0       2493.0           535.0      1370.0       504.0         3.3368            121200.0\n",
            "1104    -122.28     37.87                52.0        589.0           132.0       288.0       131.0         3.5156            200000.0\n",
            "1105    -118.14     33.88                41.0       1531.0           343.0      1119.0       341.0         4.3646            161400.0\n",
            "1106    -122.06     37.38                20.0       4293.0          1272.0      2389.0      1210.0         4.2719            270800.0\n",
            "1107    -118.54     34.27                28.0       2309.0           300.0       931.0       302.0         6.7415            348200.0\n",
            "1108    -117.88     33.84                25.0       1781.0           349.0       918.0       378.0         3.9286            262700.0\n",
            "1109    -118.30     34.19                52.0       1704.0           277.0       746.0       262.0         4.7986            326100.0\n",
            "1110    -117.84     33.80                35.0       1490.0           251.0       629.0       257.0         4.3661            222100.0\n",
            "1111    -121.27     38.65                25.0       2787.0           601.0      1247.0       522.0         2.9016            159800.0\n",
            "1112    -117.88     33.87                21.0       1519.0           388.0      1203.0       366.0         3.2083            145300.0\n",
            "1113    -119.88     34.42                22.0       2367.0           492.0      1333.0       488.0         3.6304            312200.0\n",
            "1114    -118.48     34.01                31.0       1829.0           458.0       719.0       392.0         4.4000            353800.0\n",
            "1115    -116.95     33.86                 1.0          6.0             2.0         8.0         2.0         1.6250             55000.0\n",
            "1116    -117.67     33.51                17.0       2112.0           480.0      1893.0       433.0         4.0388            120400.0\n",
            "1117    -118.35     34.04                38.0       1626.0           375.0      1019.0       372.0         2.3687            146800.0\n",
            "1118    -124.16     40.80                52.0       2167.0           480.0       908.0       451.0         1.6111             74700.0\n",
            "1119    -118.35     34.05                33.0       2880.0           836.0      1416.0       736.0         2.6781            328800.0\n",
            "1120    -119.08     34.35                24.0       3663.0           828.0      2718.0       778.0         3.2757            186000.0\n",
            "1121    -122.51     37.78                45.0       2564.0           499.0      1056.0       460.0         4.7328            351100.0\n",
            "1122    -118.36     34.14                30.0       1376.0           317.0       629.0       320.0         3.6823            295200.0\n",
            "1123    -121.96     37.55                 4.0       3746.0           993.0      1606.0       838.0         4.1387            162500.0\n",
            "1124    -117.19     32.77                30.0       2747.0           640.0      3185.0       657.0         3.7650            238000.0\n",
            "1125    -118.09     33.89                42.0       1150.0           215.0       708.0       204.0         3.6875            171500.0\n",
            "1126    -121.76     36.90                44.0        919.0           309.0      1321.0       301.0         2.0775            121400.0\n",
            "1127    -118.14     33.92                35.0       2378.0           559.0      1799.0       546.0         3.9327            190500.0\n",
            "1128    -119.06     34.36                52.0       1239.0           320.0       934.0       298.0         1.8618            183300.0\n",
            "1129    -118.12     34.16                52.0       2218.0           437.0      1211.0       422.0         5.0237            241900.0\n",
            "1130    -117.80     34.15                14.0       7876.0          1253.0      3699.0      1162.0         5.5423            248700.0\n",
            "1131    -120.04     39.24                30.0       2369.0           469.0       510.0       213.0         2.6500            123800.0\n",
            "1132    -121.47     38.48                25.0       2969.0           551.0      1745.0       487.0         2.6382             76200.0\n",
            "1133    -122.27     37.54                15.0       2126.0           310.0       905.0       306.0         8.9083            500001.0\n",
            "1134    -122.02     37.54                31.0       1240.0           264.0       719.0       236.0         3.5350            210300.0\n",
            "1135    -121.38     38.40                15.0       4155.0           637.0      1722.0       616.0         4.8831            154400.0\n",
            "1136    -122.04     37.35                20.0       2016.0           313.0       767.0       310.0         6.8370            383000.0\n",
            "1137    -117.12     32.76                41.0       1469.0           421.0       803.0       395.0         2.1856            120500.0\n",
            "1138    -117.34     34.18                 7.0       2914.0           481.0      1584.0       499.0         4.6312            124900.0\n",
            "1139    -121.02     37.67                32.0       3951.0           797.0      1916.0       740.0         2.6722            111500.0\n",
            "1140    -119.06     34.38                33.0       1465.0           262.0       731.0       266.0         3.9464            230300.0\n",
            "1141    -118.16     33.91                35.0       1403.0           338.0      1415.0       367.0         3.0967            144000.0\n",
            "1142    -121.92     37.34                52.0       2584.0           491.0      1087.0       433.0         4.4000            391300.0\n",
            "1143    -119.03     34.21                11.0       4528.0           729.0      2398.0       684.0         5.3044            319000.0\n",
            "1144    -121.96     37.34                37.0        663.0           127.0       293.0       132.0         3.7813            247800.0\n",
            "1145    -114.61     33.62                16.0       1187.0           261.0      1115.0       242.0         2.1759             61500.0\n",
            "1146    -117.27     33.15                 4.0      23915.0          4135.0     10877.0      3958.0         4.6357            244900.0\n",
            "1147    -121.37     38.62                27.0       1743.0           380.0       697.0       368.0         1.6678            166100.0\n",
            "1148    -118.18     33.82                43.0       2210.0           469.0      1042.0       418.0         3.5000            216700.0\n",
            "1149    -118.02     33.77                33.0       2683.0           436.0      1520.0       456.0         5.0091            211500.0\n",
            "1150    -120.05     34.47                21.0       1241.0           248.0       746.0       211.0         3.8056            425000.0\n",
            "1151    -118.25     34.01                45.0        782.0           270.0      1030.0       235.0         1.0898             93400.0\n",
            "1152    -119.54     38.51                14.0       1250.0           272.0       721.0       234.0         2.3500             95700.0\n",
            "1153    -117.27     34.50                 7.0       2045.0           342.0       878.0       292.0         6.0296            194100.0\n",
            "1154    -121.96     36.99                23.0       3209.0           748.0      1423.0       666.0         2.7375            238000.0\n",
            "1155    -118.19     34.04                45.0        963.0           234.0      1194.0       239.0         2.1806            134900.0\n",
            "1156    -121.28     37.95                49.0       1200.0           364.0      1448.0       318.0         1.1094             52500.0\n",
            "1157    -117.96     33.79                29.0       1813.0           501.0      1170.0       482.0         2.0677            214500.0\n",
            "1158    -118.44     34.17                25.0       4966.0          1134.0      1941.0       958.0         3.8081            286700.0\n",
            "1159    -122.31     37.52                35.0       1817.0           262.0       659.0       262.0         6.8336            457200.0\n",
            "1160    -117.97     33.92                24.0       2017.0           416.0       900.0       436.0         3.0000            251400.0\n",
            "1161    -117.71     34.05                20.0       2281.0           444.0      1545.0       481.0         2.5735            130500.0\n",
            "1162    -118.42     34.02                26.0       2664.0           842.0      1745.0       789.0         3.4269            301900.0\n",
            "1163    -120.25     37.11                20.0       2062.0           466.0      1285.0       456.0         1.5319             50500.0\n",
            "1164    -121.35     38.51                29.0       2337.0           391.0      1054.0       352.0         4.2206            157700.0\n",
            "1165    -120.25     38.55                15.0       4403.0           891.0      1103.0       433.0         3.0125            111700.0\n",
            "1166    -118.02     34.02                21.0       5992.0           986.0      2647.0       969.0         5.2405            302400.0\n",
            "1167    -120.66     35.26                15.0       5540.0          1319.0      2383.0      1165.0         2.2656            226200.0\n",
            "1168    -120.66     40.42                35.0       1450.0           325.0       717.0       297.0         2.5074             66400.0\n",
            "1169    -118.15     35.06                15.0       1069.0           296.0       569.0       263.0         2.0441             73300.0\n",
            "1170    -122.51     37.78                47.0       2496.0           494.0      1201.0       454.0         4.0353            342200.0\n",
            "1171    -120.46     34.65                22.0       1298.0           358.0      1272.0       363.0         1.6488            117500.0\n",
            "1172    -117.93     33.93                25.0       2431.0           534.0      1702.0       523.0         3.7933            184400.0\n",
            "1173    -118.21     33.97                49.0       1409.0           313.0      1268.0       317.0         3.9408            170600.0\n",
            "1174    -120.18     34.62                25.0       1337.0           219.0       671.0       225.0         3.1912            226400.0\n",
            "1175    -122.14     37.43                18.0       2060.0           563.0      1144.0       600.0         4.0686            378600.0\n",
            "1176    -123.11     40.60                23.0        708.0           202.0       316.0       136.0         1.1602             65000.0\n",
            "1177    -117.94     33.84                25.0       4016.0           831.0      2166.0       774.0         3.1884            135400.0\n",
            "1178    -122.75     38.48                 4.0       6487.0          1112.0      2958.0      1131.0         4.5417            197400.0\n",
            "1179    -121.61     37.15                16.0       5498.0           729.0      2051.0       694.0         7.8601            416300.0\n",
            "1180    -122.42     40.60                 5.0       2614.0           433.0      1275.0       411.0         3.4464            122900.0\n",
            "1181    -119.16     34.95                14.0       4054.0           787.0      1581.0       579.0         3.0882            148200.0\n",
            "1182    -118.63     34.24                 9.0       4759.0           924.0      1884.0       915.0         4.8333            277200.0\n",
            "1183    -121.95     36.98                34.0       3745.0           958.0      1622.0       802.0         3.1546            261200.0\n",
            "1184    -117.25     32.79                43.0        906.0           240.0       458.0       205.0         1.8365            328600.0\n",
            "1185    -119.18     34.22                15.0       4615.0          1008.0      2549.0       973.0         3.9063            198700.0\n",
            "1186    -117.26     32.82                34.0       5846.0           785.0      1817.0       747.0         8.4960            500001.0\n",
            "1187    -117.07     32.79                25.0       2489.0           314.0       911.0       309.0         7.8336            277600.0\n",
            "1188    -116.76     34.23                10.0       4374.0           989.0      1020.0       376.0         2.6071             89000.0\n",
            "1189    -118.25     34.13                52.0        322.0            88.0       229.0        89.0         2.1250            243800.0\n",
            "1190    -117.28     34.26                18.0       3895.0           689.0      1086.0       375.0         3.3672            133600.0\n",
            "1191    -122.57     38.11                32.0       3521.0           748.0      1706.0       723.0         3.4705            228600.0\n",
            "1192    -122.45     37.79                52.0       1457.0           215.0       495.0       208.0        10.7097            500001.0\n",
            "1193    -117.77     33.71                15.0       2102.0           295.0      1060.0       303.0         7.3141            337100.0\n",
            "1194    -119.44     36.61                17.0       1531.0           280.0       775.0       246.0         3.9073             91600.0\n",
            "1195    -118.32     33.93                37.0       2379.0           462.0      1327.0       445.0         4.2500            172100.0\n",
            "1196    -118.22     33.79                28.0       3008.0           629.0      2537.0       596.0         2.3000            137500.0\n",
            "1197    -122.65     38.48                17.0       1090.0           164.0       473.0       163.0         5.5061            231800.0\n",
            "1198    -121.23     37.96                44.0       2204.0           473.0      1277.0       435.0         1.5539             59200.0\n",
            "1199    -117.86     34.09                26.0       3408.0           542.0      1664.0       543.0         6.1498            239100.0\n",
            "1200    -122.06     37.86                16.0       5187.0          1014.0      1512.0       986.0         4.4551            252400.0\n",
            "1201    -117.36     34.10                29.0       2819.0           637.0      1683.0       608.0         2.3205             87600.0\n",
            "1202    -117.30     34.10                49.0         60.0            11.0        76.0        13.0         2.5625             75000.0\n",
            "1203    -122.14     38.03                42.0        118.0            34.0        54.0        30.0         2.5795            225000.0\n",
            "1204    -121.64     36.80                18.0       5915.0          1000.0      2975.0       975.0         4.5812            255200.0\n",
            "1205    -122.24     38.01                11.0       3751.0           565.0      1949.0       555.0         5.7862            269400.0\n",
            "1206    -116.86     34.31                19.0       1649.0           328.0       382.0       151.0         4.0556            133000.0\n",
            "1207    -122.71     37.88                21.0       2845.0           552.0       599.0       250.0         4.3125            495800.0\n",
            "1208    -117.09     32.56                 8.0        864.0           156.0       626.0       172.0         4.8984            151500.0\n",
            "1209    -122.25     37.47                35.0       3183.0           515.0      1313.0       487.0         5.9062            383200.0\n",
            "1210    -118.12     33.77                20.0       4534.0           954.0      1941.0       892.0         6.0362            463500.0\n",
            "1211    -120.96     37.67                17.0       2434.0           511.0      1558.0       546.0         2.9219            114300.0\n",
            "1212    -119.30     36.32                23.0       3521.0           615.0      1712.0       636.0         3.3875             92500.0\n",
            "1213    -117.39     33.96                52.0       1992.0           345.0       948.0       358.0         3.2917            129300.0\n",
            "1214    -121.00     37.60                22.0       4412.0           925.0      3116.0       817.0         2.6899             82100.0\n",
            "1215    -117.09     32.64                19.0       2571.0           791.0      1205.0       783.0         1.6200            131300.0\n",
            "1216    -122.05     37.93                15.0       7803.0          1603.0      2957.0      1546.0         4.4500            184900.0\n",
            "1217    -120.43     34.87                26.0       1699.0           272.0       799.0       266.0         3.9871            157700.0\n",
            "1218    -122.09     37.69                43.0        500.0           110.0       273.0       120.0         3.3125            150000.0\n",
            "1219    -118.46     34.01                39.0        711.0           148.0       347.0       153.0         4.2813            297200.0\n",
            "1220    -121.98     37.37                35.0        995.0           202.0       615.0       199.0         5.0942            217500.0\n",
            "1221    -121.97     37.76                 8.0       3743.0           581.0      1633.0       567.0         6.7027            381900.0\n",
            "1222    -117.81     33.83                 8.0       7326.0           884.0      2569.0       798.0        10.1570            477100.0\n",
            "1223    -118.16     33.89                38.0        483.0           113.0       389.0       108.0         2.1859            143800.0\n",
            "1224    -115.57     32.78                25.0       2007.0           301.0      1135.0       332.0         5.1280             99600.0\n",
            "1225    -117.62     33.42                27.0       1005.0           266.0       460.0       243.0         3.1029            190600.0\n",
            "1226    -121.51     38.56                43.0       1048.0           312.0      1320.0       294.0         1.0649            137500.0\n",
            "1227    -117.11     32.75                18.0       1943.0           587.0      1329.0       522.0         1.7696            103100.0\n",
            "1228    -122.46     37.72                37.0       1833.0           388.0      1093.0       363.0         3.0703            211800.0\n",
            "1229    -122.01     37.58                17.0       4313.0           717.0      2629.0       721.0         5.7579            231800.0\n",
            "1230    -116.85     34.26                18.0       6988.0          1635.0      2044.0       726.0         2.4308             90600.0\n",
            "1231    -122.18     37.15                17.0       1457.0           289.0       591.0       235.0         5.5785            284100.0\n",
            "1232    -116.95     32.82                19.0       5308.0          1058.0      2852.0      1092.0         2.9161            135700.0\n",
            "1233    -117.23     32.74                16.0       1953.0           404.0       798.0       385.0         4.8167            169800.0\n",
            "1234    -117.84     34.11                17.0       3499.0           621.0      1911.0       621.0         4.8894            191700.0\n",
            "1235    -122.49     37.76                48.0       1351.0           270.0       650.0       265.0         3.5278            339800.0\n",
            "1236    -117.93     33.71                10.0       2775.0           717.0      1581.0       633.0         4.1366            158800.0\n",
            "1237    -118.18     33.74                30.0       5915.0          1750.0      2136.0      1503.0         4.0968            310000.0\n",
            "1238    -118.08     33.92                38.0       1335.0           282.0      1011.0       269.0         3.6908            157500.0\n",
            "1239    -118.30     34.01                52.0       1444.0           343.0      1154.0       334.0         2.0625            134400.0\n",
            "1240    -122.17     39.31                35.0       2791.0           552.0      1395.0       476.0         2.5625             62700.0\n",
            "1241    -117.14     32.75                19.0       1358.0           613.0       766.0       630.0         1.0353            150000.0\n",
            "1242    -117.94     34.04                36.0       1431.0           354.0      1367.0       334.0         3.5592            160200.0\n",
            "1243    -121.74     37.19                11.0       1290.0           197.0       881.0       191.0         4.2039            500001.0\n",
            "1244    -118.36     33.81                26.0       1575.0           300.0       881.0       309.0         5.1778            359900.0\n",
            "1245    -122.44     37.78                37.0       1235.0           314.0       481.0       297.0         3.6875            492300.0\n",
            "1246    -118.19     33.81                23.0        954.0           390.0       804.0       373.0         2.5833            181300.0\n",
            "1247    -117.29     33.19                18.0       6235.0          1233.0      4127.0      1162.0         3.0704            151600.0\n",
            "1248    -117.24     32.85                18.0       3117.0           475.0       904.0       368.0         6.7587            388500.0\n",
            "1249    -117.24     32.80                29.0       3376.0           882.0      1513.0       843.0         3.1010            238200.0\n",
            "1250    -120.98     38.66                 9.0       2073.0           404.0       916.0       373.0         3.2250            163300.0\n",
            "1251    -119.63     36.76                22.0       4126.0           614.0      1795.0       613.0         4.9250            154700.0\n",
            "1252    -121.65     37.12                14.0       4721.0           999.0      2648.0       888.0         3.6895            239300.0\n",
            "1253    -121.90     37.44                12.0       4228.0           734.0      2594.0       732.0         6.6086            299400.0\n",
            "1254    -122.11     37.70                23.0       1689.0           461.0       828.0       443.0         2.1552            161400.0\n",
            "1255    -118.29     33.95                35.0       1401.0           362.0      1357.0       327.0         2.0917             99300.0\n",
            "1256    -117.76     34.06                30.0       1700.0           504.0      1719.0       459.0         2.2270             91900.0\n",
            "1257    -118.32     34.08                52.0       2370.0           473.0      1053.0       434.0         4.1429            380300.0\n",
            "1258    -117.08     32.72                32.0       2286.0           468.0      1741.0       467.0         3.0446            101900.0\n",
            "1259    -117.13     32.79                35.0       1362.0           243.0       698.0       255.0         3.6458            173800.0\n",
            "1260    -121.94     36.98                24.0       3010.0           562.0      1360.0       504.0         4.2006            290700.0\n",
            "1261    -118.23     33.96                36.0       1062.0           270.0      1136.0       273.0         1.6597            109100.0\n",
            "1262    -121.98     37.36                34.0       1735.0           318.0      1019.0       301.0         4.5625            242700.0\n",
            "1263    -118.28     34.12                50.0       2384.0           312.0       836.0       337.0        12.8763            500001.0\n",
            "1264    -122.13     37.15                39.0       2854.0           613.0      1338.0       518.0         3.9423            180300.0\n",
            "1265    -118.20     33.78                48.0       1766.0           497.0      1908.0       466.0         1.9872            168800.0\n",
            "1266    -117.73     34.12                26.0       1279.0           163.0       412.0       157.0         6.1731            293800.0\n",
            "1267    -117.99     33.69                12.0       2480.0           858.0      1441.0       788.0         1.6705            350000.0\n",
            "1268    -117.94     34.06                32.0       3418.0           662.0      2003.0       622.0         4.0333            210200.0\n",
            "1269    -117.39     34.11                 5.0       2987.0           457.0      1821.0       485.0         4.8889            138900.0\n",
            "1270    -122.00     38.35                38.0       1918.0           364.0       745.0       348.0         2.5707            126000.0\n",
            "1271    -120.98     37.59                 2.0       5042.0           834.0      2784.0       787.0         4.6484            145900.0\n",
            "1272    -118.26     34.12                45.0       2839.0           698.0      1768.0       653.0         3.1306            214000.0\n",
            "1273    -122.16     37.68                16.0       1687.0           348.0       568.0       352.0         2.3869             83300.0\n",
            "1274    -118.12     33.83                45.0       1579.0           278.0       687.0       285.0         5.0424            225900.0\n",
            "1275    -117.88     33.79                32.0       1484.0           295.0       928.0       295.0         5.1418            190300.0\n",
            "1276    -122.41     37.71                40.0       2054.0           433.0      1738.0       429.0         4.9926            213900.0\n",
            "1277    -122.39     37.73                43.0       4864.0           972.0      3134.0       959.0         4.3393            217300.0\n",
            "1278    -121.93     36.63                33.0       1740.0           342.0       638.0       329.0         3.1912            319800.0\n",
            "1279    -120.31     38.02                11.0       2366.0           398.0      1046.0       387.0         3.8203            139700.0\n",
            "1280    -122.47     37.61                34.0       4551.0           837.0      2208.0       834.0         5.4364            279300.0\n",
            "1281    -117.68     34.00                 5.0       3761.0           580.0      2335.0       648.0         5.7338            225400.0\n",
            "1282    -122.28     37.85                41.0        535.0           123.0       317.0       119.0         2.4038            107500.0\n",
            "1283    -117.18     32.92                 4.0      15025.0          2616.0      7560.0      2392.0         5.1960            210700.0\n",
            "1284    -117.70     33.60                26.0       2283.0           506.0       634.0       469.0         2.3774             74300.0\n",
            "1285    -122.48     37.75                52.0       2074.0           401.0      1136.0       409.0         4.7703            331000.0\n",
            "1286    -117.15     32.74                26.0       3149.0           832.0      1320.0       808.0         3.0259            211700.0\n",
            "1287    -119.90     36.79                22.0       1970.0           332.0      1066.0       319.0         3.3125            106100.0\n",
            "1288    -117.19     32.78                34.0       4108.0           664.0      1659.0       644.0         4.4097            252000.0\n",
            "1289    -118.39     34.03                25.0       3442.0          1050.0      1890.0       914.0         3.0574            319400.0\n",
            "1290    -117.78     33.68                15.0       1834.0           330.0       841.0       309.0         6.0634            234300.0\n",
            "1291    -119.67     36.65                20.0       2512.0           449.0      1464.0       450.0         3.9211             92300.0\n",
            "1292    -118.26     34.02                41.0        848.0           323.0      1428.0       313.0         1.5603            109600.0\n",
            "1293    -122.24     38.01                16.0       2084.0           315.0      1154.0       307.0         6.0102            235600.0\n",
            "1294    -122.25     38.16                17.0       4459.0           944.0      1812.0       888.0         2.9375            106700.0\n",
            "1295    -117.32     33.80                11.0       3196.0           576.0      1757.0       552.0         4.0982            173300.0\n",
            "1296    -118.21     34.06                52.0        470.0           115.0       434.0       123.0         2.0950            109100.0\n",
            "1297    -119.77     36.80                24.0       3748.0           770.0      1827.0       719.0         2.7222             83100.0\n",
            "1298    -121.86     37.41                16.0       1603.0           287.0      1080.0       296.0         6.1256            266900.0\n",
            "1299    -117.97     33.88                 9.0       1344.0           279.0       530.0       265.0         5.0731            185100.0\n",
            "1300    -121.84     39.72                52.0       1457.0           389.0       802.0       342.0         0.9566             69000.0\n",
            "1301    -118.51     34.20                37.0       2066.0           434.0      1031.0       414.0         4.0924            188400.0\n",
            "1302    -117.93     33.78                28.0       4380.0           820.0      2187.0       835.0         3.9018            182300.0\n",
            "1303    -117.75     33.61                16.0       2270.0           488.0       709.0       489.0         3.2845            227600.0\n",
            "1304    -121.46     38.70                32.0        965.0           183.0       568.0       188.0         3.8611             93900.0\n",
            "1305    -119.28     36.32                29.0       2274.0           514.0      1234.0       521.0         1.9138             66900.0\n",
            "1306    -118.74     34.28                21.0       4056.0           637.0      1974.0       634.0         5.9024            221000.0\n",
            "1307    -119.33     36.19                27.0        418.0           163.0       332.0       141.0         1.0714             63800.0\n",
            "1308    -118.75     34.27                24.0       3241.0           461.0      1567.0       446.0         5.5983            233300.0\n",
            "1309    -118.21     33.93                33.0       2739.0           801.0      3423.0       741.0         2.2847            132700.0\n",
            "1310    -122.37     37.96                37.0       1572.0           402.0      1046.0       350.0         0.7403             68600.0\n",
            "1311    -121.98     37.28                27.0       3526.0           589.0      1725.0       553.0         5.7812            275000.0\n",
            "1312    -117.03     32.61                23.0       1553.0           216.0       778.0       229.0         5.1538            171300.0\n",
            "1313    -117.28     34.41                14.0       2105.0           396.0       960.0       396.0         2.9934            118200.0\n",
            "1314    -118.02     34.13                33.0       2874.0           458.0      1239.0       431.0         5.2329            430900.0\n",
            "1315    -117.90     34.06                33.0       1330.0           209.0       578.0       192.0         5.6406            266200.0\n",
            "1316    -118.47     34.24                19.0       2405.0           661.0      1855.0       621.0         2.3111            255400.0\n",
            "1317    -122.49     37.86                35.0       2729.0           538.0       969.0       528.0         6.7669            500001.0\n",
            "1318    -121.44     38.68                19.0       2476.0           534.0      1355.0       463.0         2.0625             94400.0\n",
            "1319    -118.36     34.20                14.0       1878.0           614.0      1874.0       559.0         2.5267            231800.0\n",
            "1320    -117.28     33.06                 8.0       4172.0          1022.0      2585.0       941.0         4.0118            245800.0\n",
            "1321    -122.43     37.73                52.0       1142.0           224.0       494.0       206.0         5.0602            298900.0\n",
            "1322    -118.13     34.13                52.0       2826.0           381.0       924.0       365.0         7.9976            500001.0\n",
            "1323    -118.05     33.95                33.0       1954.0           390.0      1600.0       376.0         3.6125            170800.0\n",
            "1324    -121.99     38.26                18.0        921.0           126.0       368.0       120.0         6.0842            261100.0\n",
            "1325    -122.47     37.78                52.0       1941.0           436.0       955.0       425.0         4.1339            396400.0\n",
            "1326    -121.27     38.66                15.0       2642.0           520.0      1032.0       475.0         4.1382            189800.0\n",
            "1327    -122.24     37.81                52.0       2026.0           482.0       709.0       456.0         3.2727            268500.0\n",
            "1328    -121.44     38.47                 5.0       5666.0          1178.0      3139.0      1131.0         3.3608            108900.0\n",
            "1329    -118.12     33.77                10.0       7264.0          1137.0      2528.0      1057.0        10.2233            500001.0\n",
            "1330    -117.98     33.94                32.0       2562.0           491.0      1222.0       446.0         4.0985            226200.0\n",
            "1331    -118.07     34.16                35.0       2459.0           438.0       970.0       437.0         4.2143            369400.0\n",
            "1332    -118.19     34.14                46.0       2387.0           488.0      1181.0       456.0         3.6058            257900.0\n",
            "1333    -118.21     34.12                52.0       1301.0           389.0      1189.0       361.0         2.5139            190000.0\n",
            "1334    -121.92     36.63                36.0        877.0           175.0       349.0       168.0         3.4167            339100.0\n",
            "1335    -117.97     33.84                18.0       1063.0           209.0       462.0       223.0         2.8348            219000.0\n",
            "1336    -118.41     33.99                39.0       3014.0           822.0      3212.0       777.0         1.1985            215000.0\n",
            "1337    -119.44     36.60                34.0        864.0           184.0       579.0       171.0         2.0417             72500.0\n",
            "1338    -122.70     39.14                13.0        532.0           111.0       214.0        62.0         3.3929            108300.0\n",
            "1339    -122.30     37.56                37.0       1962.0           367.0      1267.0       382.0         4.7344            271800.0\n",
            "1340    -121.99     37.54                26.0       2332.0           371.0      1285.0       404.0         5.3880            225000.0\n",
            "1341    -118.38     33.98                25.0       7105.0          1012.0      2519.0      1004.0         6.8112            500001.0\n",
            "1342    -117.98     33.83                17.0       3506.0           992.0      2104.0       893.0         3.3006            185800.0\n",
            "1343    -117.96     33.68                25.0       2004.0           349.0      1085.0       343.0         4.7656            230700.0\n",
            "1344    -117.64     33.66                 6.0       5221.0          1217.0      2597.0      1119.0         4.6076            204000.0\n",
            "1345    -121.29     37.33                36.0         48.0            12.0        27.0         8.0         4.0000             75000.0\n",
            "1346    -122.44     37.77                52.0       5604.0          1268.0      2023.0      1196.0         4.4085            400000.0\n",
            "1347    -118.33     33.98                28.0       3889.0          1199.0      3121.0      1046.0         1.8806            113900.0\n",
            "1348    -121.29     37.99                30.0       1271.0           528.0      2019.0       524.0         1.5152             81300.0\n",
            "1349    -121.80     37.35                17.0       2529.0           423.0      1756.0       429.0         5.1017            240700.0\n",
            "1350    -119.29     36.53                33.0       1509.0           352.0      1734.0       336.0         1.6250             50300.0\n",
            "1351    -118.11     34.03                36.0       1493.0           316.0       989.0       293.0         3.5272            213700.0\n",
            "1352    -121.87     37.42                19.0      12128.0          2112.0      6810.0      2040.0         6.4419            264500.0\n",
            "1353    -122.09     37.70                33.0       4413.0          1107.0      2239.0      1051.0         2.9861            208200.0\n",
            "1354    -122.29     37.87                52.0       2225.0           460.0      1145.0       430.0         2.6165            150000.0\n",
            "1355    -117.11     32.66                52.0         25.0             5.0        14.0         9.0         1.6250            118800.0\n",
            "1356    -121.90     37.39                42.0         42.0            14.0        26.0        14.0         1.7361            500001.0\n",
            "1357    -117.52     33.88                21.0        722.0           178.0       770.0       165.0         2.5656            102500.0\n",
            "1358    -121.47     38.70                31.0       1007.0           181.0       563.0       185.0         3.6250             91300.0\n",
            "1359    -122.28     37.52                27.0       2958.0           655.0      1285.0       577.0         4.0801            397800.0\n",
            "1360    -118.41     34.25                33.0        827.0           192.0       981.0       184.0         2.6429            143100.0\n",
            "1361    -122.25     37.80                52.0       2087.0           510.0      1197.0       488.0         3.0149            218400.0\n",
            "1362    -119.05     34.24                24.0       4341.0           646.0      1929.0       703.0         5.4298            279600.0\n",
            "1363    -118.26     34.06                33.0       1950.0          1047.0      3707.0      1012.0         1.7238            110000.0\n",
            "1364    -117.09     32.70                15.0        869.0           217.0       887.0       216.0         1.4583             84200.0\n",
            "1365    -117.39     34.07                15.0       1966.0           331.0      1118.0       323.0         3.8558            122700.0\n",
            "1366    -122.22     37.79                37.0       2343.0           574.0      1608.0       523.0         2.1494            132500.0\n",
            "1367    -118.43     34.04                52.0       2425.0           435.0       962.0       412.0         5.8587            494700.0\n",
            "1368    -117.56     33.88                36.0        838.0           210.0       722.0       180.0         2.4861             96200.0\n",
            "1369    -118.13     34.16                52.0       1787.0           427.0      1107.0       410.0         2.5664            215000.0\n",
            "1370    -122.21     37.47                33.0       1266.0           415.0      1991.0       334.0         2.9200            202800.0\n",
            "1371    -118.08     33.78                34.0       2287.0           347.0      1051.0       346.0         5.5767            372000.0\n",
            "1372    -118.23     34.21                29.0       2584.0           608.0      1217.0       568.0         3.3287            273400.0\n",
            "1373    -117.23     32.73                44.0       1168.0           263.0       509.0       256.0         2.7273            269700.0\n",
            "1374    -118.19     33.77                21.0       2103.0           727.0      1064.0       603.0         1.6178            137500.0\n",
            "1375    -117.17     32.81                26.0        788.0           127.0       346.0       125.0         5.0603            185700.0\n",
            "1376    -122.00     36.97                39.0       2702.0           646.0      1136.0       491.0         2.8941            256700.0\n",
            "1377    -120.61     35.12                12.0       3430.0           793.0      1840.0       720.0         2.9821            162000.0\n",
            "1378    -118.17     33.83                46.0       1362.0           214.0       531.0       222.0         4.3125            290500.0\n",
            "1379    -117.86     33.89                24.0       2002.0           253.0       820.0       241.0         6.9612            274500.0\n",
            "1380    -118.51     34.22                36.0       1493.0           285.0       766.0       272.0         4.8646            213200.0\n",
            "1381    -118.26     33.90                38.0       1566.0           318.0       981.0       318.0         4.0234            111900.0\n",
            "1382    -118.02     34.04                27.0       5640.0          1001.0      3538.0       978.0         5.0650            215400.0\n",
            "1383    -118.37     34.10                37.0        407.0            67.0       100.0        47.0        15.0001            500001.0\n",
            "1384    -117.99     33.79                35.0       2301.0           467.0      2272.0       454.0         3.9566            167800.0\n",
            "1385    -122.42     37.71                44.0       2080.0           489.0      1781.0       478.0         3.6827            215300.0\n",
            "1386    -117.25     33.93                 8.0      10110.0          1761.0      5804.0      1703.0         4.2654            137600.0\n",
            "1387    -122.04     37.85                27.0       6039.0           780.0      2181.0       761.0         9.5862            469400.0\n",
            "1388    -117.23     32.87                11.0       3123.0           740.0      1223.0       634.0         5.4170            196800.0\n",
            "1389    -117.16     32.81                35.0       1213.0           200.0       532.0       181.0         3.6806            172400.0\n",
            "1390    -118.09     33.90                37.0       1147.0           258.0       742.0       242.0         4.0461            153500.0\n",
            "1391    -118.08     34.07                32.0       4089.0           975.0      3775.0       955.0         3.2900            205500.0\n",
            "1392    -117.09     32.79                31.0       2019.0           417.0       872.0       386.0         3.1964            177700.0\n",
            "1393    -121.66     37.13                20.0       4477.0           924.0      2656.0       871.0         3.8788            226900.0\n",
            "1394    -118.24     33.96                34.0        946.0           254.0      1101.0       239.0         1.7396            105900.0\n",
            "1395    -122.02     37.53                21.0       4280.0           673.0      2216.0       681.0         5.7072            242200.0\n",
            "1396    -117.82     33.90                25.0       1137.0           170.0       524.0       164.0         7.5744            259300.0\n",
            "1397    -118.21     33.94                34.0        710.0           205.0      1134.0       233.0         2.7734            141100.0\n",
            "1398    -117.88     34.00                32.0        265.0            51.0       170.0        50.0         3.9375            187500.0\n",
            "1399    -118.11     33.86                36.0       2750.0           487.0      1386.0       458.0         4.9904            221700.0\n",
            "1400    -118.86     34.07                16.0       1409.0           244.0       970.0       172.0         8.0144            500001.0\n",
            "1401    -122.49     38.32                30.0       1631.0           284.0       788.0       284.0         3.3098            195500.0\n",
            "1402    -121.66     39.66                17.0       3502.0           655.0      1763.0       613.0         2.9625            101200.0\n",
            "1403    -122.33     37.93                34.0       2326.0           471.0      1356.0       441.0         2.3475             90300.0\n",
            "1404    -117.28     33.20                20.0       4835.0           854.0      2983.0       834.0         4.3428            152100.0\n",
            "1405    -122.16     37.72                38.0       1007.0           245.0       618.0       239.0         2.8750            144800.0\n",
            "1406    -117.85     34.12                30.0       4367.0          1033.0      2524.0       954.0         3.0448            192100.0\n",
            "1407    -119.26     35.50                38.0       2536.0           409.0      1133.0       430.0         4.2375             78600.0\n",
            "1408    -123.35     40.99                23.0        141.0            59.0        47.0        23.0         1.1250             66000.0\n",
            "1409    -118.14     34.16                39.0       2776.0           840.0      2546.0       773.0         2.5750            153500.0\n",
            "1410    -118.39     34.23                43.0       1193.0           299.0      1184.0       320.0         2.1518            161600.0\n",
            "1411    -117.03     32.79                17.0       7352.0          1699.0      3331.0      1634.0         2.7006            166300.0\n",
            "1412    -117.84     33.80                34.0       2004.0           331.0       843.0       328.0         3.5900            230600.0\n",
            "1413    -116.69     33.50                13.0       1187.0           255.0       442.0       179.0         1.9107            155700.0\n",
            "1414    -121.09     37.61                42.0       1787.0           296.0       921.0       287.0         3.8864            171400.0\n",
            "1415    -117.14     32.76                35.0       2539.0           661.0      1308.0       629.0         2.6777            146400.0\n",
            "1416    -122.69     38.46                32.0       2970.0           504.0      1117.0       512.0         5.0000            275900.0\n",
            "1417    -121.13     38.55                 8.0        530.0           109.0       398.0        96.0         4.2031            212500.0\n",
            "1418    -121.87     37.27                25.0       1730.0           226.0       721.0       243.0         7.5845            279300.0\n",
            "1419    -117.91     33.66                26.0       5761.0          1326.0      2681.0      1116.0         4.0341            243300.0\n",
            "1420    -121.94     37.34                42.0       2174.0           420.0      1304.0       464.0         3.1429            286500.0\n",
            "1421    -121.83     37.95                17.0       1133.0           244.0       716.0       235.0         2.8750            162500.0\n",
            "1422    -124.17     41.80                16.0       2739.0           480.0      1259.0       436.0         3.7557            109400.0\n",
            "1423    -118.33     34.06                52.0       1368.0           231.0       737.0       248.0         8.3617            433800.0\n",
            "1424    -118.24     33.80                28.0        636.0           169.0       788.0       143.0         3.6161            131300.0\n",
            "1425    -122.59     38.12                25.0       7784.0          1145.0      3445.0      1166.0         6.0132            287900.0\n",
            "1426    -122.48     37.71                29.0       1048.0           150.0       455.0       152.0         6.1278            417600.0\n",
            "1427    -120.73     37.38                37.0        653.0           176.0       827.0       176.0         1.9236             64400.0\n",
            "1428    -117.04     32.62                26.0       3620.0           607.0      2000.0       593.0         4.9962            156000.0\n",
            "1429    -118.44     34.27                36.0       1111.0           275.0      1333.0       266.0         3.5347            158100.0\n",
            "1430    -121.00     37.61                36.0       2647.0           604.0      2045.0       550.0         2.2730             62900.0\n",
            "1431    -117.84     33.89                24.0       3935.0           625.0      1912.0       593.0         5.7951            226900.0\n",
            "1432    -122.25     37.77                52.0       1527.0           320.0       825.0       264.0         3.4531            208800.0\n",
            "1433    -118.36     34.10                37.0       7097.0          2010.0      2913.0      1939.0         2.8750            300000.0\n",
            "1434    -116.92     32.79                24.0       4055.0           742.0      2123.0       744.0         4.5224            142000.0\n",
            "1435    -121.94     38.35                 8.0       3157.0           559.0      1758.0       569.0         4.4120            140100.0\n",
            "1436    -120.87     35.41                16.0       2168.0           444.0       782.0       374.0         3.0187            278100.0\n",
            "1437    -118.10     33.83                36.0       2000.0           343.0       956.0       352.0         5.3735            234400.0\n",
            "1438    -117.99     34.07                31.0       1507.0           369.0      1548.0       347.0         3.4327            147200.0\n",
            "1439    -121.49     37.94                31.0       1860.0           394.0      1848.0       293.0         2.2891            162500.0\n",
            "1440    -119.63     36.32                36.0       1518.0           287.0       749.0       255.0         2.2333             61000.0\n",
            "1441    -121.89     39.76                15.0      10265.0          1860.0      4591.0      1906.0         3.0700            142600.0\n",
            "1442    -117.11     32.76                31.0       2293.0           549.0      1108.0       557.0         3.3854            204400.0\n",
            "1443    -118.14     34.07                42.0       1036.0           199.0       656.0       215.0         4.1902            235000.0\n",
            "1444    -118.26     33.95                38.0       1387.0           346.0      1240.0       355.0         1.6898             95100.0\n",
            "1445    -122.35     40.56                16.0       2801.0           614.0      1695.0       563.0         1.9000             81600.0\n",
            "1446    -118.26     34.06                40.0        637.0           273.0      1150.0       263.0         1.8625            131300.0\n",
            "1447    -117.82     33.71                 9.0       5206.0           992.0      4660.0       978.0         2.8850            162500.0\n",
            "1448    -119.98     38.96                25.0       2443.0           444.0       868.0       342.0         3.5417            114800.0\n",
            "1449    -118.43     34.09                27.0       1613.0           200.0       497.0       197.0         7.9835            500001.0\n",
            "1450    -117.14     32.75                20.0       1182.0           379.0       678.0       326.0         2.1937            162500.0\n",
            "1451    -118.47     34.30                16.0       2495.0           551.0      2314.0       567.0         3.6736            192200.0\n",
            "1452    -121.78     38.68                39.0       2806.0           662.0      1659.0       638.0         1.9787             97800.0\n",
            "1453    -122.28     37.80                52.0         96.0            31.0       191.0        34.0         0.7500            162500.0\n",
            "1454    -117.21     32.80                19.0        786.0           282.0       525.0       229.0         1.7273            137500.0\n",
            "1455    -121.46     38.54                48.0       1001.0           205.0       605.0       175.0         1.8333             58200.0\n",
            "1456    -121.13     36.21                30.0       1484.0           414.0      1200.0       351.0         1.7548             95800.0\n",
            "1457    -122.53     37.97                52.0        205.0           119.0       228.0       132.0         1.9063            200000.0\n",
            "1458    -122.35     37.92                36.0        921.0           200.0       585.0       236.0         1.9224             94000.0\n",
            "1459    -122.12     37.28                21.0        349.0            64.0       149.0        56.0         5.8691            360000.0\n",
            "1460    -121.32     38.26                 4.0       6125.0          1063.0      3077.0       953.0         4.1179            134600.0\n",
            "1461    -121.91     36.62                40.0       1292.0           271.0       504.0       230.0         2.4750            258300.0\n",
            "1462    -117.81     33.71                16.0       2666.0           387.0      1227.0       347.0         7.3769            302400.0\n",
            "1463    -119.71     36.81                19.0       2282.0           550.0      1034.0       500.0         1.6618             69700.0\n",
            "1464    -119.19     34.17                27.0       2183.0           364.0      1458.0       388.0         4.4567            191100.0\n",
            "1465    -117.82     33.79                26.0       2641.0           633.0      3657.0       617.0         4.1339            222300.0\n",
            "1466    -118.27     34.16                48.0       1301.0           253.0       637.0       260.0         4.3438            252700.0\n",
            "1467    -118.33     34.10                45.0       1913.0           696.0      1552.0       611.0         2.0888            237500.0\n",
            "1468    -122.29     37.91                46.0       2085.0           346.0       748.0       354.0         4.0536            262000.0\n",
            "1469    -118.02     33.82                21.0       2052.0           456.0      1173.0       432.0         3.7885            204500.0\n",
            "1470    -118.22     33.96                35.0       1437.0           474.0      2113.0       484.0         2.6179            158800.0\n",
            "1471    -116.89     32.82                18.0       2515.0           443.0      1442.0       449.0         5.0201            154400.0\n",
            "1472    -117.95     33.86                35.0       2478.0           431.0      1333.0       427.0         5.2099            191400.0\n",
            "1473    -122.27     37.48                26.0       3542.0           507.0      1392.0       524.0         8.5184            500001.0\n",
            "1474    -120.51     39.52                26.0       2286.0           444.0       498.0       216.0         2.0650             96100.0\n",
            "1475    -118.42     34.09                40.0       3552.0           392.0      1024.0       370.0        15.0001            500001.0\n",
            "1476    -119.50     35.27                23.0       3827.0           696.0      1993.0       617.0         3.0742             57900.0\n",
            "1477    -122.91     39.07                21.0       2202.0           484.0      1000.0       381.0         2.4423            102300.0\n",
            "1478    -122.46     37.77                52.0       1824.0           388.0       799.0       363.0         3.7500            435700.0\n",
            "1479    -121.54     36.99                27.0       2361.0           449.0      1782.0       397.0         3.2614            305000.0\n",
            "1480    -118.45     34.19                37.0       1073.0           254.0       739.0       253.0         2.4667            192200.0\n",
            "1481    -117.95     34.05                35.0       1309.0           276.0      1113.0       253.0         4.3750            156500.0\n",
            "1482    -120.56     35.48                12.0       4161.0           731.0      1609.0       615.0         5.0947            267500.0\n",
            "1483    -122.46     37.65                21.0       2751.0           502.0      2027.0       491.0         5.2573            322900.0\n",
            "1484    -117.85     33.76                33.0       1866.0           327.0      1053.0       371.0         4.5461            213800.0\n",
            "1485    -118.21     33.92                37.0       1705.0           403.0      1839.0       410.0         2.5833            132700.0\n",
            "1486    -118.17     33.98                31.0       1236.0           329.0      1486.0       337.0         3.0938            155400.0\n",
            "1487    -121.79     37.34                20.0       2018.0           328.0      1196.0       323.0         4.9318            262400.0\n",
            "1488    -117.98     33.83                32.0       1133.0           166.0       523.0       187.0         6.2130            230800.0\n",
            "1489    -118.43     34.30                37.0       1394.0           313.0      1111.0       327.0         3.6023            161800.0\n",
            "1490    -121.69     39.36                34.0        842.0           186.0       635.0       165.0         1.8355             63000.0\n",
            "1491    -117.27     33.77                16.0       2876.0           576.0      1859.0       545.0         2.0878            101300.0\n",
            "1492    -122.41     37.59                40.0       2401.0           383.0       894.0       356.0         5.6493            422400.0\n",
            "1493    -117.48     34.10                30.0       2287.0           531.0      1796.0       503.0         2.5833             90600.0\n",
            "1494    -117.06     32.70                12.0       3943.0           737.0      3280.0       751.0         4.1120            141400.0\n",
            "1495    -121.92     36.63                40.0       1076.0           193.0       406.0       180.0         3.4943            311100.0\n",
            "1496    -120.44     37.31                16.0       3369.0           532.0      1770.0       574.0         5.2662            126200.0\n",
            "1497    -117.18     32.70                44.0       2655.0           514.0      1102.0       489.0         3.6759            368800.0\n",
            "1498    -121.57     39.12                30.0       2601.0           534.0      1702.0       506.0         2.0800             56600.0\n",
            "1499    -122.21     37.79                52.0        762.0           190.0       600.0       195.0         3.0893            125000.0\n",
            "1500    -118.91     35.30                28.0       1793.0           358.0      1233.0       351.0         2.7845             82200.0\n",
            "1501    -121.95     37.32                20.0       1145.0           198.0       431.0       173.0         3.1103            281900.0\n",
            "1502    -121.35     38.68                20.0       7085.0          1222.0      3455.0      1229.0         4.3118            120000.0\n",
            "1503    -121.28     38.76                47.0       2901.0           631.0      1276.0       578.0         2.1366            101900.0\n",
            "1504    -118.35     33.89                30.0       1143.0           299.0       776.0       273.0         4.2829            240000.0\n",
            "1505    -121.98     37.97                26.0       2714.0           390.0      1232.0       409.0         5.9617            231100.0\n",
            "1506    -120.02     38.92                24.0       1194.0           246.0       414.0       151.0         3.2396            101900.0\n",
            "1507    -122.28     37.77                52.0       1468.0           363.0       870.0       347.0         2.9688            220800.0\n",
            "1508    -118.06     34.58                36.0       1493.0           258.0       899.0       260.0         3.8600            109300.0\n",
            "1509    -119.02     35.38                52.0         90.0            35.0        36.0        31.0         0.8054             60000.0\n",
            "1510    -122.43     37.79                52.0       6186.0          1566.0      2065.0      1374.0         5.8543            500001.0\n",
            "1511    -118.07     33.86                17.0       3666.0           562.0      2104.0       579.0         5.6818            338900.0\n",
            "1512    -122.30     38.00                34.0       1712.0           317.0       956.0       341.0         4.4394            162000.0\n",
            "1513    -117.17     33.28                16.0       1921.0           312.0       862.0       280.0         5.1786            376800.0\n",
            "1514    -117.30     34.14                37.0       1454.0           261.0       761.0       248.0         2.3438             88100.0\n",
            "1515    -117.71     33.60                25.0       1949.0           459.0       602.0       428.0         2.7601             72500.0\n",
            "1516    -122.50     37.78                46.0       2646.0           607.0      1418.0       563.0         3.7167            332800.0\n",
            "1517    -122.72     38.45                41.0       1743.0           373.0       780.0       357.0         3.1467            175500.0\n",
            "1518    -118.43     34.18                31.0       2417.0           510.0      1102.0       507.0         3.8906            282200.0\n",
            "1519    -118.03     33.97                22.0       2185.0           623.0      1644.0       606.0         2.5930            192000.0\n",
            "1520    -118.42     33.99                23.0       5548.0          1245.0      2847.0      1229.0         4.4228            366900.0\n",
            "1521    -118.29     33.96                31.0       4022.0          1208.0      3707.0      1007.0         1.3096            116300.0\n",
            "1522    -117.98     33.73                22.0       4232.0           624.0      2408.0       660.0         6.6539            284900.0\n",
            "1523    -121.91     39.14                45.0        845.0           155.0       343.0       136.0         2.1250             62000.0\n",
            "1524    -119.59     36.64                27.0        823.0           171.0       798.0       200.0         3.0521            113800.0\n",
            "1525    -118.33     34.11                37.0       2330.0           434.0       846.0       457.0         8.2335            430200.0\n",
            "1526    -120.63     38.75                17.0       3145.0           621.0      1432.0       559.0         2.7201            117500.0\n",
            "1527    -122.12     37.75                28.0        794.0           111.0       329.0       109.0         7.6923            329800.0\n",
            "1528    -118.35     33.95                45.0       1076.0           213.0       781.0       238.0         3.9500            164000.0\n",
            "1529    -120.44     34.96                29.0       2374.0           562.0      1617.0       463.0         2.6531            108300.0\n",
            "1530    -117.08     33.12                43.0        107.0            44.0       107.0        48.0         0.7054            137500.0\n",
            "1531    -121.27     38.61                17.0       6663.0          1369.0      2840.0      1299.0         2.9452            115600.0\n",
            "1532    -120.07     36.96                32.0       1268.0           283.0       549.0       273.0         1.4511             65200.0\n",
            "1533    -117.66     34.06                39.0       1405.0           339.0      1489.0       336.0         1.6080             91800.0\n",
            "1534    -117.06     33.01                24.0       2618.0           485.0       726.0       443.0         3.5192            159100.0\n",
            "1535    -117.92     33.73                17.0       1692.0           293.0       934.0       280.0         4.4728            205800.0\n",
            "1536    -117.93     33.92                34.0       2271.0           437.0      1393.0       433.0         4.2443            174400.0\n",
            "1537    -122.59     38.92                15.0       1410.0           329.0       599.0       273.0         2.1953             75000.0\n",
            "1538    -118.14     33.84                36.0       3002.0           484.0      1322.0       471.0         4.9330            228900.0\n",
            "1539    -120.79     37.08                 9.0         97.0            20.0        91.0        22.0         2.9063             55000.0\n",
            "1540    -117.60     34.11                18.0       6025.0          1062.0      3360.0      1028.0         4.8889            155700.0\n",
            "1541    -122.02     37.55                33.0       1325.0           274.0       909.0       267.0         4.5687            177200.0\n",
            "1542    -118.14     33.97                31.0       1161.0           267.0      1175.0       282.0         3.0114            177000.0\n",
            "1543    -122.31     37.54                38.0       1946.0           407.0       975.0       417.0         4.0726            385400.0\n",
            "1544    -122.26     37.83                52.0       2432.0           715.0      1377.0       696.0         2.5898            176000.0\n",
            "1545    -121.88     37.68                23.0       2234.0           270.0       854.0       286.0         7.3330            337200.0\n",
            "1546    -122.53     37.94                18.0        878.0           255.0       384.0       247.0         4.7344            200000.0\n",
            "1547    -117.71     33.63                16.0       1565.0           274.0       950.0       280.0         5.8399            220600.0\n",
            "1548    -120.10     39.19                17.0       1480.0           241.0       202.0        80.0         3.9375            213200.0\n",
            "1549    -117.77     33.72                 9.0       2153.0           316.0       954.0       324.0         7.8139            304700.0\n",
            "1550    -118.01     33.84                35.0       4166.0           713.0      2354.0       709.0         5.1775            213400.0\n",
            "1551    -122.19     37.71                36.0        361.0            69.0       158.0        58.0         5.5461            262500.0\n",
            "1552    -120.36     38.21                10.0       4300.0           845.0      1480.0       609.0         2.8208            139900.0\n",
            "1553    -117.32     34.03                13.0       3853.0           761.0      1685.0       669.0         3.9024            122400.0\n",
            "1554    -117.71     34.02                17.0      12689.0          2426.0      7343.0      2230.0         3.6361            157700.0\n",
            "1555    -118.26     33.91                33.0        954.0           241.0       655.0       218.0         2.5882             92800.0\n",
            "1556    -121.94     36.58                23.0       4911.0           693.0      1480.0       606.0         6.7770            500000.0\n",
            "1557    -121.76     37.69                29.0       3433.0           711.0      1919.0       709.0         3.3841            184400.0\n",
            "1558    -121.94     36.55                30.0       2722.0           584.0       628.0       384.0         3.4048            487100.0\n",
            "1559    -122.64     38.01                36.0       1199.0           232.0       551.0       229.0         3.7321            266700.0\n",
            "1560    -119.34     36.34                 5.0       4505.0           834.0      1917.0       775.0         4.0144            126600.0\n",
            "1561    -122.06     37.27                16.0       1612.0           221.0       567.0       208.0        10.5793            500001.0\n",
            "1562    -117.94     33.73                24.0       4197.0           718.0      2468.0       714.0         5.2563            211400.0\n",
            "1563    -118.44     33.98                21.0      18132.0          5419.0      7431.0      4930.0         5.3359            500001.0\n",
            "1564    -117.69     34.01                30.0       2598.0           573.0      2170.0       518.0         2.3000             95600.0\n",
            "1565    -117.87     34.15                24.0       5745.0           735.0      2061.0       679.0         8.2827            451400.0\n",
            "1566    -119.69     36.38                25.0       1688.0           302.0       879.0       277.0         3.3214            103100.0\n",
            "1567    -122.28     38.00                26.0       2335.0           413.0       980.0       417.0         3.4471            178900.0\n",
            "1568    -118.33     34.04                31.0       1090.0           251.0       955.0       239.0         2.9130            192500.0\n",
            "1569    -118.17     34.07                37.0       1155.0           225.0       814.0       241.0         3.8750            148500.0\n",
            "1570    -117.95     34.14                13.0       3859.0           710.0      2283.0       759.0         4.5594            184500.0\n",
            "1571    -118.28     33.79                28.0       1895.0           420.0      1422.0       389.0         4.3816            191300.0\n",
            "1572    -120.86     37.69                 5.0       6660.0          1217.0      3012.0      1087.0         3.0809            143600.0\n",
            "1573    -120.15     39.17                32.0       1684.0           359.0       454.0       209.0         2.9125            145800.0\n",
            "1574    -117.05     32.71                25.0       3292.0           608.0      2266.0       592.0         3.2986            119200.0\n",
            "1575    -121.44     38.52                36.0       3446.0           950.0      2460.0       847.0         1.6521             69700.0\n",
            "1576    -118.50     34.19                26.0       2156.0           509.0      1142.0       470.0         4.0000            224700.0\n",
            "1577    -121.44     37.76                 5.0       7264.0          1285.0      3670.0      1146.0         5.0443            194800.0\n",
            "1578    -121.95     37.37                39.0        446.0           129.0       317.0       127.0         3.0357            208300.0\n",
            "1579    -122.43     37.77                52.0       2685.0           629.0      1170.0       614.0         3.6894            418800.0\n",
            "1580    -118.28     34.01                48.0        483.0           190.0       775.0       188.0         2.3309            126600.0\n",
            "1581    -118.28     33.84                27.0       2326.0           533.0      1697.0       546.0         3.8633            187900.0\n",
            "1582    -118.33     34.04                48.0       2437.0           443.0      1400.0       426.0         2.6280            251100.0\n",
            "1583    -118.27     33.95                35.0       2073.0           494.0      1753.0       490.0         1.5000             93600.0\n",
            "1584    -120.42     34.91                 4.0       6986.0          1217.0      2801.0      1212.0         3.2135            212700.0\n",
            "1585    -117.10     32.83                16.0       1049.0           154.0       467.0       160.0         6.2047            248100.0\n",
            "1586    -121.89     36.89                18.0       2774.0           492.0      1283.0       353.0         5.3680            352000.0\n",
            "1587    -118.22     33.96                42.0       1380.0           331.0      1290.0       288.0         2.8000            161800.0\n",
            "1588    -117.27     33.02                13.0       5723.0          1242.0      2450.0      1140.0         4.7179            376700.0\n",
            "1589    -121.29     38.68                20.0       1881.0           378.0       921.0       360.0         1.8589            144000.0\n",
            "1590    -121.95     37.31                27.0       2462.0           570.0      1278.0       565.0         3.5652            329500.0\n",
            "1591    -118.96     35.37                41.0       1463.0           339.0      1066.0       318.0         1.7467             52400.0\n",
            "1592    -121.88     36.58                29.0       4910.0           871.0      3438.0       904.0         4.0432            450000.0\n",
            "1593    -117.25     34.41                13.0       3682.0           668.0      1606.0       668.0         2.1875            119700.0\n",
            "1594    -118.38     33.77                17.0      10950.0          2207.0      4713.0      2043.0         6.3064            418300.0\n",
            "1595    -114.55     32.80                19.0       2570.0           820.0      1431.0       608.0         1.2750             56100.0\n",
            "1596    -119.81     34.44                23.0       3172.0           588.0      1467.0       559.0         4.6806            288900.0\n",
            "1597    -117.12     33.49                 4.0      21988.0          4055.0      8824.0      3252.0         3.9963            191100.0\n",
            "1598    -118.32     33.80                39.0       1415.0           298.0       729.0       278.0         3.1648            244800.0\n",
            "1599    -122.18     37.73                43.0       1391.0           293.0       855.0       285.0         2.5192             76400.0\n",
            "1600    -118.10     34.13                47.0       2234.0           276.0       749.0       260.0        15.0001            500001.0\n",
            "1601    -122.27     40.39                26.0       1833.0           422.0       939.0       408.0         1.3571             59000.0\n",
            "1602    -121.94     37.73                22.0       6719.0          1068.0      2843.0       994.0         6.1265            260300.0\n",
            "1603    -121.29     38.63                24.0       2868.0           527.0      1284.0       487.0         3.3182            213000.0\n",
            "1604    -117.59     33.44                 3.0       5813.0          1264.0      2363.0      1041.0         4.3897            341300.0\n",
            "1605    -118.44     34.19                29.0       1599.0           459.0      1143.0       438.0         2.4583            199100.0\n",
            "1606    -118.15     34.03                42.0       1481.0           411.0      1206.0       394.0         2.6806            189300.0\n",
            "1607    -116.48     33.80                15.0       3004.0           615.0       437.0       210.0         3.6667             90000.0\n",
            "1608    -118.41     33.98                33.0       3331.0           777.0      1695.0       735.0         3.9727            307200.0\n",
            "1609    -121.05     37.65                 5.0       3096.0           545.0      1760.0       519.0         4.5701            146400.0\n",
            "1610    -122.42     37.80                50.0       2494.0           731.0       958.0       712.0         3.2356            500001.0\n",
            "1611    -117.31     34.11                38.0       1208.0           321.0      1225.0       317.0         1.4663             64000.0\n",
            "1612    -116.99     32.76                21.0       3833.0           595.0      1645.0       589.0         4.6250            273500.0\n",
            "1613    -122.11     37.89                32.0       2372.0           516.0      1067.0       492.0         4.3235            279500.0\n",
            "1614    -122.27     37.80                10.0        105.0            42.0       125.0        39.0         0.9722            137500.0\n",
            "1615    -121.87     37.38                16.0       3275.0           529.0      1863.0       527.0         5.5429            269100.0\n",
            "1616    -118.20     33.77                22.0       1118.0           437.0      1190.0       399.0         1.9797            143800.0\n",
            "1617    -117.12     32.57                35.0       1450.0           256.0       930.0       286.0         2.6715            133300.0\n",
            "1618    -118.33     34.00                52.0       1114.0           169.0       486.0       176.0         4.2917            247600.0\n",
            "1619    -117.17     32.82                21.0       2869.0           596.0      1471.0       577.0         3.0375            197600.0\n",
            "1620    -120.36     40.45                19.0        689.0           143.0       355.0       127.0         1.7333             70000.0\n",
            "1621    -116.52     33.81                12.0      12396.0          2552.0      2548.0      1265.0         3.4394            162200.0\n",
            "1622    -119.82     36.77                41.0       1441.0           274.0       646.0       296.0         3.0568             71300.0\n",
            "1623    -118.35     33.87                28.0       2319.0           579.0      1369.0       564.0         3.6169            257000.0\n",
            "1624    -117.34     34.49                 9.0       3293.0           585.0      1678.0       530.0         3.2941             98300.0\n",
            "1625    -118.55     34.17                36.0       2127.0           297.0       761.0       274.0         7.8392            500001.0\n",
            "1626    -122.11     38.09                11.0        673.0           145.0       318.0       137.0         2.3929            122500.0\n",
            "1627    -122.26     37.56                23.0       7283.0          1342.0      3399.0      1298.0         5.6683            391000.0\n",
            "1628    -121.35     38.66                24.0       3313.0           769.0      1631.0       681.0         2.5556            105700.0\n",
            "1629    -118.21     34.04                37.0        845.0           249.0       881.0       252.0         2.2454            165000.0\n",
            "1630    -118.34     34.07                52.0       3421.0           598.0      1203.0       564.0         4.1618            500001.0\n",
            "1631    -117.88     34.13                25.0       2559.0           654.0      1674.0       623.0         2.8547            155600.0\n",
            "1632    -117.87     33.84                23.0       1678.0           369.0       912.0       347.0         4.5000            237300.0\n",
            "1633    -117.34     34.08                33.0       4924.0          1007.0      3502.0       953.0         3.2330             99400.0\n",
            "1634    -118.33     34.02                11.0       1249.0           313.0       625.0       336.0         0.8702            170500.0\n",
            "1635    -118.33     33.79                29.0       4389.0           873.0      2069.0       901.0         4.1071            365600.0\n",
            "1636    -119.29     35.76                15.0       3938.0           789.0      3500.0       768.0         2.1295             59800.0\n",
            "1637    -117.09     32.62                37.0       1538.0           298.0       867.0       285.0         3.0729            128700.0\n",
            "1638    -121.81     37.25                 5.0       1975.0           520.0       861.0       440.0         4.4565            159000.0\n",
            "1639    -120.29     37.94                17.0       1459.0           297.0       753.0       271.0         3.0500            144800.0\n",
            "1640    -120.70     35.14                17.0       5805.0          1097.0      1919.0       932.0         3.5352            357800.0\n",
            "1641    -118.17     34.06                36.0        871.0           201.0      2862.0       181.0         2.1845            123800.0\n",
            "1642    -117.99     33.93                27.0       3708.0           718.0      1921.0       721.0         4.3750            210400.0\n",
            "1643    -118.25     34.22                30.0       2062.0           396.0      1089.0       375.0         5.5362            301200.0\n",
            "1644    -118.11     33.83                36.0       1820.0           313.0       899.0       295.0         4.9180            225200.0\n",
            "1645    -122.04     37.33                22.0       4011.0           963.0      2206.0       879.0         4.5721            351200.0\n",
            "1646    -119.67     36.57                32.0       1604.0           292.0       868.0       276.0         2.1908            110000.0\n",
            "1647    -119.56     36.71                37.0       1609.0           374.0      1173.0       344.0         2.1810             59900.0\n",
            "1648    -122.35     37.96                36.0       2191.0           531.0      1563.0       524.0         2.5164            114200.0\n",
            "1649    -117.08     32.58                15.0       1462.0           274.0      1002.0       271.0         3.9698            142700.0\n",
            "1650    -118.61     34.20                29.0       1673.0           284.0       794.0       270.0         5.5191            245800.0\n",
            "1651    -118.24     34.14                27.0       2909.0          1021.0      2614.0       935.0         2.1444            229000.0\n",
            "1652    -118.40     34.03                43.0       1006.0           201.0       520.0       199.0         6.5669            372800.0\n",
            "1653    -116.98     33.26                12.0       5898.0          1002.0      3129.0       945.0         4.7647            254100.0\n",
            "1654    -117.93     33.68                33.0       2664.0           432.0      1197.0       429.0         5.0690            264200.0\n",
            "1655    -122.25     37.47                38.0        645.0           124.0       265.0       103.0         5.4688            305000.0\n",
            "1656    -118.19     33.84                44.0       2731.0           577.0      1396.0       555.0         4.1771            219100.0\n",
            "1657    -118.45     34.32                23.0       3481.0           641.0      1952.0       682.0         4.2600            189400.0\n",
            "1658    -122.14     39.97                27.0       1079.0           222.0       625.0       197.0         3.1319             62700.0\n",
            "1659    -118.30     34.02                27.0       2190.0           626.0      1768.0       528.0         1.2446            103800.0\n",
            "1660    -117.90     33.73                31.0       1171.0           306.0      1690.0       301.0         3.2639            155200.0\n",
            "1661    -121.58     39.15                38.0       1756.0           396.0       837.0       401.0         1.9122             55500.0\n",
            "1662    -121.95     38.35                16.0       2084.0           292.0      1099.0       292.0         5.8269            150200.0\n",
            "1663    -117.69     34.07                35.0       3222.0           559.0      1970.0       550.0         3.7083            131000.0\n",
            "1664    -117.08     32.74                35.0       1434.0           253.0       753.0       228.0         2.3812            135100.0\n",
            "1665    -118.29     34.00                41.0       1807.0           493.0      1731.0       471.0         1.2347            111700.0\n",
            "1666    -123.80     39.46                35.0       1718.0           345.0       698.0       299.0         2.9243            131600.0\n",
            "1667    -119.12     35.33                 4.0       8574.0          1489.0      4250.0      1444.0         5.1036            103400.0\n",
            "1668    -121.80     37.34                20.0       2686.0           414.0      1507.0       405.0         5.8068            263900.0\n",
            "1669    -117.09     32.75                19.0       2739.0           707.0      2004.0       622.0         1.6318            117700.0\n",
            "1670    -122.13     37.43                40.0       3454.0           648.0      1498.0       647.0         5.2114            438400.0\n",
            "1671    -117.98     33.76                24.0       1880.0           405.0       967.0       418.0         4.4545            192500.0\n",
            "1672    -122.33     37.94                43.0       1876.0           389.0       807.0       377.0         3.1571            141600.0\n",
            "1673    -121.44     38.54                39.0       2855.0           574.0      1217.0       562.0         3.2404             93600.0\n",
            "1674    -118.02     33.70                23.0       5069.0           770.0      2473.0       769.0         6.3047            285700.0\n",
            "1675    -117.88     33.84                26.0       1499.0           290.0       755.0       277.0         3.5893            238500.0\n",
            "1676    -120.46     37.31                35.0       2042.0           378.0       953.0       356.0         2.7344             87800.0\n",
            "1677    -118.31     33.72                26.0       2711.0           508.0      1372.0       459.0         4.1451            326700.0\n",
            "1678    -117.82     33.67                17.0       2895.0           439.0      1588.0       450.0         6.2760            290700.0\n",
            "1679    -117.99     33.87                17.0       2334.0           537.0      1662.0       535.0         3.0147            217000.0\n",
            "1680    -119.80     36.86                 7.0       6434.0          1201.0      2733.0      1045.0         3.7656            145000.0\n",
            "1681    -121.47     38.58                43.0       3807.0           952.0      1484.0       850.0         2.3266            137500.0\n",
            "1682    -117.60     33.87                15.0       7626.0          1570.0      3823.0      1415.0         3.4419            138100.0\n",
            "1683    -117.10     32.75                11.0       2393.0           726.0      1905.0       711.0         1.3448             91300.0\n",
            "1684    -117.88     33.76                17.0       1768.0           474.0      1079.0       436.0         1.7823            205300.0\n",
            "1685    -118.35     33.99                48.0       2741.0           439.0      1115.0       459.0         5.0514            269100.0\n",
            "1686    -121.81     37.31                14.0       2731.0           578.0      1109.0       551.0         3.1382            139700.0\n",
            "1687    -120.43     34.90                30.0       2388.0           393.0      1117.0       375.0         4.1058            164000.0\n",
            "1688    -118.19     34.05                29.0        855.0           199.0       785.0       169.0         2.6964            122200.0\n",
            "1689    -117.89     33.91                33.0       1264.0           224.0       527.0       227.0         3.7321            216500.0\n",
            "1690    -118.27     34.02                21.0       1314.0           375.0      1505.0       366.0         2.3190             97200.0\n",
            "1691    -116.73     34.52                16.0       1247.0           315.0       433.0       159.0         1.0568             75000.0\n",
            "1692    -121.50     38.52                37.0       2008.0           466.0      1261.0       427.0         2.2574             59100.0\n",
            "1693    -120.61     35.12                16.0       1671.0           354.0       935.0       340.0         2.5792            163800.0\n",
            "1694    -120.63     36.98                20.0       2380.0           489.0      1581.0       505.0         2.0595             61300.0\n",
            "1695    -117.06     32.59                13.0       3920.0           775.0      2814.0       760.0         4.0616            148800.0\n",
            "1696    -119.02     35.42                40.0       1912.0           439.0      1015.0       413.0         1.4598             52600.0\n",
            "1697    -118.14     34.03                38.0       1447.0           293.0      1042.0       284.0         4.1375            211500.0\n",
            "1698    -118.31     33.73                52.0       2025.0           361.0       957.0       363.0         4.2059            350000.0\n",
            "1699    -121.94     38.37                14.0       1156.0           216.0       574.0       227.0         3.2396            143800.0\n",
            "1700    -122.51     37.92                32.0       2622.0           541.0      1022.0       464.0         3.7647            375000.0\n",
            "1701    -119.45     36.16                27.0       2119.0           373.0      1268.0       345.0         2.8152            106900.0\n",
            "1702    -118.19     33.97                27.0       2911.0           972.0      3559.0       945.0         1.9485            146300.0\n",
            "1703    -116.71     33.75                25.0      10665.0          2161.0      1874.0       852.0         3.0625            150500.0\n",
            "1704    -118.28     33.99                35.0       1138.0           304.0      1128.0       311.0         1.8818            100000.0\n",
            "1705    -118.12     33.85                37.0       2584.0           453.0      1333.0       481.0         4.3661            219900.0\n",
            "1706    -122.53     37.63                27.0       2589.0           658.0      1386.0       608.0         2.9087            228200.0\n",
            "1707    -121.06     37.73                 5.0       2256.0           420.0      1246.0       397.0         4.9236            155900.0\n",
            "1708    -120.88     38.45                25.0       1374.0           297.0       657.0       288.0         2.5476             97900.0\n",
            "1709    -117.11     32.58                12.0       1086.0           294.0       870.0       290.0         2.4213            132500.0\n",
            "1710    -117.90     33.65                27.0       3310.0           598.0      1402.0       563.0         6.6320            441100.0\n",
            "1711    -121.87     37.66                52.0        775.0           134.0       315.0       123.0         5.0677            233300.0\n",
            "1712    -121.30     37.96                52.0       1354.0           314.0       679.0       311.0         1.7788             97400.0\n",
            "1713    -117.80     33.85                16.0       4151.0           637.0      1558.0       604.0         5.8060            304900.0\n",
            "1714    -118.55     34.20                31.0       1963.0           420.0      1494.0       415.0         3.5313            211800.0\n",
            "1715    -118.44     34.24                36.0       1660.0           301.0      1225.0       307.0         4.0950            184000.0\n",
            "1716    -117.91     33.88                34.0       1851.0           291.0       784.0       290.0         5.2336            235600.0\n",
            "1717    -118.51     34.23                27.0       4580.0           918.0      2252.0       850.0         4.7926            454400.0\n",
            "1718    -119.15     34.17                23.0       2239.0           537.0       784.0       497.0         1.6038            194300.0\n",
            "1719    -122.08     37.90                32.0       1075.0           170.0       486.0       173.0         5.0499            306800.0\n",
            "1720    -122.41     37.71                28.0       5015.0          1240.0      3900.0      1029.0         1.2269            181900.0\n",
            "1721    -122.22     37.47                35.0        367.0           113.0       398.0       109.0         2.5000            166700.0\n",
            "1722    -117.87     33.92                17.0       4575.0           764.0      2054.0       737.0         6.0571            272400.0\n",
            "1723    -122.00     36.97                30.0       1029.0           242.0       753.0       249.0         3.1205            240500.0\n",
            "1724    -117.07     32.60                13.0       1607.0           435.0       983.0       400.0         2.2903            106300.0\n",
            "1725    -118.16     34.06                27.0       1675.0           274.0       785.0       275.0         5.8280            301100.0\n",
            "1726    -117.05     33.03                16.0         87.0            20.0        32.0        21.0         4.3571            144600.0\n",
            "1727    -117.24     33.20                26.0       1701.0           404.0       989.0       367.0         2.5119            171700.0\n",
            "1728    -119.73     34.45                44.0       2261.0           328.0       763.0       294.0         6.7449            415600.0\n",
            "1729    -117.32     33.17                18.0       2143.0           299.0       828.0       283.0         4.2383            239000.0\n",
            "1730    -121.83     37.27                14.0       2855.0           380.0      1420.0       383.0         6.6712            311500.0\n",
            "1731    -122.32     40.42                17.0       3019.0           578.0      1538.0       545.0         2.7930             76500.0\n",
            "1732    -121.77     36.94                18.0       1063.0           341.0      1033.0       313.0         2.0192            171300.0\n",
            "1733    -118.27     33.79                39.0       1513.0           365.0      1227.0       354.0         3.3929            184600.0\n",
            "1734    -117.93     33.83                30.0       1561.0           381.0      1104.0       391.0         3.3750            201900.0\n",
            "1735    -117.11     32.82                17.0       1787.0           330.0      1341.0       314.0         2.8750            112500.0\n",
            "1736    -119.23     35.74                16.0       2275.0           659.0      1914.0       614.0         2.0330             68400.0\n",
            "1737    -122.47     37.71                42.0       1961.0           427.0      1211.0       409.0         3.5156            239400.0\n",
            "1738    -121.93     36.63                41.0       1049.0           198.0       428.0       183.0         4.3571            287500.0\n",
            "1739    -117.28     33.02                21.0       2736.0           585.0      1251.0       576.0         4.2356            347700.0\n",
            "1740    -118.99     35.24                40.0        282.0            59.0       213.0        71.0         2.3500             91700.0\n",
            "1741    -119.14     36.23                22.0       2935.0           523.0      1927.0       530.0         2.5875             70400.0\n",
            "1742    -122.42     40.59                24.0       5045.0           972.0      2220.0       979.0         2.6792            138900.0\n",
            "1743    -117.09     32.66                37.0       1232.0           330.0      1086.0       330.0         1.6389            114300.0\n",
            "1744    -118.14     34.70                36.0       1205.0           317.0       678.0       290.0         2.0182             98400.0\n",
            "1745    -122.04     36.98                35.0       2155.0           355.0       866.0       335.0         5.6188            404700.0\n",
            "1746    -117.02     32.80                31.0       2692.0           445.0      1129.0       450.0         4.4583            170000.0\n",
            "1747    -117.29     34.49                 3.0       7689.0          1545.0      3804.0      1399.0         3.3871            111800.0\n",
            "1748    -122.09     37.21                15.0       1969.0           332.0       822.0       324.0         7.8774            394900.0\n",
            "1749    -121.01     37.65                47.0       1713.0           334.0       570.0       297.0         2.1969            149400.0\n",
            "1750    -116.77     33.08                13.0       1406.0           260.0       737.0       279.0         5.5842            239100.0\n",
            "1751    -121.96     37.34                36.0        844.0           153.0       373.0       160.0         5.7910            254100.0\n",
            "1752    -119.70     34.42                41.0        725.0           239.0       582.0       214.0         3.1667            362500.0\n",
            "1753    -119.46     35.17                40.0       4164.0           812.0      1998.0       773.0         2.8323             50800.0\n",
            "1754    -122.01     37.30                25.0       4044.0           551.0      1699.0       533.0         8.0837            380600.0\n",
            "1755    -118.06     33.83                22.0       5290.0          1054.0      2812.0      1021.0         4.5300            226400.0\n",
            "1756    -118.40     34.19                30.0        521.0           126.0       306.0       129.0         4.1125            216700.0\n",
            "1757    -119.63     34.44                37.0       3188.0           442.0       984.0       376.0         9.4522            500001.0\n",
            "1758    -117.89     33.77                29.0       2577.0           445.0      1849.0       470.0         4.4732            194800.0\n",
            "1759    -119.54     36.52                16.0       2703.0           415.0      1106.0       372.0         4.2045            120900.0\n",
            "1760    -118.43     34.17                33.0       1679.0           404.0       933.0       412.0         2.6979            266000.0\n",
            "1761    -117.10     32.58                33.0        393.0            76.0       330.0        80.0         4.1029            122700.0\n",
            "1762    -122.28     37.79                30.0       4145.0           869.0      3668.0       855.0         2.5444            275000.0\n",
            "1763    -118.32     34.11                48.0       4472.0          1579.0      2796.0      1397.0         2.3974            410700.0\n",
            "1764    -118.42     34.02                28.0       3167.0           737.0      1248.0       665.0         3.1941            394700.0\n",
            "1765    -119.56     36.51                 9.0       3860.0           809.0      2157.0       770.0         2.5033             70100.0\n",
            "1766    -122.42     37.78                19.0       4065.0          1645.0      2079.0      1470.0         3.1462            187500.0\n",
            "1767    -120.91     37.73                31.0        840.0           154.0       429.0       150.0         2.4063            170200.0\n",
            "1768    -122.08     37.59                16.0       1816.0           365.0      1367.0       355.0         4.2350            156300.0\n",
            "1769    -121.77     37.31                16.0       1649.0           228.0       769.0       230.0         6.6455            302600.0\n",
            "1770    -117.05     33.03                14.0       5180.0          1051.0      1639.0       991.0         4.5000            222200.0\n",
            "1771    -121.95     37.26                34.0       1482.0           255.0       584.0       246.0         5.5121            264700.0\n",
            "1772    -119.03     35.42                45.0       1628.0           352.0       754.0       334.0         2.5703             62400.0\n",
            "1773    -121.53     38.60                25.0       5154.0          1105.0      3196.0      1073.0         2.7566             80200.0\n",
            "1774    -118.16     33.96                24.0       1635.0           507.0      2480.0       481.0         2.4432            187500.0\n",
            "1775    -121.89     36.60                40.0        626.0           164.0       337.0       150.0         2.7917            225000.0\n",
            "1776    -117.07     33.67                11.0        939.0           187.0       557.0       190.0         2.3750            145800.0\n",
            "1777    -122.39     37.59                32.0       4497.0           730.0      1846.0       715.0         6.1323            500001.0\n",
            "1778    -118.44     34.05                32.0       1880.0           435.0       798.0       417.0         4.7109            500000.0\n",
            "1779    -121.35     38.04                 5.0       4303.0           613.0      2206.0       621.0         5.5842            159100.0\n",
            "1780    -122.42     37.76                52.0       4407.0          1192.0      2280.0      1076.0         3.3937            270000.0\n",
            "1781    -118.02     33.94                33.0       2382.0           404.0      1339.0       389.0         5.3016            192200.0\n",
            "1782    -121.32     38.03                16.0       4045.0           623.0      1862.0       625.0         4.8750            143100.0\n",
            "1783    -118.38     34.05                49.0        702.0           143.0       458.0       187.0         4.8958            333600.0\n",
            "1784    -119.29     36.54                18.0       2581.0           628.0      2732.0       592.0         1.8429             58300.0\n",
            "1785    -117.76     33.54                28.0       2250.0           329.0       826.0       323.0         6.9257            466400.0\n",
            "1786    -122.29     38.29                52.0       3217.0           742.0      1670.0       671.0         2.4398            163100.0\n",
            "1787    -117.80     33.81                14.0       1206.0           142.0       572.0       149.0         8.8470            388700.0\n",
            "1788    -121.95     37.35                52.0       2382.0           523.0      1096.0       492.0         4.2656            236100.0\n",
            "1789    -117.87     33.99                21.0       2837.0           515.0      2031.0       555.0         4.9271            209700.0\n",
            "1790    -121.46     38.56                52.0        907.0           180.0       479.0       177.0         2.2125            104000.0\n",
            "1791    -117.99     34.08                11.0       2399.0           527.0      2307.0       531.0         3.5625            141000.0\n",
            "1792    -121.53     38.50                17.0       3087.0           477.0      1365.0       495.0         6.4667            216800.0\n",
            "1793    -121.14     37.52                37.0       1358.0           231.0       586.0       214.0         3.1645            170800.0\n",
            "1794    -118.29     33.89                35.0       2810.0           614.0      1578.0       601.0         3.5900            200600.0\n",
            "1795    -117.10     33.09                 5.0      12045.0          2162.0      5640.0      1997.0         4.4375            353000.0\n",
            "1796    -123.20     39.23                26.0        786.0           168.0       494.0       161.0         2.3583            105400.0\n",
            "1797    -117.12     32.76                26.0       1221.0           331.0       620.0       296.0         2.4821            123600.0\n",
            "1798    -120.44     34.96                30.0       1685.0           315.0      1290.0       368.0         3.4722            112500.0\n",
            "1799    -115.56     32.78                34.0       2856.0           555.0      1627.0       522.0         3.2083             76200.0\n",
            "1800    -121.47     38.56                51.0       2083.0           559.0       874.0       524.0         2.0221             95800.0\n",
            "1801    -121.68     37.93                44.0       1014.0           225.0       704.0       238.0         1.6554            119400.0\n",
            "1802    -118.10     34.14                26.0       6262.0          1645.0      3001.0      1505.0         3.6572            213200.0\n",
            "1803    -118.43     34.22                34.0       1588.0           360.0      1080.0       340.0         3.6600            184600.0\n",
            "1804    -120.97     37.66                19.0       1974.0           393.0       799.0       377.0         3.1286            137500.0\n",
            "1805    -119.34     34.39                27.0        669.0           131.0       314.0       106.0         2.4659            231300.0\n",
            "1806    -118.50     34.20                34.0       1617.0           344.0       938.0       305.0         3.9150            217700.0\n",
            "1807    -120.98     38.67                13.0       3432.0           516.0      1286.0       470.0         5.5840            186600.0\n",
            "1808    -118.35     34.00                28.0       3085.0           621.0      1162.0       558.0         3.2500            301000.0\n",
            "1809    -122.49     38.22                33.0       1486.0           290.0       781.0       274.0         3.5647            251800.0\n",
            "1810    -118.32     33.97                46.0       1504.0           270.0       814.0       306.0         4.3919            157100.0\n",
            "1811    -117.13     32.69                36.0       1469.0           400.0      1271.0       340.0         1.0430             90100.0\n",
            "1812    -117.03     33.00                 6.0       6139.0           793.0      2693.0       770.0         7.7569            387400.0\n",
            "1813    -122.26     38.02                 5.0       3846.0           786.0      2053.0       716.0         5.0473            184800.0\n",
            "1814    -117.27     32.85                26.0       1373.0           336.0       608.0       268.0         4.4250            475000.0\n",
            "1815    -117.94     33.86                36.0       2824.0           493.0      1394.0       507.0         4.6477            194700.0\n",
            "1816    -119.31     34.70                19.0        961.0           218.0       479.0       138.0         3.3438            156300.0\n",
            "1817    -122.10     37.61                35.0       2361.0           458.0      1727.0       467.0         4.5281            173600.0\n",
            "1818    -118.00     33.90                35.0       1942.0           332.0      1127.0       325.0         4.5144            206300.0\n",
            "1819    -117.37     33.98                43.0       2862.0           772.0      1878.0       675.0         2.1151             96700.0\n",
            "1820    -121.52     38.65                17.0       1269.0           233.0       494.0       231.0         3.9615            331300.0\n",
            "1821    -118.46     34.07                42.0       2564.0           460.0       913.0       414.0         9.2225            500001.0\n",
            "1822    -118.04     34.07                39.0       1382.0           315.0      1090.0       308.0         3.8125            174000.0\n",
            "1823    -118.08     33.88                27.0        923.0           186.0      1014.0       204.0         3.8250            159500.0\n",
            "1824    -122.43     37.80                52.0       2788.0           813.0      1302.0       764.0         4.1990            400000.0\n",
            "1825    -119.29     34.37                41.0       1408.0           311.0       793.0       264.0         2.5441            161200.0\n",
            "1826    -122.04     37.00                52.0       3365.0           644.0       796.0       333.0         2.9712            116600.0\n",
            "1827    -115.57     32.79                50.0       1291.0           277.0       864.0       274.0         1.6667             68100.0\n",
            "1828    -117.56     34.42                 6.0       4264.0           749.0      2005.0       666.0         3.4695            138800.0\n",
            "1829    -120.63     38.68                14.0       1821.0           316.0       769.0       266.0         3.0789            131700.0\n",
            "1830    -118.32     34.09                44.0       2666.0           830.0      2297.0       726.0         1.6760            208800.0\n",
            "1831    -118.35     34.08                52.0       1710.0           350.0       727.0       355.0         4.5833            333900.0\n",
            "1832    -122.27     37.51                36.0       1406.0           224.0       598.0       237.0         5.8964            414800.0\n",
            "1833    -119.06     35.33                14.0       5264.0          1064.0      3278.0      1049.0         3.8117             82800.0\n",
            "1834    -117.15     32.90                12.0       1681.0           381.0      1050.0       362.0         4.2008            176100.0\n",
            "1835    -122.47     37.76                39.0       3200.0           689.0      1391.0       618.0         3.6346            338000.0\n",
            "1836    -122.03     37.31                19.0       2885.0           859.0      1520.0       784.0         3.3750            275700.0\n",
            "1837    -119.31     36.32                23.0       2945.0           592.0      1419.0       532.0         2.5733             88800.0\n",
            "1838    -120.58     38.77                15.0       2155.0           394.0       857.0       356.0         4.0300            141200.0\n",
            "1839    -117.21     34.49                14.0       2125.0           348.0      1067.0       360.0         3.6333            116200.0\n",
            "1840    -122.08     37.65                35.0       1813.0           393.0      1093.0       374.0         3.6818            165400.0\n",
            "1841    -122.25     40.15                15.0       1677.0           346.0       858.0       327.0         2.4375             59200.0\n",
            "1842    -118.21     34.14                44.0       1681.0           407.0      1105.0       387.0         3.2222            186500.0\n",
            "1843    -122.14     37.73                51.0       2619.0           403.0       922.0       393.0         4.6042            251900.0\n",
            "1844    -121.59     39.77                24.0       1535.0           276.0       664.0       273.0         2.3068             97300.0\n",
            "1845    -122.19     37.47                44.0       1371.0           263.0       589.0       301.0         4.8068            312300.0\n",
            "1846    -120.44     34.95                38.0       3004.0           794.0      2601.0       747.0         2.2743            106400.0\n",
            "1847    -121.78     37.31                 7.0       1973.0           328.0      1047.0       303.0         6.2340            292200.0\n",
            "1848    -118.24     34.20                41.0       2067.0           452.0      1282.0       455.0         5.5756            309900.0\n",
            "1849    -121.57     39.16                33.0       2033.0           375.0       914.0       330.0         2.6964             68500.0\n",
            "1850    -119.84     36.83                17.0       2273.0           298.0       700.0       263.0         6.8645            195900.0\n",
            "1851    -119.29     34.44                34.0       4314.0           878.0      2361.0       831.0         3.2279            243100.0\n",
            "1852    -118.14     34.18                52.0       1700.0           317.0       996.0       329.0         3.9688            175000.0\n",
            "1853    -119.57     36.10                37.0       1676.0           316.0       707.0       274.0         2.0595             60700.0\n",
            "1854    -121.80     37.32                23.0       1829.0           346.0      1277.0       324.0         4.8092            217400.0\n",
            "1855    -118.13     34.16                52.0       1596.0           314.0      1024.0       292.0         3.6719            227900.0\n",
            "1856    -121.90     37.46                29.0       2385.0           513.0      1788.0       510.0         3.8421            220700.0\n",
            "1857    -121.92     37.33                52.0       2962.0           557.0      1215.0       506.0         4.7768            301100.0\n",
            "1858    -123.10     39.36                19.0       1056.0           248.0       611.0       226.0         1.7460            105000.0\n",
            "1859    -122.86     40.56                12.0       1350.0           300.0       423.0       172.0         1.7393             81300.0\n",
            "1860    -122.44     37.75                52.0       3114.0           637.0      1144.0       591.0         4.0000            375000.0\n",
            "1861    -120.62     35.12                22.0       1240.0           294.0       768.0       288.0         2.6550            160000.0\n",
            "1862    -118.36     33.88                22.0       1388.0           336.0       930.0       287.0         2.7981            275000.0\n",
            "1863    -118.36     33.82                26.0       5166.0          1313.0      2738.0      1239.0         3.3565            360800.0\n",
            "1864    -118.27     33.77                39.0       1731.0           485.0      2115.0       478.0         1.5369            141300.0\n",
            "1865    -122.28     37.90                52.0       2003.0           250.0       658.0       244.0        10.0825            397000.0\n",
            "1866    -117.98     33.66                26.0       3527.0           547.0      1615.0       542.0         6.1624            279400.0\n",
            "1867    -118.21     33.93                39.0        354.0            73.0       184.0        58.0         2.7679            108900.0\n",
            "1868    -120.43     37.35                15.0       1613.0           203.0       673.0       213.0         5.9378            212200.0\n",
            "1869    -120.96     37.48                32.0       1256.0           212.0       682.0       236.0         2.9844            135900.0\n",
            "1870    -117.33     34.12                33.0        933.0           219.0       838.0       211.0         1.3417             69000.0\n",
            "1871    -119.81     36.78                36.0       1650.0           313.0       660.0       298.0         3.0000             79700.0\n",
            "1872    -118.38     34.05                35.0       3517.0           879.0      1632.0       784.0         3.0956            500001.0\n",
            "1873    -117.96     33.80                33.0       1984.0           420.0      1119.0       387.0         3.4821            231300.0\n",
            "1874    -118.43     34.24                37.0       1279.0           241.0       987.0       233.0         4.0057            172700.0\n",
            "1875    -117.87     33.79                25.0       2546.0           545.0      1543.0       521.0         4.1920            219900.0\n",
            "1876    -124.18     40.79                40.0       1398.0           311.0       788.0       279.0         1.4668             64600.0\n",
            "1877    -117.24     32.83                18.0       3109.0           501.0       949.0       368.0         7.4351            445700.0\n",
            "1878    -121.57     37.00                18.0       7241.0          1225.0      4168.0      1138.0         4.5714            260300.0\n",
            "1879    -117.37     33.19                38.0        861.0           213.0       486.0       204.0         4.1875            185000.0\n",
            "1880    -121.89     37.46                 5.0       1519.0           186.0       705.0       186.0        10.3798            500001.0\n",
            "1881    -122.68     38.01                41.0       1865.0           392.0       825.0       369.0         4.2011            255400.0\n",
            "1882    -118.31     34.02                46.0       2217.0           489.0      1227.0       448.0         1.6851            108800.0\n",
            "1883    -118.29     33.89                33.0       2138.0           567.0      1072.0       528.0         2.7428            208900.0\n",
            "1884    -117.30     34.12                43.0       1018.0           261.0       736.0       215.0         2.6000             66900.0\n",
            "1885    -117.30     33.85                15.0       3991.0           751.0      2317.0       657.0         2.9542            127900.0\n",
            "1886    -117.35     33.16                22.0       1331.0           305.0       580.0       193.0         3.9750            500001.0\n",
            "1887    -122.43     37.76                52.0       2242.0           459.0       751.0       464.0         4.7500            500001.0\n",
            "1888    -119.01     35.39                29.0       1820.0           459.0      1134.0       419.0         1.8289             59400.0\n",
            "1889    -121.57     37.01                44.0       1448.0           393.0      1066.0       357.0         2.0625            170300.0\n",
            "1890    -122.42     37.65                39.0       4402.0           894.0      2941.0       887.0         3.8565            239800.0\n",
            "1891    -122.43     37.78                49.0       2246.0           587.0      1277.0       546.0         2.9792            350000.0\n",
            "1892    -118.13     33.90                36.0       1477.0           305.0       788.0       291.0         3.6250            195800.0\n",
            "1893    -118.06     33.82                25.0       2637.0           462.0       965.0       415.0         4.5833            190900.0\n",
            "1894    -119.22     34.34                29.0       3128.0           672.0      1815.0       648.0         2.9821            175700.0\n",
            "1895    -121.51     38.55                46.0       1485.0           278.0       531.0       291.0         2.7885            137200.0\n",
            "1896    -121.42     38.50                24.0       7740.0          1539.0      4333.0      1397.0         3.0250             87900.0\n",
            "1897    -122.26     37.85                52.0       2202.0           434.0       910.0       402.0         3.2031            281500.0\n",
            "1898    -118.40     33.87                26.0       6712.0          1441.0      2803.0      1394.0         5.2276            434500.0\n",
            "1899    -118.38     33.89                35.0       1778.0           330.0       732.0       312.0         6.5745            379300.0\n",
            "1900    -119.95     36.96                18.0       1996.0           379.0      1327.0       356.0         2.6087             96000.0\n",
            "1901    -118.12     34.02                32.0       1789.0           528.0      1429.0       517.0         1.8906            224500.0\n",
            "1902    -117.90     36.95                19.0         99.0            26.0        51.0        22.0         1.7292            137500.0\n",
            "1903    -116.28     32.84                18.0        382.0           128.0       194.0        69.0         2.5179             58800.0\n",
            "1904    -122.45     37.77                52.0       1722.0           465.0       885.0       437.0         3.0906            500001.0\n",
            "1905    -121.62     39.76                14.0       2063.0           559.0       934.0       529.0         1.7788             85800.0\n",
            "1906    -122.00     38.35                24.0        745.0           116.0       300.0       115.0         3.6176            158500.0\n",
            "1907    -121.71     39.25                37.0       1871.0           321.0       806.0       294.0         4.0000            101400.0\n",
            "1908    -119.19     34.22                26.0       3175.0           736.0      2460.0       775.0         3.1250            219900.0\n",
            "1909    -118.06     33.91                21.0       2863.0           701.0      1489.0       621.0         3.2031            180700.0\n",
            "1910    -118.00     33.93                35.0       1288.0           240.0       758.0       250.0         4.9205            173900.0\n",
            "1911    -118.26     34.11                47.0       2183.0           510.0      1445.0       503.0         3.6667            210900.0\n",
            "1912    -118.51     34.26                29.0       2472.0           354.0      1109.0       397.0         5.5433            332500.0\n",
            "1913    -117.96     33.98                25.0       1259.0           184.0       599.0       170.0         5.7407            302200.0\n",
            "1914    -123.39     38.99                28.0       1416.0           294.0       812.0       258.0         3.4063            109400.0\n",
            "1915    -121.69     38.16                33.0       1808.0           363.0       824.0       340.0         3.2937             96400.0\n",
            "1916    -121.93     37.32                51.0       2711.0           728.0      1607.0       724.0         3.0000            184700.0\n",
            "1917    -117.26     33.26                 9.0       4609.0           798.0      2582.0       746.0         4.3429            173900.0\n",
            "1918    -121.41     38.53                37.0       1058.0           224.0       588.0       231.0         2.9737             72100.0\n",
            "1919    -117.90     33.90                18.0       3821.0           576.0      1430.0       568.0         6.9399            349600.0\n",
            "1920    -118.54     36.12                11.0       4103.0           882.0       356.0       171.0         2.1029             99100.0\n",
            "1921    -117.24     32.82                20.0       2467.0           332.0       731.0       335.0         7.2559            392300.0\n",
            "1922    -121.90     37.24                24.0       7521.0          1364.0      3970.0      1318.0         4.4004            255800.0\n",
            "1923    -118.17     33.87                49.0       1937.0           445.0      1339.0       440.0         3.0319            162800.0\n",
            "1924    -117.31     33.16                 4.0       5846.0           894.0      2282.0       801.0         5.5956            247800.0\n",
            "1925    -118.41     34.17                35.0       2027.0           428.0       879.0       402.0         4.6920            330900.0\n",
            "1926    -118.38     34.22                32.0        362.0           100.0       348.0       102.0         2.2679            150000.0\n",
            "1927    -117.16     33.73                10.0       2381.0           454.0      1323.0       477.0         2.6322            140700.0\n",
            "1928    -119.71     34.40                27.0       3782.0           771.0      1742.0       751.0         4.0451            395100.0\n",
            "1929    -117.36     33.20                26.0       2447.0           482.0      1405.0       486.0         3.2917            150800.0\n",
            "1930    -118.21     33.80                41.0       1251.0           279.0      1053.0       278.0         3.2778            150800.0\n",
            "1931    -120.93     39.90                20.0       1511.0           328.0       791.0       320.0         2.0221             70900.0\n",
            "1932    -118.13     33.84                48.0       1895.0           294.0       881.0       293.0         6.3364            307400.0\n",
            "1933    -118.27     33.93                41.0        570.0           135.0       466.0       121.0         2.6458             91300.0\n",
            "1934    -118.05     33.78                25.0       2356.0           330.0       937.0       326.0         6.6264            359100.0\n",
            "1935    -118.43     34.27                36.0       1002.0           250.0      1312.0       249.0         3.0240            148000.0\n",
            "1936    -118.37     33.91                35.0       1742.0           283.0       812.0       282.0         5.6704            303700.0\n",
            "1937    -122.50     37.75                46.0       2298.0           457.0      1429.0       477.0         4.0217            272400.0\n",
            "1938    -118.30     34.01                52.0       1908.0           428.0      1271.0       394.0         2.5885            136200.0\n",
            "1939    -119.16     34.15                23.0       3204.0           644.0      2295.0       614.0         3.9485            196600.0\n",
            "1940    -117.04     32.68                14.0       1320.0           270.0       943.0       260.0         5.0947            152700.0\n",
            "1941    -121.40     38.61                37.0       1994.0           347.0       782.0       355.0         4.1488            136400.0\n",
            "1942    -118.03     33.93                35.0       2470.0           416.0      1386.0       411.0         5.2736            179500.0\n",
            "1943    -119.89     34.44                25.0       2786.0           470.0      1669.0       462.0         5.5184            268300.0\n",
            "1944    -120.88     38.58                 8.0       3417.0           604.0      1703.0       623.0         4.0827            170700.0\n",
            "1945    -118.21     33.79                32.0       2020.0           613.0      2557.0       562.0         2.1397            145300.0\n",
            "1946    -121.46     38.57                52.0       1625.0           419.0       614.0       383.0         2.0549            156700.0\n",
            "1947    -122.02     37.31                34.0       2629.0           433.0      1301.0       431.0         6.0830            341400.0\n",
            "1948    -118.50     34.16                34.0       3547.0           523.0      1187.0       500.0         7.1390            424000.0\n",
            "1949    -121.32     38.66                26.0       1149.0           193.0       500.0       194.0         5.0780            163400.0\n",
            "1950    -118.09     33.89                42.0        991.0           215.0       717.0       219.0         4.0926            164400.0\n",
            "1951    -118.39     33.82                30.0       3433.0           918.0      1526.0       828.0         4.5817            500001.0\n",
            "1952    -118.00     33.96                37.0       2414.0           323.0       878.0       305.0         9.1541            453800.0\n",
            "1953    -117.26     33.19                 4.0       2342.0           595.0      1518.0       545.0         2.9469            216100.0\n",
            "1954    -122.47     37.87                36.0       4471.0           618.0      1315.0       582.0        11.5706            500001.0\n",
            "1955    -117.06     32.71                25.0       2681.0           596.0      1947.0       553.0         2.8964            104300.0\n",
            "1956    -117.44     33.93                33.0       1371.0           236.0       715.0       227.0         4.3750            129900.0\n",
            "1957    -118.12     33.99                26.0       2296.0           534.0      1777.0       507.0         2.5395            191000.0\n",
            "1958    -118.15     34.18                46.0       2230.0           488.0      1985.0       456.0         2.2328            142100.0\n",
            "1959    -120.43     34.69                33.0       2054.0           373.0      1067.0       358.0         3.6023            128300.0\n",
            "1960    -120.84     37.53                14.0       3643.0           706.0      2070.0       697.0         3.1523            141800.0\n",
            "1961    -122.07     37.13                26.0       1127.0           199.0       543.0       199.0         4.9792            240000.0\n",
            "1962    -118.41     33.96                32.0       1044.0           219.0       567.0       222.0         4.1471            284400.0\n",
            "1963    -121.51     38.79                29.0       1716.0           323.0       850.0       282.0         2.9324            137500.0\n",
            "1964    -117.33     33.19                15.0       3672.0           845.0      1827.0       796.0         2.9716            173600.0\n",
            "1965    -116.54     33.87                16.0       3648.0          1035.0      1687.0       581.0         1.9167             70400.0\n",
            "1966    -118.50     34.20                18.0       4249.0           933.0      2047.0       909.0         4.1304            229100.0\n",
            "1967    -118.30     33.75                23.0       1957.0           517.0      1454.0       526.0         3.5056            203100.0\n",
            "1968    -117.99     33.73                24.0       2104.0           421.0      1181.0       414.0         3.8365            250900.0\n",
            "1969    -118.11     33.89                34.0       2508.0           594.0      1549.0       545.0         3.2069            236500.0\n",
            "1970    -122.73     38.43                29.0       2677.0           691.0      1880.0       664.0         2.1864            143200.0\n",
            "1971    -119.64     36.34                32.0       2958.0           670.0      1504.0       627.0         1.8606             56700.0\n",
            "1972    -116.87     34.24                15.0       4419.0           822.0       622.0       267.0         3.9688            182800.0\n",
            "1973    -118.22     33.98                34.0       2283.0           809.0      3032.0       832.0         2.4387            175000.0\n",
            "1974    -122.34     37.97                19.0        392.0           109.0       287.0        81.0         6.0426            110000.0\n",
            "1975    -118.08     33.82                26.0       4259.0           588.0      1644.0       581.0         6.2519            345700.0\n",
            "1976    -117.70     33.48                 6.0      16590.0          2696.0      6223.0      2357.0         6.3088            340300.0\n",
            "1977    -118.22     33.88                37.0       1149.0           280.0      1016.0       250.0         2.1250            101900.0\n",
            "1978    -120.97     38.91                 7.0       4341.0           716.0      1978.0       682.0         4.8311            172200.0\n",
            "1979    -122.25     37.80                29.0       2468.0           864.0      1335.0       773.0         1.3929            193800.0\n",
            "1980    -118.41     33.88                40.0        925.0           254.0       371.0       227.0         5.2533            500001.0\n",
            "1981    -117.04     32.69                27.0       1790.0           356.0      1286.0       347.0         3.5437            115800.0\n",
            "1982    -122.41     38.16                37.0       1549.0           301.0       863.0       275.0         2.7457            254700.0\n",
            "1983    -120.25     37.93                13.0        493.0            76.0       196.0        68.0         3.3750            134100.0\n",
            "1984    -121.98     38.39                 3.0       9488.0          1417.0      4095.0      1335.0         5.1781            191900.0\n",
            "1985    -122.47     37.72                47.0       1176.0           286.0       564.0       258.0         3.2059            350000.0\n",
            "1986    -118.18     34.13                39.0       2902.0           460.0      1007.0       420.0         6.1953            363000.0\n",
            "1987    -118.09     33.99                35.0       2787.0           639.0      1923.0       614.0         3.5757            177900.0\n",
            "1988    -121.94     37.75                16.0       5121.0           735.0      2464.0       761.0         6.6204            296100.0\n",
            "1989    -117.07     32.74                38.0       1901.0           392.0      1099.0       406.0         2.7661            113900.0\n",
            "1990    -118.14     34.04                40.0       1966.0           391.0      1120.0       362.0         3.7109            198800.0\n",
            "1991    -122.41     37.81                25.0       1178.0           545.0       592.0       441.0         3.6728            500001.0\n",
            "1992    -117.71     33.63                16.0       1641.0           354.0       945.0       318.0         3.4261            219700.0\n",
            "1993    -119.64     34.43                34.0       3045.0           570.0      1002.0       488.0         5.6230            500001.0\n",
            "1994    -118.10     33.98                33.0       1927.0           482.0      1623.0       479.0         3.5268            152000.0\n",
            "1995    -122.04     37.39                 5.0       8745.0          2211.0      3959.0      2019.0         4.7685            280100.0\n",
            "1996    -122.03     37.18                10.0        212.0            38.0        78.0        21.0         6.0622            390000.0\n",
            "1997    -122.30     37.56                36.0       1379.0           228.0       750.0       227.0         5.5381            282000.0\n",
            "1998    -117.36     33.92                 7.0       9376.0          1181.0      3570.0      1107.0         8.5326            315200.0\n",
            "1999    -121.38     37.88                44.0       1158.0           226.0      1094.0       224.0         2.6842            156300.0\n",
            "2000    -119.98     38.93                28.0       1194.0           272.0       494.0       203.0         2.3281             85800.0\n",
            "2001    -117.16     32.71                52.0        845.0           451.0      1230.0       375.0         1.0918             22500.0\n",
            "2002    -122.36     37.93                17.0       1258.0           254.0       885.0       229.0         3.0500            121600.0\n",
            "2003    -118.23     34.17                37.0       4524.0          1005.0      2099.0       937.0         3.5781            366700.0\n",
            "2004    -118.47     34.10                32.0       8041.0          1141.0      2768.0      1106.0        11.1978            500001.0\n",
            "2005    -124.14     40.80                32.0       1373.0           312.0       872.0       306.0         2.5000             72600.0\n",
            "2006    -117.80     33.55                35.0       2067.0           428.0       724.0       377.0         5.8371            500001.0\n",
            "2007    -118.02     34.12                38.0       1778.0           288.0       870.0       281.0         6.5784            408500.0\n",
            "2008    -122.74     38.48                12.0       4174.0           670.0      1882.0       647.0         4.5510            178300.0\n",
            "2009    -118.34     33.83                34.0       1761.0           329.0       965.0       329.0         5.3990            358500.0\n",
            "2010    -120.68     35.29                37.0       1354.0           293.0       753.0       290.0         3.2500            225000.0\n",
            "2011    -122.45     37.64                19.0       6326.0          1025.0      3444.0       984.0         6.2498            353300.0\n",
            "2012    -122.04     37.62                35.0       1032.0           173.0       453.0       176.0         6.3960            208500.0\n",
            "2013    -122.79     38.54                 5.0       3986.0           737.0      1887.0       687.0         3.7768            213800.0\n",
            "2014    -117.22     32.86                 4.0      16289.0          4585.0      7604.0      4176.0         3.6287            280800.0\n",
            "2015    -120.08     39.61                32.0       1404.0           247.0       544.0       201.0         2.7778             72900.0\n",
            "2016    -118.36     34.15                41.0       3545.0           698.0      1221.0       651.0         4.3000            500001.0\n",
            "2017    -121.36     38.56                17.0       6225.0           938.0      3064.0       947.0         5.2881            138000.0\n",
            "2018    -122.32     41.31                45.0       1393.0           294.0       521.0       249.0         1.1915             71900.0\n",
            "2019    -121.59     39.75                20.0        908.0           206.0       481.0       211.0         2.2000             80800.0\n",
            "2020    -117.30     34.15                45.0        942.0           166.0       401.0       174.0         3.8594             90800.0\n",
            "2021    -117.71     33.65                16.0       3774.0           456.0      1587.0       430.0         8.6088            307400.0\n",
            "2022    -118.31     34.26                37.0       1444.0           246.0       624.0       239.0         5.7600            239400.0\n",
            "2023    -122.04     36.98                51.0       1076.0           206.0       495.0       201.0         2.9286            258300.0\n",
            "2024    -118.26     34.24                35.0       1535.0           283.0       816.0       287.0         6.1873            312100.0\n",
            "2025    -118.28     33.96                39.0        882.0           221.0       697.0       189.0         1.8472             99100.0\n",
            "2026    -123.50     39.67                22.0       2124.0           450.0      1122.0       446.0         2.1793             71500.0\n",
            "2027    -117.19     33.14                12.0       3652.0           923.0      1677.0       728.0         2.3267             92000.0\n",
            "2028    -121.12     38.86                17.0       3949.0           717.0      1683.0       686.0         3.3802            216500.0\n",
            "2029    -118.41     34.21                35.0       2215.0           459.0      1594.0       446.0         4.0167            193200.0\n",
            "2030    -116.54     33.82                12.0       9482.0          2501.0      2725.0      1300.0         1.5595            115600.0\n",
            "2031    -121.61     39.76                31.0       2431.0           512.0      1026.0       427.0         2.5428             85000.0\n",
            "2032    -121.99     37.92                14.0       1780.0           224.0       764.0       226.0         9.0243            427700.0\n",
            "2033    -122.06     37.54                20.0       6483.0          1068.0      3526.0      1060.0         5.0838            248200.0\n",
            "2034    -122.08     37.72                32.0       2476.0           368.0      1048.0       367.0         5.6194            274700.0\n",
            "2035    -118.93     36.10                19.0       2988.0           681.0      1654.0       576.0         2.3792             90000.0\n",
            "2036    -122.78     38.97                11.0       5175.0           971.0      2144.0       792.0         3.0466             97300.0\n",
            "2037    -121.22     37.97                37.0       1514.0           337.0      1121.0       337.0         2.4010             58400.0\n",
            "2038    -121.47     38.61                35.0       1372.0           360.0       850.0       328.0         1.6331             67500.0\n",
            "2039    -122.31     37.54                49.0       1340.0           281.0       660.0       284.0         4.1630            393800.0\n",
            "2040    -122.00     37.30                29.0       3429.0           524.0      1518.0       520.0         7.2180            400700.0\n",
            "2041    -122.41     37.80                52.0        812.0           252.0       629.0       247.0         2.5875            500001.0\n",
            "2042    -118.29     34.05                34.0       1102.0           448.0      1325.0       439.0         1.5972            168800.0\n",
            "2043    -118.61     34.15                32.0       4491.0           815.0      1696.0       749.0         4.9102            319100.0\n",
            "2044    -116.48     33.84                 5.0       5480.0          1371.0      1050.0       485.0         1.7204            137500.0\n",
            "2045    -118.26     33.78                27.0       1672.0           491.0      1723.0       462.0         2.0458            174500.0\n",
            "2046    -117.34     34.51                 6.0       5667.0          1385.0      2447.0      1199.0         2.3617            103100.0\n",
            "2047    -122.46     37.67                16.0       3372.0          1101.0      2049.0      1021.0         4.1303            146500.0\n",
            "2048    -118.35     34.11                33.0       7478.0          1678.0      2701.0      1500.0         4.1717            500001.0\n",
            "2049    -117.30     34.10                44.0        589.0           130.0       504.0       137.0         1.7750             63400.0\n",
            "2050    -118.44     34.15                44.0       1778.0           251.0       641.0       251.0        10.0549            500001.0\n",
            "2051    -118.63     34.18                32.0       1646.0           242.0       697.0       233.0         6.6689            433000.0\n",
            "2052    -117.95     33.76                24.0       3956.0           812.0      3196.0       795.0         4.3512            191400.0\n",
            "2053    -122.25     37.45                34.0       2999.0           365.0       927.0       369.0        10.2811            500001.0\n",
            "2054    -117.59     33.65                 4.0       1793.0           390.0       897.0       386.0         4.2463            182800.0\n",
            "2055    -114.49     33.97                17.0       2809.0           635.0        83.0        45.0         1.6154             87500.0\n",
            "2056    -118.51     34.20                34.0       2871.0           581.0      1350.0       535.0         3.7049            227500.0\n",
            "2057    -122.03     38.01                27.0       3228.0           562.0      1666.0       588.0         4.5707            175900.0\n",
            "2058    -118.43     33.99                45.0       2092.0           451.0      1190.0       429.0         3.8021            323000.0\n",
            "2059    -122.51     37.76                43.0       2345.0           624.0      1439.0       614.0         2.8448            268900.0\n",
            "2060    -119.55     36.69                21.0       1551.0           423.0      1519.0       406.0         1.7132             55900.0\n",
            "2061    -122.24     38.15                10.0       6817.0          1188.0      4163.0      1135.0         4.4529            144100.0\n",
            "2062    -117.87     34.02                16.0       3552.0           575.0      2120.0       573.0         6.4333            271500.0\n",
            "2063    -122.13     37.70                21.0       4124.0          1054.0      2162.0       998.0         2.6321            223100.0\n",
            "2064    -121.33     38.60                25.0       4260.0           607.0      1635.0       640.0         6.2817            288200.0\n",
            "2065    -121.91     37.47                13.0       5377.0           744.0      2759.0       760.0         6.8680            337300.0\n",
            "2066    -118.53     34.04                45.0       1711.0           264.0       735.0       261.0         9.1078            500001.0\n",
            "2067    -121.33     38.00                32.0       4474.0           929.0      2177.0       884.0         3.2889             98900.0\n",
            "2068    -117.85     34.06                24.0       3128.0           497.0      1406.0       472.0         7.5286            462700.0\n",
            "2069    -118.43     35.12                 8.0       1968.0           376.0       930.0       360.0         3.2632             99800.0\n",
            "2070    -118.07     33.97                36.0       1265.0           273.0      1052.0       253.0         4.8929            156200.0\n",
            "2071    -117.16     32.78                34.0       2515.0           488.0      1594.0       515.0         3.7381            165000.0\n",
            "2072    -116.29     34.18                15.0       4203.0           966.0      1756.0       695.0         2.1820             60800.0\n",
            "2073    -120.66     35.29                16.0       2272.0           629.0      1689.0       649.0         1.7031            195000.0\n",
            "2074    -119.79     36.77                30.0       1610.0           410.0      1000.0       397.0         2.0357             60200.0\n",
            "2075    -122.14     37.75                33.0       1334.0           200.0       579.0       202.0         6.8323            255900.0\n",
            "2076    -122.32     37.97                33.0       1595.0           292.0       991.0       300.0         4.6937            134100.0\n",
            "2077    -119.80     36.83                17.0       1560.0           261.0       709.0       258.0         4.3315             95800.0\n",
            "2078    -117.33     33.16                29.0       3559.0           552.0      1533.0       545.0         4.0585            245500.0\n",
            "2079    -121.86     37.23                24.0       4337.0           670.0      1936.0       652.0         5.8904            271400.0\n",
            "2080    -122.24     37.81                52.0       2093.0           550.0       918.0       483.0         2.7477            243800.0\n",
            "2081    -120.85     37.77                10.0        423.0           110.0       295.0        94.0         1.3583             85200.0\n",
            "2082    -116.95     33.79                20.0       2399.0           546.0      1726.0       542.0         1.8845             77700.0\n",
            "2083    -117.22     33.22                16.0       2134.0           643.0      1555.0       560.0         1.7217            175000.0\n",
            "2084    -122.23     40.17                21.0       1401.0           331.0       651.0       299.0         2.2250             64700.0\n",
            "2085    -118.45     34.03                41.0       2083.0           528.0       993.0       481.0         4.0231            353900.0\n",
            "2086    -118.99     35.27                32.0        444.0           102.0       242.0        87.0         1.1528            150000.0\n",
            "2087    -117.58     33.87                34.0       1511.0           272.0       773.0       265.0         3.5313            142100.0\n",
            "2088    -118.65     36.57                20.0       1431.0           416.0       570.0       225.0         1.4821            143300.0\n",
            "2089    -121.40     38.66                50.0        880.0           150.0      1148.0       148.0         2.5062            112500.0\n",
            "2090    -119.46     35.86                22.0       1750.0           374.0      1113.0       338.0         1.5050             42700.0\n",
            "2091    -118.22     33.98                32.0       2643.0           737.0      2784.0       711.0         2.5352            184400.0\n",
            "2092    -118.38     33.82                35.0       3053.0           623.0      1311.0       589.0         5.1589            439200.0\n",
            "2093    -117.77     33.69                16.0       1666.0           341.0       479.0       336.0         2.1406             55000.0\n",
            "2094    -118.46     34.18                35.0       1819.0           465.0      1336.0       419.0         3.4583            253200.0\n",
            "2095    -122.42     37.79                 6.0        670.0           301.0       655.0       284.0         3.4423            117500.0\n",
            "2096    -118.31     33.77                20.0       5776.0           956.0      2757.0       936.0         6.6447            416800.0\n",
            "2097    -121.67     37.13                19.0       3269.0           483.0      1383.0       452.0         5.6205            300800.0\n",
            "2098    -121.33     38.57                17.0       1621.0           350.0       706.0       338.0         2.3684            150000.0\n",
            "2099    -120.83     37.52                 6.0       1488.0           252.0       773.0       259.0         4.1859            150000.0\n",
            "2100    -118.12     33.99                27.0       2316.0           559.0      2012.0       544.0         2.8155            176800.0\n",
            "2101    -118.11     34.07                39.0       1270.0           299.0      1073.0       278.0         3.3088            186600.0\n",
            "2102    -122.67     38.24                29.0       2644.0           464.0      1372.0       450.0         5.0544            261800.0\n",
            "2103    -117.29     34.09                24.0       1451.0           387.0      1178.0       330.0         1.1806             68300.0\n",
            "2104    -121.80     37.19                45.0       1797.0           303.0       870.0       281.0         4.5417            434500.0\n",
            "2105    -120.30     37.97                17.0       3243.0           619.0      1408.0       566.0         2.4740            120100.0\n",
            "2106    -120.45     34.65                21.0       1182.0           243.0       733.0       251.0         3.1442            131600.0\n",
            "2107    -119.29     34.23                22.0       2486.0           608.0       709.0       523.0         2.9018            275000.0\n",
            "2108    -118.34     34.02                49.0       1609.0           371.0       896.0       389.0         2.5156            136600.0\n",
            "2109    -117.94     33.80                23.0       2757.0           734.0      1811.0       707.0         2.8000            214300.0\n",
            "2110    -116.85     34.26                19.0       5395.0          1220.0       981.0       366.0         2.6094             92400.0\n",
            "2111    -117.89     33.76                34.0       1050.0           210.0       723.0       201.0         4.8000            192700.0\n",
            "2112    -118.29     34.03                27.0       1084.0           287.0      1085.0       279.0         2.1350            119600.0\n",
            "2113    -118.12     34.06                35.0       1729.0           438.0      1308.0       412.0         2.5321            197200.0\n",
            "2114    -121.41     38.60                16.0       5407.0          1467.0      2523.0      1265.0         2.0471            104200.0\n",
            "2115    -120.62     35.13                26.0       3971.0           803.0      1792.0       723.0         2.7128            209900.0\n",
            "2116    -118.18     33.80                42.0       2301.0           621.0      2114.0       561.0         2.0579            132700.0\n",
            "2117    -117.51     34.16                 2.0        718.0            98.0       119.0        50.0         4.1000            315000.0\n",
            "2118    -118.16     34.03                40.0       2201.0           636.0      2682.0       595.0         2.3590            143400.0\n",
            "2119    -118.17     34.11                39.0       1758.0           436.0       892.0       447.0         3.6406            278900.0\n",
            "2120    -117.69     33.65                15.0       5394.0           748.0      2383.0       706.0         7.5619            302000.0\n",
            "2121    -122.20     37.77                41.0       1547.0           415.0      1024.0       341.0         2.0562            102000.0\n",
            "2122    -121.33     37.96                42.0       1619.0           340.0       906.0       339.0         2.5488             80300.0\n",
            "2123    -121.84     38.13                33.0        596.0           105.0       212.0        94.0         4.2813             81300.0\n",
            "2124    -117.76     34.05                36.0       2910.0           819.0      3055.0       782.0         1.9029             98000.0\n",
            "2125    -122.43     37.79                52.0       3219.0           969.0      1152.0       830.0         4.2042            500001.0\n",
            "2126    -122.32     37.57                33.0       3384.0           819.0      2626.0       793.0         3.2285            234800.0\n",
            "2127    -118.16     34.07                42.0       3836.0           777.0      2118.0       754.0         3.6364            254600.0\n",
            "2128    -124.09     40.95                18.0       2250.0           484.0      1248.0       472.0         2.5893             99600.0\n",
            "2129    -121.99     38.35                45.0       1778.0           339.0       839.0       319.0         2.4659            102900.0\n",
            "2130    -122.72     38.42                26.0       3604.0           734.0      2605.0       704.0         3.0969            143800.0\n",
            "2131    -122.11     37.66                29.0       2544.0           643.0      2332.0       603.0         3.2091            150000.0\n",
            "2132    -121.84     36.62                26.0         32.0             8.0        27.0        10.0         2.2250            150000.0\n",
            "2133    -118.18     34.12                29.0       2640.0           737.0      1795.0       655.0         2.3690            173400.0\n",
            "2134    -122.45     38.27                25.0       5024.0           881.0      1994.0       838.0         4.2237            262300.0\n",
            "2135    -117.91     33.65                17.0       1328.0           377.0       762.0       344.0         2.2222            276800.0\n",
            "2136    -116.47     33.77                26.0       4300.0           767.0      1557.0       669.0         4.4107            122500.0\n",
            "2137    -122.41     37.73                42.0       2604.0           573.0      1703.0       507.0         3.4231            230200.0\n",
            "2138    -119.78     36.80                34.0       2200.0           493.0      1243.0       431.0         1.8514             66500.0\n",
            "2139    -119.71     34.36                34.0       1706.0           276.0       628.0       243.0         4.1842            364000.0\n",
            "2140    -118.36     34.03                40.0       2323.0           661.0      1847.0       614.0         1.8316            113500.0\n",
            "2141    -121.89     37.99                 4.0       2171.0           597.0       928.0       461.0         4.1016            170500.0\n",
            "2142    -121.98     37.33                25.0       3223.0           612.0      1529.0       602.0         5.1210            287600.0\n",
            "2143    -118.47     34.25                34.0       1732.0           399.0      1120.0       401.0         4.1492            195700.0\n",
            "2144    -117.26     32.99                16.0       2127.0           512.0      1532.0       499.0         2.7348            231300.0\n",
            "2145    -118.09     34.07                45.0        726.0           146.0       568.0       160.0         3.0347            183200.0\n",
            "2146    -118.45     37.25                20.0       1468.0           283.0       721.0       270.0         3.0817            118800.0\n",
            "2147    -117.78     33.54                29.0       1421.0           462.0       520.0       339.0         2.2969            450000.0\n",
            "2148    -117.46     33.90                10.0       9738.0          2130.0      4936.0      1840.0         3.3187            144800.0\n",
            "2149    -121.85     39.74                39.0       1139.0           265.0       623.0       264.0         2.2833             85800.0\n",
            "2150    -117.29     34.11                48.0       1498.0           448.0      1586.0       455.0         1.1687             70800.0\n",
            "2151    -121.20     37.79                36.0        866.0           160.0       502.0       149.0         2.4798            101500.0\n",
            "2152    -118.43     33.96                20.0       1901.0           270.0       704.0       254.0         8.7819            500001.0\n",
            "2153    -122.11     37.40                15.0        255.0            63.0       138.0        74.0         4.6591            175000.0\n",
            "2154    -119.06     36.08                19.0       2554.0           443.0      1301.0       419.0         4.1856             72100.0\n",
            "2155    -118.37     33.88                20.0       2439.0           474.0      1219.0       497.0         5.9619            335900.0\n",
            "2156    -120.79     38.43                40.0       1391.0           246.0       546.0       214.0         3.9107            129800.0\n",
            "2157    -122.20     39.93                 9.0       1296.0           287.0       768.0       260.0         1.9191             54400.0\n",
            "2158    -122.23     37.76                52.0       1049.0           185.0       374.0       176.0         4.1458            248500.0\n",
            "2159    -121.99     38.53                 6.0       4598.0           834.0      2561.0       812.0         3.4186            127300.0\n",
            "2160    -118.46     34.02                39.0       3599.0           776.0      1569.0       763.0         5.2571            405400.0\n",
            "2161    -115.60     33.04                31.0        314.0            61.0       152.0        56.0         3.3472             91700.0\n",
            "2162    -117.22     32.78                22.0       2020.0           466.0      1010.0       429.0         3.4527            175000.0\n",
            "2163    -118.63     34.22                18.0       1376.0           225.0       670.0       205.0         6.5146            277600.0\n",
            "2164    -124.14     40.72                18.0       2581.0           499.0      1375.0       503.0         2.8446            100500.0\n",
            "2165    -116.43     33.78                17.0       4293.0           712.0      1091.0       464.0         6.1437            232100.0\n",
            "2166    -117.89     33.73                32.0        728.0           134.0       837.0       135.0         4.0769            163900.0\n",
            "2167    -117.70     33.53                 5.0       6698.0          1254.0      2834.0      1139.0         5.9088            288500.0\n",
            "2168    -122.47     37.85                19.0       1926.0           593.0       881.0       546.0         2.9145            140400.0\n",
            "2169    -120.63     38.73                11.0       4577.0           836.0      1944.0       700.0         4.0675            140200.0\n",
            "2170    -118.59     34.20                18.0        847.0           185.0       733.0       178.0         5.2149            201900.0\n",
            "2171    -118.36     33.93                40.0       1625.0           500.0      2036.0       476.0         2.6298            156500.0\n",
            "2172    -118.41     33.85                16.0       6123.0          1989.0      2853.0      1789.0         4.4250            336400.0\n",
            "2173    -117.19     32.77                16.0       3273.0           670.0      1305.0       671.0         4.1368            151000.0\n",
            "2174    -117.78     33.86                16.0       3471.0           708.0      1769.0       691.0         4.1064            246100.0\n",
            "2175    -121.86     39.74                13.0       3494.0           843.0      1571.0       784.0         1.1019            120200.0\n",
            "2176    -119.04     35.31                11.0       2161.0           371.0      1267.0       388.0         4.1957             92700.0\n",
            "2177    -118.26     34.02                40.0       1259.0           362.0      1499.0       327.0         1.8382            126400.0\n",
            "2178    -117.25     34.49                 4.0       2372.0           361.0      1017.0       322.0         5.1112            170900.0\n",
            "2179    -120.04     39.27                24.0       2237.0           491.0       264.0        95.0         4.1364            154500.0\n",
            "2180    -121.42     38.54                29.0       2358.0           493.0      1071.0       470.0         2.9250             94300.0\n",
            "2181    -118.15     34.20                46.0       1505.0           261.0       857.0       269.0         4.5000            184200.0\n",
            "2182    -118.08     33.88                26.0       1507.0           270.0       931.0       275.0         5.1645            244900.0\n",
            "2183    -122.43     37.80                52.0       2696.0           572.0       925.0       552.0         5.0365            500000.0\n",
            "2184    -115.49     32.67                24.0       1266.0           275.0      1083.0       298.0         1.4828             73100.0\n",
            "2185    -120.98     38.34                27.0       3471.0           653.0      1793.0       600.0         3.5508             99100.0\n",
            "2186    -116.14     34.45                12.0       8796.0          1721.0     11139.0      1680.0         2.2612            137500.0\n",
            "2187    -117.11     32.73                27.0       3160.0           627.0      1628.0       612.0         3.8864            132600.0\n",
            "2188    -118.47     34.00                38.0       1235.0           390.0       891.0       376.0         2.7143            287500.0\n",
            "2189    -121.42     37.74                19.0       1393.0           367.0       915.0       355.0         1.1957            103100.0\n",
            "2190    -122.25     37.82                52.0       2474.0           403.0      1104.0       398.0         5.8830            340700.0\n",
            "2191    -118.05     33.72                22.0       5416.0          1271.0      2260.0      1184.0         3.8038            174500.0\n",
            "2192    -122.02     36.97                44.0        594.0           169.0       325.0       139.0         1.1552            250000.0\n",
            "2193    -115.57     32.80                33.0       1192.0           213.0      1066.0       211.0         4.5714             68600.0\n",
            "2194    -121.29     37.80                 6.0        110.0            26.0        69.0        24.0         3.7292            475000.0\n",
            "2195    -122.08     37.88                26.0       2947.0           647.0       825.0       626.0         2.9330             85000.0\n",
            "2196    -121.77     37.65                16.0       4290.0           554.0      1952.0       576.0         7.3588            327500.0\n",
            "2197    -119.81     36.72                46.0       1414.0           268.0       902.0       243.0         1.5833             56700.0\n",
            "2198    -118.35     33.97                26.0       1725.0           431.0      1130.0       404.0         3.2708            128100.0\n",
            "2199    -118.20     34.19                38.0       2176.0           266.0       798.0       243.0        15.0001            500001.0\n",
            "2200    -118.79     34.14                 7.0       3003.0           504.0      1143.0       466.0         5.8548            500001.0\n",
            "2201    -118.12     34.16                30.0       1762.0           416.0       940.0       398.0         2.8631            188600.0\n",
            "2202    -118.22     33.96                36.0       1542.0           458.0      1711.0       468.0         1.9028            164200.0\n",
            "2203    -121.30     37.99                38.0       2375.0           494.0      1167.0       471.0         2.6673             87500.0\n",
            "2204    -121.84     36.61                21.0       2876.0           802.0      2487.0       795.0         2.2007            112800.0\n",
            "2205    -117.90     34.07                36.0       1009.0           164.0       466.0       149.0         5.8519            249400.0\n",
            "2206    -120.40     34.86                11.0       1633.0           348.0       504.0       327.0         2.0508            275000.0\n",
            "2207    -117.95     33.80                32.0       1219.0           192.0       634.0       197.0         5.2370            215700.0\n",
            "2208    -118.30     33.94                36.0       2041.0           531.0      1390.0       464.0         2.0114             99300.0\n",
            "2209    -121.60     37.90                 5.0      14684.0          2252.0      4276.0      1722.0         6.9051            340900.0\n",
            "2210    -122.41     37.59                34.0       3931.0           622.0      1717.0       621.0         6.2946            450000.0\n",
            "2211    -118.45     34.05                28.0        801.0           399.0       936.0       406.0         2.1875            181300.0\n",
            "2212    -118.18     33.86                43.0       2752.0           645.0      1674.0       614.0         3.6719            161300.0\n",
            "2213    -121.78     40.12                14.0        388.0           108.0        35.0        17.0         6.1359            106300.0\n",
            "2214    -118.21     34.04                47.0       1325.0           393.0      1557.0       352.0         2.8000            148400.0\n",
            "2215    -118.38     34.09                28.0       4001.0          1352.0      1799.0      1220.0         2.5784            272900.0\n",
            "2216    -117.18     32.84                32.0       1351.0           237.0       823.0       269.0         4.2768            167800.0\n",
            "2217    -117.30     32.85                28.0       2334.0           694.0       770.0       552.0         3.1324            500001.0\n",
            "2218    -119.02     35.42                42.0       2271.0           458.0      1124.0       447.0         2.7583             64900.0\n",
            "2219    -124.01     40.97                21.0       1513.0           319.0       943.0       301.0         3.5380            102700.0\n",
            "2220    -118.10     34.13                44.0       1745.0           237.0       693.0       248.0         9.7912            500001.0\n",
            "2221    -119.81     36.77                49.0       1749.0           314.0       705.0       300.0         3.1500             72200.0\n",
            "2222    -122.55     38.00                18.0       3119.0           803.0      1395.0       722.0         3.9265            301100.0\n",
            "2223    -117.62     34.08                30.0       1372.0           235.0      1047.0       225.0         3.1597            116300.0\n",
            "2224    -121.29     37.96                52.0        888.0           324.0       630.0       258.0         1.2411            112500.0\n",
            "2225    -119.09     34.24                17.0      10214.0          1589.0      3409.0      1327.0         5.3806            452100.0\n",
            "2226    -117.20     32.77                30.0        156.0            45.0        77.0        40.0         3.2679            137500.0\n",
            "2227    -122.27     37.45                41.0        830.0           136.0       353.0       153.0         6.3824            500001.0\n",
            "2228    -117.31     34.41                14.0       3019.0           643.0      1639.0       582.0         1.5288            103400.0\n",
            "2229    -118.28     33.83                18.0       5923.0          1409.0      3887.0      1322.0         3.4712            194400.0\n",
            "2230    -118.27     34.05                26.0       1164.0           674.0      1685.0       541.0         1.5727            225000.0\n",
            "2231    -118.17     34.09                45.0       1327.0           271.0      1069.0       284.0         3.3977            153800.0\n",
            "2232    -122.54     37.74                42.0       2006.0           415.0      1230.0       435.0         4.1786            271100.0\n",
            "2233    -118.28     33.77                47.0        307.0            69.0       374.0        65.0         2.9063            146900.0\n",
            "2234    -118.04     33.72                24.0       7141.0          1330.0      3418.0      1268.0         4.6649            237800.0\n",
            "2235    -117.39     33.92                25.0       2886.0           583.0      2327.0       577.0         2.3851            113700.0\n",
            "2236    -119.01     35.37                35.0        120.0            35.0       477.0        41.0         1.9125             47500.0\n",
            "2237    -122.41     37.74                34.0       1403.0           262.0       839.0       255.0         4.7031            255200.0\n",
            "2238    -118.29     33.91                41.0       2475.0           532.0      1416.0       470.0         3.8372            156400.0\n",
            "2239    -117.25     33.22                19.0       2167.0           443.0      1654.0       435.0         3.5000            135800.0\n",
            "2240    -117.65     33.46                19.0       7034.0          1139.0      2824.0      1068.0         6.0873            277300.0\n",
            "2241    -121.98     37.80                17.0       3354.0           422.0      1457.0       425.0         7.6473            345800.0\n",
            "2242    -118.05     33.84                21.0       4890.0           653.0      2295.0       654.0         6.9830            329700.0\n",
            "2243    -122.03     37.27                25.0       4460.0           553.0      1608.0       561.0        10.7958            500001.0\n",
            "2244    -120.52     35.24                 5.0       4413.0           804.0      2003.0       725.0         5.0267            253300.0\n",
            "2245    -117.95     34.14                33.0       1943.0           440.0      1526.0       353.0         3.0380            137500.0\n",
            "2246    -118.16     34.69                35.0       3114.0           583.0      1974.0       545.0         3.9028            126800.0\n",
            "2247    -121.48     39.10                19.0       2043.0           421.0      1018.0       390.0         2.5952             92400.0\n",
            "2248    -117.53     33.94                21.0       5675.0           935.0      2834.0       865.0         4.2263            203200.0\n",
            "2249    -122.29     37.91                40.0       2085.0           329.0       796.0       339.0         5.5357            273700.0\n",
            "2250    -121.78     38.69                31.0       2547.0           535.0      1579.0       509.0         2.6774             95800.0\n",
            "2251    -117.97     33.84                34.0        874.0           153.0       549.0       153.0         4.8667            186800.0\n",
            "2252    -122.26     37.86                52.0       3774.0           744.0      1461.0       679.0         2.9405            289500.0\n",
            "2253    -117.96     33.69                20.0       3123.0           441.0      1319.0       432.0         6.0910            290400.0\n",
            "2254    -118.39     34.19                36.0        904.0           191.0       627.0       191.0         2.4167            192900.0\n",
            "2255    -122.48     37.51                22.0       1564.0           278.0       761.0       270.0         4.7578            318500.0\n",
            "2256    -118.60     34.21                19.0       2581.0           857.0      2004.0       784.0         2.6159            182300.0\n",
            "2257    -122.35     40.56                12.0       3900.0           863.0      2145.0       864.0         1.9881             85200.0\n",
            "2258    -118.24     34.03                52.0        142.0            47.0       137.0        45.0         1.8333            312500.0\n",
            "2259    -117.61     34.08                20.0       3550.0           736.0      2229.0       681.0         3.0199            128800.0\n",
            "2260    -121.03     37.67                24.0       2162.0           459.0      1468.0       441.0         3.1857             98300.0\n",
            "2261    -119.69     36.81                15.0       2892.0           496.0      1634.0       501.0         4.4934             88000.0\n",
            "2262    -118.27     34.06                26.0        513.0           338.0      1204.0       321.0         1.4904            275000.0\n",
            "2263    -118.26     34.07                30.0        929.0           238.0       763.0       214.0         2.5227            187500.0\n",
            "2264    -120.91     38.98                13.0       7689.0          1415.0      3264.0      1198.0         3.6530            146800.0\n",
            "2265    -117.14     32.71                32.0        719.0           251.0       894.0       208.0         1.8456            103100.0\n",
            "2266    -117.20     32.82                35.0       2772.0           537.0      1392.0       521.0         3.3370            172300.0\n",
            "2267    -123.80     39.44                52.0       1533.0           336.0       754.0       340.0         1.9213             95000.0\n",
            "2268    -122.33     37.98                32.0       1967.0           348.0      1144.0       364.0         4.4135            150100.0\n",
            "2269    -117.37     33.97                38.0       1156.0           241.0       877.0       200.0         1.4514             79900.0\n",
            "2270    -122.04     37.30                26.0       1714.0           270.0       778.0       262.0         6.0750            417000.0\n",
            "2271    -118.21     33.98                35.0       1705.0           562.0      2212.0       539.0         2.3250            161500.0\n",
            "2272    -117.32     34.11                38.0       1462.0           337.0      1208.0       324.0         2.2604             68100.0\n",
            "2273    -118.12     34.08                49.0       1782.0           374.0      1010.0       367.0         3.1583            268200.0\n",
            "2274    -121.56     39.69                 8.0       2836.0           522.0      1163.0       512.0         3.1300            168300.0\n",
            "2275    -117.94     33.80                28.0       2914.0           489.0      1500.0       499.0         4.9429            254800.0\n",
            "2276    -117.98     33.85                23.0       2089.0           377.0      1085.0       362.0         4.7650            181500.0\n",
            "2277    -122.85     38.77                18.0       2856.0           513.0      1027.0       405.0         4.6953            241700.0\n",
            "2278    -116.24     33.76                 9.0       1961.0           595.0       966.0       275.0         3.8125             96700.0\n",
            "2279    -122.32     37.96                25.0       1728.0           403.0       934.0       412.0         3.3750            133700.0\n",
            "2280    -118.95     35.41                21.0       3999.0           727.0      1889.0       688.0         3.8750             99500.0\n",
            "2281    -122.42     37.67                42.0       2274.0           429.0      1255.0       397.0         5.1205            226300.0\n",
            "2282    -118.25     33.98                39.0       1553.0           461.0      2271.0       437.0         1.7378            121900.0\n",
            "2283    -118.40     34.22                36.0       2557.0           540.0      1556.0       491.0         3.6591            183800.0\n",
            "2284    -120.56     38.39                20.0       1326.0           307.0       563.0       237.0         2.6667             86600.0\n",
            "2285    -121.63     39.10                22.0       3585.0           548.0      1757.0       577.0         4.1740            100100.0\n",
            "2286    -122.20     37.47                44.0       1927.0           332.0       846.0       362.0         4.2083            278200.0\n",
            "2287    -122.11     37.11                46.0       1993.0           404.0       850.0       327.0         5.2080            206800.0\n",
            "2288    -118.25     33.84                19.0       1731.0           420.0      1032.0       364.0         3.8125            208100.0\n",
            "2289    -118.35     34.18                46.0       2711.0           491.0      1277.0       490.0         4.2820            224700.0\n",
            "2290    -118.14     33.86                44.0       1436.0           257.0       745.0       233.0         4.6250            213400.0\n",
            "2291    -122.26     38.28                24.0       2831.0           502.0      1462.0       503.0         4.5000            158300.0\n",
            "2292    -120.24     37.96                34.0       1747.0           395.0       935.0       362.0         1.6250             79400.0\n",
            "2293    -121.59     39.74                17.0       1646.0           330.0       750.0       344.0         2.3798             83800.0\n",
            "2294    -122.72     40.17                16.0        396.0            78.0       188.0        72.0         1.3889             87500.0\n",
            "2295    -118.48     34.31                31.0       1091.0           256.0       892.0       238.0         3.0000            172400.0\n",
            "2296    -121.10     38.94                42.0        410.0           117.0       706.0       112.0         1.0179            125000.0\n",
            "2297    -118.10     33.97                35.0       2426.0           529.0      2010.0       514.0         2.9922            163500.0\n",
            "2298    -120.97     37.67                16.0       1499.0           250.0      1292.0       271.0         4.3851            117300.0\n",
            "2299    -121.91     36.97                19.0       4920.0          1092.0      1807.0       922.0         3.5112            231900.0\n",
            "2300    -121.47     37.58                14.0       1594.0           292.0       887.0       287.0         4.6625            294000.0\n",
            "2301    -121.93     37.72                26.0       3816.0           637.0      1935.0       642.0         4.4697            221300.0\n",
            "2302    -117.83     33.79                29.0       1454.0           236.0       724.0       262.0         4.8542            218100.0\n",
            "2303    -117.89     33.73                33.0       1308.0           375.0      2175.0       347.0         3.0824            177400.0\n",
            "2304    -117.84     34.00                26.0        797.0           117.0       383.0       114.0         6.8758            253800.0\n",
            "2305    -116.86     34.24                19.0       5411.0          1042.0       441.0       185.0         3.1324            132000.0\n",
            "2306    -121.28     38.74                33.0       4384.0           778.0      1775.0       789.0         4.0500            134700.0\n",
            "2307    -119.63     36.64                33.0       1036.0           181.0       620.0       174.0         3.4107            110400.0\n",
            "2308    -121.06     38.25                13.0        651.0           102.0       301.0       104.0         3.6528            200000.0\n",
            "2309    -122.01     37.40                24.0       1297.0           297.0       441.0       282.0         3.1439             47500.0\n",
            "2310    -117.22     33.31                12.0       2924.0           433.0      1193.0       394.0         6.2475            331300.0\n",
            "2311    -116.31     33.73                19.0      12467.0          2508.0      4086.0      1761.0         3.2846            131900.0\n",
            "2312    -121.29     38.02                12.0       2006.0           426.0      1849.0       396.0         2.5437             99000.0\n",
            "2313    -121.00     37.64                52.0        530.0           177.0       325.0       158.0         1.1875             90600.0\n",
            "2314    -121.08     39.21                17.0       3033.0           590.0      1319.0       583.0         2.4811            111800.0\n",
            "2315    -121.88     37.99                16.0       3787.0           515.0      1606.0       507.0         5.5676            174200.0\n",
            "2316    -117.18     32.74                20.0       1165.0           269.0       459.0       244.0         3.1750            191700.0\n",
            "2317    -117.20     32.85                22.0       3501.0           631.0      1297.0       581.0         4.7891            295300.0\n",
            "2318    -117.16     33.92                12.0       3236.0           502.0      1610.0       502.0         4.7568            143500.0\n",
            "2319    -118.35     34.05                44.0       1856.0           493.0      1374.0       469.0         2.0984            158000.0\n",
            "2320    -119.05     36.06                23.0       2344.0           407.0      1184.0       406.0         3.1625             70600.0\n",
            "2321    -121.15     38.69                52.0        240.0            44.0      6675.0        29.0         6.1359            225000.0\n",
            "2322    -123.16     39.13                33.0       1320.0           303.0      1048.0       303.0         1.7813             94700.0\n",
            "2323    -121.36     38.59                32.0       3303.0           480.0      1185.0       436.0         5.0508            225700.0\n",
            "2324    -118.28     33.73                52.0       2085.0           588.0      1767.0       516.0         2.1935            243200.0\n",
            "2325    -118.36     33.89                27.0       2837.0           684.0      2141.0       648.0         3.1325            215000.0\n",
            "2326    -121.24     38.63                 4.0      11021.0          1565.0      3857.0      1494.0         7.2582            273200.0\n",
            "2327    -117.69     33.55                 3.0       1618.0           266.0       710.0       246.0         6.0743            274300.0\n",
            "2328    -118.46     34.27                28.0       1865.0           463.0      1182.0       440.0         2.6193            172300.0\n",
            "2329    -122.28     37.86                52.0       3007.0           691.0      1582.0       636.0         2.5652            157700.0\n",
            "2330    -118.28     33.94                32.0       1381.0           375.0      1268.0       354.0         1.1051             94200.0\n",
            "2331    -122.18     37.73                42.0        909.0           215.0       646.0       198.0         2.9063             80000.0\n",
            "2332    -122.87     38.39                34.0       1138.0           205.0       541.0       180.0         4.5147            271400.0\n",
            "2333    -119.75     34.44                28.0       1080.0           298.0       524.0       251.0         1.8432            327300.0\n",
            "2334    -117.21     32.85                15.0       2593.0           521.0       901.0       456.0         4.2065            277800.0\n",
            "2335    -118.20     33.82                34.0       2807.0           768.0      2217.0       744.0         2.4286            204800.0\n",
            "2336    -121.88     37.32                40.0       1331.0           374.0      1276.0       389.0         2.7546            172500.0\n",
            "2337    -118.46     34.14                34.0       5264.0           771.0      1738.0       753.0         8.8115            500001.0\n",
            "2338    -118.29     34.09                35.0       2198.0           998.0      3441.0       912.0         2.0467            158300.0\n",
            "2339    -117.88     34.11                30.0       3082.0           602.0      2008.0       619.0         4.1411            182700.0\n",
            "2340    -117.68     33.65                 6.0      10395.0          1915.0      4783.0      1811.0         5.9280            239900.0\n",
            "2341    -120.35     39.34                29.0       1986.0           474.0       337.0       100.0         4.0278             95800.0\n",
            "2342    -118.02     33.82                19.0       2485.0           437.0      1286.0       431.0         4.7466            258300.0\n",
            "2343    -118.35     33.92                24.0       2728.0           845.0      2023.0       773.0         2.7500            239700.0\n",
            "2344    -122.34     37.97                19.0       2237.0           580.0      1438.0       551.0         2.3382            120700.0\n",
            "2345    -118.33     34.02                46.0       1528.0           391.0       933.0       366.0         2.1979            125700.0\n",
            "2346    -118.40     33.90                37.0       2458.0           400.0       920.0       375.0         7.8924            500001.0\n",
            "2347    -117.97     33.73                18.0       3698.0           574.0      2046.0       614.0         6.2984            269800.0\n",
            "2348    -121.32     38.57                15.0       3369.0           499.0      1733.0       470.0         5.3100            127500.0\n",
            "2349    -117.94     33.88                46.0       1747.0           312.0       770.0       296.0         5.4217            256000.0\n",
            "2350    -118.54     34.15                26.0      10111.0          1295.0      3599.0      1257.0        10.2292            500001.0\n",
            "2351    -117.86     33.83                23.0       2377.0           403.0      1101.0       408.0         5.3439            227100.0\n",
            "2352    -119.95     36.80                30.0       1233.0           214.0       620.0       199.0         3.4297            112500.0\n",
            "2353    -121.42     36.86                41.0        440.0           106.0       389.0        94.0         2.6818            225000.0\n",
            "2354    -117.09     32.69                34.0       1469.0           267.0      1031.0       267.0         3.4583            112700.0\n",
            "2355    -119.20     34.15                27.0       2076.0           681.0      1904.0       647.0         1.4773            160800.0\n",
            "2356    -117.17     32.76                45.0       3149.0           639.0      1160.0       661.0         2.7266            354200.0\n",
            "2357    -117.90     33.91                36.0       1376.0           257.0       687.0       221.0         3.5403            195400.0\n",
            "2358    -122.03     37.33                23.0       4221.0           671.0      1782.0       641.0         7.4863            412300.0\n",
            "2359    -118.18     33.90                31.0       2536.0           603.0      2625.0       576.0         3.0909            150900.0\n",
            "2360    -119.05     35.32                11.0       7035.0          1455.0      3525.0      1387.0         3.4827             93600.0\n",
            "2361    -119.67     34.47                35.0       2700.0           422.0      1995.0       383.0         4.9757            500001.0\n",
            "2362    -118.35     34.17                44.0       2572.0           613.0      1280.0       570.0         3.5583            232000.0\n",
            "2363    -118.30     33.87                31.0       1398.0           261.0       823.0       263.0         5.0641            234900.0\n",
            "2364    -118.25     34.16                52.0       2477.0           385.0       993.0       371.0         4.9135            368100.0\n",
            "2365    -117.91     33.82                29.0       1444.0           326.0      1038.0       271.0         2.3843            182900.0\n",
            "2366    -118.36     33.98                40.0       1113.0           234.0       584.0       231.0         3.0927            316000.0\n",
            "2367    -121.29     37.99                45.0        965.0           198.0       498.0       195.0         1.6944             75200.0\n",
            "2368    -122.74     38.46                 9.0       2268.0           594.0      1311.0       585.0         2.6607             91500.0\n",
            "2369    -118.29     33.93                31.0       3894.0          1017.0      3590.0       962.0         2.0437            137200.0\n",
            "2370    -122.05     37.31                25.0       4601.0           696.0      2003.0       666.0         8.0727            455500.0\n",
            "2371    -117.08     32.57                18.0       2203.0           544.0      1943.0       497.0         2.2500            103200.0\n",
            "2372    -122.04     37.97                10.0        974.0           316.0       631.0       286.0         2.3152            140600.0\n",
            "2373    -120.31     37.11                38.0       1696.0           301.0       985.0       278.0         2.4054            112500.0\n",
            "2374    -117.27     34.10                 9.0       3904.0          1042.0      3688.0       896.0         1.8022             78000.0\n",
            "2375    -118.26     33.95                44.0       1481.0           329.0       999.0       315.0         1.5147             94600.0\n",
            "2376    -118.11     34.16                52.0       1353.0           274.0       852.0       306.0         3.4583            239900.0\n",
            "2377    -118.34     33.99                34.0        397.0           132.0       250.0       121.0         1.6750            166700.0\n",
            "2378    -117.89     33.60                40.0       1639.0           352.0       498.0       278.0         5.6336            500001.0\n",
            "2379    -119.72     34.42                52.0       1759.0           387.0       980.0       402.0         4.0125            261000.0\n",
            "2380    -118.44     34.18                36.0       2077.0           496.0      1206.0       528.0         2.2326            221000.0\n",
            "2381    -122.08     37.97                 9.0       2643.0           439.0      1105.0       467.0         6.6579            245200.0\n",
            "2382    -122.45     37.76                50.0       2518.0           507.0       979.0       516.0         4.6912            500001.0\n",
            "2383    -118.22     33.94                41.0        928.0           249.0      1108.0       236.0         3.4323            144600.0\n",
            "2384    -118.33     34.07                52.0       1482.0           171.0       531.0       161.0        15.0001            500001.0\n",
            "2385    -117.66     34.05                14.0       2644.0           525.0      2021.0       511.0         3.6467            147500.0\n",
            "2386    -120.94     35.42                18.0       3418.0           686.0       970.0       453.0         3.7738            279400.0\n",
            "2387    -117.30     34.05                 6.0       2155.0           544.0      1039.0       391.0         1.6675             95800.0\n",
            "2388    -117.92     33.64                 5.0        949.0           287.0       497.0       244.0         2.7500            225000.0\n",
            "2389    -118.19     33.99                37.0       2073.0           614.0      2544.0       598.0         2.9054            156300.0\n",
            "2390    -122.08     37.94                44.0       2185.0           357.0       943.0       366.0         4.7250            232100.0\n",
            "2391    -117.72     34.09                33.0       4979.0           934.0      2575.0       874.0         3.7958            152500.0\n",
            "2392    -118.19     34.08                35.0       1554.0           381.0      1487.0       374.0         1.9038            139500.0\n",
            "2393    -122.24     38.11                42.0       1743.0           388.0       889.0       341.0         2.3241             99200.0\n",
            "2394    -121.81     37.23                17.0       2319.0           324.0      1076.0       338.0         6.4664            278300.0\n",
            "2395    -118.34     34.18                45.0       3046.0           633.0      1448.0       599.0         3.2400            226900.0\n",
            "2396    -120.57     38.20                13.0       4110.0           847.0      1796.0       706.0         2.6417            122300.0\n",
            "2397    -120.45     34.64                30.0       2330.0           422.0      1255.0       449.0         3.8512            134600.0\n",
            "2398    -118.25     33.95                25.0        764.0           200.0       801.0       220.0         1.1384            100000.0\n",
            "2399    -117.95     33.90                15.0       3057.0           479.0      1679.0       498.0         6.8429            372600.0\n",
            "2400    -117.20     33.12                18.0       4372.0           736.0      1473.0       675.0         5.1194            247800.0\n",
            "2401    -117.30     34.53                38.0       1643.0           489.0      1196.0       406.0         1.2275             64100.0\n",
            "2402    -121.87     37.27                18.0       3561.0           560.0      1753.0       553.0         5.0292            269400.0\n",
            "2403    -118.28     34.03                40.0       2118.0           796.0      2195.0       658.0         1.7976            164600.0\n",
            "2404    -119.77     36.44                26.0       1727.0           289.0       802.0       259.0         3.2083             75000.0\n",
            "2405    -122.38     40.09                16.0       2077.0           388.0      1155.0       389.0         3.1361             84800.0\n",
            "2406    -118.90     34.18                14.0       2627.0           328.0      1121.0       328.0         7.0504            333800.0\n",
            "2407    -121.01     37.25                16.0       2216.0           458.0      1135.0       424.0         2.7316             97500.0\n",
            "2408    -116.98     32.72                15.0       4209.0           680.0      1914.0       641.0         4.5135            158300.0\n",
            "2409    -119.98     38.92                28.0       1408.0           312.0       522.0       221.0         2.0708             89600.0\n",
            "2410    -121.93     37.72                26.0       2806.0           459.0      1453.0       444.0         4.9107            213800.0\n",
            "2411    -117.64     34.09                34.0       2839.0           659.0      1822.0       631.0         3.0500            121300.0\n",
            "2412    -119.85     37.39                14.0       2744.0           555.0      1153.0       474.0         2.7530            111100.0\n",
            "2413    -118.20     33.98                43.0       1091.0           320.0      1418.0       316.0         2.1522            159400.0\n",
            "2414    -120.83     37.07                16.0       3736.0           761.0      1942.0       730.0         2.5598            120200.0\n",
            "2415    -117.07     32.58                25.0       1607.0           280.0       899.0       260.0         3.8194            134400.0\n",
            "2416    -119.05     35.34                14.0       3580.0           984.0      1933.0       912.0         2.6637            175000.0\n",
            "2417    -117.57     34.15                 3.0      12806.0          2219.0      4249.0      1499.0         5.4850            343100.0\n",
            "2418    -121.37     38.67                36.0       1786.0           338.0       974.0       319.0         2.5550             72700.0\n",
            "2419    -122.18     37.70                36.0       2639.0           533.0      1209.0       519.0         4.0268            205500.0\n",
            "2420    -116.94     32.81                 8.0       2517.0           632.0      1686.0       613.0         2.1360            143500.0\n",
            "2421    -121.21     39.24                 7.0       4194.0           673.0      1355.0       566.0         4.3702            226100.0\n",
            "2422    -122.06     37.71                36.0       3541.0           570.0      1478.0       529.0         4.6350            248600.0\n",
            "2423    -118.44     34.19                11.0       2891.0           951.0      2166.0       768.0         2.8910            178100.0\n",
            "2424    -122.36     37.72                10.0        479.0           125.0       355.0       108.0         2.7083            180400.0\n",
            "2425    -121.32     38.62                29.0       2430.0           448.0      1087.0       394.0         3.0864            177900.0\n",
            "2426    -118.27     33.94                43.0       1309.0           344.0      1182.0       340.0         1.6625             88700.0\n",
            "2427    -122.04     37.97                39.0       1323.0           245.0       705.0       261.0         3.1968            151000.0\n",
            "2428    -118.21     33.96                39.0       2050.0           529.0      1959.0       485.0         2.1389            168900.0\n",
            "2429    -117.20     33.58                 2.0      30450.0          5033.0      9419.0      3197.0         4.5936            174300.0\n",
            "2430    -120.50     37.37                18.0       8606.0          1678.0      5303.0      1644.0         2.4012             79700.0\n",
            "2431    -118.17     33.98                36.0        627.0           177.0       834.0       175.0         2.9844            163600.0\n",
            "2432    -117.88     33.83                22.0       3522.0           543.0      1706.0       524.0         6.4685            241200.0\n",
            "2433    -118.29     33.99                46.0       2198.0           530.0      2067.0       497.0         2.0542            103400.0\n",
            "2434    -117.42     34.10                18.0       3977.0           809.0      2231.0       742.0         4.1399            115400.0\n",
            "2435    -116.96     32.71                18.0       2413.0           533.0      1129.0       551.0         2.4567            155000.0\n",
            "2436    -118.36     34.07                52.0       2046.0           451.0       944.0       435.0         3.4265            456900.0\n",
            "2437    -122.26     38.33                34.0       2048.0           316.0       780.0       267.0         5.8150            339200.0\n",
            "2438    -120.51     37.29                20.0       4927.0          1042.0      4205.0      1009.0         1.7679             79800.0\n",
            "2439    -117.94     33.62                25.0       1188.0           264.0       569.0       249.0         3.6607            500001.0\n",
            "2440    -118.27     33.94                30.0       1041.0           275.0       877.0       270.0         1.5268             91600.0\n",
            "2441    -117.93     34.09                37.0       1185.0           225.0       769.0       235.0         4.4625            154200.0\n",
            "2442    -118.22     33.92                43.0       1195.0           256.0      1251.0       262.0         3.4539            125000.0\n",
            "2443    -121.84     37.32                16.0       1866.0           364.0      1835.0       412.0         5.3363            212800.0\n",
            "2444    -122.03     37.83                24.0       5948.0           738.0      1997.0       710.0         9.8708            500001.0\n",
            "2445    -122.46     38.29                21.0       2423.0           560.0      1098.0       503.0         2.3640            173300.0\n",
            "2446    -118.32     34.01                50.0       1842.0           377.0       817.0       341.0         3.1548            157700.0\n",
            "2447    -118.02     33.95                35.0       2085.0           400.0      1112.0       391.0         3.4886            173900.0\n",
            "2448    -118.31     34.19                13.0       3801.0          1116.0      1986.0      1078.0         2.0875            222700.0\n",
            "2449    -117.80     34.10                13.0       2996.0           495.0      1187.0       464.0         6.2456            161700.0\n",
            "2450    -118.46     34.26                33.0       1358.0           247.0       738.0       235.0         5.0947            210300.0\n",
            "2451    -121.94     37.34                41.0       2151.0           473.0      1092.0       469.0         3.7321            250000.0\n",
            "2452    -117.64     33.87                 2.0      17470.0          2727.0      5964.0      1985.0         6.2308            257900.0\n",
            "2453    -117.90     34.11                23.0       4776.0          1316.0      4797.0      1187.0         2.1667            142600.0\n",
            "2454    -118.34     34.11                51.0        937.0           348.0       527.0       333.0         4.3571            468800.0\n",
            "2455    -122.31     37.56                45.0       1685.0           321.0       815.0       314.0         4.2955            309700.0\n",
            "2456    -118.36     34.21                41.0        337.0            65.0       198.0        50.0         1.8929            152900.0\n",
            "2457    -122.45     37.71                45.0       2253.0           431.0      1382.0       392.0         4.2562            221600.0\n",
            "2458    -118.68     34.13                 9.0      11251.0          1594.0      3029.0      1227.0         6.7273            500001.0\n",
            "2459    -119.64     36.85                15.0       2397.0           353.0      1258.0       347.0         4.9904            157300.0\n",
            "2460    -122.16     37.76                45.0       2299.0           514.0      1437.0       484.0         2.5122             95500.0\n",
            "2461    -117.99     33.67                19.0       3808.0           790.0      1776.0       756.0         4.6250            282200.0\n",
            "2462    -121.83     37.40                27.0       1145.0           150.0       492.0       160.0         5.7160            348300.0\n",
            "2463    -118.19     35.05                14.0       2992.0           573.0      1631.0       526.0         3.7452             83200.0\n",
            "2464    -118.03     33.77                24.0       3810.0           579.0      1818.0       590.0         5.8053            255900.0\n",
            "2465    -122.26     37.82                22.0       3682.0          1270.0      2024.0      1250.0         1.2185            170000.0\n",
            "2466    -118.37     33.93                46.0        442.0            88.0       255.0        94.0         4.4474            246900.0\n",
            "2467    -118.22     34.05                43.0       1153.0           411.0      1667.0       409.0         1.9402            139300.0\n",
            "2468    -122.49     37.68                34.0       3718.0           676.0      2510.0       632.0         5.3311            270800.0\n",
            "2469    -116.51     33.84                16.0        980.0           193.0       454.0       185.0         4.0729            100000.0\n",
            "2470    -121.88     37.66                29.0       2702.0           680.0      1360.0       642.0         3.1127            233000.0\n",
            "2471    -122.44     37.80                52.0       2869.0           594.0       500.0       335.0         5.0376            500001.0\n",
            "2472    -121.34     38.05                16.0        667.0            92.0       267.0        90.0         5.6147            244700.0\n",
            "2473    -117.87     33.84                16.0       1545.0           354.0       730.0       350.0         4.5112            139000.0\n",
            "2474    -122.28     37.89                52.0       2315.0           408.0       835.0       369.0         4.5893            290100.0\n",
            "2475    -121.83     37.99                18.0       2741.0           449.0      1507.0       460.0         4.7566            142500.0\n",
            "2476    -119.53     36.65                43.0       1676.0           320.0      1056.0       276.0         2.5562             93200.0\n",
            "2477    -117.39     34.09                10.0       5736.0           945.0      3528.0       932.0         4.3958            130700.0\n",
            "2478    -118.23     33.90                45.0       1285.0           238.0       840.0       211.0         3.4107            112500.0\n",
            "2479    -121.32     38.67                21.0       3455.0           706.0      1605.0       704.0         3.1382             91600.0\n",
            "2480    -118.33     34.05                46.0       3015.0           795.0      2300.0       725.0         2.0706            268500.0\n",
            "2481    -122.21     37.84                44.0       3424.0           597.0      1358.0       597.0         6.0194            292300.0\n",
            "2482    -117.90     34.53                 8.0       3484.0           647.0      2169.0       619.0         3.9766            135800.0\n",
            "2483    -122.47     37.51                15.0       4974.0           764.0      2222.0       774.0         6.7606            364300.0\n",
            "2484    -118.02     33.77                 7.0        586.0           118.0       232.0       107.0         5.2077            181300.0\n",
            "2485    -119.73     34.43                35.0       2703.0           654.0      1383.0       631.0         4.5278            340400.0\n",
            "2486    -120.68     35.14                34.0       3100.0           617.0      1155.0       542.0         3.0938            245900.0\n",
            "2487    -122.47     38.29                14.0       3732.0           846.0      1277.0       775.0         2.5658            208000.0\n",
            "2488    -121.90     37.35                52.0       1034.0           239.0       531.0       223.0         2.7411            227100.0\n",
            "2489    -121.87     37.26                17.0       1051.0           172.0       446.0       173.0         5.6652            234500.0\n",
            "2490    -117.97     33.89                15.0       3801.0           542.0      1992.0       526.0         9.0683            367400.0\n",
            "2491    -116.87     33.91                37.0       1858.0           361.0      1632.0       310.0         2.7536             73100.0\n",
            "2492    -122.15     37.47                38.0       1560.0           301.0      1331.0       316.0         3.0521            151500.0\n",
            "2493    -118.31     34.01                52.0       2547.0           475.0      1417.0       444.0         1.8214            123200.0\n",
            "2494    -118.44     34.04                49.0         32.0             7.0        14.0         7.0         2.1875            225000.0\n",
            "2495    -118.01     33.85                29.0       2064.0           447.0      1265.0       400.0         3.8864            209300.0\n",
            "2496    -122.27     41.20                52.0       4513.0           985.0      1926.0       815.0         1.5923             56000.0\n",
            "2497    -122.32     37.56                49.0       2016.0           299.0       691.0       288.0         5.5490            500001.0\n",
            "2498    -119.77     36.72                43.0       1763.0           389.0      1623.0       390.0         1.4427             47700.0\n",
            "2499    -122.14     37.84                24.0       2131.0           343.0       874.0       373.0         5.6349            355600.0\n",
            "2500    -118.34     34.09                14.0       3032.0           999.0      1691.0       841.0         2.2000            210000.0\n",
            "2501    -117.61     34.34                18.0       5210.0           912.0      1301.0       464.0         4.8623            176900.0\n",
            "2502    -118.23     33.76                21.0         49.0            14.0        29.0        16.0         5.0000             87500.0\n",
            "2503    -117.89     33.77                32.0       2342.0           570.0      1445.0       453.0         4.1951            195000.0\n",
            "2504    -118.26     33.91                39.0        967.0           256.0       903.0       256.0         1.9038             93100.0\n",
            "2505    -118.40     33.99                39.0       1613.0           380.0      1113.0       356.0         2.8250            276700.0\n",
            "2506    -117.14     32.92                15.0       1558.0           314.0       949.0       332.0         5.2864            174400.0\n",
            "2507    -118.15     33.77                52.0       2204.0           498.0       899.0       445.0         4.1765            393900.0\n",
            "2508    -118.59     34.21                17.0       2737.0           868.0      2924.0       785.0         2.5797            183500.0\n",
            "2509    -121.37     36.83                14.0       3658.0           612.0      1951.0       600.0         4.7600            216000.0\n",
            "2510    -120.48     35.02                17.0       2721.0           477.0      1672.0       492.0         2.9798            204800.0\n",
            "2511    -118.44     34.21                41.0       1440.0           325.0      1014.0       322.0         2.8750            168600.0\n",
            "2512    -122.32     38.33                17.0        851.0           118.0       370.0       123.0         5.0877            209300.0\n",
            "2513    -121.87     37.28                21.0       3305.0           749.0      2459.0       701.0         3.9688            249600.0\n",
            "2514    -117.10     33.07                16.0       2402.0           336.0      1080.0       365.0         8.6803            347300.0\n",
            "2515    -118.03     33.76                25.0       4650.0           849.0      2503.0       790.0         5.7420            221900.0\n",
            "2516    -122.40     37.73                48.0       1489.0           326.0      1115.0       356.0         2.6364            199300.0\n",
            "2517    -118.34     34.12                41.0       3257.0           679.0      1237.0       638.0         4.2415            409600.0\n",
            "2518    -121.04     39.24                48.0       1188.0           227.0       471.0       219.0         2.3125            125700.0\n",
            "2519    -117.97     33.91                19.0       8096.0          1318.0      3853.0      1313.0         6.0076            269500.0\n",
            "2520    -117.10     32.68                45.0       1183.0           289.0       900.0       266.0         2.4943             99600.0\n",
            "2521    -116.61     33.93                35.0        321.0            71.0       157.0        61.0         2.8056             68100.0\n",
            "2522    -118.39     34.08                27.0       6605.0          1710.0      2665.0      1520.0         3.8088            500001.0\n",
            "2523    -121.23     38.65                19.0       2926.0           476.0      1349.0       480.0         4.6437            212900.0\n",
            "2524    -122.20     37.79                29.0       1640.0           376.0       939.0       340.0         2.8321            150000.0\n",
            "2525    -117.18     32.83                23.0       2105.0           525.0      1218.0       484.0         3.3750            184100.0\n",
            "2526    -118.08     33.77                26.0       2461.0           562.0       971.0       544.0         2.1944             87500.0\n",
            "2527    -120.45     34.66                 7.0       3329.0           504.0      1462.0       452.0         4.7875            198300.0\n",
            "2528    -117.82     33.68                 4.0       1346.0           213.0       603.0       219.0         8.7974            360600.0\n",
            "2529    -121.92     36.61                27.0       1619.0           352.0       831.0       344.0         4.3000            226400.0\n",
            "2530    -122.01     37.53                19.0       4572.0           712.0      2346.0       709.0         6.0667            245700.0\n",
            "2531    -118.27     33.95                34.0        987.0           248.0       902.0       221.0         2.3365             98000.0\n",
            "2532    -119.96     38.94                27.0       1492.0           393.0       717.0       254.0         1.8906            104200.0\n",
            "2533    -121.42     36.57                13.0       2685.0           621.0      2474.0       573.0         2.8775            134100.0\n",
            "2534    -120.96     37.66                15.0       2485.0           434.0      1296.0       434.0         3.8542            145200.0\n",
            "2535    -118.65     34.20                23.0       7480.0          1084.0      3037.0      1058.0         6.9223            338400.0\n",
            "2536    -122.31     38.00                29.0       3108.0           534.0      1687.0       516.0         4.3333            170800.0\n",
            "2537    -118.35     34.07                48.0        890.0           255.0       434.0       232.0         3.6111            450000.0\n",
            "2538    -118.19     33.79                29.0       3497.0          1096.0      2994.0       919.0         1.8109            137500.0\n",
            "2539    -122.14     37.41                35.0       2419.0           426.0       949.0       433.0         6.4588            437100.0\n",
            "2540    -119.81     36.71                25.0       1026.0           221.0       789.0       183.0         1.5625             52800.0\n",
            "2541    -117.18     32.68                29.0       1539.0           344.0       556.0       289.0         3.2500            500001.0\n",
            "2542    -117.77     34.08                27.0       5929.0           932.0      2817.0       828.0         6.0434            214800.0\n",
            "2543    -118.11     33.86                33.0       2389.0           410.0      1229.0       393.0         5.3889            234900.0\n",
            "2544    -118.28     34.09                52.0       1739.0           464.0       938.0       482.0         2.4429            228800.0\n",
            "2545    -117.93     34.04                30.0       1336.0           239.0       905.0       253.0         4.8854            178100.0\n",
            "2546    -117.05     32.76                37.0       4879.0           906.0      2076.0       871.0         3.6625            154800.0\n",
            "2547    -118.25     33.87                18.0       6812.0          1263.0      3704.0      1216.0         4.2500            169200.0\n",
            "2548    -122.41     37.78                52.0        254.0            72.0       153.0        29.0         3.8625            350000.0\n",
            "2549    -119.72     34.47                34.0       3262.0           533.0      1265.0       502.0         5.8411            381800.0\n",
            "2550    -118.12     34.15                22.0       1671.0           480.0      1005.0       443.0         3.0119            171400.0\n",
            "2551    -122.21     37.83                40.0       4991.0           674.0      1616.0       654.0         7.5544            411500.0\n",
            "2552    -119.38     36.56                14.0       3965.0           804.0      1945.0       733.0         2.6906             95300.0\n",
            "2553    -118.38     34.28                22.0       4428.0           825.0      3152.0       836.0         4.7932            166300.0\n",
            "2554    -117.34     34.12                26.0       1008.0           164.0       568.0       196.0         3.3516            105600.0\n",
            "2555    -122.06     37.39                22.0       1236.0           290.0       413.0       274.0         3.6875             40000.0\n",
            "2556    -118.46     34.07                49.0       2418.0           301.0       850.0       318.0        14.2867            500001.0\n",
            "2557    -117.90     34.15                21.0       2056.0           461.0      1332.0       429.0         3.3942            212800.0\n",
            "2558    -123.47     39.80                18.0       2130.0           545.0       863.0       346.0         2.3571             79200.0\n",
            "2559    -121.91     37.25                31.0       1944.0           343.0       975.0       334.0         4.9205            240500.0\n",
            "2560    -122.32     38.32                22.0       2483.0           528.0      1478.0       492.0         4.0878            164400.0\n",
            "2561    -118.14     33.88                30.0       2596.0           580.0      1662.0       539.0         4.0507            179500.0\n",
            "2562    -117.82     33.81                25.0       2662.0           402.0      1247.0       401.0         5.4395            244000.0\n",
            "2563    -118.27     34.07                38.0       1270.0           556.0      1692.0       450.0         1.8700            170800.0\n",
            "2564    -117.44     33.95                31.0        914.0           177.0       556.0       161.0         3.7344            115300.0\n",
            "2565    -118.10     34.07                36.0       1240.0           349.0      1383.0       338.0         2.4931            170300.0\n",
            "2566    -121.83     37.37                43.0       1461.0           284.0       800.0       258.0         3.2279            182400.0\n",
            "2567    -120.90     35.33                16.0       1576.0           287.0       595.0       262.0         3.5880            266300.0\n",
            "2568    -121.75     36.92                48.0       1801.0           353.0      1071.0       361.0         3.6000            194500.0\n",
            "2569    -117.91     33.65                24.0        885.0           321.0       590.0       254.0         2.6250            217900.0\n",
            "2570    -117.20     32.80                33.0       2573.0           436.0      1084.0       443.0         4.2417            294100.0\n",
            "2571    -118.23     34.18                43.0       1708.0           280.0       768.0       276.0         6.2070            457400.0\n",
            "2572    -118.32     33.93                34.0       1536.0           273.0       804.0       287.0         4.9615            157800.0\n",
            "2573    -117.76     34.12                16.0       9020.0          1509.0      3575.0      1486.0         4.2415            275700.0\n",
            "2574    -118.45     34.23                25.0       4393.0          1369.0      3781.0      1267.0         2.5833            183700.0\n",
            "2575    -122.45     41.28                15.0       2740.0           503.0      1188.0       445.0         3.4519            128800.0\n",
            "2576    -118.33     34.01                43.0       2227.0           564.0       956.0       472.0         2.0217            187500.0\n",
            "2577    -124.16     40.79                46.0       3042.0           597.0      1206.0       541.0         2.1135             90600.0\n",
            "2578    -118.14     34.06                37.0       1339.0           258.0       706.0       238.0         4.7569            253800.0\n",
            "2579    -121.14     38.77                15.0      10282.0          1333.0      3868.0      1300.0         6.4789            287800.0\n",
            "2580    -117.75     33.83                14.0       2452.0           296.0       954.0       275.0         8.2375            388300.0\n",
            "2581    -122.12     37.69                30.0       1197.0           269.0       695.0       279.0         3.4375            157800.0\n",
            "2582    -117.79     34.07                33.0       1694.0           333.0      1689.0       301.0         3.7583            116300.0\n",
            "2583    -118.41     34.09                37.0       2716.0           302.0       809.0       291.0        15.0001            500001.0\n",
            "2584    -118.53     34.44                19.0       1285.0           195.0       650.0       193.0         6.0398            217800.0\n",
            "2585    -120.78     38.74                28.0       4236.0           877.0      2008.0       881.0         2.1603            111300.0\n",
            "2586    -122.35     37.58                26.0        854.0           246.0       396.0       231.0         2.8393            375000.0\n",
            "2587    -119.72     36.82                15.0        946.0           239.0       550.0       246.0         2.2639             52500.0\n",
            "2588    -118.14     34.01                42.0       1973.0           510.0      1841.0       502.0         2.5326            156500.0\n",
            "2589    -117.12     32.75                25.0       2222.0           634.0      1025.0       568.0         1.6400            130000.0\n",
            "2590    -117.90     34.13                37.0       1801.0           422.0      1564.0       425.0         3.1597            133000.0\n",
            "2591    -117.39     33.69                 5.0       6529.0           997.0      3464.0      1006.0         5.3275            168700.0\n",
            "2592    -122.45     40.61                17.0        785.0           155.0       417.0       136.0         2.3289             58200.0\n",
            "2593    -117.12     34.21                19.0       4641.0           994.0      1334.0       474.0         4.5972            123900.0\n",
            "2594    -122.76     38.46                14.0       4742.0           756.0      2149.0       732.0         4.5152            199200.0\n",
            "2595    -118.19     34.12                46.0       3387.0           820.0      2833.0       813.0         2.9870            176900.0\n",
            "2596    -118.31     34.06                36.0        369.0           147.0       145.0       136.0         0.8804            450000.0\n",
            "2597    -122.34     37.95                45.0       1128.0           240.0       702.0       270.0         3.6719            134100.0\n",
            "2598    -118.22     34.66                17.0       3810.0           662.0      1867.0       586.0         4.9000            152400.0\n",
            "2599    -118.29     34.05                40.0        907.0           349.0      1426.0       323.0         1.8571            143800.0\n",
            "2600    -117.96     33.87                37.0       1785.0           360.0      1155.0       403.0         4.7984            175800.0\n",
            "2601    -119.57     34.38                22.0       2512.0           426.0       919.0       341.0         5.7590            425000.0\n",
            "2602    -118.28     33.75                41.0       1305.0           381.0      1384.0       369.0         2.4500            186800.0\n",
            "2603    -121.89     38.01                32.0       1000.0           188.0       663.0       212.0         4.0972             99200.0\n",
            "2604    -118.13     34.16                52.0       1872.0           357.0       984.0       364.0         4.0000            250400.0\n",
            "2605    -118.04     34.18                37.0       3134.0           532.0      1220.0       508.0         5.2865            455400.0\n",
            "2606    -123.22     39.16                32.0       1149.0           187.0       499.0       208.0         3.6587            154600.0\n",
            "2607    -120.69     38.44                13.0       1473.0           265.0       597.0       228.0         4.2917            121300.0\n",
            "2608    -118.04     33.80                33.0       2685.0           466.0      1359.0       476.0         5.0261            245100.0\n",
            "2609    -119.80     36.73                45.0        925.0           231.0       797.0       228.0         1.7011             44800.0\n",
            "2610    -117.49     33.91                17.0       5364.0          1020.0      3754.0       936.0         3.2857            139100.0\n",
            "2611    -118.34     34.01                37.0       4291.0          1102.0      1941.0       953.0         1.7945            106300.0\n",
            "2612    -118.37     34.19                41.0       2924.0           867.0      2751.0       836.0         2.1000            171600.0\n",
            "2613    -117.27     34.45                 8.0       6463.0          1095.0      3213.0      1031.0         3.2215            108800.0\n",
            "2614    -120.45     34.87                 4.0       1533.0           221.0       545.0       191.0         7.5696            328700.0\n",
            "2615    -122.32     37.52                26.0       4042.0           591.0      1611.0       578.0         8.4693            419200.0\n",
            "2616    -121.42     38.49                17.0      13180.0          2444.0      7235.0      2335.0         3.3630            103000.0\n",
            "2617    -115.57     32.78                29.0       2321.0           367.0      1173.0       360.0         4.0375             86400.0\n",
            "2618    -118.47     33.99                52.0       2167.0           622.0      1095.0       570.0         2.8514            358700.0\n",
            "2619    -118.27     33.96                42.0        796.0           203.0       697.0       177.0         2.0370             92600.0\n",
            "2620    -118.05     33.90                41.0        550.0           129.0       642.0       125.0         1.8750            119900.0\n",
            "2621    -118.96     35.40                28.0       4667.0           875.0      2404.0       841.0         3.2325             89000.0\n",
            "2622    -117.13     32.98                 5.0       2276.0           311.0      1158.0       317.0         6.4321            271900.0\n",
            "2623    -122.04     37.61                36.0       1151.0           216.0       727.0       215.0         4.1719            187000.0\n",
            "2624    -116.58     33.09                36.0        992.0           224.0       334.0       126.0         3.0089            134400.0\n",
            "2625    -121.98     38.25                 4.0       2487.0           440.0      1545.0       452.0         4.9103            140400.0\n",
            "2626    -122.30     37.92                32.0       3943.0           605.0      1524.0       614.0         6.0677            321600.0\n",
            "2627    -121.57     39.48                15.0        202.0            54.0       145.0        40.0         0.8252             42500.0\n",
            "2628    -118.09     33.92                36.0        847.0           185.0       713.0       194.0         4.8542            167400.0\n",
            "2629    -117.71     33.61                25.0       3004.0           718.0       891.0       626.0         2.3950             80300.0\n",
            "2630    -118.21     33.90                41.0        941.0           233.0       973.0       253.0         1.9583            102300.0\n",
            "2631    -118.29     34.17                52.0       1732.0           305.0       875.0       311.0         4.3250            292600.0\n",
            "2632    -118.95     35.40                23.0       4483.0           894.0      2136.0       883.0         3.6875            101700.0\n",
            "2633    -117.41     34.23                17.0        889.0           131.0       439.0       141.0         6.1426            155000.0\n",
            "2634    -121.92     36.57                42.0       3944.0           738.0      1374.0       598.0         4.1740            394400.0\n",
            "2635    -121.64     39.15                15.0       2659.0           396.0      1159.0       407.0         5.2340            124900.0\n",
            "2636    -120.92     37.63                39.0         45.0             8.0        22.0         9.0         1.7679            450000.0\n",
            "2637    -122.27     37.84                52.0       1688.0           337.0       853.0       325.0         2.1806             99700.0\n",
            "2638    -118.27     34.10                51.0       3149.0           519.0      1082.0       510.0         6.4459            421600.0\n",
            "2639    -121.81     37.24                21.0       3250.0           610.0      1978.0       568.0         4.5000            234400.0\n",
            "2640    -114.62     33.62                26.0         18.0             3.0         5.0         3.0         0.5360            275000.0\n",
            "2641    -118.09     34.71                 5.0       5807.0          1182.0      2602.0      1007.0         2.4012            159400.0\n",
            "2642    -118.20     34.02                48.0       2230.0           593.0      2419.0       598.0         2.3944            130700.0\n",
            "2643    -119.62     36.59                17.0       2287.0           390.0      1330.0       393.0         4.0197             88000.0\n",
            "2644    -118.41     34.19                42.0        779.0           145.0       450.0       148.0         3.9792            193800.0\n",
            "2645    -118.30     33.98                48.0       1998.0           410.0      1176.0       382.0         3.0455            102400.0\n",
            "2646    -117.33     34.12                38.0       1703.0           385.0      1356.0       363.0         2.0391             70400.0\n",
            "2647    -118.50     34.02                28.0       5109.0          1482.0      2313.0      1451.0         3.3266            483300.0\n",
            "2648    -118.07     33.92                36.0       1560.0           320.0      1348.0       314.0         3.6220            174000.0\n",
            "2649    -117.13     32.58                27.0       2511.0           615.0      1427.0       576.0         3.1645            156000.0\n",
            "2650    -117.27     34.49                 7.0       2344.0           351.0       846.0       314.0         4.7361            174500.0\n",
            "2651    -121.45     38.60                44.0       2324.0           413.0       823.0       375.0         4.6625            158900.0\n",
            "2652    -121.98     37.22                46.0      10088.0          1910.0      3728.0      1781.0         5.2321            500001.0\n",
            "2653    -120.31     36.65                24.0        943.0           209.0       514.0       156.0         2.2500             76600.0\n",
            "2654    -117.95     33.84                32.0       1378.0           492.0      1202.0       448.0         3.4028            183700.0\n",
            "2655    -119.70     36.80                34.0       1768.0           303.0       888.0       314.0         3.8088             87700.0\n",
            "2656    -121.88     37.43                17.0       3469.0           896.0      2762.0       808.0         3.3884            245800.0\n",
            "2657    -118.43     34.26                37.0       1269.0           348.0      1835.0       335.0         3.2583            147200.0\n",
            "2658    -121.89     37.35                48.0       1562.0           439.0      1469.0       424.0         2.5673            177500.0\n",
            "2659    -121.33     38.04                15.0       2903.0           440.0      1325.0       423.0         4.5179            145600.0\n",
            "2660    -123.73     39.17                20.0       4620.0          1042.0      1745.0       794.0         2.3750            158800.0\n",
            "2661    -118.04     33.97                34.0       1759.0           431.0      1282.0       391.0         3.0491            158200.0\n",
            "2662    -118.15     34.19                48.0       1854.0           360.0      1126.0       382.0         3.2216            161600.0\n",
            "2663    -118.11     34.02                17.0       9559.0          1911.0      5279.0      1844.0         5.1515            318900.0\n",
            "2664    -121.20     38.67                10.0       3875.0           668.0      1632.0       593.0         4.6902            171000.0\n",
            "2665    -118.39     34.12                29.0       6447.0          1012.0      2184.0       960.0         8.2816            500001.0\n",
            "2666    -118.37     34.06                52.0       2239.0           423.0       832.0       411.0         5.0858            470000.0\n",
            "2667    -118.52     34.20                35.0       2891.0           594.0      1757.0       581.0         4.3571            199800.0\n",
            "2668    -118.37     33.95                52.0        836.0           175.0       747.0       166.0         4.1250            174000.0\n",
            "2669    -121.34     37.98                 8.0       2628.0           428.0      1158.0       393.0         5.3002            191700.0\n",
            "2670    -119.32     36.19                11.0       3136.0           620.0      2013.0       583.0         3.3350             69700.0\n",
            "2671    -117.84     34.04                 4.0       9959.0          1544.0      4904.0      1429.0         6.9754            402500.0\n",
            "2672    -118.23     34.15                19.0       2294.0           716.0      1686.0       680.0         3.0288            258300.0\n",
            "2673    -115.52     32.98                21.0       1302.0           327.0      1244.0       316.0         2.2054             66400.0\n",
            "2674    -117.79     34.07                34.0        975.0           192.0       870.0       183.0         3.7933            116100.0\n",
            "2675    -115.59     32.96                17.0        841.0           146.0       473.0       154.0         3.1979            113500.0\n",
            "2676    -121.83     37.30                17.0       1299.0           211.0       825.0       217.0         4.5000            235800.0\n",
            "2677    -117.27     34.50                 8.0       3567.0           543.0      1133.0       419.0         5.3733            302600.0\n",
            "2678    -118.04     33.93                35.0       1805.0           387.0      1505.0       366.0         4.1667            151900.0\n",
            "2679    -122.09     37.95                32.0       1339.0           209.0       601.0       209.0         6.0265            247900.0\n",
            "2680    -122.23     37.75                50.0       1542.0           289.0       654.0       268.0         3.9632            240000.0\n",
            "2681    -117.88     33.72                38.0       1421.0           300.0      1236.0       263.0         3.9844            165300.0\n",
            "2682    -122.42     37.75                52.0       2164.0           533.0      1122.0       469.0         3.2632            306000.0\n",
            "2683    -118.05     34.14                39.0       2125.0           295.0       862.0       303.0         8.9728            500001.0\n",
            "2684    -118.06     34.11                36.0       2178.0           485.0       914.0       412.0         2.7656            239500.0\n",
            "2685    -118.15     33.87                33.0       2373.0           552.0      1673.0       571.0         3.0685            181800.0\n",
            "2686    -117.25     32.76                38.0       2331.0           493.0       836.0       433.0         4.9125            452600.0\n",
            "2687    -117.86     33.74                34.0       2254.0           630.0      2984.0       625.0         2.5000            162500.0\n",
            "2688    -122.53     39.09                11.0       1264.0           271.0       370.0       177.0         1.3000             69700.0\n",
            "2689    -117.97     33.68                23.0       1722.0           316.0       865.0       309.0         4.6452            273800.0\n",
            "2690    -118.06     34.03                36.0         21.0             7.0        21.0         9.0         2.3750            175000.0\n",
            "2691    -117.82     33.74                25.0       2720.0           680.0      1559.0       631.0         3.0958            137800.0\n",
            "2692    -121.80     37.70                22.0       5533.0           943.0      2474.0       910.0         4.7361            216800.0\n",
            "2693    -121.73     36.85                22.0       1304.0           278.0       887.0       227.0         3.6607            206300.0\n",
            "2694    -118.32     33.86                34.0        495.0            90.0       269.0        93.0         6.4391            252300.0\n",
            "2695    -118.28     34.04                24.0       1283.0           545.0      1932.0       516.0         1.2969            160200.0\n",
            "2696    -117.03     32.95                19.0       4500.0           815.0      2456.0       782.0         4.5032            168900.0\n",
            "2697    -117.87     33.83                27.0       2287.0           353.0      1140.0       351.0         5.6163            231000.0\n",
            "2698    -122.09     37.65                35.0       1130.0           192.0       543.0       184.0         4.3897            190600.0\n",
            "2699    -117.60     34.03                16.0       1499.0           232.0       918.0       239.0         5.5677            175400.0\n",
            "2700    -121.46     38.61                43.0       1111.0           269.0       613.0       290.0         1.2917             66300.0\n",
            "2701    -117.96     34.53                10.0       2907.0           559.0      1681.0       531.0         3.8594            141000.0\n",
            "2702    -116.46     33.79                10.0       6960.0          1487.0      1130.0       661.0         2.1411            136400.0\n",
            "2703    -118.54     34.37                27.0       2051.0           301.0       917.0       287.0         7.6059            323700.0\n",
            "2704    -122.16     37.45                52.0       1135.0           219.0       441.0       200.0         7.5418            492000.0\n",
            "2705    -117.71     34.06                27.0       2127.0           628.0      1970.0       534.0         1.4722             91300.0\n",
            "2706    -118.29     34.03                42.0        907.0           378.0       822.0       288.0         1.2875            179200.0\n",
            "2707    -118.18     33.90                32.0       1452.0           365.0      1888.0       366.0         3.5461            146400.0\n",
            "2708    -121.36     38.69                13.0       6850.0          1400.0      4251.0      1421.0         3.6989             93300.0\n",
            "2709    -122.37     40.52                18.0       4547.0           774.0      2269.0       766.0         3.7896             98100.0\n",
            "2710    -122.41     37.71                49.0       1852.0           429.0      1615.0       447.0         3.4950            217800.0\n",
            "2711    -118.53     34.24                24.0       2718.0           719.0      3018.0       644.0         2.9076            275300.0\n",
            "2712    -121.88     37.67                16.0       4070.0           624.0      1543.0       577.0         6.5214            311500.0\n",
            "2713    -120.09     37.00                11.0       3761.0           675.0      2374.0       673.0         3.4598             74600.0\n",
            "2714    -117.10     32.75                17.0        871.0           379.0       955.0       351.0         1.4375             96400.0\n",
            "2715    -119.64     36.35                30.0       1765.0           310.0       746.0       298.0         2.8125             70200.0\n",
            "2716    -118.26     33.97                47.0       1504.0           374.0      1168.0       358.0         1.4625             94200.0\n",
            "2717    -117.60     33.91                15.0       1864.0           271.0      1006.0       288.0         7.2379            251000.0\n",
            "2718    -122.20     39.51                37.0       2358.0           413.0      1060.0       424.0         2.8333             69700.0\n",
            "2719    -122.12     37.69                10.0       2227.0           560.0      1140.0       472.0         2.3973            167300.0\n",
            "2720    -118.20     33.97                43.0        825.0           212.0       820.0       184.0         1.8897            174300.0\n",
            "2721    -121.28     38.14                38.0       2803.0           500.0      1223.0       509.0         4.1190            128800.0\n",
            "2722    -119.03     34.23                16.0       5323.0           795.0      2493.0       779.0         5.6762            271300.0\n",
            "2723    -121.70     38.10                19.0       4896.0          1083.0      2150.0       905.0         3.3398             89700.0\n",
            "2724    -117.96     33.83                30.0       2838.0           649.0      1758.0       593.0         3.3831            197400.0\n",
            "2725    -120.70     36.99                32.0        320.0            73.0       222.0        78.0         2.9271             87500.0\n",
            "2726    -122.39     37.74                45.0       1462.0           308.0       924.0       302.0         2.1767            185300.0\n",
            "2727    -121.76     38.41                19.0        686.0           107.0       348.0       109.0         3.9306             93800.0\n",
            "2728    -121.35     38.66                 8.0       3322.0           805.0      1694.0       774.0         2.7011            130700.0\n",
            "2729    -118.67     34.28                21.0       4059.0           598.0      2133.0       634.0         5.6949            235300.0\n",
            "2730    -118.31     34.10                33.0        766.0           347.0       918.0       305.0         1.7050            350000.0\n",
            "2731    -117.69     34.04                 5.0       4459.0           896.0      2028.0       881.0         4.0096            182600.0\n",
            "2732    -119.60     36.58                28.0       1452.0           300.0       919.0       308.0         2.8287             73100.0\n",
            "2733    -121.76     36.75                21.0       1141.0           257.0       671.0       195.0         3.8424            155700.0\n",
            "2734    -117.94     33.86                35.0       1235.0           227.0       875.0       220.0         4.6964            183100.0\n",
            "2735    -120.86     37.77                28.0       1208.0           232.0       535.0       232.0         2.3523             94700.0\n",
            "2736    -121.84     37.35                22.0       2914.0           768.0      2962.0       762.0         2.2031            164000.0\n",
            "2737    -121.07     38.90                52.0       1280.0           281.0       523.0       266.0         1.7375            122200.0\n",
            "2738    -118.45     33.96                24.0       3097.0           791.0      1075.0       639.0         5.7230            500001.0\n",
            "2739    -118.29     34.18                52.0       1602.0           265.0       667.0       251.0         5.0490            323500.0\n",
            "2740    -119.97     36.44                18.0       1128.0           237.0       772.0       220.0         2.1771             39200.0\n",
            "2741    -121.93     38.31                25.0        185.0            32.0        85.0        32.0         4.8750            250000.0\n",
            "2742    -118.20     33.93                38.0       1626.0           307.0      1280.0       295.0         3.5313            146500.0\n",
            "2743    -122.18     38.23                21.0       2475.0           341.0       812.0       308.0         7.2589            320400.0\n",
            "2744    -118.01     34.14                20.0       3350.0           831.0      1816.0       744.0         2.8352            161700.0\n",
            "2745    -117.87     34.13                32.0       1741.0           373.0       872.0       333.0         3.4219            194500.0\n",
            "2746    -118.53     34.27                32.0       1931.0           298.0       948.0       314.0         5.3847            329200.0\n",
            "2747    -117.14     32.80                33.0       2670.0           435.0      1256.0       431.0         3.9417            179800.0\n",
            "2748    -118.07     34.17                34.0       4062.0           597.0      1525.0       566.0         7.8588            454800.0\n",
            "2749    -117.58     33.88                16.0       1739.0           478.0      1235.0       420.0         2.2969            116100.0\n",
            "2750    -120.06     36.97                35.0       1859.0           428.0      1208.0       399.0         1.4044             61700.0\n",
            "2751    -121.83     38.43                24.0       1307.0           314.0       917.0       291.0         2.2244             98100.0\n",
            "2752    -122.48     37.72                45.0       1405.0           338.0       733.0       342.0         4.1116            187500.0\n",
            "2753    -116.91     32.75                 5.0       8710.0          1614.0      4372.0      1527.0         4.7813            240900.0\n",
            "2754    -119.77     36.74                20.0       1855.0           519.0      1091.0       443.0         1.5547             93900.0\n",
            "2755    -119.46     36.91                12.0       2980.0           495.0      1184.0       429.0         3.9141            123900.0\n",
            "2756    -118.18     33.91                41.0       1260.0           299.0      1535.0       322.0         3.0134            128100.0\n",
            "2757    -118.39     34.06                43.0       1879.0           397.0       873.0       382.0         3.8158            500001.0\n",
            "2758    -118.22     33.99                 4.0       1849.0           577.0      1529.0       418.0         2.7708            186300.0\n",
            "2759    -116.99     33.20                17.0       2980.0           539.0      1531.0       505.0         3.1553            250000.0\n",
            "2760    -117.16     32.73                52.0       1863.0           559.0       906.0       493.0         1.9203            195800.0\n",
            "2761    -117.38     33.98                10.0        642.0           176.0       462.0       186.0         2.1528            162500.0\n",
            "2762    -122.44     38.34                25.0       3106.0           715.0      1262.0       665.0         1.9487            233500.0\n",
            "2763    -117.88     33.92                13.0       3292.0           727.0      1565.0       698.0         5.4570            308800.0\n",
            "2764    -119.71     34.44                41.0       2220.0           367.0       927.0       355.0         5.3184            376000.0\n",
            "2765    -119.06     34.37                32.0       3885.0           759.0      2504.0       736.0         3.6453            201700.0\n",
            "2766    -121.91     37.31                16.0       2962.0           898.0      1555.0       795.0         2.5804            216300.0\n",
            "2767    -121.56     37.00                20.0       3976.0           953.0      3866.0       950.0         2.5387            160100.0\n",
            "2768    -122.49     38.00                26.0         48.0             8.0        19.0         8.0         7.7197            400000.0\n",
            "2769    -118.33     34.02                45.0       1667.0           399.0       928.0       375.0         1.8783            118200.0\n",
            "2770    -122.26     37.51                29.0       3703.0          1075.0      1611.0      1025.0         2.7075            323800.0\n",
            "2771    -121.99     37.83                16.0       2939.0           380.0      1177.0       396.0         8.0839            372000.0\n",
            "2772    -121.42     37.74                35.0        796.0           132.0       313.0       152.0         3.1500            153200.0\n",
            "2773    -121.39     38.61                35.0       2024.0           359.0       786.0       364.0         2.4632            156900.0\n",
            "2774    -122.42     37.62                36.0       1017.0           165.0       407.0       159.0         4.8000            306800.0\n",
            "2775    -121.44     38.48                12.0       4929.0          1010.0      2621.0       870.0         2.7262            109800.0\n",
            "2776    -117.48     33.98                20.0       2451.0           475.0      1785.0       456.0         3.3966            115000.0\n",
            "2777    -122.05     37.38                24.0       2424.0           501.0      1367.0       507.0         4.0720            364200.0\n",
            "2778    -123.92     41.54                22.0       2920.0           636.0      1382.0       499.0         2.0202             71100.0\n",
            "2779    -119.01     35.40                11.0       8739.0          2190.0      4781.0      1919.0         1.7109             44600.0\n",
            "2780    -122.33     37.57                43.0       2543.0           621.0      1301.0       606.0         3.1111            318400.0\n",
            "2781    -120.99     37.61                39.0        512.0           132.0       443.0       127.0         1.2857             60000.0\n",
            "2782    -121.96     37.58                15.0       3575.0           597.0      1777.0       559.0         5.7192            283500.0\n",
            "2783    -121.58     39.16                33.0       1897.0           378.0       888.0       385.0         2.1111             68700.0\n",
            "2784    -120.59     38.53                15.0        432.0            87.0       208.0        73.0         3.6125            100000.0\n",
            "2785    -117.58     33.87                30.0        701.0           131.0       356.0       125.0         3.2917            144300.0\n",
            "2786    -121.84     39.75                29.0       4362.0          1053.0      2053.0      1000.0         1.7284             74500.0\n",
            "2787    -121.80     36.69                12.0       3877.0           914.0      2274.0       858.0         3.4239            194800.0\n",
            "2788    -122.22     37.81                52.0       2944.0           536.0      1034.0       521.0         5.3509            302100.0\n",
            "2789    -117.64     33.45                26.0       1528.0           234.0       607.0       218.0         6.2871            325500.0\n",
            "2790    -120.42     37.98                18.0       3059.0           609.0      1335.0       581.0         2.5129            115900.0\n",
            "2791    -118.30     34.06                47.0       1390.0           872.0      2860.0       827.0         1.4680            137500.0\n",
            "2792    -122.25     37.87                52.0       1204.0           460.0      2016.0       477.0         0.9490            350000.0\n",
            "2793    -120.27     39.35                11.0       2520.0           401.0       397.0       165.0         4.6650            145600.0\n",
            "2794    -119.88     36.93                12.0       3174.0           520.0      1590.0       488.0         4.5347            101200.0\n",
            "2795    -122.37     37.58                52.0       2188.0           361.0       917.0       357.0         4.4000            500000.0\n",
            "2796    -117.82     33.72                24.0       3260.0           458.0      1383.0       442.0         6.5987            272800.0\n",
            "2797    -118.22     33.93                30.0        443.0           170.0       903.0       189.0         2.1964            125000.0\n",
            "2798    -120.97     38.65                 9.0       3707.0           602.0      1601.0       555.0         4.0714            300600.0\n",
            "2799    -122.06     37.70                33.0       3906.0           790.0      1912.0       770.0         3.5187            209400.0\n",
            "2800    -118.23     33.92                32.0       2698.0           640.0      1953.0       613.0         1.2222            107200.0\n",
            "2801    -117.34     34.46                 9.0       5983.0          1122.0      3515.0      1064.0         3.1505            102000.0\n",
            "2802    -119.24     36.33                 9.0       3289.0           621.0      1866.0       631.0         3.1599             95000.0\n",
            "2803    -122.18     37.73                42.0       4074.0           874.0      2736.0       780.0         2.4550             82400.0\n",
            "2804    -118.20     33.82                43.0       1758.0           347.0       954.0       312.0         5.2606            198900.0\n",
            "2805    -117.07     32.81                15.0       2000.0           402.0       778.0       369.0         4.3594            224200.0\n",
            "2806    -122.25     38.02                16.0       1803.0           267.0       946.0       266.0         5.7001            205100.0\n",
            "2807    -118.42     34.31                19.0       6755.0          1443.0      4205.0      1395.0         3.9583            163200.0\n",
            "2808    -122.27     37.85                52.0       1966.0           347.0       793.0       331.0         2.7750            152500.0\n",
            "2809    -117.92     33.65                28.0       1087.0           423.0       807.0       425.0         0.9702            225400.0\n",
            "2810    -118.16     34.13                36.0       4003.0           647.0      1337.0       631.0         7.7230            500001.0\n",
            "2811    -122.49     37.69                35.0       2576.0           443.0      1273.0       433.0         4.7391            272800.0\n",
            "2812    -122.48     38.31                29.0       2375.0           560.0      1124.0       502.0         2.3276            166200.0\n",
            "2813    -117.67     34.02                16.0       3042.0           524.0      1516.0       475.0         4.8906            178500.0\n",
            "2814    -117.15     32.91                14.0       1259.0           238.0       889.0       247.0         4.9464            174800.0\n",
            "2815    -118.34     34.03                46.0       2437.0           502.0      1151.0       477.0         2.4444            134100.0\n",
            "2816    -121.54     38.50                15.0       6093.0          1051.0      2415.0       997.0         4.2075            183600.0\n",
            "2817    -118.15     33.97                32.0       1174.0           373.0      1758.0       361.0         2.4263            158100.0\n",
            "2818    -122.54     38.14                16.0       4431.0           603.0      1659.0       630.0         7.5412            392100.0\n",
            "2819    -118.01     33.88                19.0       1434.0           391.0      1088.0       341.0         3.3690            269600.0\n",
            "2820    -117.68     35.62                30.0       2994.0           741.0      1481.0       581.0         2.1458             52400.0\n",
            "2821    -120.64     35.26                21.0       3298.0           716.0      1862.0       687.0         2.1507            221500.0\n",
            "2822    -121.29     38.10                14.0       1551.0           297.0       785.0       281.0         3.7750            163300.0\n",
            "2823    -120.19     37.53                25.0       1470.0           341.0       706.0       283.0         1.7614             71300.0\n",
            "2824    -117.31     34.10                28.0       2899.0           755.0      2406.0       655.0         1.5208             69500.0\n",
            "2825    -118.09     33.87                31.0       3498.0           728.0      2098.0       697.0         3.9837            246000.0\n",
            "2826    -117.99     34.12                37.0       1527.0           331.0      1504.0       324.0         3.2857            130100.0\n",
            "2827    -119.81     34.47                26.0       4382.0           618.0      1728.0       587.0         7.4734            432200.0\n",
            "2828    -116.96     33.52                 9.0       2802.0           471.0      1155.0       421.0         4.1250            392100.0\n",
            "2829    -122.31     37.57                37.0       1437.0           305.0       979.0       331.0         4.0000            273700.0\n",
            "2830    -117.39     33.97                52.0       3307.0           553.0      1269.0       529.0         4.3176            136200.0\n",
            "2831    -118.51     34.19                38.0       2182.0           409.0      1141.0       379.0         4.2865            221100.0\n",
            "2832    -117.30     34.12                34.0       1127.0           275.0       971.0       249.0         2.0583             64800.0\n",
            "2833    -120.85     37.51                15.0       1131.0           285.0       728.0       281.0         1.5531             93100.0\n",
            "2834    -121.31     37.93                21.0       1556.0           314.0      1140.0       304.0         2.4667             81400.0\n",
            "2835    -118.16     34.09                33.0       1515.0           415.0      1345.0       346.0         2.3750            175000.0\n",
            "2836    -118.03     33.84                30.0       4781.0           831.0      2568.0       797.0         5.4746            226400.0\n",
            "2837    -119.88     34.40                25.0       2741.0           623.0      2272.0       624.0         2.2647            216700.0\n",
            "2838    -118.57     34.17                35.0       2072.0           318.0       908.0       342.0         6.0928            327300.0\n",
            "2839    -122.11     37.14                29.0       3201.0           640.0      1722.0       570.0         4.4597            204100.0\n",
            "2840    -122.43     37.76                52.0       2332.0           434.0       861.0       406.0         4.4318            437500.0\n",
            "2841    -118.27     33.96                38.0       1126.0           270.0       999.0       265.0         0.5495             91700.0\n",
            "2842    -117.16     33.76                11.0       4934.0           929.0      2508.0       840.0         2.6250            155400.0\n",
            "2843    -122.07     37.89                38.0       2139.0           343.0       809.0       340.0         5.5636            268800.0\n",
            "2844    -117.09     34.01                37.0        106.0            18.0        27.0        12.0         4.0556            131300.0\n",
            "2845    -122.31     37.92                12.0       1895.0           600.0       983.0       519.0         2.5000            195800.0\n",
            "2846    -122.19     37.73                44.0       1066.0           253.0       825.0       244.0         2.1538             79700.0\n",
            "2847    -117.00     32.73                17.0       6050.0          1143.0      3424.0      1131.0         3.7647            127600.0\n",
            "2848    -117.21     33.19                21.0       3765.0           612.0      1722.0       593.0         4.8152            218500.0\n",
            "2849    -118.26     34.14                51.0        902.0           320.0       650.0       334.0         1.5417            268800.0\n",
            "2850    -122.10     37.36                35.0       2063.0           266.0       676.0       252.0         8.5294            500001.0\n",
            "2851    -121.86     36.60                33.0       1409.0           307.0       633.0       290.0         3.5568            191200.0\n",
            "2852    -117.24     33.11                10.0       3487.0           545.0      1410.0       557.0         6.0336            240300.0\n",
            "2853    -116.37     33.72                19.0       6190.0          1355.0      2242.0      1043.0         3.0021            152300.0\n",
            "2854    -121.32     38.41                17.0       4401.0           655.0      1970.0       639.0         5.8239            247500.0\n",
            "2855    -118.70     34.28                27.0       3536.0           646.0      1837.0       580.0         4.4964            238300.0\n",
            "2856    -118.15     33.95                31.0       1053.0           230.0       686.0       211.0         4.0000            263200.0\n",
            "2857    -118.30     33.73                47.0       2852.0           603.0      1130.0       560.0         4.1940            293900.0\n",
            "2858    -118.52     34.19                37.0       1892.0           347.0      1039.0       343.0         4.8295            212100.0\n",
            "2859    -118.22     33.99                 6.0       1499.0           437.0      1754.0       447.0         4.3164            143200.0\n",
            "2860    -122.41     37.65                32.0       3436.0           868.0      2583.0       817.0         3.5039            232400.0\n",
            "2861    -122.30     37.89                46.0       1520.0           402.0       815.0       375.0         2.8036            211600.0\n",
            "2862    -121.43     38.56                50.0       1533.0           288.0       532.0       257.0         2.5417            125900.0\n",
            "2863    -117.23     32.86                16.0       1200.0           468.0       648.0       443.0         3.0450            100000.0\n",
            "2864    -117.23     32.79                23.0       2578.0           665.0       989.0       622.0         3.5484            238000.0\n",
            "2865    -117.16     32.72                52.0        788.0           463.0       805.0       391.0         0.9142            162500.0\n",
            "2866    -122.41     37.66                34.0       1075.0           318.0       906.0       294.0         3.0052            242500.0\n",
            "2867    -117.23     32.73                36.0       2052.0           287.0       699.0       265.0         7.5557            441400.0\n",
            "2868    -118.33     34.00                47.0       1671.0           388.0       895.0       317.0         2.2054            121500.0\n",
            "2869    -117.43     33.55                 8.0        446.0            62.0       188.0        68.0         9.4356            465600.0\n",
            "2870    -118.36     34.08                52.0       1965.0           480.0       794.0       451.0         3.2824            304800.0\n",
            "2871    -121.09     38.97                13.0       1467.0           221.0       688.0       231.0         5.2536            191900.0\n",
            "2872    -119.45     35.15                33.0       5050.0           964.0      2293.0       919.0         3.1592             75400.0\n",
            "2873    -121.27     38.64                22.0       1597.0           280.0       657.0       273.0         4.3098            213500.0\n",
            "2874    -118.00     33.90                35.0       1758.0           309.0       972.0       338.0         4.3831            209800.0\n",
            "2875    -118.21     34.05                45.0       2146.0           607.0      2868.0       625.0         2.1210            144000.0\n",
            "2876    -122.50     37.77                52.0       2299.0           441.0      1252.0       415.0         5.0562            336700.0\n",
            "2877    -122.31     37.92                38.0       1250.0           236.0       631.0       279.0         3.7240            220100.0\n",
            "2878    -118.30     34.00                40.0       1131.0           281.0       859.0       230.0         1.1806            134600.0\n",
            "2879    -121.84     38.02                46.0         66.0            22.0        37.0        21.0         0.5360             87500.0\n",
            "2880    -117.25     32.80                30.0       2061.0           631.0      1007.0       577.0         2.5813            253100.0\n",
            "2881    -124.14     40.60                27.0       1148.0           206.0       521.0       219.0         4.0250            128100.0\n",
            "2882    -118.18     34.05                52.0       1070.0           231.0       925.0       220.0         1.8250            133000.0\n",
            "2883    -119.78     36.80                34.0       3426.0           623.0      1938.0       647.0         2.8994             66000.0\n",
            "2884    -122.22     38.08                37.0       2811.0           539.0      1574.0       516.0         3.1053             96700.0\n",
            "2885    -118.50     34.26                33.0       2831.0           510.0      1340.0       504.0         4.8316            237300.0\n",
            "2886    -118.45     34.18                34.0       1843.0           442.0       861.0       417.0         3.6875            246400.0\n",
            "2887    -119.79     36.31                25.0       4984.0          1029.0      2414.0       961.0         2.2937             72300.0\n",
            "2888    -117.21     32.74                45.0       3025.0           583.0      1980.0       550.0         2.2982             87500.0\n",
            "2889    -122.08     40.64                14.0       3099.0           519.0      1447.0       494.0         4.0132            141200.0\n",
            "2890    -122.31     37.52                24.0       2328.0           335.0       969.0       354.0         7.7364            435800.0\n",
            "2891    -119.74     36.76                36.0        912.0           216.0       842.0       219.0         1.4766             52800.0\n",
            "2892    -118.28     34.01                52.0        795.0           308.0      1118.0       275.0         1.2175            131300.0\n",
            "2893    -118.27     34.11                39.0       3825.0           916.0      1378.0       746.0         4.4094            352600.0\n",
            "2894    -117.20     33.16                13.0       4503.0          1137.0      3094.0      1091.0         2.3159             91600.0\n",
            "2895    -122.33     37.53                25.0       1729.0           383.0       769.0       352.0         4.0417            458500.0\n",
            "2896    -120.86     35.40                21.0       2787.0           641.0      1106.0       501.0         2.7043            186200.0\n",
            "2897    -119.47     35.40                32.0       2167.0           421.0      1301.0       394.0         1.9718             69800.0\n",
            "2898    -117.27     34.16                32.0       2894.0           427.0      1151.0       446.0         6.2236            159700.0\n",
            "2899    -121.92     38.02                 8.0       2750.0           479.0      1526.0       484.0         5.1020            156500.0\n",
            "2900    -121.45     38.56                51.0       1250.0           235.0       452.0       232.0         2.6250            121200.0\n",
            "2901    -117.91     33.84                16.0        919.0           253.0       912.0       249.0         1.5903            165400.0\n",
            "2902    -118.48     35.61                17.0       4002.0           930.0      1614.0       731.0         1.6236             67300.0\n",
            "2903    -118.03     33.84                28.0       3857.0           857.0      2328.0       830.0         4.0156            196000.0\n",
            "2904    -118.32     34.04                48.0       1184.0           328.0       953.0       311.0         2.3526            156300.0\n",
            "2905    -121.30     38.89                23.0       1750.0           297.0      1012.0       315.0         3.4706             99300.0\n",
            "2906    -117.69     34.07                34.0       4055.0           739.0      2470.0       753.0         3.8586            136000.0\n",
            "2907    -118.34     33.94                36.0       2796.0          1041.0      4033.0       944.0         2.4886            160700.0\n",
            "2908    -121.92     36.62                52.0       2584.0           599.0       790.0       444.0         2.5263            286400.0\n",
            "2909    -122.11     37.41                27.0       5110.0          1599.0      2764.0      1482.0         3.4198            351900.0\n",
            "2910    -117.65     34.10                44.0       2808.0           585.0      1444.0       550.0         2.7159            139300.0\n",
            "2911    -121.80     38.01                44.0       3184.0           581.0      1399.0       548.0         2.7234            110200.0\n",
            "2912    -122.66     38.81                22.0        852.0           176.0       461.0       142.0         3.4375             83300.0\n",
            "2913    -122.39     37.78                 3.0       3464.0          1179.0      1441.0       919.0         4.7105            275000.0\n",
            "2914    -117.06     34.87                14.0       3348.0           619.0      1756.0       557.0         3.5987             91400.0\n",
            "2915    -121.34     38.66                16.0       3154.0           860.0      1837.0       793.0         1.9805             92900.0\n",
            "2916    -121.92     36.95                29.0       3457.0           699.0      1327.0       563.0         3.6597            252300.0\n",
            "2917    -122.59     38.04                25.0       3412.0           455.0      1238.0       406.0         8.3646            397300.0\n",
            "2918    -118.28     34.11                46.0       1156.0           203.0       514.0       213.0         4.2019            352100.0\n",
            "2919    -121.39     38.60                22.0       5773.0          1320.0      2607.0      1250.0         2.5238            118800.0\n",
            "2920    -122.33     40.52                23.0       2801.0           507.0      1318.0       454.0         3.5081            116700.0\n",
            "2921    -118.20     34.04                47.0       1894.0           408.0      1629.0       379.0         3.7619            127600.0\n",
            "2922    -121.96     37.00                20.0       3847.0           727.0      1725.0       737.0         3.3447            305200.0\n",
            "2923    -117.89     33.87                32.0       1569.0           422.0       835.0       386.0         3.0465            148900.0\n",
            "2924    -117.23     32.88                18.0       5566.0          1465.0      6303.0      1458.0         1.8580            205000.0\n",
            "2925    -122.00     37.12                17.0       4413.0           672.0      1674.0       608.0         6.9772            383300.0\n",
            "2926    -118.40     34.28                22.0       3517.0           810.0      3134.0       847.0         2.6652            164800.0\n",
            "2927    -122.46     37.76                52.0       2236.0           545.0      1186.0       532.0         3.4531            414300.0\n",
            "2928    -121.99     37.54                18.0       3584.0           715.0      1673.0       661.0         3.9444            240100.0\n",
            "2929    -117.23     32.74                16.0        735.0           139.0       299.0       134.0         4.6354            179200.0\n",
            "2930    -121.84     37.29                 4.0       2937.0           648.0      1780.0       665.0         4.3851            160400.0\n",
            "2931    -118.15     34.86                10.0       4597.0          1009.0      2227.0       821.0         2.6149             83500.0\n",
            "2932    -118.33     33.98                38.0       3063.0           796.0      2153.0       721.0         1.8472            149100.0\n",
            "2933    -120.68     35.51                17.0       1701.0           298.0       941.0       293.0         4.3218            209100.0\n",
            "2934    -117.95     33.79                34.0       2912.0           520.0      1625.0       501.0         4.4667            190600.0\n",
            "2935    -117.97     34.05                33.0       1452.0           268.0      1274.0       278.0         3.6563            162700.0\n",
            "2936    -119.75     36.87                 3.0      13802.0          2244.0      5226.0      1972.0         5.0941            143700.0\n",
            "2937    -122.08     37.35                35.0       1347.0           207.0       548.0       189.0         7.7068            500001.0\n",
            "2938    -122.32     37.95                36.0       1425.0           245.0       573.0       239.0         4.3500            185000.0\n",
            "2939    -122.22     38.10                38.0        931.0           181.0       566.0       207.0         3.0221             93300.0\n",
            "2940    -124.09     40.55                24.0       2978.0           553.0      1370.0       480.0         2.7644             97300.0\n",
            "2941    -121.50     38.57                41.0       1124.0           344.0       807.0       316.0         1.4712             94600.0\n",
            "2942    -118.11     33.91                19.0       3056.0           759.0      1561.0       740.0         3.1369            196900.0\n",
            "2943    -121.23     37.96                37.0       2351.0           564.0      1591.0       549.0         1.6563             57200.0\n",
            "2944    -121.89     37.28                35.0       2418.0           375.0       988.0       374.0         6.0936            365400.0\n",
            "2945    -122.48     37.65                39.0       3348.0           666.0      1817.0       668.0         4.2593            227400.0\n",
            "2946    -118.31     34.09                36.0       2517.0           842.0      2446.0       689.0         2.1524            187500.0\n",
            "2947    -123.02     38.81                35.0        956.0           213.0       488.0       215.0         3.0250            140600.0\n",
            "2948    -120.47     34.65                32.0       2193.0           430.0      1074.0       377.0         2.3333            130200.0\n",
            "2949    -122.10     37.68                37.0       2116.0           503.0      1109.0       448.0         2.5350            174000.0\n",
            "2950    -122.42     37.79                52.0       3364.0          1100.0      2112.0      1045.0         2.1343            400000.0\n",
            "2951    -122.64     41.63                19.0       2722.0           479.0      1108.0       430.0         3.1062            100000.0\n",
            "2952    -118.02     33.91                34.0       2518.0           429.0      1309.0       421.0         4.7861            210700.0\n",
            "2953    -119.02     35.36                48.0       1833.0           396.0       947.0       363.0         2.2827             70000.0\n",
            "2954    -121.33     38.65                23.0       2446.0           523.0      1132.0       513.0         2.6266            198500.0\n",
            "2955    -118.08     33.95                32.0       1962.0           387.0      1274.0       398.0         4.8304            160600.0\n",
            "2956    -118.08     33.79                34.0       2840.0           395.0      1127.0       396.0         7.6144            376200.0\n",
            "2957    -118.23     33.91                27.0       1694.0           393.0      1890.0       373.0         3.0341             89100.0\n",
            "2958    -118.29     33.75                37.0       1319.0           292.0       766.0       285.0         2.7031            218900.0\n",
            "2959    -118.02     34.13                34.0       1966.0           319.0       980.0       297.0         7.7307            429000.0\n",
            "2960    -117.89     33.60                36.0       1496.0           247.0       441.0       203.0         7.8164            500001.0\n",
            "2961    -118.23     34.65                17.0       1827.0           348.0       766.0       335.0         3.5673            136300.0\n",
            "2962    -118.31     34.02                45.0       1423.0           278.0       822.0       276.0         2.4519             98100.0\n",
            "2963    -118.07     33.80                34.0       3486.0           507.0      1311.0       503.0         7.1221            384500.0\n",
            "2964    -118.25     33.94                43.0       1113.0           378.0      1305.0       334.0         1.1434             91300.0\n",
            "2965    -122.44     37.71                52.0       2711.0           591.0      1848.0       524.0         3.9567            251500.0\n",
            "2966    -119.75     34.50                26.0       3563.0           579.0      1479.0       575.0         5.9522            438400.0\n",
            "2967    -117.94     33.94                26.0       1962.0           540.0      1236.0       520.0         2.2156            145000.0\n",
            "2968    -119.23     34.17                18.0       6171.0          1490.0      2164.0      1210.0         3.6875            500001.0\n",
            "2969    -118.11     34.68                 6.0       7430.0          1184.0      3489.0      1115.0         5.3267            140100.0\n",
            "2970    -122.47     37.77                52.0       2241.0           443.0      1042.0       377.0         4.1635            398400.0\n",
            "2971    -120.93     35.76                11.0       8997.0          1698.0      1825.0       756.0         3.2300            154300.0\n",
            "2972    -118.14     34.17                52.0       2667.0           486.0      1681.0       504.0         4.0524            173100.0\n",
            "2973    -122.73     38.46                14.0       4042.0          1298.0      2323.0      1158.0         2.0651            135400.0\n",
            "2974    -117.06     32.76                37.0       2356.0           476.0      1231.0       499.0         2.9650            155700.0\n",
            "2975    -120.71     35.50                12.0       3098.0           453.0      1433.0       434.0         5.2508            292900.0\n",
            "2976    -118.31     34.05                35.0       1692.0           423.0      1578.0       406.0         2.5313            305800.0\n",
            "2977    -119.70     36.75                11.0       3626.0           779.0      1819.0       731.0         2.4956             87500.0\n",
            "2978    -121.34     38.64                17.0       2761.0           501.0      1128.0       482.0         3.7562            139700.0\n",
            "2979    -117.91     34.09                20.0       4327.0          1037.0      2296.0       963.0         3.0441            185400.0\n",
            "2980    -119.76     36.79                32.0       2463.0           468.0      1261.0       486.0         3.3281             75100.0\n",
            "2981    -120.66     35.49                17.0       4422.0           945.0      2307.0       885.0         2.8285            171300.0\n",
            "2982    -118.28     34.08                42.0       1618.0           522.0      1454.0       440.0         3.1607            182000.0\n",
            "2983    -122.54     37.90                48.0       2491.0           460.0       937.0       455.0         4.4375            370000.0\n",
            "2984    -117.59     33.88                13.0       3239.0           849.0      2751.0       813.0         2.6111            107000.0\n",
            "2985    -120.47     34.94                17.0       1368.0           308.0       642.0       303.0         1.8633            109400.0\n",
            "2986    -118.25     33.93                42.0        819.0           233.0       899.0       228.0         1.1346             85400.0\n",
            "2987    -121.97     37.29                25.0       4096.0           743.0      2027.0       741.0         5.3294            300300.0\n",
            "2988    -122.01     36.97                43.0       2162.0           509.0      1208.0       464.0         2.5417            260900.0\n",
            "2989    -122.02     37.60                32.0       1295.0           295.0      1097.0       328.0         3.2386            149600.0\n",
            "2990    -118.23     34.09                49.0       1638.0           456.0      1500.0       430.0         2.6923            150000.0\n",
            "2991    -117.17     34.28                13.0       4867.0           718.0       780.0       250.0         7.1997            253800.0\n",
            "2992    -122.33     37.39                52.0        573.0           102.0       232.0        92.0         6.2263            500001.0\n",
            "2993    -117.91     33.60                37.0       2088.0           510.0       673.0       390.0         5.1048            500001.0\n",
            "2994    -117.93     33.86                35.0        931.0           181.0       516.0       174.0         5.5867            182500.0\n",
            "2995    -119.86     34.42                23.0       1450.0           642.0      1258.0       607.0         1.1790            225000.0\n",
            "2996    -118.14     34.06                27.0       5257.0          1082.0      3496.0      1036.0         3.3906            237200.0\n",
            "2997    -119.70     36.30                10.0        956.0           201.0       693.0       220.0         2.2895             62000.0\n",
            "2998    -117.12     34.10                40.0         96.0            14.0        46.0        14.0         3.2708            162500.0\n",
            "2999    -119.63     34.42                42.0       1765.0           263.0       753.0       260.0         8.5608            500001.0\n",
            "longitude               -119.589200\n",
            "latitude                  35.635390\n",
            "housing_median_age        28.845333\n",
            "total_rooms             2599.578667\n",
            "total_bedrooms           529.950667\n",
            "population              1402.798667\n",
            "households               489.912000\n",
            "median_income              3.807272\n",
            "median_house_value    205846.275000\n",
            "dtype: float64\n",
            "longitude               -118.48500\n",
            "latitude                  34.27000\n",
            "housing_median_age        29.00000\n",
            "total_rooms             2106.00000\n",
            "total_bedrooms           437.00000\n",
            "population              1155.00000\n",
            "households               409.50000\n",
            "median_income              3.48715\n",
            "median_house_value    177650.00000\n",
            "dtype: float64\n"
          ]
        }
      ],
      "source": [
        "import pandas as pd\n",
        "data = pd.read_csv('/content/sample_data/california_housing_test.csv')\n",
        "print(data.to_string())\n",
        "print(data.mean())\n",
        "print(data.median())"
      ]
    },
    {
      "cell_type": "code",
      "execution_count": null,
      "metadata": {
        "colab": {
          "base_uri": "https://localhost:8080/",
          "height": 423
        },
        "id": "-IJeJyCVTTQr",
        "outputId": "b617d762-6123-4e15-f16c-4d9132abb23d"
      },
      "outputs": [
        {
          "output_type": "stream",
          "name": "stdout",
          "text": [
            "[1 2 3 3 5]\n"
          ]
        },
        {
          "output_type": "display_data",
          "data": {
            "text/plain": [
              "<Figure size 640x480 with 1 Axes>"
            ],
            "image/png": "[encoded data removed]"
          },
          "metadata": {}
        }
      ],
      "source": [
        "import matplotlib.pyplot as plt\n",
        "import numpy as np\n",
        "arr = np.array([1,3,5,2,3])\n",
        "arr1 = np.sort(arr)\n",
        "print(arr1)\n",
        "plt.pie(arr,labels=arr)\n",
        "plt.show()"
      ]
    },
    {
      "cell_type": "code",
      "source": [
        "for i in range(1,11):\n",
        "  print(i,end=\" \")"
      ],
      "metadata": {
        "colab": {
          "base_uri": "https://localhost:8080/"
        },
        "id": "YyC0TLC4e0al",
        "outputId": "d46dbba2-0a1a-4e9a-c58c-60c0727fbac3"
      },
      "execution_count": null,
      "outputs": [
        {
          "output_type": "stream",
          "name": "stdout",
          "text": [
            "1 2 3 4 5 6 7 8 9 10 "
          ]
        }
      ]
    },
    {
      "cell_type": "code",
      "source": [
        "a=0\n",
        "b=1\n",
        "for i in range(10):\n",
        "  print(a,end=\" \")\n",
        "  c = a + b\n",
        "  a = b\n",
        "  b = c"
      ],
      "metadata": {
        "colab": {
          "base_uri": "https://localhost:8080/"
        },
        "id": "QyilAFw-fg2y",
        "outputId": "78c702a5-d767-4849-a424-47f5a5103a0c"
      },
      "execution_count": null,
      "outputs": [
        {
          "output_type": "stream",
          "name": "stdout",
          "text": [
            "0 1 1 2 3 5 8 13 21 34 "
          ]
        }
      ]
    },
    {
      "cell_type": "code",
      "source": [
        "count = 0\n",
        "i=1\n",
        "while count<10:\n",
        "  f=1\n",
        "  for j in range(1,i+1):\n",
        "    f*=j\n",
        "  print(i,\"! = \",f)\n",
        "  i+=2\n",
        "  count+=1"
      ],
      "metadata": {
        "colab": {
          "base_uri": "https://localhost:8080/"
        },
        "id": "sHceDBRPfuNS",
        "outputId": "8ccb996b-8eff-47b0-fca4-aa0a45fda4bd"
      },
      "execution_count": null,
      "outputs": [
        {
          "output_type": "stream",
          "name": "stdout",
          "text": [
            "1 ! =  1\n",
            "3 ! =  6\n",
            "5 ! =  120\n",
            "7 ! =  5040\n",
            "9 ! =  362880\n",
            "11 ! =  39916800\n",
            "13 ! =  6227020800\n",
            "15 ! =  1307674368000\n",
            "17 ! =  355687428096000\n",
            "19 ! =  121645100408832000\n"
          ]
        }
      ]
    },
    {
      "cell_type": "code",
      "source": [
        "count = 0\n",
        "i = 0\n",
        "while count<10:\n",
        "  if i%2==1:\n",
        "    print(i,end=\" \")\n",
        "    i+=1\n",
        "    count+=1\n",
        "  else:\n",
        "    i+=1"
      ],
      "metadata": {
        "colab": {
          "base_uri": "https://localhost:8080/"
        },
        "id": "Vby7R9VZgOhE",
        "outputId": "628b007e-5488-45b2-dd41-70d03c101682"
      },
      "execution_count": null,
      "outputs": [
        {
          "output_type": "stream",
          "name": "stdout",
          "text": [
            "1 3 5 7 9 11 13 15 17 19 "
          ]
        }
      ]
    },
    {
      "cell_type": "code",
      "source": [
        "import numpy as np\n",
        "count = 0\n",
        "i = 0\n",
        "arr=[]\n",
        "while count<10:\n",
        "  if i%2==0:\n",
        "    arr.append(i)\n",
        "    i+=1\n",
        "    count+=1\n",
        "  else:\n",
        "    i+=1\n",
        "print(arr)\n",
        "arr.reverse()\n",
        "print(arr)"
      ],
      "metadata": {
        "colab": {
          "base_uri": "https://localhost:8080/"
        },
        "id": "iVz1ueAcg8DL",
        "outputId": "1568bd74-ba33-4f9e-f805-df8628f9be2d"
      },
      "execution_count": null,
      "outputs": [
        {
          "output_type": "stream",
          "name": "stdout",
          "text": [
            "[0, 2, 4, 6, 8, 10, 12, 14, 16, 18]\n",
            "[18, 16, 14, 12, 10, 8, 6, 4, 2, 0]\n"
          ]
        }
      ]
    },
    {
      "cell_type": "code",
      "source": [
        "arr = [9,8,4,5,2,6]\n",
        "arr1 = []\n",
        "arr2 = []\n",
        "for i in range(0,3):\n",
        "  arr1.append(arr[i])\n",
        "for j in range(3,6):\n",
        "  arr2.append(arr[j])\n",
        "print(arr1)\n",
        "print(arr2)\n",
        "arr1.sort()\n",
        "arr2.sort(reverse=True)\n",
        "arr = arr1+arr2\n",
        "print(arr)"
      ],
      "metadata": {
        "colab": {
          "base_uri": "https://localhost:8080/"
        },
        "id": "bLDi080chP6z",
        "outputId": "6be51b6a-0a8f-4040-ed1f-068f48e810cb"
      },
      "execution_count": null,
      "outputs": [
        {
          "output_type": "stream",
          "name": "stdout",
          "text": [
            "[9, 8, 4]\n",
            "[5, 2, 6]\n",
            "[4, 8, 9, 6, 5, 2]\n"
          ]
        }
      ]
    },
    {
      "cell_type": "code",
      "source": [
        "arr = [1,1,8,3,4,9]\n",
        "even = []\n",
        "odd = []\n",
        "for i in range(0,6):\n",
        "  if arr[i]%2==1:\n",
        "    odd.append(arr[i])\n",
        "  else:\n",
        "    even.append(arr[i])\n",
        "print(\"Even numbers: \",even)\n",
        "print(\"Odd numbers: \",odd)"
      ],
      "metadata": {
        "colab": {
          "base_uri": "https://localhost:8080/"
        },
        "id": "ztnHfliZieLW",
        "outputId": "d62062cb-9645-4950-dbf5-aa8799507a56"
      },
      "execution_count": null,
      "outputs": [
        {
          "output_type": "stream",
          "name": "stdout",
          "text": [
            "Even numbers:  [8, 4]\n",
            "Odd numbers:  [1, 1, 3, 9]\n"
          ]
        }
      ]
    },
    {
      "cell_type": "code",
      "source": [
        "a = []\n",
        "for i in range(0,10):\n",
        "  x=int(input(\"Enter the number: \"))\n",
        "  a.append(x)\n",
        "y=np.mean(a)\n",
        "print(y)"
      ],
      "metadata": {
        "colab": {
          "base_uri": "https://localhost:8080/"
        },
        "id": "VOFz88qki9oj",
        "outputId": "62ef17d9-5768-4441-ba27-deee558834af"
      },
      "execution_count": null,
      "outputs": [
        {
          "output_type": "stream",
          "name": "stdout",
          "text": [
            "Enter the number: 5\n",
            "Enter the number: 7\n",
            "Enter the number: 6\n",
            "Enter the number: 7\n",
            "Enter the number: 5\n",
            "Enter the number: 3\n",
            "Enter the number: 8\n",
            "Enter the number: 4\n",
            "Enter the number: 7\n",
            "Enter the number: 3\n",
            "5.5\n"
          ]
        }
      ]
    },
    {
      "cell_type": "code",
      "source": [
        "for i in range(100,500):\n",
        "  if i%11==0 and i%2!=0:\n",
        "    print(i,end=\" \")"
      ],
      "metadata": {
        "colab": {
          "base_uri": "https://localhost:8080/"
        },
        "id": "ol_bNvZymPTF",
        "outputId": "a690c901-1c1e-4588-a564-2e9a96176283"
      },
      "execution_count": null,
      "outputs": [
        {
          "output_type": "stream",
          "name": "stdout",
          "text": [
            "121 143 165 187 209 231 253 275 297 319 341 363 385 407 429 451 473 495 "
          ]
        }
      ]
    },
    {
      "cell_type": "code",
      "source": [
        "while 1:\n",
        "  x=int(input(\"Enter the number: \"))\n",
        "  if x==0:\n",
        "    break\n",
        "  else:\n",
        "    f=1\n",
        "    for i in range(1,x+1):\n",
        "      f*=i\n",
        "    print(x,\"! = \",f)"
      ],
      "metadata": {
        "colab": {
          "base_uri": "https://localhost:8080/"
        },
        "id": "LRbR5rI3nTZK",
        "outputId": "9b45720d-5267-43e2-bb2c-f590008d4ae3"
      },
      "execution_count": null,
      "outputs": [
        {
          "name": "stdout",
          "output_type": "stream",
          "text": [
            "Enter the number: 5\n",
            "5 ! =  120\n",
            "Enter the number: 4\n",
            "4 ! =  24\n",
            "Enter the number: 9\n",
            "9 ! =  362880\n",
            "Enter the number: 3\n",
            "3 ! =  6\n",
            "Enter the number: 1\n",
            "1 ! =  1\n",
            "Enter the number: 0\n"
          ]
        }
      ]
    },
    {
      "cell_type": "code",
      "source": [
        "import matplotlib.pyplot as plt\n",
        "import numpy as np\n",
        "x=np.linspace(0,10)\n",
        "y=1+np.cos(2*x)\n",
        "fig, a=plt.subplots()\n",
        "a.plot(x,y)\n",
        "a.set(xlim=(0,10), xticks=np.arange(1,10),\n",
        "      ylim=(0,10), yticks=np.arange(1,10))\n",
        "plt.show()"
      ],
      "metadata": {
        "colab": {
          "base_uri": "https://localhost:8080/",
          "height": 430
        },
        "id": "iGQT0UJRoHM0",
        "outputId": "3a11e8f1-0c38-4789-8582-71b6be828faf"
      },
      "execution_count": null,
      "outputs": [
        {
          "output_type": "display_data",
          "data": {
            "text/plain": [
              "<Figure size 640x480 with 1 Axes>"
            ],
            "image/png": "[encoded data removed]"
          },
          "metadata": {}
        }
      ]
    },
    {
      "cell_type": "code",
      "source": [],
      "metadata": {
        "id": "OzFNvYuLAW-r"
      },
      "execution_count": null,
      "outputs": []
    }
  ],
  "metadata": {
    "colab": {
      "provenance": []
    },
    "kernelspec": {
      "display_name": "Python 3",
      "name": "python3"
    },
    "language_info": {
      "name": "python"
    }
  },
  "nbformat": 4,
  "nbformat_minor": 0
}