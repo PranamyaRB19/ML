{
 "cells": [
  {
   "cell_type": "code",
   "execution_count": 9,
   "metadata": {},
   "outputs": [
    {
     "name": "stdout",
     "output_type": "stream",
     "text": [
      "Accuracy =  0.55\n"
     ]
    }
   ],
   "source": [
    "import numpy as np\n",
    "import pandas as pd\n",
    "import matplotlib.pyplot as plt\n",
    "from sklearn.linear_model import LogisticRegression\n",
    "from sklearn.model_selection import train_test_split\n",
    "from sklearn.metrics import accuracy_score\n",
    "# Load the data from the text file\n",
    "data = pd.read_csv(\"C:\\\\Users\\\\dell\\\\C_programs\\\\data_log.txt\")\n",
    "\n",
    "# Extract the feature and target\n",
    "x = data[['X']]\n",
    "y = data['Y']\n",
    "\n",
    "X_train,X_test,Y_train,Y_test = train_test_split(x,y,test_size=0.2,random_state=42)\n",
    "\n",
    "model = LogisticRegression()\n",
    "model.fit(X_train,Y_train)\n",
    "\n",
    "y_pred = model.predict(X_test)\n",
    "print(\"Accuracy = \",accuracy_score(y_pred,Y_test))"
   ]
  },
  {
   "cell_type": "code",
   "execution_count": 8,
   "metadata": {},
   "outputs": [
    {
     "name": "stdout",
     "output_type": "stream",
     "text": [
      "Accuracy: 0.55\n",
      "Precision: 0.5\n",
      "Recall: 0.044444444444444446\n",
      "F1 Score: 0.0816326530612245\n"
     ]
    }
   ],
   "source": [
    "import pandas as pd\n",
    "import numpy as np\n",
    "from sklearn.metrics import accuracy_score, precision_score, recall_score, f1_score\n",
    "data = pd.read_csv(\"C:\\\\Users\\\\dell\\\\C_programs\\\\data_log.txt\")\n",
    "X = data[['X']]\n",
    "y = data['Y']\n",
    "def sigmoid(z):\n",
    "    return 1 / (1 + np.exp(-z))\n",
    "weights = np.zeros(1)\n",
    "bias = 0\n",
    "learning_rate = 0.01\n",
    "num_iterations = 1000\n",
    "for _ in range(num_iterations):\n",
    "    linear_combination = np.dot(X, weights) + bias\n",
    "    predictions = sigmoid(linear_combination)\n",
    "    dw = (1 / X.shape[0]) * np.dot(X.T, (predictions - y))\n",
    "    db = (1 / X.shape[0]) * np.sum(predictions - y)\n",
    "    weights -= learning_rate * dw\n",
    "    bias -= learning_rate * db\n",
    "predictions = (sigmoid(np.dot(X, weights) + bias) >= 0.5).astype(int)\n",
    "accuracy = np.mean(predictions == y)\n",
    "precision = np.sum((predictions == 1) & (y == 1)) / np.sum(predictions == 1)\n",
    "recall = np.sum((predictions == 1) & (y == 1)) / np.sum(y == 1)\n",
    "f1_score = 2 * (precision * recall) / (precision + recall)\n",
    "print(\"Accuracy:\", accuracy)\n",
    "print(\"Precision:\", precision)\n",
    "print(\"Recall:\", recall)\n",
    "print(\"F1 Score:\", f1_score)\n"
   ]
  }
 ],
 "metadata": {
  "kernelspec": {
   "display_name": "base",
   "language": "python",
   "name": "python3"
  },
  "language_info": {
   "codemirror_mode": {
    "name": "ipython",
    "version": 3
   },
   "file_extension": ".py",
   "mimetype": "text/x-python",
   "name": "python",
   "nbconvert_exporter": "python",
   "pygments_lexer": "ipython3",
   "version": "3.11.4"
  }
 },
 "nbformat": 4,
 "nbformat_minor": 2
}
