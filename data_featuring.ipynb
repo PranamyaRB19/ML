{
 "cells": [
  {
   "cell_type": "code",
   "execution_count": 1,
   "metadata": {},
   "outputs": [
    {
     "name": "stdout",
     "output_type": "stream",
     "text": [
      "9\n",
      "[0.0, 1.0, 0.16666666666666666, 0.6111111111111112, 0.16666666666666666, 0.5972222222222222, 0.16666666666666666, 0.7361111111111112, 0.041666666666666664]\n",
      "[1.0, 0.2375, 0.525, 0.8625, 0.625, 0.525, 0.4125, 0.525, 0.0]\n"
     ]
    }
   ],
   "source": [
    "import numpy as np\n",
    "import pandas as pd\n",
    "data=pd.read_csv('C:\\\\Users\\\\dell\\\\Downloads\\\\Book2.csv')\n",
    "x=data['X1']\n",
    "y=data['X2']\n",
    "xmax=max(x)\n",
    "xmin=min(x)\n",
    "ymax=max(y)\n",
    "ymin=min(y)\n",
    "xn = [0] * len(x)\n",
    "yn = [0] * len(y)\n",
    "print(len(x))\n",
    "for i in range(len(x)):\n",
    "  xn[i]=(x[i]-xmin)/(xmax-xmin)\n",
    "  yn[i]=(y[i]-ymin)/(ymax-ymin)\n",
    "print(xn)\n",
    "print(yn)"
   ]
  },
  {
   "cell_type": "code",
   "execution_count": 2,
   "metadata": {},
   "outputs": [
    {
     "name": "stdout",
     "output_type": "stream",
     "text": [
      "[-27.888888888888886, 44.111111111111114, -15.888888888888886, 16.111111111111114, -15.888888888888886, 15.111111111111114, -15.888888888888886, 25.111111111111114, -24.888888888888886]\n",
      "[38.111111111111114, -22.888888888888886, 0.11111111111111427, 27.111111111111114, 8.111111111111114, 0.11111111111111427, -8.888888888888886, 0.11111111111111427, -41.888888888888886]\n"
     ]
    }
   ],
   "source": [
    "xmean = sum(x)/len(x)\n",
    "ymean = sum(y)/len(x)\n",
    "\n",
    "xn1 = [0] * len(x)\n",
    "yn1 = [0] * len(y)\n",
    "\n",
    "for i in range(len(x)):\n",
    "  xn1[i]=x[i] - xmean\n",
    "  yn1[i]=y[i] - ymean\n",
    "print(xn1)\n",
    "print(yn1)"
   ]
  },
  {
   "cell_type": "code",
   "execution_count": 3,
   "metadata": {},
   "outputs": [
    {
     "name": "stdout",
     "output_type": "stream",
     "text": [
      "[0.14285714285714285, 1.0, 0.2857142857142857, 0.6666666666666666, 0.2857142857142857, 0.6547619047619048, 0.2857142857142857, 0.7738095238095238, 0.17857142857142858]\n",
      "[1.0, 0.35789473684210527, 0.6, 0.8842105263157894, 0.6842105263157895, 0.6, 0.5052631578947369, 0.6, 0.15789473684210525]\n"
     ]
    }
   ],
   "source": [
    "xn2 = [0] * len(x)\n",
    "yn2 = [0] * len(y)\n",
    "for i in range(len(x)):\n",
    "  xn2[i]=x[i]/xmax\n",
    "  yn2[i]=y[i]/ymax\n",
    "print(xn2)\n",
    "print(yn2)"
   ]
  }
 ],
 "metadata": {
  "kernelspec": {
   "display_name": "base",
   "language": "python",
   "name": "python3"
  },
  "language_info": {
   "codemirror_mode": {
    "name": "ipython",
    "version": 3
   },
   "file_extension": ".py",
   "mimetype": "text/x-python",
   "name": "python",
   "nbconvert_exporter": "python",
   "pygments_lexer": "ipython3",
   "version": "3.11.4"
  }
 },
 "nbformat": 4,
 "nbformat_minor": 2
}
